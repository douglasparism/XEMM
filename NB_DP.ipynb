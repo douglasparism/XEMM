{
 "cells": [
  {
   "cell_type": "code",
   "execution_count": 1,
   "id": "7809e67f",
   "metadata": {},
   "outputs": [],
   "source": [
    "import pandas as pd\n",
    "import numpy as np\n",
    "import plotly.graph_objects as go\n",
    "import seaborn as sns\n",
    "import ccxt\n",
    "import functions as fn\n",
    "from data import fees_schedule, order_book"
   ]
  },
  {
   "cell_type": "markdown",
   "id": "3e7ee7ee",
   "metadata": {},
   "source": [
    "Origin:\n",
    "- Exchange : Kraken\n",
    "- Fee schedule : Maker fee : 10 bps - Taker fee : 20 bps\n",
    "- Inventory : 100 BTC - 1M EUR\n",
    "\n",
    "Destination:\n",
    "- Exchange : Bitpanda\n",
    "- Fee schedule : Maker fee : 15 bps - Taker fee : 30 bps\n",
    "- Inventory : 100 BTC - 1M EUR\n",
    "\n",
    "Strategy Parameters : \n",
    "- Replicate first 100 bps\n",
    "- FIFO system at the exchange\n",
    "- Take into account fees\n",
    "- Take into account execution latency\n",
    "- Process Queue\n",
    "- Read Order Book"
   ]
  },
  {
   "cell_type": "code",
   "execution_count": 2,
   "id": "15a272c0",
   "metadata": {},
   "outputs": [],
   "source": [
    "exchanges = [\"kraken\", \"bitfinex\"]\n",
    "symbol = 'BTC/EUR'\n",
    "expected_volume = 0"
   ]
  },
  {
   "cell_type": "code",
   "execution_count": 3,
   "id": "601f6464",
   "metadata": {},
   "outputs": [],
   "source": [
    "fees = [fees_schedule(exchange=i, symbol=symbol, expected_volume=expected_volume) for i in exchanges]\n",
    "ob_data = pd.read_json('files/orderbooks_ray.json', orient='values', typ='series')"
   ]
  },
  {
   "cell_type": "code",
   "execution_count": 4,
   "id": "53cb9937",
   "metadata": {},
   "outputs": [
    {
     "data": {
      "text/plain": [
       "'Timestamps in Origin data:'"
      ]
     },
     "metadata": {},
     "output_type": "display_data"
    },
    {
     "data": {
      "text/plain": [
       "'First Timestamp: 2021-11-24T15:15:52.328000Z'"
      ]
     },
     "metadata": {},
     "output_type": "display_data"
    },
    {
     "data": {
      "text/plain": [
       "'Last Timestamp: 2021-11-24T15:17:46.627000Z'"
      ]
     },
     "metadata": {},
     "output_type": "display_data"
    },
    {
     "data": {
      "text/plain": [
       "'Total number of orderbooks: 39'"
      ]
     },
     "metadata": {},
     "output_type": "display_data"
    },
    {
     "data": {
      "text/plain": [
       "'Timestamps in Destination data:'"
      ]
     },
     "metadata": {},
     "output_type": "display_data"
    },
    {
     "data": {
      "text/plain": [
       "'First Timestamp: 2021-11-24T15:15:49.471000Z'"
      ]
     },
     "metadata": {},
     "output_type": "display_data"
    },
    {
     "data": {
      "text/plain": [
       "'Last Timestamp: 2021-11-24T15:17:46.944000Z'"
      ]
     },
     "metadata": {},
     "output_type": "display_data"
    },
    {
     "data": {
      "text/plain": [
       "'Total number of orderbooks: 79'"
      ]
     },
     "metadata": {},
     "output_type": "display_data"
    },
    {
     "data": {
      "text/plain": [
       "'Exact match of Timestamps: 2'"
      ]
     },
     "metadata": {},
     "output_type": "display_data"
    },
    {
     "data": {
      "text/plain": [
       "'First 2 values are: '"
      ]
     },
     "metadata": {},
     "output_type": "display_data"
    },
    {
     "data": {
      "text/plain": [
       "'2021-11-24T15:16:28.424000Z'"
      ]
     },
     "metadata": {},
     "output_type": "display_data"
    },
    {
     "data": {
      "text/plain": [
       "'2021-11-24T15:16:31.432000Z'"
      ]
     },
     "metadata": {},
     "output_type": "display_data"
    },
    {
     "data": {
      "text/plain": [
       "'Last 2 values are: '"
      ]
     },
     "metadata": {},
     "output_type": "display_data"
    },
    {
     "data": {
      "text/plain": [
       "'2021-11-24T15:16:31.432000Z'"
      ]
     },
     "metadata": {},
     "output_type": "display_data"
    },
    {
     "data": {
      "text/plain": [
       "'2021-11-24T15:16:28.424000Z'"
      ]
     },
     "metadata": {},
     "output_type": "display_data"
    }
   ],
   "source": [
    "EO_ts_data = [i for i in ob_data[exchanges[0]].keys() if ob_data[exchanges[0]][i] != None]\n",
    "ED_ts_data = [i for i in ob_data[exchanges[1]].keys() if ob_data[exchanges[1]][i] != None]\n",
    "\n",
    "q1_results = fn.f_timestamps_info(ts_list_o=EO_ts_data, ts_list_d=ED_ts_data)\n",
    "\n",
    "display('Timestamps in Origin data:')\n",
    "display('First Timestamp: ' + q1_results[\"first_o\"])\n",
    "display('Last Timestamp: ' + q1_results[\"last_o\"])\n",
    "display('Total number of orderbooks: ' + str(q1_results[\"qty_o\"]))\n",
    "\n",
    "display('Timestamps in Destination data:')\n",
    "display('First Timestamp: ' + q1_results[\"first_d\"])\n",
    "display('Last Timestamp: ' + q1_results[\"last_d\"])\n",
    "display('Total number of orderbooks: ' + str(q1_results[\"qty_d\"]))\n",
    "\n",
    "display('Exact match of Timestamps: ' + str(q1_results[\"exact_match\"][\"qty\"]))\n",
    "if q1_results[\"exact_match\"][\"qty\"] == 0:\n",
    "    display(\"no exact matches\")\n",
    "else:\n",
    "    display('First 2 values are: ')\n",
    "    display(q1_results[\"exact_match\"][\"values\"][0].strftime(\"%Y-%m-%dT%H:%M:%S.%fZ\"))\n",
    "    display(q1_results[\"exact_match\"][\"values\"][1].strftime(\"%Y-%m-%dT%H:%M:%S.%fZ\"))\n",
    "    display('Last 2 values are: ')\n",
    "    display(q1_results[\"exact_match\"][\"values\"][-1].strftime(\"%Y-%m-%dT%H:%M:%S.%fZ\"))\n",
    "    display(q1_results[\"exact_match\"][\"values\"][-2].strftime(\"%Y-%m-%dT%H:%M:%S.%fZ\"))\n",
    "\n"
   ]
  },
  {
   "cell_type": "code",
   "execution_count": 5,
   "id": "00b41e24",
   "metadata": {},
   "outputs": [
    {
     "data": {
      "text/plain": [
       "{'taker': 0.002, 'maker': 0.001}"
      ]
     },
     "execution_count": 5,
     "metadata": {},
     "output_type": "execute_result"
    }
   ],
   "source": [
    "fees[1]"
   ]
  },
  {
   "cell_type": "code",
   "execution_count": 6,
   "id": "aac98664",
   "metadata": {},
   "outputs": [],
   "source": [
    "ex_O = pd.DataFrame(ob_data[exchanges[0]]['2021-11-24T15:16:31.432Z'])\n",
    "ex_D = pd.DataFrame(ob_data[exchanges[1]]['2021-11-24T15:16:31.432Z'])"
   ]
  },
  {
   "cell_type": "code",
   "execution_count": 11,
   "id": "a9b0ea08",
   "metadata": {},
   "outputs": [
    {
     "data": {
      "text/plain": [
       "'Highest Bid Prices'"
      ]
     },
     "metadata": {},
     "output_type": "display_data"
    },
    {
     "data": {
      "text/plain": [
       "'Destination: bitfinex 56268.0'"
      ]
     },
     "metadata": {},
     "output_type": "display_data"
    },
    {
     "data": {
      "text/plain": [
       "'Origin: kraken 56276.0'"
      ]
     },
     "metadata": {},
     "output_type": "display_data"
    }
   ],
   "source": [
    "display('Highest Bid Prices')\n",
    "display('Destination: '+ exchanges[1]+ ' ' + str(max(ex_D.bid)))\n",
    "display('Origin: ' + exchanges[0]+ ' ' + str(max(ex_O.bid)))"
   ]
  },
  {
   "cell_type": "code",
   "execution_count": 12,
   "id": "7e4a8021",
   "metadata": {},
   "outputs": [
    {
     "data": {
      "text/plain": [
       "'Lowest Ask Prices'"
      ]
     },
     "metadata": {},
     "output_type": "display_data"
    },
    {
     "data": {
      "text/plain": [
       "'Destination: bitfinex 56273.0'"
      ]
     },
     "metadata": {},
     "output_type": "display_data"
    },
    {
     "data": {
      "text/plain": [
       "'Origin: kraken 56276.1'"
      ]
     },
     "metadata": {},
     "output_type": "display_data"
    }
   ],
   "source": [
    "display('Lowest Ask Prices')\n",
    "display('Destination: ' + exchanges[1]+ ' ' + str(min(ex_D.ask)))\n",
    "display('Origin: ' + exchanges[0]+ ' ' +str(min(ex_O.ask)))"
   ]
  },
  {
   "cell_type": "markdown",
   "id": "3bf183ba",
   "metadata": {},
   "source": [
    "Puedo vender en origin 56,276 y comprar en destination a 56,273 teniendo un profit de 3EUR"
   ]
  },
  {
   "cell_type": "markdown",
   "id": "afdb2345",
   "metadata": {},
   "source": [
    "Puedo comprar en origin en 56,276.1 y vender en destination en 56,268 teniendo un profit de -8.1EUR"
   ]
  },
  {
   "cell_type": "code",
   "execution_count": null,
   "id": "911084b7",
   "metadata": {},
   "outputs": [],
   "source": []
  }
 ],
 "metadata": {
  "kernelspec": {
   "display_name": "Python 3 (ipykernel)",
   "language": "python",
   "name": "python3"
  },
  "language_info": {
   "codemirror_mode": {
    "name": "ipython",
    "version": 3
   },
   "file_extension": ".py",
   "mimetype": "text/x-python",
   "name": "python",
   "nbconvert_exporter": "python",
   "pygments_lexer": "ipython3",
   "version": "3.9.2"
  }
 },
 "nbformat": 4,
 "nbformat_minor": 5
}
