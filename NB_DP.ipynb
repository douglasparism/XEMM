{
 "cells": [
  {
   "cell_type": "code",
   "execution_count": 1,
   "id": "7809e67f",
   "metadata": {
    "pycharm": {
     "is_executing": true
    }
   },
   "outputs": [],
   "source": [
    "import pandas as pd\n",
    "import numpy as np\n",
    "import plotly.graph_objects as go\n",
    "import seaborn as sns\n",
    "import ccxt\n",
    "import functions as fn\n",
    "from data import fees_schedule, order_book"
   ]
  },
  {
   "cell_type": "markdown",
   "id": "3e7ee7ee",
   "metadata": {},
   "source": [
    "Origin:\n",
    "- Exchange : Kraken\n",
    "- Fee schedule : Maker fee : 10 bps - Taker fee : 20 bps\n",
    "- Inventory : 100 BTC - 1M EUR\n",
    "\n",
    "Destination:\n",
    "- Exchange : Bitpanda\n",
    "- Fee schedule : Maker fee : 15 bps - Taker fee : 30 bps\n",
    "- Inventory : 100 BTC - 1M EUR\n",
    "\n",
    "Strategy Parameters : \n",
    "- Replicate first 100 bps\n",
    "- FIFO system at the exchange\n",
    "- Take into account fees\n",
    "- Take into account execution latency\n",
    "- Process Queue\n",
    "- Read Order Book"
   ]
  },
  {
   "cell_type": "code",
   "execution_count": 2,
   "id": "15a272c0",
   "metadata": {},
   "outputs": [],
   "source": [
    "exchanges = [\"kraken\", \"bitfinex\"]\n",
    "symbol = 'BTC/EUR'\n",
    "expected_volume = 0"
   ]
  },
  {
   "cell_type": "code",
   "execution_count": 3,
   "id": "601f6464",
   "metadata": {},
   "outputs": [],
   "source": [
    "fees = [fees_schedule(exchange=i, symbol=symbol, expected_volume=expected_volume) for i in exchanges]\n",
    "ob_data = pd.read_json('files/orderbooks_ray.json', orient='values', typ='series')"
   ]
  },
  {
   "cell_type": "code",
   "execution_count": 4,
   "id": "53cb9937",
   "metadata": {},
   "outputs": [
    {
     "data": {
      "text/plain": [
       "'Timestamps in Origin data:'"
      ]
     },
     "metadata": {},
     "output_type": "display_data"
    },
    {
     "data": {
      "text/plain": [
       "'First Timestamp: 2021-11-24T15:15:52.328000Z'"
      ]
     },
     "metadata": {},
     "output_type": "display_data"
    },
    {
     "data": {
      "text/plain": [
       "'Last Timestamp: 2021-11-24T15:17:46.627000Z'"
      ]
     },
     "metadata": {},
     "output_type": "display_data"
    },
    {
     "data": {
      "text/plain": [
       "'Total number of orderbooks: 39'"
      ]
     },
     "metadata": {},
     "output_type": "display_data"
    },
    {
     "data": {
      "text/plain": [
       "'Timestamps in Destination data:'"
      ]
     },
     "metadata": {},
     "output_type": "display_data"
    },
    {
     "data": {
      "text/plain": [
       "'First Timestamp: 2021-11-24T15:15:49.471000Z'"
      ]
     },
     "metadata": {},
     "output_type": "display_data"
    },
    {
     "data": {
      "text/plain": [
       "'Last Timestamp: 2021-11-24T15:17:46.944000Z'"
      ]
     },
     "metadata": {},
     "output_type": "display_data"
    },
    {
     "data": {
      "text/plain": [
       "'Total number of orderbooks: 79'"
      ]
     },
     "metadata": {},
     "output_type": "display_data"
    },
    {
     "data": {
      "text/plain": [
       "'Exact match of Timestamps: 2'"
      ]
     },
     "metadata": {},
     "output_type": "display_data"
    },
    {
     "data": {
      "text/plain": [
       "'First 2 values are: '"
      ]
     },
     "metadata": {},
     "output_type": "display_data"
    },
    {
     "data": {
      "text/plain": [
       "'2021-11-24T15:16:28.424000Z'"
      ]
     },
     "metadata": {},
     "output_type": "display_data"
    },
    {
     "data": {
      "text/plain": [
       "'2021-11-24T15:16:31.432000Z'"
      ]
     },
     "metadata": {},
     "output_type": "display_data"
    },
    {
     "data": {
      "text/plain": [
       "'Last 2 values are: '"
      ]
     },
     "metadata": {},
     "output_type": "display_data"
    },
    {
     "data": {
      "text/plain": [
       "'2021-11-24T15:16:31.432000Z'"
      ]
     },
     "metadata": {},
     "output_type": "display_data"
    },
    {
     "data": {
      "text/plain": [
       "'2021-11-24T15:16:28.424000Z'"
      ]
     },
     "metadata": {},
     "output_type": "display_data"
    }
   ],
   "source": [
    "EO_ts_data = [i for i in ob_data[exchanges[0]].keys() if ob_data[exchanges[0]][i] != None]\n",
    "ED_ts_data = [i for i in ob_data[exchanges[1]].keys() if ob_data[exchanges[1]][i] != None]\n",
    "\n",
    "q1_results = fn.f_timestamps_info(ts_list_o=EO_ts_data, ts_list_d=ED_ts_data)\n",
    "\n",
    "display('Timestamps in Origin data:')\n",
    "display('First Timestamp: ' + q1_results[\"first_o\"])\n",
    "display('Last Timestamp: ' + q1_results[\"last_o\"])\n",
    "display('Total number of orderbooks: ' + str(q1_results[\"qty_o\"]))\n",
    "\n",
    "display('Timestamps in Destination data:')\n",
    "display('First Timestamp: ' + q1_results[\"first_d\"])\n",
    "display('Last Timestamp: ' + q1_results[\"last_d\"])\n",
    "display('Total number of orderbooks: ' + str(q1_results[\"qty_d\"]))\n",
    "\n",
    "display('Exact match of Timestamps: ' + str(q1_results[\"exact_match\"][\"qty\"]))\n",
    "if q1_results[\"exact_match\"][\"qty\"] == 0:\n",
    "    display(\"no exact matches\")\n",
    "else:\n",
    "    display('First 2 values are: ')\n",
    "    display(q1_results[\"exact_match\"][\"values\"][0].strftime(\"%Y-%m-%dT%H:%M:%S.%fZ\"))\n",
    "    display(q1_results[\"exact_match\"][\"values\"][1].strftime(\"%Y-%m-%dT%H:%M:%S.%fZ\"))\n",
    "    display('Last 2 values are: ')\n",
    "    display(q1_results[\"exact_match\"][\"values\"][-1].strftime(\"%Y-%m-%dT%H:%M:%S.%fZ\"))\n",
    "    display(q1_results[\"exact_match\"][\"values\"][-2].strftime(\"%Y-%m-%dT%H:%M:%S.%fZ\"))\n",
    "\n"
   ]
  },
  {
   "cell_type": "code",
   "execution_count": 5,
   "id": "00b41e24",
   "metadata": {},
   "outputs": [
    {
     "data": {
      "text/plain": [
       "{'taker': 0.002, 'maker': 0.001}"
      ]
     },
     "execution_count": 5,
     "metadata": {},
     "output_type": "execute_result"
    }
   ],
   "source": [
    "fees[1]"
   ]
  },
  {
   "cell_type": "code",
   "execution_count": 6,
   "id": "aac98664",
   "metadata": {},
   "outputs": [],
   "source": [
    "ex_O = pd.DataFrame(ob_data[exchanges[0]]['2021-11-24T15:16:31.432Z'])\n",
    "ex_D = pd.DataFrame(ob_data[exchanges[1]]['2021-11-24T15:16:31.432Z'])"
   ]
  },
  {
   "cell_type": "code",
   "execution_count": 7,
   "id": "a9b0ea08",
   "metadata": {},
   "outputs": [
    {
     "data": {
      "text/plain": [
       "'Highest Bid Prices'"
      ]
     },
     "metadata": {},
     "output_type": "display_data"
    },
    {
     "data": {
      "text/plain": [
       "'Destination: bitfinex 56268.0'"
      ]
     },
     "metadata": {},
     "output_type": "display_data"
    },
    {
     "data": {
      "text/plain": [
       "'Origin: kraken 56276.0'"
      ]
     },
     "metadata": {},
     "output_type": "display_data"
    }
   ],
   "source": [
    "display('Highest Bid Prices')\n",
    "display('Destination: '+ exchanges[1]+ ' ' + str(max(ex_D.bid)))\n",
    "display('Origin: ' + exchanges[0]+ ' ' + str(max(ex_O.bid)))"
   ]
  },
  {
   "cell_type": "code",
   "execution_count": 8,
   "id": "7e4a8021",
   "metadata": {},
   "outputs": [
    {
     "data": {
      "text/plain": [
       "'Lowest Ask Prices'"
      ]
     },
     "metadata": {},
     "output_type": "display_data"
    },
    {
     "data": {
      "text/plain": [
       "'Destination: bitfinex 56273.0'"
      ]
     },
     "metadata": {},
     "output_type": "display_data"
    },
    {
     "data": {
      "text/plain": [
       "'Origin: kraken 56276.1'"
      ]
     },
     "metadata": {},
     "output_type": "display_data"
    }
   ],
   "source": [
    "display('Lowest Ask Prices')\n",
    "display('Destination: ' + exchanges[1]+ ' ' + str(min(ex_D.ask)))\n",
    "display('Origin: ' + exchanges[0]+ ' ' +str(min(ex_O.ask)))"
   ]
  },
  {
   "cell_type": "markdown",
   "id": "3bf183ba",
   "metadata": {},
   "source": [
    "Puedo vender en origin 56,276 y comprar en destination a 56,273 teniendo un profit de 3EUR"
   ]
  },
  {
   "cell_type": "markdown",
   "id": "afdb2345",
   "metadata": {},
   "source": [
    "Puedo comprar en origin en 56,276.1 y vender en destination en 56,268 teniendo un profit de -8.1EUR"
   ]
  },
  {
   "cell_type": "markdown",
   "id": "b7245c15",
   "metadata": {},
   "source": [
    "$ maker_{bid} = taker_{bid} * (1 - taker_{fee}) / (1 + maker_{fee}) $\n",
    "\n",
    "$ taker_{bid} * (1 + taker_{fee}) = maker_{ask} * (1 - maker_{fee})$"
   ]
  },
  {
   "cell_type": "code",
   "execution_count": 9,
   "id": "ca7890fb",
   "metadata": {},
   "outputs": [
    {
     "data": {
      "text/plain": [
       "{'taker': 0.0026, 'maker': 0.0016}"
      ]
     },
     "execution_count": 9,
     "metadata": {},
     "output_type": "execute_result"
    }
   ],
   "source": [
    "fees[0]"
   ]
  },
  {
   "cell_type": "code",
   "execution_count": 10,
   "id": "0097357a",
   "metadata": {},
   "outputs": [
    {
     "data": {
      "text/plain": [
       "{'taker': 0.002, 'maker': 0.001}"
      ]
     },
     "execution_count": 10,
     "metadata": {},
     "output_type": "execute_result"
    }
   ],
   "source": [
    "fees[1]"
   ]
  },
  {
   "cell_type": "code",
   "execution_count": 12,
   "id": "29581b1b",
   "metadata": {},
   "outputs": [],
   "source": [
    "origin_bid = 56276.0\n",
    "taker_fee = 0.0026\n",
    "maker_fee = 0.001"
   ]
  },
  {
   "cell_type": "code",
   "execution_count": 14,
   "id": "ecfd355e",
   "metadata": {},
   "outputs": [
    {
     "data": {
      "text/plain": [
       "56073.6087912088"
      ]
     },
     "execution_count": 14,
     "metadata": {},
     "output_type": "execute_result"
    }
   ],
   "source": [
    "maker_bid = origin_bid*(1-taker_fee)/(1+maker_fee)\n",
    "maker_bid"
   ]
  },
  {
   "cell_type": "code",
   "execution_count": 15,
   "id": "f3301ef2",
   "metadata": {},
   "outputs": [
    {
     "data": {
      "text/html": [
       "<div>\n",
       "<style scoped>\n",
       "    .dataframe tbody tr th:only-of-type {\n",
       "        vertical-align: middle;\n",
       "    }\n",
       "\n",
       "    .dataframe tbody tr th {\n",
       "        vertical-align: top;\n",
       "    }\n",
       "\n",
       "    .dataframe thead th {\n",
       "        text-align: right;\n",
       "    }\n",
       "</style>\n",
       "<table border=\"1\" class=\"dataframe\">\n",
       "  <thead>\n",
       "    <tr style=\"text-align: right;\">\n",
       "      <th></th>\n",
       "      <th>ask_size</th>\n",
       "      <th>ask</th>\n",
       "      <th>bid</th>\n",
       "      <th>bid_size</th>\n",
       "      <th>spread</th>\n",
       "    </tr>\n",
       "  </thead>\n",
       "  <tbody>\n",
       "    <tr>\n",
       "      <th>0</th>\n",
       "      <td>0.035600</td>\n",
       "      <td>56273.0</td>\n",
       "      <td>56268.0</td>\n",
       "      <td>0.000070</td>\n",
       "      <td>5.0</td>\n",
       "    </tr>\n",
       "    <tr>\n",
       "      <th>1</th>\n",
       "      <td>0.187329</td>\n",
       "      <td>56275.0</td>\n",
       "      <td>56267.0</td>\n",
       "      <td>0.420000</td>\n",
       "      <td>8.0</td>\n",
       "    </tr>\n",
       "    <tr>\n",
       "      <th>2</th>\n",
       "      <td>0.182073</td>\n",
       "      <td>56281.0</td>\n",
       "      <td>56264.0</td>\n",
       "      <td>0.001985</td>\n",
       "      <td>17.0</td>\n",
       "    </tr>\n",
       "    <tr>\n",
       "      <th>3</th>\n",
       "      <td>0.074227</td>\n",
       "      <td>56282.0</td>\n",
       "      <td>56263.0</td>\n",
       "      <td>0.002481</td>\n",
       "      <td>19.0</td>\n",
       "    </tr>\n",
       "    <tr>\n",
       "      <th>4</th>\n",
       "      <td>0.059343</td>\n",
       "      <td>56286.0</td>\n",
       "      <td>56262.0</td>\n",
       "      <td>0.009923</td>\n",
       "      <td>24.0</td>\n",
       "    </tr>\n",
       "    <tr>\n",
       "      <th>5</th>\n",
       "      <td>0.190300</td>\n",
       "      <td>56287.0</td>\n",
       "      <td>56261.0</td>\n",
       "      <td>0.168181</td>\n",
       "      <td>26.0</td>\n",
       "    </tr>\n",
       "    <tr>\n",
       "      <th>6</th>\n",
       "      <td>0.010000</td>\n",
       "      <td>56289.0</td>\n",
       "      <td>56259.0</td>\n",
       "      <td>0.049619</td>\n",
       "      <td>30.0</td>\n",
       "    </tr>\n",
       "    <tr>\n",
       "      <th>7</th>\n",
       "      <td>0.948159</td>\n",
       "      <td>56290.0</td>\n",
       "      <td>56257.0</td>\n",
       "      <td>0.595527</td>\n",
       "      <td>33.0</td>\n",
       "    </tr>\n",
       "    <tr>\n",
       "      <th>8</th>\n",
       "      <td>0.100000</td>\n",
       "      <td>56291.0</td>\n",
       "      <td>56256.0</td>\n",
       "      <td>0.009100</td>\n",
       "      <td>35.0</td>\n",
       "    </tr>\n",
       "    <tr>\n",
       "      <th>9</th>\n",
       "      <td>0.009792</td>\n",
       "      <td>56292.0</td>\n",
       "      <td>56255.0</td>\n",
       "      <td>0.000330</td>\n",
       "      <td>37.0</td>\n",
       "    </tr>\n",
       "    <tr>\n",
       "      <th>10</th>\n",
       "      <td>0.024483</td>\n",
       "      <td>56293.0</td>\n",
       "      <td>56253.0</td>\n",
       "      <td>0.099227</td>\n",
       "      <td>40.0</td>\n",
       "    </tr>\n",
       "    <tr>\n",
       "      <th>11</th>\n",
       "      <td>0.048966</td>\n",
       "      <td>56295.0</td>\n",
       "      <td>56251.0</td>\n",
       "      <td>2.450927</td>\n",
       "      <td>44.0</td>\n",
       "    </tr>\n",
       "    <tr>\n",
       "      <th>12</th>\n",
       "      <td>0.100000</td>\n",
       "      <td>56297.0</td>\n",
       "      <td>56250.0</td>\n",
       "      <td>0.414200</td>\n",
       "      <td>47.0</td>\n",
       "    </tr>\n",
       "    <tr>\n",
       "      <th>13</th>\n",
       "      <td>0.996000</td>\n",
       "      <td>56298.0</td>\n",
       "      <td>56248.0</td>\n",
       "      <td>1.131158</td>\n",
       "      <td>50.0</td>\n",
       "    </tr>\n",
       "    <tr>\n",
       "      <th>14</th>\n",
       "      <td>1.194300</td>\n",
       "      <td>56300.0</td>\n",
       "      <td>56244.0</td>\n",
       "      <td>0.592336</td>\n",
       "      <td>56.0</td>\n",
       "    </tr>\n",
       "    <tr>\n",
       "      <th>15</th>\n",
       "      <td>0.297822</td>\n",
       "      <td>56301.0</td>\n",
       "      <td>56243.0</td>\n",
       "      <td>0.365400</td>\n",
       "      <td>58.0</td>\n",
       "    </tr>\n",
       "    <tr>\n",
       "      <th>16</th>\n",
       "      <td>0.379479</td>\n",
       "      <td>56302.0</td>\n",
       "      <td>56241.0</td>\n",
       "      <td>0.035600</td>\n",
       "      <td>61.0</td>\n",
       "    </tr>\n",
       "    <tr>\n",
       "      <th>17</th>\n",
       "      <td>0.552000</td>\n",
       "      <td>56304.0</td>\n",
       "      <td>56239.0</td>\n",
       "      <td>0.964500</td>\n",
       "      <td>65.0</td>\n",
       "    </tr>\n",
       "    <tr>\n",
       "      <th>18</th>\n",
       "      <td>1.408300</td>\n",
       "      <td>56305.0</td>\n",
       "      <td>56238.0</td>\n",
       "      <td>1.158200</td>\n",
       "      <td>67.0</td>\n",
       "    </tr>\n",
       "    <tr>\n",
       "      <th>19</th>\n",
       "      <td>0.146897</td>\n",
       "      <td>56306.0</td>\n",
       "      <td>56236.0</td>\n",
       "      <td>0.069273</td>\n",
       "      <td>70.0</td>\n",
       "    </tr>\n",
       "    <tr>\n",
       "      <th>20</th>\n",
       "      <td>0.009300</td>\n",
       "      <td>56307.0</td>\n",
       "      <td>56235.0</td>\n",
       "      <td>0.221700</td>\n",
       "      <td>72.0</td>\n",
       "    </tr>\n",
       "    <tr>\n",
       "      <th>21</th>\n",
       "      <td>0.014093</td>\n",
       "      <td>56308.0</td>\n",
       "      <td>56234.0</td>\n",
       "      <td>0.200220</td>\n",
       "      <td>74.0</td>\n",
       "    </tr>\n",
       "    <tr>\n",
       "      <th>22</th>\n",
       "      <td>0.028000</td>\n",
       "      <td>56309.0</td>\n",
       "      <td>56233.0</td>\n",
       "      <td>0.072867</td>\n",
       "      <td>76.0</td>\n",
       "    </tr>\n",
       "    <tr>\n",
       "      <th>23</th>\n",
       "      <td>0.973900</td>\n",
       "      <td>56310.0</td>\n",
       "      <td>56231.0</td>\n",
       "      <td>0.020000</td>\n",
       "      <td>79.0</td>\n",
       "    </tr>\n",
       "    <tr>\n",
       "      <th>24</th>\n",
       "      <td>0.754300</td>\n",
       "      <td>56311.0</td>\n",
       "      <td>56229.0</td>\n",
       "      <td>0.666600</td>\n",
       "      <td>82.0</td>\n",
       "    </tr>\n",
       "  </tbody>\n",
       "</table>\n",
       "</div>"
      ],
      "text/plain": [
       "    ask_size      ask      bid  bid_size  spread\n",
       "0   0.035600  56273.0  56268.0  0.000070     5.0\n",
       "1   0.187329  56275.0  56267.0  0.420000     8.0\n",
       "2   0.182073  56281.0  56264.0  0.001985    17.0\n",
       "3   0.074227  56282.0  56263.0  0.002481    19.0\n",
       "4   0.059343  56286.0  56262.0  0.009923    24.0\n",
       "5   0.190300  56287.0  56261.0  0.168181    26.0\n",
       "6   0.010000  56289.0  56259.0  0.049619    30.0\n",
       "7   0.948159  56290.0  56257.0  0.595527    33.0\n",
       "8   0.100000  56291.0  56256.0  0.009100    35.0\n",
       "9   0.009792  56292.0  56255.0  0.000330    37.0\n",
       "10  0.024483  56293.0  56253.0  0.099227    40.0\n",
       "11  0.048966  56295.0  56251.0  2.450927    44.0\n",
       "12  0.100000  56297.0  56250.0  0.414200    47.0\n",
       "13  0.996000  56298.0  56248.0  1.131158    50.0\n",
       "14  1.194300  56300.0  56244.0  0.592336    56.0\n",
       "15  0.297822  56301.0  56243.0  0.365400    58.0\n",
       "16  0.379479  56302.0  56241.0  0.035600    61.0\n",
       "17  0.552000  56304.0  56239.0  0.964500    65.0\n",
       "18  1.408300  56305.0  56238.0  1.158200    67.0\n",
       "19  0.146897  56306.0  56236.0  0.069273    70.0\n",
       "20  0.009300  56307.0  56235.0  0.221700    72.0\n",
       "21  0.014093  56308.0  56234.0  0.200220    74.0\n",
       "22  0.028000  56309.0  56233.0  0.072867    76.0\n",
       "23  0.973900  56310.0  56231.0  0.020000    79.0\n",
       "24  0.754300  56311.0  56229.0  0.666600    82.0"
      ]
     },
     "execution_count": 15,
     "metadata": {},
     "output_type": "execute_result"
    }
   ],
   "source": [
    "ex_D"
   ]
  },
  {
   "cell_type": "code",
   "execution_count": null,
   "id": "69b85a70",
   "metadata": {},
   "outputs": [],
   "source": []
  }
 ],
 "metadata": {
  "kernelspec": {
   "display_name": "Python 3 (ipykernel)",
   "language": "python",
   "name": "python3"
  },
  "language_info": {
   "codemirror_mode": {
    "name": "ipython",
    "version": 3
   },
   "file_extension": ".py",
   "mimetype": "text/x-python",
   "name": "python",
   "nbconvert_exporter": "python",
   "pygments_lexer": "ipython3",
   "version": "3.9.2"
  }
 },
 "nbformat": 4,
 "nbformat_minor": 5
}
