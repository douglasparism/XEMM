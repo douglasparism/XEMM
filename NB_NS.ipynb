{
 "cells": [
  {
   "cell_type": "code",
   "execution_count": 23,
   "id": "0d069e2b",
   "metadata": {},
   "outputs": [],
   "source": [
    "import json\n",
    "import pandas as pd\n",
    "import numpy as np\n",
    "import plotly.graph_objects as go\n",
    "import seaborn as sns\n",
    "# Opening JSON file\n",
    "f = open('files/orderbooks_ray.json')\n",
    "#f = open('/Users/noesalinas/Desktop/06jul_test_.json')\n",
    "# Returns JSON object as a dictionary\n",
    "orderbooks_data = json.load(f)"
   ]
  },
  {
   "cell_type": "code",
   "execution_count": 24,
   "id": "b63d8f77",
   "metadata": {},
   "outputs": [],
   "source": [
    "def dict_to_df(exchange, timestamp, orderbook):\n",
    "    orderbooks_data = orderbook\n",
    "    ask_size = orderbooks_data[exchange][timestamp]['ask_size'].values()\n",
    "    ask = orderbooks_data[exchange][timestamp]['ask'].values()\n",
    "    bid_size = orderbooks_data[exchange][timestamp]['bid_size'].values()\n",
    "    bid = orderbooks_data[exchange][timestamp]['bid'].values()\n",
    "\n",
    "    df_orderbook = pd.DataFrame(columns=['ask_size', 'ask', 'bid', 'bid_size'])\n",
    "    df_orderbook['ask_size'] = ask_size\n",
    "    df_orderbook['ask'] = ask\n",
    "    df_orderbook['bid'] = bid\n",
    "    df_orderbook['bid_size'] = bid_size\n",
    "    return df_orderbook"
   ]
  },
  {
   "cell_type": "code",
   "execution_count": 25,
   "id": "16c4826c",
   "metadata": {},
   "outputs": [],
   "source": [
    "def f_del_none_dict(dictionary_to_clean):\n",
    "    dict_c = dictionary_to_clean\n",
    "    clean_ob_data = {k: v for k, v in dict_c.items() if v is not None}\n",
    "    display(\n",
    "    'Number of historical orderbooks:',\n",
    "    ('Before dropping Nones: '+ str(len(dict_c))),\n",
    "    ('After dropping Nones: ' + str(len(clean_ob_data))))\n",
    "    return clean_ob_data"
   ]
  },
  {
   "cell_type": "code",
   "execution_count": 26,
   "id": "796c0d43",
   "metadata": {},
   "outputs": [
    {
     "data": {
      "text/plain": [
       "'Number of historical orderbooks:'"
      ]
     },
     "metadata": {},
     "output_type": "display_data"
    },
    {
     "data": {
      "text/plain": [
       "'Before dropping Nones: 116'"
      ]
     },
     "metadata": {},
     "output_type": "display_data"
    },
    {
     "data": {
      "text/plain": [
       "'After dropping Nones: 39'"
      ]
     },
     "metadata": {},
     "output_type": "display_data"
    },
    {
     "data": {
      "text/plain": [
       "'Number of historical orderbooks:'"
      ]
     },
     "metadata": {},
     "output_type": "display_data"
    },
    {
     "data": {
      "text/plain": [
       "'Before dropping Nones: 116'"
      ]
     },
     "metadata": {},
     "output_type": "display_data"
    },
    {
     "data": {
      "text/plain": [
       "'After dropping Nones: 79'"
      ]
     },
     "metadata": {},
     "output_type": "display_data"
    }
   ],
   "source": [
    "clean_order_kraken = f_del_none_dict(orderbooks_data['kraken'])\n",
    "\n",
    "clean_order_bitfinex = f_del_none_dict(orderbooks_data['bitfinex'])"
   ]
  },
  {
   "cell_type": "code",
   "execution_count": 31,
   "id": "1c6642d8",
   "metadata": {},
   "outputs": [
    {
     "data": {
      "text/html": [
       "<div>\n",
       "<style scoped>\n",
       "    .dataframe tbody tr th:only-of-type {\n",
       "        vertical-align: middle;\n",
       "    }\n",
       "\n",
       "    .dataframe tbody tr th {\n",
       "        vertical-align: top;\n",
       "    }\n",
       "\n",
       "    .dataframe thead th {\n",
       "        text-align: right;\n",
       "    }\n",
       "</style>\n",
       "<table border=\"1\" class=\"dataframe\">\n",
       "  <thead>\n",
       "    <tr style=\"text-align: right;\">\n",
       "      <th></th>\n",
       "      <th>dict_key</th>\n",
       "      <th>timestamp</th>\n",
       "      <th>exchange</th>\n",
       "    </tr>\n",
       "  </thead>\n",
       "  <tbody>\n",
       "    <tr>\n",
       "      <th>0</th>\n",
       "      <td>2021-11-24T15:15:49.471Z</td>\n",
       "      <td>2021-11-24 15:15:49.471000+00:00</td>\n",
       "      <td>bitfinex</td>\n",
       "    </tr>\n",
       "    <tr>\n",
       "      <th>1</th>\n",
       "      <td>2021-11-24T15:15:50.775Z</td>\n",
       "      <td>2021-11-24 15:15:50.775000+00:00</td>\n",
       "      <td>bitfinex</td>\n",
       "    </tr>\n",
       "    <tr>\n",
       "      <th>2</th>\n",
       "      <td>2021-11-24T15:15:52.234Z</td>\n",
       "      <td>2021-11-24 15:15:52.234000+00:00</td>\n",
       "      <td>bitfinex</td>\n",
       "    </tr>\n",
       "    <tr>\n",
       "      <th>3</th>\n",
       "      <td>2021-11-24T15:15:52.328Z</td>\n",
       "      <td>2021-11-24 15:15:52.328000+00:00</td>\n",
       "      <td>kraken</td>\n",
       "    </tr>\n",
       "    <tr>\n",
       "      <th>4</th>\n",
       "      <td>2021-11-24T15:15:54.154Z</td>\n",
       "      <td>2021-11-24 15:15:54.154000+00:00</td>\n",
       "      <td>bitfinex</td>\n",
       "    </tr>\n",
       "    <tr>\n",
       "      <th>5</th>\n",
       "      <td>2021-11-24T15:15:55.277Z</td>\n",
       "      <td>2021-11-24 15:15:55.277000+00:00</td>\n",
       "      <td>kraken</td>\n",
       "    </tr>\n",
       "    <tr>\n",
       "      <th>6</th>\n",
       "      <td>2021-11-24T15:15:55.279Z</td>\n",
       "      <td>2021-11-24 15:15:55.279000+00:00</td>\n",
       "      <td>bitfinex</td>\n",
       "    </tr>\n",
       "    <tr>\n",
       "      <th>7</th>\n",
       "      <td>2021-11-24T15:15:56.773Z</td>\n",
       "      <td>2021-11-24 15:15:56.773000+00:00</td>\n",
       "      <td>bitfinex</td>\n",
       "    </tr>\n",
       "    <tr>\n",
       "      <th>8</th>\n",
       "      <td>2021-11-24T15:15:58.376Z</td>\n",
       "      <td>2021-11-24 15:15:58.376000+00:00</td>\n",
       "      <td>kraken</td>\n",
       "    </tr>\n",
       "    <tr>\n",
       "      <th>9</th>\n",
       "      <td>2021-11-24T15:15:58.672Z</td>\n",
       "      <td>2021-11-24 15:15:58.672000+00:00</td>\n",
       "      <td>bitfinex</td>\n",
       "    </tr>\n",
       "  </tbody>\n",
       "</table>\n",
       "</div>"
      ],
      "text/plain": [
       "                   dict_key                        timestamp  exchange\n",
       "0  2021-11-24T15:15:49.471Z 2021-11-24 15:15:49.471000+00:00  bitfinex\n",
       "1  2021-11-24T15:15:50.775Z 2021-11-24 15:15:50.775000+00:00  bitfinex\n",
       "2  2021-11-24T15:15:52.234Z 2021-11-24 15:15:52.234000+00:00  bitfinex\n",
       "3  2021-11-24T15:15:52.328Z 2021-11-24 15:15:52.328000+00:00    kraken\n",
       "4  2021-11-24T15:15:54.154Z 2021-11-24 15:15:54.154000+00:00  bitfinex\n",
       "5  2021-11-24T15:15:55.277Z 2021-11-24 15:15:55.277000+00:00    kraken\n",
       "6  2021-11-24T15:15:55.279Z 2021-11-24 15:15:55.279000+00:00  bitfinex\n",
       "7  2021-11-24T15:15:56.773Z 2021-11-24 15:15:56.773000+00:00  bitfinex\n",
       "8  2021-11-24T15:15:58.376Z 2021-11-24 15:15:58.376000+00:00    kraken\n",
       "9  2021-11-24T15:15:58.672Z 2021-11-24 15:15:58.672000+00:00  bitfinex"
      ]
     },
     "execution_count": 31,
     "metadata": {},
     "output_type": "execute_result"
    }
   ],
   "source": [
    "df_datetime = pd.DataFrame(columns=['dict_key', 'timestamp', 'exchange'])\n",
    "df_datetime['dict_key'] = clean_order_kraken.keys()\n",
    "df_datetime['timestamp'] = clean_order_kraken.keys()\n",
    "df_datetime['exchange'] = 'kraken'\n",
    "\n",
    "df_datetime_aux = pd.DataFrame(columns=['dict_key', 'timestamp', 'exchange'])\n",
    "df_datetime_aux['dict_key'] = clean_order_bitfinex.keys()\n",
    "df_datetime_aux['timestamp'] = clean_order_bitfinex.keys()\n",
    "df_datetime_aux['exchange'] = 'bitfinex'\n",
    "\n",
    "df_datetime = df_datetime.append(df_datetime_aux)\n",
    "df_datetime['timestamp'] = pd.to_datetime(df_datetime['timestamp'])\n",
    "df_datetime = df_datetime.sort_values(by=['timestamp'])\n",
    "df_datetime = df_datetime.reset_index(drop=True)\n",
    "df_datetime.head(10)"
   ]
  },
  {
   "cell_type": "code",
   "execution_count": 56,
   "id": "31c57b93",
   "metadata": {},
   "outputs": [
    {
     "name": "stdout",
     "output_type": "stream",
     "text": [
      "Al momento\n",
      "2021-11-24T15:15:52.328Z kraken\n",
      "2021-11-24T15:15:54.154Z bitfinex\n",
      "   ask_size      ask      bid  bid_size\n",
      "0     0.309  56308.5  56308.4     0.050\n",
      "1     0.177  56309.0  56304.9     0.081 KRAKEN\n",
      "   ask_size      ask      bid  bid_size\n",
      "0  0.183176  56290.0  56285.0  0.000219\n",
      "1  0.081652  56293.0  56284.0  0.171491 BITFINEX\n"
     ]
    },
    {
     "data": {
      "application/vnd.plotly.v1+json": {
       "config": {
        "plotlyServerURL": "https://plotly.com"
       },
       "data": [
        {
         "marker": {
          "line": {
           "color": "rgb(8,48,107)",
           "width": 0.6
          }
         },
         "name": "Bid-Origin",
         "opacity": 0.5,
         "type": "bar",
         "width": 0.7,
         "x": [
          56095.4,
          56097.9,
          56100,
          56102.7,
          56102.8,
          56109.7,
          56117.8,
          56120.6,
          56125.5,
          56126.9,
          56135.9,
          56139.2,
          56142.1,
          56143.1,
          56150.6,
          56154.7,
          56158.7,
          56159.7,
          56162.7,
          56169.8,
          56171,
          56173.2,
          56174.7,
          56178.3,
          56178.4,
          56178.5,
          56179.5,
          56180.5,
          56180.6,
          56186,
          56189.5,
          56190.3,
          56195.4,
          56195.7,
          56199.6,
          56204.4,
          56207.3,
          56210.1,
          56211.3,
          56212.6,
          56213.1,
          56213.2,
          56213.5,
          56219.2,
          56221.1,
          56222.1,
          56223.3,
          56225.9,
          56226.8,
          56227.1,
          56227.6,
          56227.9,
          56231.9,
          56232.2,
          56232.5,
          56233.7,
          56235.6,
          56238.2,
          56239,
          56241.6,
          56243.1,
          56243.3,
          56243.9,
          56244.3,
          56245.7,
          56248.2,
          56250.8,
          56254,
          56257,
          56257.8,
          56260.6,
          56264.1,
          56264.5,
          56264.6,
          56267.3,
          56267.4,
          56268.3,
          56269.6,
          56274.9,
          56282.2,
          56284.2,
          56284.5,
          56285.6,
          56285.7,
          56289.9,
          56290,
          56296.2,
          56298.8,
          56299.9,
          56300.1,
          56300.3,
          56300.5,
          56302.3,
          56302.4,
          56302.5,
          56303.8,
          56304.7,
          56304.8,
          56304.9,
          56308.4
         ],
         "y": [
          1.796,
          0.32,
          0.037,
          0.01,
          0.333,
          1.454,
          1.12,
          4.442,
          0.25,
          0.222,
          0.001,
          0.084,
          0.32,
          1.453,
          4.44,
          0.069,
          0.332,
          0.052,
          0.019,
          0.2,
          1.04,
          0.1,
          0.723,
          2.519,
          0.459,
          0.162,
          0.038,
          0.882,
          0.124,
          0.003,
          4.445,
          3.555,
          2.545,
          1.284,
          0.001,
          0.064,
          0.722,
          0.064,
          1.224,
          0.173,
          0.347,
          0.041,
          1.855,
          4.443,
          0.064,
          0.052,
          0.98,
          3.554,
          0.064,
          0.14,
          0.027,
          0.37,
          0.051,
          0.001,
          0.064,
          0.012,
          0.3,
          0.064,
          3.554,
          0.27,
          0.08,
          0.027,
          0.001,
          0.064,
          0.179,
          0.091,
          0.129,
          0.064,
          3.554,
          0.094,
          0.064,
          0.028,
          0.714,
          0.105,
          0.711,
          0.064,
          4.443,
          0.081,
          0.064,
          0.742,
          0.064,
          0.763,
          0.563,
          0.1,
          0.064,
          0.1,
          0.064,
          0.041,
          0.085,
          0.076,
          0.06,
          0.082,
          0.09,
          0.4,
          0.073,
          0.064,
          0.099,
          0.02,
          0.081,
          0.05
         ]
        },
        {
         "marker": {
          "line": {
           "color": "rgb(8,48,107)",
           "width": 0.6
          }
         },
         "name": "Ask-Origin",
         "opacity": 0.5,
         "type": "bar",
         "width": 0.7,
         "x": [
          56308.5,
          56309,
          56312.5,
          56317.3,
          56318.2,
          56318.3,
          56318.4,
          56318.5,
          56318.6,
          56318.7,
          56319.1,
          56320.7,
          56324.1,
          56324.2,
          56328.2,
          56330,
          56333.8,
          56334.3,
          56335.3,
          56335.4,
          56336.5,
          56336.6,
          56336.7,
          56339,
          56339.6,
          56341.5,
          56342.5,
          56347.6,
          56349.8,
          56350.3,
          56350.6,
          56354.2,
          56356.2,
          56356.4,
          56358.7,
          56359.8,
          56362,
          56362.2,
          56363.3,
          56365.1,
          56365.2,
          56367.8,
          56368.7,
          56376.6,
          56376.8,
          56378.9,
          56379.9,
          56380.2,
          56382,
          56384.5,
          56385.3,
          56387.5,
          56392.3,
          56394.8,
          56396.3,
          56398.8,
          56400,
          56402.4,
          56403.8,
          56406.6,
          56408.1,
          56409.9,
          56413.6,
          56413.7,
          56413.8,
          56414.3,
          56414.4,
          56420.5,
          56420.7,
          56423.8,
          56424,
          56429.1,
          56429.2,
          56433.1,
          56436.1,
          56436.5,
          56443.7,
          56444,
          56445,
          56447.5,
          56448.8,
          56455.8,
          56456.1,
          56458.4,
          56459.9,
          56461.8,
          56464.5,
          56465.4,
          56468.9,
          56469,
          56470.8,
          56471,
          56471.9,
          56473.8,
          56480.6,
          56481.3,
          56481.8,
          56484.5,
          56487.4,
          56489.5
         ],
         "y": [
          0.309,
          0.177,
          4.442,
          0.5,
          0.2,
          0.711,
          0.064,
          0.27,
          0.444,
          3.554,
          2.785,
          0.027,
          0.598,
          0.064,
          0.081,
          0.028,
          0.064,
          0.14,
          0.586,
          0.027,
          1.14,
          0.103,
          0.5,
          4.443,
          0.064,
          3.553,
          0.019,
          0.091,
          0.08,
          0.25,
          0.064,
          1.811,
          0.051,
          0.019,
          0.038,
          1.686,
          0.036,
          0.064,
          0.084,
          0.03,
          3.552,
          4.443,
          0.064,
          3.554,
          0.771,
          0.064,
          0.017,
          10,
          0.001,
          0.002,
          0.002,
          0.064,
          0.987,
          0.064,
          0.001,
          0.001,
          0.025,
          0.064,
          0.001,
          0.002,
          0.064,
          0.503,
          1.422,
          1.239,
          0.064,
          4.437,
          2.53,
          0.064,
          2.614,
          0.001,
          0.2,
          0.133,
          0.064,
          0.77,
          0.001,
          0.064,
          4.444,
          0.5,
          0.11,
          0.064,
          0.002,
          0.27,
          0.064,
          1,
          0.179,
          0.064,
          4.442,
          0.002,
          0.001,
          0.064,
          0.003,
          0.01,
          0.007,
          0.003,
          0.001,
          1.443,
          0.219,
          0.22,
          0.566,
          0.069
         ]
        },
        {
         "marker": {
          "line": {
           "color": "rgb(8,48,107)",
           "width": 0.6
          }
         },
         "name": "Bid-Destination",
         "opacity": 0.5,
         "type": "bar",
         "width": 0.7,
         "x": [
          56244,
          56245,
          56247,
          56250,
          56251,
          56253,
          56255,
          56257,
          56258,
          56260,
          56261,
          56262,
          56264,
          56267,
          56269,
          56270,
          56273,
          56277,
          56278,
          56279,
          56281,
          56282,
          56283,
          56284,
          56285
         ],
         "y": [
          0.82383243,
          0.04603487,
          0.2004,
          0.9224,
          0.7611,
          0.07243099,
          0.00032956,
          0.09398456,
          0.0096,
          0.0356,
          0.5457,
          1.9064,
          0.21298192,
          0.56857795,
          0.5142,
          0.54130801,
          0.09909838,
          0.15238133,
          0.04953075,
          0.0096,
          0.00252471,
          0.00990984,
          0.00198123,
          0.17149114,
          0.0002191
         ]
        },
        {
         "marker": {
          "line": {
           "color": "rgb(8,48,107)",
           "width": 0.6
          }
         },
         "name": "Ask-Destination",
         "opacity": 0.5,
         "type": "bar",
         "width": 0.7,
         "x": [
          56290,
          56293,
          56295,
          56298,
          56301,
          56302,
          56306,
          56307,
          56308,
          56309,
          56310,
          56311,
          56316,
          56317,
          56318,
          56319,
          56320,
          56321,
          56322,
          56323,
          56324,
          56325,
          56326,
          56327,
          56328
         ],
         "y": [
          0.18317578,
          0.08165195,
          6.001e-05,
          0.0356,
          0.18703874,
          1.0888009,
          0.07218722,
          0.00247628,
          0.02401773,
          0.5566,
          0.02481214,
          0.94483626,
          0.4451,
          0.27598607,
          1.05076,
          0.02,
          0.92006,
          1.06393795,
          6e-05,
          0.15867283,
          1.36652,
          0.38778006,
          1.82920764,
          0.02722786,
          6e-05
         ]
        }
       ],
       "layout": {
        "height": 650,
        "template": {
         "data": {
          "bar": [
           {
            "error_x": {
             "color": "#2a3f5f"
            },
            "error_y": {
             "color": "#2a3f5f"
            },
            "marker": {
             "line": {
              "color": "#E5ECF6",
              "width": 0.5
             }
            },
            "type": "bar"
           }
          ],
          "barpolar": [
           {
            "marker": {
             "line": {
              "color": "#E5ECF6",
              "width": 0.5
             }
            },
            "type": "barpolar"
           }
          ],
          "carpet": [
           {
            "aaxis": {
             "endlinecolor": "#2a3f5f",
             "gridcolor": "white",
             "linecolor": "white",
             "minorgridcolor": "white",
             "startlinecolor": "#2a3f5f"
            },
            "baxis": {
             "endlinecolor": "#2a3f5f",
             "gridcolor": "white",
             "linecolor": "white",
             "minorgridcolor": "white",
             "startlinecolor": "#2a3f5f"
            },
            "type": "carpet"
           }
          ],
          "choropleth": [
           {
            "colorbar": {
             "outlinewidth": 0,
             "ticks": ""
            },
            "type": "choropleth"
           }
          ],
          "contour": [
           {
            "colorbar": {
             "outlinewidth": 0,
             "ticks": ""
            },
            "colorscale": [
             [
              0,
              "#0d0887"
             ],
             [
              0.1111111111111111,
              "#46039f"
             ],
             [
              0.2222222222222222,
              "#7201a8"
             ],
             [
              0.3333333333333333,
              "#9c179e"
             ],
             [
              0.4444444444444444,
              "#bd3786"
             ],
             [
              0.5555555555555556,
              "#d8576b"
             ],
             [
              0.6666666666666666,
              "#ed7953"
             ],
             [
              0.7777777777777778,
              "#fb9f3a"
             ],
             [
              0.8888888888888888,
              "#fdca26"
             ],
             [
              1,
              "#f0f921"
             ]
            ],
            "type": "contour"
           }
          ],
          "contourcarpet": [
           {
            "colorbar": {
             "outlinewidth": 0,
             "ticks": ""
            },
            "type": "contourcarpet"
           }
          ],
          "heatmap": [
           {
            "colorbar": {
             "outlinewidth": 0,
             "ticks": ""
            },
            "colorscale": [
             [
              0,
              "#0d0887"
             ],
             [
              0.1111111111111111,
              "#46039f"
             ],
             [
              0.2222222222222222,
              "#7201a8"
             ],
             [
              0.3333333333333333,
              "#9c179e"
             ],
             [
              0.4444444444444444,
              "#bd3786"
             ],
             [
              0.5555555555555556,
              "#d8576b"
             ],
             [
              0.6666666666666666,
              "#ed7953"
             ],
             [
              0.7777777777777778,
              "#fb9f3a"
             ],
             [
              0.8888888888888888,
              "#fdca26"
             ],
             [
              1,
              "#f0f921"
             ]
            ],
            "type": "heatmap"
           }
          ],
          "heatmapgl": [
           {
            "colorbar": {
             "outlinewidth": 0,
             "ticks": ""
            },
            "colorscale": [
             [
              0,
              "#0d0887"
             ],
             [
              0.1111111111111111,
              "#46039f"
             ],
             [
              0.2222222222222222,
              "#7201a8"
             ],
             [
              0.3333333333333333,
              "#9c179e"
             ],
             [
              0.4444444444444444,
              "#bd3786"
             ],
             [
              0.5555555555555556,
              "#d8576b"
             ],
             [
              0.6666666666666666,
              "#ed7953"
             ],
             [
              0.7777777777777778,
              "#fb9f3a"
             ],
             [
              0.8888888888888888,
              "#fdca26"
             ],
             [
              1,
              "#f0f921"
             ]
            ],
            "type": "heatmapgl"
           }
          ],
          "histogram": [
           {
            "marker": {
             "colorbar": {
              "outlinewidth": 0,
              "ticks": ""
             }
            },
            "type": "histogram"
           }
          ],
          "histogram2d": [
           {
            "colorbar": {
             "outlinewidth": 0,
             "ticks": ""
            },
            "colorscale": [
             [
              0,
              "#0d0887"
             ],
             [
              0.1111111111111111,
              "#46039f"
             ],
             [
              0.2222222222222222,
              "#7201a8"
             ],
             [
              0.3333333333333333,
              "#9c179e"
             ],
             [
              0.4444444444444444,
              "#bd3786"
             ],
             [
              0.5555555555555556,
              "#d8576b"
             ],
             [
              0.6666666666666666,
              "#ed7953"
             ],
             [
              0.7777777777777778,
              "#fb9f3a"
             ],
             [
              0.8888888888888888,
              "#fdca26"
             ],
             [
              1,
              "#f0f921"
             ]
            ],
            "type": "histogram2d"
           }
          ],
          "histogram2dcontour": [
           {
            "colorbar": {
             "outlinewidth": 0,
             "ticks": ""
            },
            "colorscale": [
             [
              0,
              "#0d0887"
             ],
             [
              0.1111111111111111,
              "#46039f"
             ],
             [
              0.2222222222222222,
              "#7201a8"
             ],
             [
              0.3333333333333333,
              "#9c179e"
             ],
             [
              0.4444444444444444,
              "#bd3786"
             ],
             [
              0.5555555555555556,
              "#d8576b"
             ],
             [
              0.6666666666666666,
              "#ed7953"
             ],
             [
              0.7777777777777778,
              "#fb9f3a"
             ],
             [
              0.8888888888888888,
              "#fdca26"
             ],
             [
              1,
              "#f0f921"
             ]
            ],
            "type": "histogram2dcontour"
           }
          ],
          "mesh3d": [
           {
            "colorbar": {
             "outlinewidth": 0,
             "ticks": ""
            },
            "type": "mesh3d"
           }
          ],
          "parcoords": [
           {
            "line": {
             "colorbar": {
              "outlinewidth": 0,
              "ticks": ""
             }
            },
            "type": "parcoords"
           }
          ],
          "pie": [
           {
            "automargin": true,
            "type": "pie"
           }
          ],
          "scatter": [
           {
            "marker": {
             "colorbar": {
              "outlinewidth": 0,
              "ticks": ""
             }
            },
            "type": "scatter"
           }
          ],
          "scatter3d": [
           {
            "line": {
             "colorbar": {
              "outlinewidth": 0,
              "ticks": ""
             }
            },
            "marker": {
             "colorbar": {
              "outlinewidth": 0,
              "ticks": ""
             }
            },
            "type": "scatter3d"
           }
          ],
          "scattercarpet": [
           {
            "marker": {
             "colorbar": {
              "outlinewidth": 0,
              "ticks": ""
             }
            },
            "type": "scattercarpet"
           }
          ],
          "scattergeo": [
           {
            "marker": {
             "colorbar": {
              "outlinewidth": 0,
              "ticks": ""
             }
            },
            "type": "scattergeo"
           }
          ],
          "scattergl": [
           {
            "marker": {
             "colorbar": {
              "outlinewidth": 0,
              "ticks": ""
             }
            },
            "type": "scattergl"
           }
          ],
          "scattermapbox": [
           {
            "marker": {
             "colorbar": {
              "outlinewidth": 0,
              "ticks": ""
             }
            },
            "type": "scattermapbox"
           }
          ],
          "scatterpolar": [
           {
            "marker": {
             "colorbar": {
              "outlinewidth": 0,
              "ticks": ""
             }
            },
            "type": "scatterpolar"
           }
          ],
          "scatterpolargl": [
           {
            "marker": {
             "colorbar": {
              "outlinewidth": 0,
              "ticks": ""
             }
            },
            "type": "scatterpolargl"
           }
          ],
          "scatterternary": [
           {
            "marker": {
             "colorbar": {
              "outlinewidth": 0,
              "ticks": ""
             }
            },
            "type": "scatterternary"
           }
          ],
          "surface": [
           {
            "colorbar": {
             "outlinewidth": 0,
             "ticks": ""
            },
            "colorscale": [
             [
              0,
              "#0d0887"
             ],
             [
              0.1111111111111111,
              "#46039f"
             ],
             [
              0.2222222222222222,
              "#7201a8"
             ],
             [
              0.3333333333333333,
              "#9c179e"
             ],
             [
              0.4444444444444444,
              "#bd3786"
             ],
             [
              0.5555555555555556,
              "#d8576b"
             ],
             [
              0.6666666666666666,
              "#ed7953"
             ],
             [
              0.7777777777777778,
              "#fb9f3a"
             ],
             [
              0.8888888888888888,
              "#fdca26"
             ],
             [
              1,
              "#f0f921"
             ]
            ],
            "type": "surface"
           }
          ],
          "table": [
           {
            "cells": {
             "fill": {
              "color": "#EBF0F8"
             },
             "line": {
              "color": "white"
             }
            },
            "header": {
             "fill": {
              "color": "#C8D4E3"
             },
             "line": {
              "color": "white"
             }
            },
            "type": "table"
           }
          ]
         },
         "layout": {
          "annotationdefaults": {
           "arrowcolor": "#2a3f5f",
           "arrowhead": 0,
           "arrowwidth": 1
          },
          "autotypenumbers": "strict",
          "coloraxis": {
           "colorbar": {
            "outlinewidth": 0,
            "ticks": ""
           }
          },
          "colorscale": {
           "diverging": [
            [
             0,
             "#8e0152"
            ],
            [
             0.1,
             "#c51b7d"
            ],
            [
             0.2,
             "#de77ae"
            ],
            [
             0.3,
             "#f1b6da"
            ],
            [
             0.4,
             "#fde0ef"
            ],
            [
             0.5,
             "#f7f7f7"
            ],
            [
             0.6,
             "#e6f5d0"
            ],
            [
             0.7,
             "#b8e186"
            ],
            [
             0.8,
             "#7fbc41"
            ],
            [
             0.9,
             "#4d9221"
            ],
            [
             1,
             "#276419"
            ]
           ],
           "sequential": [
            [
             0,
             "#0d0887"
            ],
            [
             0.1111111111111111,
             "#46039f"
            ],
            [
             0.2222222222222222,
             "#7201a8"
            ],
            [
             0.3333333333333333,
             "#9c179e"
            ],
            [
             0.4444444444444444,
             "#bd3786"
            ],
            [
             0.5555555555555556,
             "#d8576b"
            ],
            [
             0.6666666666666666,
             "#ed7953"
            ],
            [
             0.7777777777777778,
             "#fb9f3a"
            ],
            [
             0.8888888888888888,
             "#fdca26"
            ],
            [
             1,
             "#f0f921"
            ]
           ],
           "sequentialminus": [
            [
             0,
             "#0d0887"
            ],
            [
             0.1111111111111111,
             "#46039f"
            ],
            [
             0.2222222222222222,
             "#7201a8"
            ],
            [
             0.3333333333333333,
             "#9c179e"
            ],
            [
             0.4444444444444444,
             "#bd3786"
            ],
            [
             0.5555555555555556,
             "#d8576b"
            ],
            [
             0.6666666666666666,
             "#ed7953"
            ],
            [
             0.7777777777777778,
             "#fb9f3a"
            ],
            [
             0.8888888888888888,
             "#fdca26"
            ],
            [
             1,
             "#f0f921"
            ]
           ]
          },
          "colorway": [
           "#636efa",
           "#EF553B",
           "#00cc96",
           "#ab63fa",
           "#FFA15A",
           "#19d3f3",
           "#FF6692",
           "#B6E880",
           "#FF97FF",
           "#FECB52"
          ],
          "font": {
           "color": "#2a3f5f"
          },
          "geo": {
           "bgcolor": "white",
           "lakecolor": "white",
           "landcolor": "#E5ECF6",
           "showlakes": true,
           "showland": true,
           "subunitcolor": "white"
          },
          "hoverlabel": {
           "align": "left"
          },
          "hovermode": "closest",
          "mapbox": {
           "style": "light"
          },
          "paper_bgcolor": "white",
          "plot_bgcolor": "#E5ECF6",
          "polar": {
           "angularaxis": {
            "gridcolor": "white",
            "linecolor": "white",
            "ticks": ""
           },
           "bgcolor": "#E5ECF6",
           "radialaxis": {
            "gridcolor": "white",
            "linecolor": "white",
            "ticks": ""
           }
          },
          "scene": {
           "xaxis": {
            "backgroundcolor": "#E5ECF6",
            "gridcolor": "white",
            "gridwidth": 2,
            "linecolor": "white",
            "showbackground": true,
            "ticks": "",
            "zerolinecolor": "white"
           },
           "yaxis": {
            "backgroundcolor": "#E5ECF6",
            "gridcolor": "white",
            "gridwidth": 2,
            "linecolor": "white",
            "showbackground": true,
            "ticks": "",
            "zerolinecolor": "white"
           },
           "zaxis": {
            "backgroundcolor": "#E5ECF6",
            "gridcolor": "white",
            "gridwidth": 2,
            "linecolor": "white",
            "showbackground": true,
            "ticks": "",
            "zerolinecolor": "white"
           }
          },
          "shapedefaults": {
           "line": {
            "color": "#2a3f5f"
           }
          },
          "ternary": {
           "aaxis": {
            "gridcolor": "white",
            "linecolor": "white",
            "ticks": ""
           },
           "baxis": {
            "gridcolor": "white",
            "linecolor": "white",
            "ticks": ""
           },
           "bgcolor": "#E5ECF6",
           "caxis": {
            "gridcolor": "white",
            "linecolor": "white",
            "ticks": ""
           }
          },
          "title": {
           "x": 0.05
          },
          "xaxis": {
           "automargin": true,
           "gridcolor": "white",
           "linecolor": "white",
           "ticks": "",
           "title": {
            "standoff": 15
           },
           "zerolinecolor": "white",
           "zerolinewidth": 2
          },
          "yaxis": {
           "automargin": true,
           "gridcolor": "white",
           "linecolor": "white",
           "ticks": "",
           "title": {
            "standoff": 15
           },
           "zerolinecolor": "white",
           "zerolinewidth": 2
          }
         }
        },
        "width": 950,
        "xaxis": {
         "title": {
          "text": "Price"
         }
        },
        "yaxis": {
         "title": {
          "text": "Size"
         }
        }
       }
      },
      "text/html": [
       "<div>                            <div id=\"f57332bd-a177-4715-b14c-03b6d577e62c\" class=\"plotly-graph-div\" style=\"height:650px; width:950px;\"></div>            <script type=\"text/javascript\">                require([\"plotly\"], function(Plotly) {                    window.PLOTLYENV=window.PLOTLYENV || {};                                    if (document.getElementById(\"f57332bd-a177-4715-b14c-03b6d577e62c\")) {                    Plotly.newPlot(                        \"f57332bd-a177-4715-b14c-03b6d577e62c\",                        [{\"marker\": {\"line\": {\"color\": \"rgb(8,48,107)\", \"width\": 0.6}}, \"name\": \"Bid-Origin\", \"opacity\": 0.5, \"type\": \"bar\", \"width\": 0.7, \"x\": [56095.4, 56097.9, 56100.0, 56102.7, 56102.8, 56109.7, 56117.8, 56120.6, 56125.5, 56126.9, 56135.9, 56139.2, 56142.1, 56143.1, 56150.6, 56154.7, 56158.7, 56159.7, 56162.7, 56169.8, 56171.0, 56173.2, 56174.7, 56178.3, 56178.4, 56178.5, 56179.5, 56180.5, 56180.6, 56186.0, 56189.5, 56190.3, 56195.4, 56195.7, 56199.6, 56204.4, 56207.3, 56210.1, 56211.3, 56212.6, 56213.1, 56213.2, 56213.5, 56219.2, 56221.1, 56222.1, 56223.3, 56225.9, 56226.8, 56227.1, 56227.6, 56227.9, 56231.9, 56232.2, 56232.5, 56233.7, 56235.6, 56238.2, 56239.0, 56241.6, 56243.1, 56243.3, 56243.9, 56244.3, 56245.7, 56248.2, 56250.8, 56254.0, 56257.0, 56257.8, 56260.6, 56264.1, 56264.5, 56264.6, 56267.3, 56267.4, 56268.3, 56269.6, 56274.9, 56282.2, 56284.2, 56284.5, 56285.6, 56285.7, 56289.9, 56290.0, 56296.2, 56298.8, 56299.9, 56300.1, 56300.3, 56300.5, 56302.3, 56302.4, 56302.5, 56303.8, 56304.7, 56304.8, 56304.9, 56308.4], \"y\": [1.796, 0.32, 0.037, 0.01, 0.333, 1.454, 1.12, 4.442, 0.25, 0.222, 0.001, 0.084, 0.32, 1.453, 4.44, 0.069, 0.332, 0.052, 0.019, 0.2, 1.04, 0.1, 0.723, 2.519, 0.459, 0.162, 0.038, 0.882, 0.124, 0.003, 4.445, 3.555, 2.545, 1.284, 0.001, 0.064, 0.722, 0.064, 1.224, 0.173, 0.347, 0.041, 1.855, 4.443, 0.064, 0.052, 0.98, 3.554, 0.064, 0.14, 0.027, 0.37, 0.051, 0.001, 0.064, 0.012, 0.3, 0.064, 3.554, 0.27, 0.08, 0.027, 0.001, 0.064, 0.179, 0.091, 0.129, 0.064, 3.554, 0.094, 0.064, 0.028, 0.714, 0.105, 0.711, 0.064, 4.443, 0.081, 0.064, 0.742, 0.064, 0.763, 0.563, 0.1, 0.064, 0.1, 0.064, 0.041, 0.085, 0.076, 0.06, 0.082, 0.09, 0.4, 0.073, 0.064, 0.099, 0.02, 0.081, 0.05]}, {\"marker\": {\"line\": {\"color\": \"rgb(8,48,107)\", \"width\": 0.6}}, \"name\": \"Ask-Origin\", \"opacity\": 0.5, \"type\": \"bar\", \"width\": 0.7, \"x\": [56308.5, 56309.0, 56312.5, 56317.3, 56318.2, 56318.3, 56318.4, 56318.5, 56318.6, 56318.7, 56319.1, 56320.7, 56324.1, 56324.2, 56328.2, 56330.0, 56333.8, 56334.3, 56335.3, 56335.4, 56336.5, 56336.6, 56336.7, 56339.0, 56339.6, 56341.5, 56342.5, 56347.6, 56349.8, 56350.3, 56350.6, 56354.2, 56356.2, 56356.4, 56358.7, 56359.8, 56362.0, 56362.2, 56363.3, 56365.1, 56365.2, 56367.8, 56368.7, 56376.6, 56376.8, 56378.9, 56379.9, 56380.2, 56382.0, 56384.5, 56385.3, 56387.5, 56392.3, 56394.8, 56396.3, 56398.8, 56400.0, 56402.4, 56403.8, 56406.6, 56408.1, 56409.9, 56413.6, 56413.7, 56413.8, 56414.3, 56414.4, 56420.5, 56420.7, 56423.8, 56424.0, 56429.1, 56429.2, 56433.1, 56436.1, 56436.5, 56443.7, 56444.0, 56445.0, 56447.5, 56448.8, 56455.8, 56456.1, 56458.4, 56459.9, 56461.8, 56464.5, 56465.4, 56468.9, 56469.0, 56470.8, 56471.0, 56471.9, 56473.8, 56480.6, 56481.3, 56481.8, 56484.5, 56487.4, 56489.5], \"y\": [0.309, 0.177, 4.442, 0.5, 0.2, 0.711, 0.064, 0.27, 0.444, 3.554, 2.785, 0.027, 0.598, 0.064, 0.081, 0.028, 0.064, 0.14, 0.586, 0.027, 1.14, 0.103, 0.5, 4.443, 0.064, 3.553, 0.019, 0.091, 0.08, 0.25, 0.064, 1.811, 0.051, 0.019, 0.038, 1.686, 0.036, 0.064, 0.084, 0.03, 3.552, 4.443, 0.064, 3.554, 0.771, 0.064, 0.017, 10.0, 0.001, 0.002, 0.002, 0.064, 0.987, 0.064, 0.001, 0.001, 0.025, 0.064, 0.001, 0.002, 0.064, 0.503, 1.422, 1.239, 0.064, 4.437, 2.53, 0.064, 2.614, 0.001, 0.2, 0.133, 0.064, 0.77, 0.001, 0.064, 4.444, 0.5, 0.11, 0.064, 0.002, 0.27, 0.064, 1.0, 0.179, 0.064, 4.442, 0.002, 0.001, 0.064, 0.003, 0.01, 0.007, 0.003, 0.001, 1.443, 0.219, 0.22, 0.566, 0.069]}, {\"marker\": {\"line\": {\"color\": \"rgb(8,48,107)\", \"width\": 0.6}}, \"name\": \"Bid-Destination\", \"opacity\": 0.5, \"type\": \"bar\", \"width\": 0.7, \"x\": [56244.0, 56245.0, 56247.0, 56250.0, 56251.0, 56253.0, 56255.0, 56257.0, 56258.0, 56260.0, 56261.0, 56262.0, 56264.0, 56267.0, 56269.0, 56270.0, 56273.0, 56277.0, 56278.0, 56279.0, 56281.0, 56282.0, 56283.0, 56284.0, 56285.0], \"y\": [0.82383243, 0.04603487, 0.2004, 0.9224, 0.7611, 0.07243099, 0.00032956, 0.09398456, 0.0096, 0.0356, 0.5457, 1.9064, 0.21298192, 0.56857795, 0.5142, 0.54130801, 0.09909838, 0.15238133, 0.04953075, 0.0096, 0.00252471, 0.00990984, 0.00198123, 0.17149114, 0.0002191]}, {\"marker\": {\"line\": {\"color\": \"rgb(8,48,107)\", \"width\": 0.6}}, \"name\": \"Ask-Destination\", \"opacity\": 0.5, \"type\": \"bar\", \"width\": 0.7, \"x\": [56290.0, 56293.0, 56295.0, 56298.0, 56301.0, 56302.0, 56306.0, 56307.0, 56308.0, 56309.0, 56310.0, 56311.0, 56316.0, 56317.0, 56318.0, 56319.0, 56320.0, 56321.0, 56322.0, 56323.0, 56324.0, 56325.0, 56326.0, 56327.0, 56328.0], \"y\": [0.18317578, 0.08165195, 6.001e-05, 0.0356, 0.18703874, 1.0888009, 0.07218722, 0.00247628, 0.02401773, 0.5566, 0.02481214, 0.94483626, 0.4451, 0.27598607, 1.05076, 0.02, 0.92006, 1.06393795, 6e-05, 0.15867283, 1.36652, 0.38778006, 1.82920764, 0.02722786, 6e-05]}],                        {\"height\": 650, \"template\": {\"data\": {\"bar\": [{\"error_x\": {\"color\": \"#2a3f5f\"}, \"error_y\": {\"color\": \"#2a3f5f\"}, \"marker\": {\"line\": {\"color\": \"#E5ECF6\", \"width\": 0.5}}, \"type\": \"bar\"}], \"barpolar\": [{\"marker\": {\"line\": {\"color\": \"#E5ECF6\", \"width\": 0.5}}, \"type\": \"barpolar\"}], \"carpet\": [{\"aaxis\": {\"endlinecolor\": \"#2a3f5f\", \"gridcolor\": \"white\", \"linecolor\": \"white\", \"minorgridcolor\": \"white\", \"startlinecolor\": \"#2a3f5f\"}, \"baxis\": {\"endlinecolor\": \"#2a3f5f\", \"gridcolor\": \"white\", \"linecolor\": \"white\", \"minorgridcolor\": \"white\", \"startlinecolor\": \"#2a3f5f\"}, \"type\": \"carpet\"}], \"choropleth\": [{\"colorbar\": {\"outlinewidth\": 0, \"ticks\": \"\"}, \"type\": \"choropleth\"}], \"contour\": [{\"colorbar\": {\"outlinewidth\": 0, \"ticks\": \"\"}, \"colorscale\": [[0.0, \"#0d0887\"], [0.1111111111111111, \"#46039f\"], [0.2222222222222222, \"#7201a8\"], [0.3333333333333333, \"#9c179e\"], [0.4444444444444444, \"#bd3786\"], [0.5555555555555556, \"#d8576b\"], [0.6666666666666666, \"#ed7953\"], [0.7777777777777778, \"#fb9f3a\"], [0.8888888888888888, \"#fdca26\"], [1.0, \"#f0f921\"]], \"type\": \"contour\"}], \"contourcarpet\": [{\"colorbar\": {\"outlinewidth\": 0, \"ticks\": \"\"}, \"type\": \"contourcarpet\"}], \"heatmap\": [{\"colorbar\": {\"outlinewidth\": 0, \"ticks\": \"\"}, \"colorscale\": [[0.0, \"#0d0887\"], [0.1111111111111111, \"#46039f\"], [0.2222222222222222, \"#7201a8\"], [0.3333333333333333, \"#9c179e\"], [0.4444444444444444, \"#bd3786\"], [0.5555555555555556, \"#d8576b\"], [0.6666666666666666, \"#ed7953\"], [0.7777777777777778, \"#fb9f3a\"], [0.8888888888888888, \"#fdca26\"], [1.0, \"#f0f921\"]], \"type\": \"heatmap\"}], \"heatmapgl\": [{\"colorbar\": {\"outlinewidth\": 0, \"ticks\": \"\"}, \"colorscale\": [[0.0, \"#0d0887\"], [0.1111111111111111, \"#46039f\"], [0.2222222222222222, \"#7201a8\"], [0.3333333333333333, \"#9c179e\"], [0.4444444444444444, \"#bd3786\"], [0.5555555555555556, \"#d8576b\"], [0.6666666666666666, \"#ed7953\"], [0.7777777777777778, \"#fb9f3a\"], [0.8888888888888888, \"#fdca26\"], [1.0, \"#f0f921\"]], \"type\": \"heatmapgl\"}], \"histogram\": [{\"marker\": {\"colorbar\": {\"outlinewidth\": 0, \"ticks\": \"\"}}, \"type\": \"histogram\"}], \"histogram2d\": [{\"colorbar\": {\"outlinewidth\": 0, \"ticks\": \"\"}, \"colorscale\": [[0.0, \"#0d0887\"], [0.1111111111111111, \"#46039f\"], [0.2222222222222222, \"#7201a8\"], [0.3333333333333333, \"#9c179e\"], [0.4444444444444444, \"#bd3786\"], [0.5555555555555556, \"#d8576b\"], [0.6666666666666666, \"#ed7953\"], [0.7777777777777778, \"#fb9f3a\"], [0.8888888888888888, \"#fdca26\"], [1.0, \"#f0f921\"]], \"type\": \"histogram2d\"}], \"histogram2dcontour\": [{\"colorbar\": {\"outlinewidth\": 0, \"ticks\": \"\"}, \"colorscale\": [[0.0, \"#0d0887\"], [0.1111111111111111, \"#46039f\"], [0.2222222222222222, \"#7201a8\"], [0.3333333333333333, \"#9c179e\"], [0.4444444444444444, \"#bd3786\"], [0.5555555555555556, \"#d8576b\"], [0.6666666666666666, \"#ed7953\"], [0.7777777777777778, \"#fb9f3a\"], [0.8888888888888888, \"#fdca26\"], [1.0, \"#f0f921\"]], \"type\": \"histogram2dcontour\"}], \"mesh3d\": [{\"colorbar\": {\"outlinewidth\": 0, \"ticks\": \"\"}, \"type\": \"mesh3d\"}], \"parcoords\": [{\"line\": {\"colorbar\": {\"outlinewidth\": 0, \"ticks\": \"\"}}, \"type\": \"parcoords\"}], \"pie\": [{\"automargin\": true, \"type\": \"pie\"}], \"scatter\": [{\"marker\": {\"colorbar\": {\"outlinewidth\": 0, \"ticks\": \"\"}}, \"type\": \"scatter\"}], \"scatter3d\": [{\"line\": {\"colorbar\": {\"outlinewidth\": 0, \"ticks\": \"\"}}, \"marker\": {\"colorbar\": {\"outlinewidth\": 0, \"ticks\": \"\"}}, \"type\": \"scatter3d\"}], \"scattercarpet\": [{\"marker\": {\"colorbar\": {\"outlinewidth\": 0, \"ticks\": \"\"}}, \"type\": \"scattercarpet\"}], \"scattergeo\": [{\"marker\": {\"colorbar\": {\"outlinewidth\": 0, \"ticks\": \"\"}}, \"type\": \"scattergeo\"}], \"scattergl\": [{\"marker\": {\"colorbar\": {\"outlinewidth\": 0, \"ticks\": \"\"}}, \"type\": \"scattergl\"}], \"scattermapbox\": [{\"marker\": {\"colorbar\": {\"outlinewidth\": 0, \"ticks\": \"\"}}, \"type\": \"scattermapbox\"}], \"scatterpolar\": [{\"marker\": {\"colorbar\": {\"outlinewidth\": 0, \"ticks\": \"\"}}, \"type\": \"scatterpolar\"}], \"scatterpolargl\": [{\"marker\": {\"colorbar\": {\"outlinewidth\": 0, \"ticks\": \"\"}}, \"type\": \"scatterpolargl\"}], \"scatterternary\": [{\"marker\": {\"colorbar\": {\"outlinewidth\": 0, \"ticks\": \"\"}}, \"type\": \"scatterternary\"}], \"surface\": [{\"colorbar\": {\"outlinewidth\": 0, \"ticks\": \"\"}, \"colorscale\": [[0.0, \"#0d0887\"], [0.1111111111111111, \"#46039f\"], [0.2222222222222222, \"#7201a8\"], [0.3333333333333333, \"#9c179e\"], [0.4444444444444444, \"#bd3786\"], [0.5555555555555556, \"#d8576b\"], [0.6666666666666666, \"#ed7953\"], [0.7777777777777778, \"#fb9f3a\"], [0.8888888888888888, \"#fdca26\"], [1.0, \"#f0f921\"]], \"type\": \"surface\"}], \"table\": [{\"cells\": {\"fill\": {\"color\": \"#EBF0F8\"}, \"line\": {\"color\": \"white\"}}, \"header\": {\"fill\": {\"color\": \"#C8D4E3\"}, \"line\": {\"color\": \"white\"}}, \"type\": \"table\"}]}, \"layout\": {\"annotationdefaults\": {\"arrowcolor\": \"#2a3f5f\", \"arrowhead\": 0, \"arrowwidth\": 1}, \"autotypenumbers\": \"strict\", \"coloraxis\": {\"colorbar\": {\"outlinewidth\": 0, \"ticks\": \"\"}}, \"colorscale\": {\"diverging\": [[0, \"#8e0152\"], [0.1, \"#c51b7d\"], [0.2, \"#de77ae\"], [0.3, \"#f1b6da\"], [0.4, \"#fde0ef\"], [0.5, \"#f7f7f7\"], [0.6, \"#e6f5d0\"], [0.7, \"#b8e186\"], [0.8, \"#7fbc41\"], [0.9, \"#4d9221\"], [1, \"#276419\"]], \"sequential\": [[0.0, \"#0d0887\"], [0.1111111111111111, \"#46039f\"], [0.2222222222222222, \"#7201a8\"], [0.3333333333333333, \"#9c179e\"], [0.4444444444444444, \"#bd3786\"], [0.5555555555555556, \"#d8576b\"], [0.6666666666666666, \"#ed7953\"], [0.7777777777777778, \"#fb9f3a\"], [0.8888888888888888, \"#fdca26\"], [1.0, \"#f0f921\"]], \"sequentialminus\": [[0.0, \"#0d0887\"], [0.1111111111111111, \"#46039f\"], [0.2222222222222222, \"#7201a8\"], [0.3333333333333333, \"#9c179e\"], [0.4444444444444444, \"#bd3786\"], [0.5555555555555556, \"#d8576b\"], [0.6666666666666666, \"#ed7953\"], [0.7777777777777778, \"#fb9f3a\"], [0.8888888888888888, \"#fdca26\"], [1.0, \"#f0f921\"]]}, \"colorway\": [\"#636efa\", \"#EF553B\", \"#00cc96\", \"#ab63fa\", \"#FFA15A\", \"#19d3f3\", \"#FF6692\", \"#B6E880\", \"#FF97FF\", \"#FECB52\"], \"font\": {\"color\": \"#2a3f5f\"}, \"geo\": {\"bgcolor\": \"white\", \"lakecolor\": \"white\", \"landcolor\": \"#E5ECF6\", \"showlakes\": true, \"showland\": true, \"subunitcolor\": \"white\"}, \"hoverlabel\": {\"align\": \"left\"}, \"hovermode\": \"closest\", \"mapbox\": {\"style\": \"light\"}, \"paper_bgcolor\": \"white\", \"plot_bgcolor\": \"#E5ECF6\", \"polar\": {\"angularaxis\": {\"gridcolor\": \"white\", \"linecolor\": \"white\", \"ticks\": \"\"}, \"bgcolor\": \"#E5ECF6\", \"radialaxis\": {\"gridcolor\": \"white\", \"linecolor\": \"white\", \"ticks\": \"\"}}, \"scene\": {\"xaxis\": {\"backgroundcolor\": \"#E5ECF6\", \"gridcolor\": \"white\", \"gridwidth\": 2, \"linecolor\": \"white\", \"showbackground\": true, \"ticks\": \"\", \"zerolinecolor\": \"white\"}, \"yaxis\": {\"backgroundcolor\": \"#E5ECF6\", \"gridcolor\": \"white\", \"gridwidth\": 2, \"linecolor\": \"white\", \"showbackground\": true, \"ticks\": \"\", \"zerolinecolor\": \"white\"}, \"zaxis\": {\"backgroundcolor\": \"#E5ECF6\", \"gridcolor\": \"white\", \"gridwidth\": 2, \"linecolor\": \"white\", \"showbackground\": true, \"ticks\": \"\", \"zerolinecolor\": \"white\"}}, \"shapedefaults\": {\"line\": {\"color\": \"#2a3f5f\"}}, \"ternary\": {\"aaxis\": {\"gridcolor\": \"white\", \"linecolor\": \"white\", \"ticks\": \"\"}, \"baxis\": {\"gridcolor\": \"white\", \"linecolor\": \"white\", \"ticks\": \"\"}, \"bgcolor\": \"#E5ECF6\", \"caxis\": {\"gridcolor\": \"white\", \"linecolor\": \"white\", \"ticks\": \"\"}}, \"title\": {\"x\": 0.05}, \"xaxis\": {\"automargin\": true, \"gridcolor\": \"white\", \"linecolor\": \"white\", \"ticks\": \"\", \"title\": {\"standoff\": 15}, \"zerolinecolor\": \"white\", \"zerolinewidth\": 2}, \"yaxis\": {\"automargin\": true, \"gridcolor\": \"white\", \"linecolor\": \"white\", \"ticks\": \"\", \"title\": {\"standoff\": 15}, \"zerolinecolor\": \"white\", \"zerolinewidth\": 2}}}, \"width\": 950, \"xaxis\": {\"title\": {\"text\": \"Price\"}}, \"yaxis\": {\"title\": {\"text\": \"Size\"}}},                        {\"responsive\": true}                    ).then(function(){\n",
       "                            \n",
       "var gd = document.getElementById('f57332bd-a177-4715-b14c-03b6d577e62c');\n",
       "var x = new MutationObserver(function (mutations, observer) {{\n",
       "        var display = window.getComputedStyle(gd).display;\n",
       "        if (!display || display === 'none') {{\n",
       "            console.log([gd, 'removed!']);\n",
       "            Plotly.purge(gd);\n",
       "            observer.disconnect();\n",
       "        }}\n",
       "}});\n",
       "\n",
       "// Listen for the removal of the full notebook cells\n",
       "var notebookContainer = gd.closest('#notebook-container');\n",
       "if (notebookContainer) {{\n",
       "    x.observe(notebookContainer, {childList: true});\n",
       "}}\n",
       "\n",
       "// Listen for the clearing of the current output cell\n",
       "var outputEl = gd.closest('.output');\n",
       "if (outputEl) {{\n",
       "    x.observe(outputEl, {childList: true});\n",
       "}}\n",
       "\n",
       "                        })                };                });            </script>        </div>"
      ]
     },
     "metadata": {},
     "output_type": "display_data"
    },
    {
     "name": "stdout",
     "output_type": "stream",
     "text": [
      "Al momento\n",
      "2021-11-24T15:15:55.277Z kraken\n",
      "2021-11-24T15:15:55.279Z bitfinex\n",
      "   ask_size      ask      bid  bid_size\n",
      "0     0.309  56308.5  56308.4     0.050\n",
      "1     0.177  56309.0  56304.9     0.081 KRAKEN\n",
      "   ask_size      ask      bid  bid_size\n",
      "0  0.183176  56290.0  56285.0  0.000219\n",
      "1  0.081652  56293.0  56284.0  0.171491 BITFINEX\n"
     ]
    },
    {
     "data": {
      "application/vnd.plotly.v1+json": {
       "config": {
        "plotlyServerURL": "https://plotly.com"
       },
       "data": [
        {
         "marker": {
          "line": {
           "color": "rgb(8,48,107)",
           "width": 0.6
          }
         },
         "name": "Bid-Origin",
         "opacity": 0.5,
         "type": "bar",
         "width": 0.7,
         "x": [
          56095.4,
          56097.9,
          56100,
          56102.7,
          56102.8,
          56109.7,
          56117.8,
          56120.6,
          56125.5,
          56126.9,
          56135.9,
          56139.2,
          56142.1,
          56143.1,
          56150.6,
          56154.7,
          56158.7,
          56159.7,
          56162.7,
          56169.8,
          56171,
          56173.2,
          56174.7,
          56178.3,
          56178.4,
          56178.5,
          56179.5,
          56180.5,
          56180.6,
          56186,
          56189.5,
          56190.3,
          56195.4,
          56195.7,
          56199.6,
          56204.4,
          56207.3,
          56210.1,
          56211.3,
          56212.6,
          56213.1,
          56213.2,
          56213.5,
          56219.2,
          56221.1,
          56222.1,
          56223.3,
          56225.9,
          56226.8,
          56227.1,
          56227.6,
          56227.9,
          56231.9,
          56232.2,
          56232.5,
          56233.7,
          56235.6,
          56238.2,
          56239,
          56241.6,
          56243.1,
          56243.3,
          56243.9,
          56244.3,
          56245.7,
          56248.2,
          56250.8,
          56254,
          56257,
          56257.8,
          56260.6,
          56264.1,
          56264.5,
          56264.6,
          56267.3,
          56267.4,
          56268.3,
          56269.6,
          56274.9,
          56282.2,
          56284.2,
          56284.5,
          56285.6,
          56285.7,
          56289.9,
          56290,
          56296.2,
          56298.8,
          56299.9,
          56300.1,
          56300.3,
          56300.5,
          56302.3,
          56302.4,
          56302.5,
          56303.8,
          56304.7,
          56304.8,
          56304.9,
          56308.4
         ],
         "y": [
          1.796,
          0.32,
          0.037,
          0.01,
          0.333,
          1.454,
          1.12,
          4.442,
          0.25,
          0.222,
          0.001,
          0.084,
          0.32,
          1.453,
          4.44,
          0.069,
          0.332,
          0.052,
          0.019,
          0.2,
          1.04,
          0.1,
          0.723,
          2.519,
          0.459,
          0.162,
          0.038,
          0.882,
          0.124,
          0.003,
          4.445,
          3.555,
          2.545,
          1.284,
          0.001,
          0.064,
          0.722,
          0.064,
          1.224,
          0.173,
          0.347,
          0.041,
          1.855,
          4.443,
          0.064,
          0.052,
          0.98,
          3.554,
          0.064,
          0.14,
          0.027,
          0.37,
          0.051,
          0.001,
          0.064,
          0.012,
          0.3,
          0.064,
          3.554,
          0.27,
          0.08,
          0.027,
          0.001,
          0.064,
          0.179,
          0.091,
          0.129,
          0.064,
          3.554,
          0.094,
          0.064,
          0.028,
          0.714,
          0.105,
          0.711,
          0.064,
          4.443,
          0.081,
          0.064,
          0.742,
          0.064,
          0.763,
          0.563,
          0.1,
          0.064,
          0.1,
          0.064,
          0.041,
          0.085,
          0.076,
          0.06,
          0.082,
          0.09,
          0.4,
          0.073,
          0.064,
          0.099,
          0.02,
          0.081,
          0.05
         ]
        },
        {
         "marker": {
          "line": {
           "color": "rgb(8,48,107)",
           "width": 0.6
          }
         },
         "name": "Ask-Origin",
         "opacity": 0.5,
         "type": "bar",
         "width": 0.7,
         "x": [
          56308.5,
          56309,
          56312.5,
          56317.3,
          56318.2,
          56318.3,
          56318.4,
          56318.5,
          56318.6,
          56318.7,
          56319.1,
          56320.7,
          56324.1,
          56324.2,
          56328.2,
          56330,
          56333.8,
          56334.3,
          56335.3,
          56335.4,
          56336.5,
          56336.6,
          56336.7,
          56339,
          56339.6,
          56341.5,
          56342.5,
          56347.6,
          56349.8,
          56350.3,
          56350.6,
          56354.2,
          56356.2,
          56356.4,
          56358.7,
          56359.8,
          56362,
          56362.2,
          56363.3,
          56365.1,
          56365.2,
          56367.8,
          56368.7,
          56376.6,
          56376.8,
          56378.9,
          56379.9,
          56380.2,
          56382,
          56384.5,
          56385.3,
          56387.5,
          56392.3,
          56394.8,
          56396.3,
          56398.8,
          56400,
          56402.4,
          56403.8,
          56406.6,
          56408.1,
          56409.9,
          56413.6,
          56413.7,
          56413.8,
          56414.3,
          56414.4,
          56420.5,
          56420.7,
          56423.8,
          56424,
          56429.1,
          56429.2,
          56433.1,
          56436.1,
          56436.5,
          56443.7,
          56444,
          56445,
          56447.5,
          56448.8,
          56455.8,
          56456.1,
          56458.4,
          56459.9,
          56461.8,
          56464.5,
          56465.4,
          56468.9,
          56469,
          56470.8,
          56471,
          56471.9,
          56473.8,
          56480.6,
          56481.3,
          56481.8,
          56484.5,
          56487.4,
          56489.5
         ],
         "y": [
          0.309,
          0.177,
          4.442,
          0.5,
          0.2,
          0.711,
          0.064,
          0.27,
          0.444,
          3.554,
          2.785,
          0.027,
          0.598,
          0.064,
          0.081,
          0.028,
          0.064,
          0.14,
          0.586,
          0.027,
          1.14,
          0.103,
          0.5,
          4.443,
          0.064,
          3.553,
          0.019,
          0.091,
          0.08,
          0.25,
          0.064,
          1.811,
          0.051,
          0.019,
          0.038,
          1.686,
          0.036,
          0.064,
          0.084,
          0.03,
          3.552,
          4.443,
          0.064,
          3.554,
          0.771,
          0.064,
          0.017,
          10,
          0.001,
          0.002,
          0.002,
          0.064,
          0.987,
          0.064,
          0.001,
          0.001,
          0.025,
          0.064,
          0.001,
          0.002,
          0.064,
          0.503,
          1.422,
          1.239,
          0.064,
          4.437,
          2.53,
          0.064,
          2.614,
          0.001,
          0.2,
          0.133,
          0.064,
          0.77,
          0.001,
          0.064,
          4.444,
          0.5,
          0.11,
          0.064,
          0.002,
          0.27,
          0.064,
          1,
          0.179,
          0.064,
          4.442,
          0.002,
          0.001,
          0.064,
          0.003,
          0.01,
          0.007,
          0.003,
          0.001,
          1.443,
          0.219,
          0.22,
          0.566,
          0.069
         ]
        },
        {
         "marker": {
          "line": {
           "color": "rgb(8,48,107)",
           "width": 0.6
          }
         },
         "name": "Bid-Destination",
         "opacity": 0.5,
         "type": "bar",
         "width": 0.7,
         "x": [
          56244,
          56245,
          56247,
          56250,
          56251,
          56253,
          56255,
          56257,
          56258,
          56260,
          56261,
          56262,
          56264,
          56267,
          56269,
          56270,
          56273,
          56277,
          56278,
          56279,
          56281,
          56282,
          56283,
          56284,
          56285
         ],
         "y": [
          0.82383243,
          0.04603487,
          0.2004,
          0.9224,
          0.7611,
          0.07243099,
          0.00032956,
          0.09398456,
          0.0096,
          0.0356,
          0.5457,
          1.9064,
          0.21298192,
          0.56857795,
          0.5142,
          0.54130801,
          0.09909838,
          0.15238133,
          0.04953075,
          0.0096,
          0.00252471,
          0.00990984,
          0.00198123,
          0.17149114,
          0.0002191
         ]
        },
        {
         "marker": {
          "line": {
           "color": "rgb(8,48,107)",
           "width": 0.6
          }
         },
         "name": "Ask-Destination",
         "opacity": 0.5,
         "type": "bar",
         "width": 0.7,
         "x": [
          56290,
          56293,
          56295,
          56298,
          56301,
          56302,
          56306,
          56307,
          56308,
          56309,
          56310,
          56311,
          56316,
          56317,
          56318,
          56319,
          56320,
          56321,
          56322,
          56323,
          56324,
          56325,
          56326,
          56327,
          56328
         ],
         "y": [
          0.18317578,
          0.08165195,
          6.001e-05,
          0.0356,
          0.18703874,
          1.0888009,
          0.07218722,
          0.00247628,
          0.02401773,
          0.5566,
          0.02481214,
          0.94483626,
          0.4451,
          0.27598607,
          1.05076,
          0.02,
          0.92006,
          1.06393795,
          6e-05,
          0.15867283,
          1.36652,
          0.38778006,
          1.82920764,
          0.02722786,
          6e-05
         ]
        }
       ],
       "layout": {
        "height": 650,
        "template": {
         "data": {
          "bar": [
           {
            "error_x": {
             "color": "#2a3f5f"
            },
            "error_y": {
             "color": "#2a3f5f"
            },
            "marker": {
             "line": {
              "color": "#E5ECF6",
              "width": 0.5
             }
            },
            "type": "bar"
           }
          ],
          "barpolar": [
           {
            "marker": {
             "line": {
              "color": "#E5ECF6",
              "width": 0.5
             }
            },
            "type": "barpolar"
           }
          ],
          "carpet": [
           {
            "aaxis": {
             "endlinecolor": "#2a3f5f",
             "gridcolor": "white",
             "linecolor": "white",
             "minorgridcolor": "white",
             "startlinecolor": "#2a3f5f"
            },
            "baxis": {
             "endlinecolor": "#2a3f5f",
             "gridcolor": "white",
             "linecolor": "white",
             "minorgridcolor": "white",
             "startlinecolor": "#2a3f5f"
            },
            "type": "carpet"
           }
          ],
          "choropleth": [
           {
            "colorbar": {
             "outlinewidth": 0,
             "ticks": ""
            },
            "type": "choropleth"
           }
          ],
          "contour": [
           {
            "colorbar": {
             "outlinewidth": 0,
             "ticks": ""
            },
            "colorscale": [
             [
              0,
              "#0d0887"
             ],
             [
              0.1111111111111111,
              "#46039f"
             ],
             [
              0.2222222222222222,
              "#7201a8"
             ],
             [
              0.3333333333333333,
              "#9c179e"
             ],
             [
              0.4444444444444444,
              "#bd3786"
             ],
             [
              0.5555555555555556,
              "#d8576b"
             ],
             [
              0.6666666666666666,
              "#ed7953"
             ],
             [
              0.7777777777777778,
              "#fb9f3a"
             ],
             [
              0.8888888888888888,
              "#fdca26"
             ],
             [
              1,
              "#f0f921"
             ]
            ],
            "type": "contour"
           }
          ],
          "contourcarpet": [
           {
            "colorbar": {
             "outlinewidth": 0,
             "ticks": ""
            },
            "type": "contourcarpet"
           }
          ],
          "heatmap": [
           {
            "colorbar": {
             "outlinewidth": 0,
             "ticks": ""
            },
            "colorscale": [
             [
              0,
              "#0d0887"
             ],
             [
              0.1111111111111111,
              "#46039f"
             ],
             [
              0.2222222222222222,
              "#7201a8"
             ],
             [
              0.3333333333333333,
              "#9c179e"
             ],
             [
              0.4444444444444444,
              "#bd3786"
             ],
             [
              0.5555555555555556,
              "#d8576b"
             ],
             [
              0.6666666666666666,
              "#ed7953"
             ],
             [
              0.7777777777777778,
              "#fb9f3a"
             ],
             [
              0.8888888888888888,
              "#fdca26"
             ],
             [
              1,
              "#f0f921"
             ]
            ],
            "type": "heatmap"
           }
          ],
          "heatmapgl": [
           {
            "colorbar": {
             "outlinewidth": 0,
             "ticks": ""
            },
            "colorscale": [
             [
              0,
              "#0d0887"
             ],
             [
              0.1111111111111111,
              "#46039f"
             ],
             [
              0.2222222222222222,
              "#7201a8"
             ],
             [
              0.3333333333333333,
              "#9c179e"
             ],
             [
              0.4444444444444444,
              "#bd3786"
             ],
             [
              0.5555555555555556,
              "#d8576b"
             ],
             [
              0.6666666666666666,
              "#ed7953"
             ],
             [
              0.7777777777777778,
              "#fb9f3a"
             ],
             [
              0.8888888888888888,
              "#fdca26"
             ],
             [
              1,
              "#f0f921"
             ]
            ],
            "type": "heatmapgl"
           }
          ],
          "histogram": [
           {
            "marker": {
             "colorbar": {
              "outlinewidth": 0,
              "ticks": ""
             }
            },
            "type": "histogram"
           }
          ],
          "histogram2d": [
           {
            "colorbar": {
             "outlinewidth": 0,
             "ticks": ""
            },
            "colorscale": [
             [
              0,
              "#0d0887"
             ],
             [
              0.1111111111111111,
              "#46039f"
             ],
             [
              0.2222222222222222,
              "#7201a8"
             ],
             [
              0.3333333333333333,
              "#9c179e"
             ],
             [
              0.4444444444444444,
              "#bd3786"
             ],
             [
              0.5555555555555556,
              "#d8576b"
             ],
             [
              0.6666666666666666,
              "#ed7953"
             ],
             [
              0.7777777777777778,
              "#fb9f3a"
             ],
             [
              0.8888888888888888,
              "#fdca26"
             ],
             [
              1,
              "#f0f921"
             ]
            ],
            "type": "histogram2d"
           }
          ],
          "histogram2dcontour": [
           {
            "colorbar": {
             "outlinewidth": 0,
             "ticks": ""
            },
            "colorscale": [
             [
              0,
              "#0d0887"
             ],
             [
              0.1111111111111111,
              "#46039f"
             ],
             [
              0.2222222222222222,
              "#7201a8"
             ],
             [
              0.3333333333333333,
              "#9c179e"
             ],
             [
              0.4444444444444444,
              "#bd3786"
             ],
             [
              0.5555555555555556,
              "#d8576b"
             ],
             [
              0.6666666666666666,
              "#ed7953"
             ],
             [
              0.7777777777777778,
              "#fb9f3a"
             ],
             [
              0.8888888888888888,
              "#fdca26"
             ],
             [
              1,
              "#f0f921"
             ]
            ],
            "type": "histogram2dcontour"
           }
          ],
          "mesh3d": [
           {
            "colorbar": {
             "outlinewidth": 0,
             "ticks": ""
            },
            "type": "mesh3d"
           }
          ],
          "parcoords": [
           {
            "line": {
             "colorbar": {
              "outlinewidth": 0,
              "ticks": ""
             }
            },
            "type": "parcoords"
           }
          ],
          "pie": [
           {
            "automargin": true,
            "type": "pie"
           }
          ],
          "scatter": [
           {
            "marker": {
             "colorbar": {
              "outlinewidth": 0,
              "ticks": ""
             }
            },
            "type": "scatter"
           }
          ],
          "scatter3d": [
           {
            "line": {
             "colorbar": {
              "outlinewidth": 0,
              "ticks": ""
             }
            },
            "marker": {
             "colorbar": {
              "outlinewidth": 0,
              "ticks": ""
             }
            },
            "type": "scatter3d"
           }
          ],
          "scattercarpet": [
           {
            "marker": {
             "colorbar": {
              "outlinewidth": 0,
              "ticks": ""
             }
            },
            "type": "scattercarpet"
           }
          ],
          "scattergeo": [
           {
            "marker": {
             "colorbar": {
              "outlinewidth": 0,
              "ticks": ""
             }
            },
            "type": "scattergeo"
           }
          ],
          "scattergl": [
           {
            "marker": {
             "colorbar": {
              "outlinewidth": 0,
              "ticks": ""
             }
            },
            "type": "scattergl"
           }
          ],
          "scattermapbox": [
           {
            "marker": {
             "colorbar": {
              "outlinewidth": 0,
              "ticks": ""
             }
            },
            "type": "scattermapbox"
           }
          ],
          "scatterpolar": [
           {
            "marker": {
             "colorbar": {
              "outlinewidth": 0,
              "ticks": ""
             }
            },
            "type": "scatterpolar"
           }
          ],
          "scatterpolargl": [
           {
            "marker": {
             "colorbar": {
              "outlinewidth": 0,
              "ticks": ""
             }
            },
            "type": "scatterpolargl"
           }
          ],
          "scatterternary": [
           {
            "marker": {
             "colorbar": {
              "outlinewidth": 0,
              "ticks": ""
             }
            },
            "type": "scatterternary"
           }
          ],
          "surface": [
           {
            "colorbar": {
             "outlinewidth": 0,
             "ticks": ""
            },
            "colorscale": [
             [
              0,
              "#0d0887"
             ],
             [
              0.1111111111111111,
              "#46039f"
             ],
             [
              0.2222222222222222,
              "#7201a8"
             ],
             [
              0.3333333333333333,
              "#9c179e"
             ],
             [
              0.4444444444444444,
              "#bd3786"
             ],
             [
              0.5555555555555556,
              "#d8576b"
             ],
             [
              0.6666666666666666,
              "#ed7953"
             ],
             [
              0.7777777777777778,
              "#fb9f3a"
             ],
             [
              0.8888888888888888,
              "#fdca26"
             ],
             [
              1,
              "#f0f921"
             ]
            ],
            "type": "surface"
           }
          ],
          "table": [
           {
            "cells": {
             "fill": {
              "color": "#EBF0F8"
             },
             "line": {
              "color": "white"
             }
            },
            "header": {
             "fill": {
              "color": "#C8D4E3"
             },
             "line": {
              "color": "white"
             }
            },
            "type": "table"
           }
          ]
         },
         "layout": {
          "annotationdefaults": {
           "arrowcolor": "#2a3f5f",
           "arrowhead": 0,
           "arrowwidth": 1
          },
          "autotypenumbers": "strict",
          "coloraxis": {
           "colorbar": {
            "outlinewidth": 0,
            "ticks": ""
           }
          },
          "colorscale": {
           "diverging": [
            [
             0,
             "#8e0152"
            ],
            [
             0.1,
             "#c51b7d"
            ],
            [
             0.2,
             "#de77ae"
            ],
            [
             0.3,
             "#f1b6da"
            ],
            [
             0.4,
             "#fde0ef"
            ],
            [
             0.5,
             "#f7f7f7"
            ],
            [
             0.6,
             "#e6f5d0"
            ],
            [
             0.7,
             "#b8e186"
            ],
            [
             0.8,
             "#7fbc41"
            ],
            [
             0.9,
             "#4d9221"
            ],
            [
             1,
             "#276419"
            ]
           ],
           "sequential": [
            [
             0,
             "#0d0887"
            ],
            [
             0.1111111111111111,
             "#46039f"
            ],
            [
             0.2222222222222222,
             "#7201a8"
            ],
            [
             0.3333333333333333,
             "#9c179e"
            ],
            [
             0.4444444444444444,
             "#bd3786"
            ],
            [
             0.5555555555555556,
             "#d8576b"
            ],
            [
             0.6666666666666666,
             "#ed7953"
            ],
            [
             0.7777777777777778,
             "#fb9f3a"
            ],
            [
             0.8888888888888888,
             "#fdca26"
            ],
            [
             1,
             "#f0f921"
            ]
           ],
           "sequentialminus": [
            [
             0,
             "#0d0887"
            ],
            [
             0.1111111111111111,
             "#46039f"
            ],
            [
             0.2222222222222222,
             "#7201a8"
            ],
            [
             0.3333333333333333,
             "#9c179e"
            ],
            [
             0.4444444444444444,
             "#bd3786"
            ],
            [
             0.5555555555555556,
             "#d8576b"
            ],
            [
             0.6666666666666666,
             "#ed7953"
            ],
            [
             0.7777777777777778,
             "#fb9f3a"
            ],
            [
             0.8888888888888888,
             "#fdca26"
            ],
            [
             1,
             "#f0f921"
            ]
           ]
          },
          "colorway": [
           "#636efa",
           "#EF553B",
           "#00cc96",
           "#ab63fa",
           "#FFA15A",
           "#19d3f3",
           "#FF6692",
           "#B6E880",
           "#FF97FF",
           "#FECB52"
          ],
          "font": {
           "color": "#2a3f5f"
          },
          "geo": {
           "bgcolor": "white",
           "lakecolor": "white",
           "landcolor": "#E5ECF6",
           "showlakes": true,
           "showland": true,
           "subunitcolor": "white"
          },
          "hoverlabel": {
           "align": "left"
          },
          "hovermode": "closest",
          "mapbox": {
           "style": "light"
          },
          "paper_bgcolor": "white",
          "plot_bgcolor": "#E5ECF6",
          "polar": {
           "angularaxis": {
            "gridcolor": "white",
            "linecolor": "white",
            "ticks": ""
           },
           "bgcolor": "#E5ECF6",
           "radialaxis": {
            "gridcolor": "white",
            "linecolor": "white",
            "ticks": ""
           }
          },
          "scene": {
           "xaxis": {
            "backgroundcolor": "#E5ECF6",
            "gridcolor": "white",
            "gridwidth": 2,
            "linecolor": "white",
            "showbackground": true,
            "ticks": "",
            "zerolinecolor": "white"
           },
           "yaxis": {
            "backgroundcolor": "#E5ECF6",
            "gridcolor": "white",
            "gridwidth": 2,
            "linecolor": "white",
            "showbackground": true,
            "ticks": "",
            "zerolinecolor": "white"
           },
           "zaxis": {
            "backgroundcolor": "#E5ECF6",
            "gridcolor": "white",
            "gridwidth": 2,
            "linecolor": "white",
            "showbackground": true,
            "ticks": "",
            "zerolinecolor": "white"
           }
          },
          "shapedefaults": {
           "line": {
            "color": "#2a3f5f"
           }
          },
          "ternary": {
           "aaxis": {
            "gridcolor": "white",
            "linecolor": "white",
            "ticks": ""
           },
           "baxis": {
            "gridcolor": "white",
            "linecolor": "white",
            "ticks": ""
           },
           "bgcolor": "#E5ECF6",
           "caxis": {
            "gridcolor": "white",
            "linecolor": "white",
            "ticks": ""
           }
          },
          "title": {
           "x": 0.05
          },
          "xaxis": {
           "automargin": true,
           "gridcolor": "white",
           "linecolor": "white",
           "ticks": "",
           "title": {
            "standoff": 15
           },
           "zerolinecolor": "white",
           "zerolinewidth": 2
          },
          "yaxis": {
           "automargin": true,
           "gridcolor": "white",
           "linecolor": "white",
           "ticks": "",
           "title": {
            "standoff": 15
           },
           "zerolinecolor": "white",
           "zerolinewidth": 2
          }
         }
        },
        "width": 950,
        "xaxis": {
         "title": {
          "text": "Price"
         }
        },
        "yaxis": {
         "title": {
          "text": "Size"
         }
        }
       }
      },
      "text/html": [
       "<div>                            <div id=\"0b0d092e-84fc-4b23-a542-451fe06178ce\" class=\"plotly-graph-div\" style=\"height:650px; width:950px;\"></div>            <script type=\"text/javascript\">                require([\"plotly\"], function(Plotly) {                    window.PLOTLYENV=window.PLOTLYENV || {};                                    if (document.getElementById(\"0b0d092e-84fc-4b23-a542-451fe06178ce\")) {                    Plotly.newPlot(                        \"0b0d092e-84fc-4b23-a542-451fe06178ce\",                        [{\"marker\": {\"line\": {\"color\": \"rgb(8,48,107)\", \"width\": 0.6}}, \"name\": \"Bid-Origin\", \"opacity\": 0.5, \"type\": \"bar\", \"width\": 0.7, \"x\": [56095.4, 56097.9, 56100.0, 56102.7, 56102.8, 56109.7, 56117.8, 56120.6, 56125.5, 56126.9, 56135.9, 56139.2, 56142.1, 56143.1, 56150.6, 56154.7, 56158.7, 56159.7, 56162.7, 56169.8, 56171.0, 56173.2, 56174.7, 56178.3, 56178.4, 56178.5, 56179.5, 56180.5, 56180.6, 56186.0, 56189.5, 56190.3, 56195.4, 56195.7, 56199.6, 56204.4, 56207.3, 56210.1, 56211.3, 56212.6, 56213.1, 56213.2, 56213.5, 56219.2, 56221.1, 56222.1, 56223.3, 56225.9, 56226.8, 56227.1, 56227.6, 56227.9, 56231.9, 56232.2, 56232.5, 56233.7, 56235.6, 56238.2, 56239.0, 56241.6, 56243.1, 56243.3, 56243.9, 56244.3, 56245.7, 56248.2, 56250.8, 56254.0, 56257.0, 56257.8, 56260.6, 56264.1, 56264.5, 56264.6, 56267.3, 56267.4, 56268.3, 56269.6, 56274.9, 56282.2, 56284.2, 56284.5, 56285.6, 56285.7, 56289.9, 56290.0, 56296.2, 56298.8, 56299.9, 56300.1, 56300.3, 56300.5, 56302.3, 56302.4, 56302.5, 56303.8, 56304.7, 56304.8, 56304.9, 56308.4], \"y\": [1.796, 0.32, 0.037, 0.01, 0.333, 1.454, 1.12, 4.442, 0.25, 0.222, 0.001, 0.084, 0.32, 1.453, 4.44, 0.069, 0.332, 0.052, 0.019, 0.2, 1.04, 0.1, 0.723, 2.519, 0.459, 0.162, 0.038, 0.882, 0.124, 0.003, 4.445, 3.555, 2.545, 1.284, 0.001, 0.064, 0.722, 0.064, 1.224, 0.173, 0.347, 0.041, 1.855, 4.443, 0.064, 0.052, 0.98, 3.554, 0.064, 0.14, 0.027, 0.37, 0.051, 0.001, 0.064, 0.012, 0.3, 0.064, 3.554, 0.27, 0.08, 0.027, 0.001, 0.064, 0.179, 0.091, 0.129, 0.064, 3.554, 0.094, 0.064, 0.028, 0.714, 0.105, 0.711, 0.064, 4.443, 0.081, 0.064, 0.742, 0.064, 0.763, 0.563, 0.1, 0.064, 0.1, 0.064, 0.041, 0.085, 0.076, 0.06, 0.082, 0.09, 0.4, 0.073, 0.064, 0.099, 0.02, 0.081, 0.05]}, {\"marker\": {\"line\": {\"color\": \"rgb(8,48,107)\", \"width\": 0.6}}, \"name\": \"Ask-Origin\", \"opacity\": 0.5, \"type\": \"bar\", \"width\": 0.7, \"x\": [56308.5, 56309.0, 56312.5, 56317.3, 56318.2, 56318.3, 56318.4, 56318.5, 56318.6, 56318.7, 56319.1, 56320.7, 56324.1, 56324.2, 56328.2, 56330.0, 56333.8, 56334.3, 56335.3, 56335.4, 56336.5, 56336.6, 56336.7, 56339.0, 56339.6, 56341.5, 56342.5, 56347.6, 56349.8, 56350.3, 56350.6, 56354.2, 56356.2, 56356.4, 56358.7, 56359.8, 56362.0, 56362.2, 56363.3, 56365.1, 56365.2, 56367.8, 56368.7, 56376.6, 56376.8, 56378.9, 56379.9, 56380.2, 56382.0, 56384.5, 56385.3, 56387.5, 56392.3, 56394.8, 56396.3, 56398.8, 56400.0, 56402.4, 56403.8, 56406.6, 56408.1, 56409.9, 56413.6, 56413.7, 56413.8, 56414.3, 56414.4, 56420.5, 56420.7, 56423.8, 56424.0, 56429.1, 56429.2, 56433.1, 56436.1, 56436.5, 56443.7, 56444.0, 56445.0, 56447.5, 56448.8, 56455.8, 56456.1, 56458.4, 56459.9, 56461.8, 56464.5, 56465.4, 56468.9, 56469.0, 56470.8, 56471.0, 56471.9, 56473.8, 56480.6, 56481.3, 56481.8, 56484.5, 56487.4, 56489.5], \"y\": [0.309, 0.177, 4.442, 0.5, 0.2, 0.711, 0.064, 0.27, 0.444, 3.554, 2.785, 0.027, 0.598, 0.064, 0.081, 0.028, 0.064, 0.14, 0.586, 0.027, 1.14, 0.103, 0.5, 4.443, 0.064, 3.553, 0.019, 0.091, 0.08, 0.25, 0.064, 1.811, 0.051, 0.019, 0.038, 1.686, 0.036, 0.064, 0.084, 0.03, 3.552, 4.443, 0.064, 3.554, 0.771, 0.064, 0.017, 10.0, 0.001, 0.002, 0.002, 0.064, 0.987, 0.064, 0.001, 0.001, 0.025, 0.064, 0.001, 0.002, 0.064, 0.503, 1.422, 1.239, 0.064, 4.437, 2.53, 0.064, 2.614, 0.001, 0.2, 0.133, 0.064, 0.77, 0.001, 0.064, 4.444, 0.5, 0.11, 0.064, 0.002, 0.27, 0.064, 1.0, 0.179, 0.064, 4.442, 0.002, 0.001, 0.064, 0.003, 0.01, 0.007, 0.003, 0.001, 1.443, 0.219, 0.22, 0.566, 0.069]}, {\"marker\": {\"line\": {\"color\": \"rgb(8,48,107)\", \"width\": 0.6}}, \"name\": \"Bid-Destination\", \"opacity\": 0.5, \"type\": \"bar\", \"width\": 0.7, \"x\": [56244.0, 56245.0, 56247.0, 56250.0, 56251.0, 56253.0, 56255.0, 56257.0, 56258.0, 56260.0, 56261.0, 56262.0, 56264.0, 56267.0, 56269.0, 56270.0, 56273.0, 56277.0, 56278.0, 56279.0, 56281.0, 56282.0, 56283.0, 56284.0, 56285.0], \"y\": [0.82383243, 0.04603487, 0.2004, 0.9224, 0.7611, 0.07243099, 0.00032956, 0.09398456, 0.0096, 0.0356, 0.5457, 1.9064, 0.21298192, 0.56857795, 0.5142, 0.54130801, 0.09909838, 0.15238133, 0.04953075, 0.0096, 0.00252471, 0.00990984, 0.00198123, 0.17149114, 0.0002191]}, {\"marker\": {\"line\": {\"color\": \"rgb(8,48,107)\", \"width\": 0.6}}, \"name\": \"Ask-Destination\", \"opacity\": 0.5, \"type\": \"bar\", \"width\": 0.7, \"x\": [56290.0, 56293.0, 56295.0, 56298.0, 56301.0, 56302.0, 56306.0, 56307.0, 56308.0, 56309.0, 56310.0, 56311.0, 56316.0, 56317.0, 56318.0, 56319.0, 56320.0, 56321.0, 56322.0, 56323.0, 56324.0, 56325.0, 56326.0, 56327.0, 56328.0], \"y\": [0.18317578, 0.08165195, 6.001e-05, 0.0356, 0.18703874, 1.0888009, 0.07218722, 0.00247628, 0.02401773, 0.5566, 0.02481214, 0.94483626, 0.4451, 0.27598607, 1.05076, 0.02, 0.92006, 1.06393795, 6e-05, 0.15867283, 1.36652, 0.38778006, 1.82920764, 0.02722786, 6e-05]}],                        {\"height\": 650, \"template\": {\"data\": {\"bar\": [{\"error_x\": {\"color\": \"#2a3f5f\"}, \"error_y\": {\"color\": \"#2a3f5f\"}, \"marker\": {\"line\": {\"color\": \"#E5ECF6\", \"width\": 0.5}}, \"type\": \"bar\"}], \"barpolar\": [{\"marker\": {\"line\": {\"color\": \"#E5ECF6\", \"width\": 0.5}}, \"type\": \"barpolar\"}], \"carpet\": [{\"aaxis\": {\"endlinecolor\": \"#2a3f5f\", \"gridcolor\": \"white\", \"linecolor\": \"white\", \"minorgridcolor\": \"white\", \"startlinecolor\": \"#2a3f5f\"}, \"baxis\": {\"endlinecolor\": \"#2a3f5f\", \"gridcolor\": \"white\", \"linecolor\": \"white\", \"minorgridcolor\": \"white\", \"startlinecolor\": \"#2a3f5f\"}, \"type\": \"carpet\"}], \"choropleth\": [{\"colorbar\": {\"outlinewidth\": 0, \"ticks\": \"\"}, \"type\": \"choropleth\"}], \"contour\": [{\"colorbar\": {\"outlinewidth\": 0, \"ticks\": \"\"}, \"colorscale\": [[0.0, \"#0d0887\"], [0.1111111111111111, \"#46039f\"], [0.2222222222222222, \"#7201a8\"], [0.3333333333333333, \"#9c179e\"], [0.4444444444444444, \"#bd3786\"], [0.5555555555555556, \"#d8576b\"], [0.6666666666666666, \"#ed7953\"], [0.7777777777777778, \"#fb9f3a\"], [0.8888888888888888, \"#fdca26\"], [1.0, \"#f0f921\"]], \"type\": \"contour\"}], \"contourcarpet\": [{\"colorbar\": {\"outlinewidth\": 0, \"ticks\": \"\"}, \"type\": \"contourcarpet\"}], \"heatmap\": [{\"colorbar\": {\"outlinewidth\": 0, \"ticks\": \"\"}, \"colorscale\": [[0.0, \"#0d0887\"], [0.1111111111111111, \"#46039f\"], [0.2222222222222222, \"#7201a8\"], [0.3333333333333333, \"#9c179e\"], [0.4444444444444444, \"#bd3786\"], [0.5555555555555556, \"#d8576b\"], [0.6666666666666666, \"#ed7953\"], [0.7777777777777778, \"#fb9f3a\"], [0.8888888888888888, \"#fdca26\"], [1.0, \"#f0f921\"]], \"type\": \"heatmap\"}], \"heatmapgl\": [{\"colorbar\": {\"outlinewidth\": 0, \"ticks\": \"\"}, \"colorscale\": [[0.0, \"#0d0887\"], [0.1111111111111111, \"#46039f\"], [0.2222222222222222, \"#7201a8\"], [0.3333333333333333, \"#9c179e\"], [0.4444444444444444, \"#bd3786\"], [0.5555555555555556, \"#d8576b\"], [0.6666666666666666, \"#ed7953\"], [0.7777777777777778, \"#fb9f3a\"], [0.8888888888888888, \"#fdca26\"], [1.0, \"#f0f921\"]], \"type\": \"heatmapgl\"}], \"histogram\": [{\"marker\": {\"colorbar\": {\"outlinewidth\": 0, \"ticks\": \"\"}}, \"type\": \"histogram\"}], \"histogram2d\": [{\"colorbar\": {\"outlinewidth\": 0, \"ticks\": \"\"}, \"colorscale\": [[0.0, \"#0d0887\"], [0.1111111111111111, \"#46039f\"], [0.2222222222222222, \"#7201a8\"], [0.3333333333333333, \"#9c179e\"], [0.4444444444444444, \"#bd3786\"], [0.5555555555555556, \"#d8576b\"], [0.6666666666666666, \"#ed7953\"], [0.7777777777777778, \"#fb9f3a\"], [0.8888888888888888, \"#fdca26\"], [1.0, \"#f0f921\"]], \"type\": \"histogram2d\"}], \"histogram2dcontour\": [{\"colorbar\": {\"outlinewidth\": 0, \"ticks\": \"\"}, \"colorscale\": [[0.0, \"#0d0887\"], [0.1111111111111111, \"#46039f\"], [0.2222222222222222, \"#7201a8\"], [0.3333333333333333, \"#9c179e\"], [0.4444444444444444, \"#bd3786\"], [0.5555555555555556, \"#d8576b\"], [0.6666666666666666, \"#ed7953\"], [0.7777777777777778, \"#fb9f3a\"], [0.8888888888888888, \"#fdca26\"], [1.0, \"#f0f921\"]], \"type\": \"histogram2dcontour\"}], \"mesh3d\": [{\"colorbar\": {\"outlinewidth\": 0, \"ticks\": \"\"}, \"type\": \"mesh3d\"}], \"parcoords\": [{\"line\": {\"colorbar\": {\"outlinewidth\": 0, \"ticks\": \"\"}}, \"type\": \"parcoords\"}], \"pie\": [{\"automargin\": true, \"type\": \"pie\"}], \"scatter\": [{\"marker\": {\"colorbar\": {\"outlinewidth\": 0, \"ticks\": \"\"}}, \"type\": \"scatter\"}], \"scatter3d\": [{\"line\": {\"colorbar\": {\"outlinewidth\": 0, \"ticks\": \"\"}}, \"marker\": {\"colorbar\": {\"outlinewidth\": 0, \"ticks\": \"\"}}, \"type\": \"scatter3d\"}], \"scattercarpet\": [{\"marker\": {\"colorbar\": {\"outlinewidth\": 0, \"ticks\": \"\"}}, \"type\": \"scattercarpet\"}], \"scattergeo\": [{\"marker\": {\"colorbar\": {\"outlinewidth\": 0, \"ticks\": \"\"}}, \"type\": \"scattergeo\"}], \"scattergl\": [{\"marker\": {\"colorbar\": {\"outlinewidth\": 0, \"ticks\": \"\"}}, \"type\": \"scattergl\"}], \"scattermapbox\": [{\"marker\": {\"colorbar\": {\"outlinewidth\": 0, \"ticks\": \"\"}}, \"type\": \"scattermapbox\"}], \"scatterpolar\": [{\"marker\": {\"colorbar\": {\"outlinewidth\": 0, \"ticks\": \"\"}}, \"type\": \"scatterpolar\"}], \"scatterpolargl\": [{\"marker\": {\"colorbar\": {\"outlinewidth\": 0, \"ticks\": \"\"}}, \"type\": \"scatterpolargl\"}], \"scatterternary\": [{\"marker\": {\"colorbar\": {\"outlinewidth\": 0, \"ticks\": \"\"}}, \"type\": \"scatterternary\"}], \"surface\": [{\"colorbar\": {\"outlinewidth\": 0, \"ticks\": \"\"}, \"colorscale\": [[0.0, \"#0d0887\"], [0.1111111111111111, \"#46039f\"], [0.2222222222222222, \"#7201a8\"], [0.3333333333333333, \"#9c179e\"], [0.4444444444444444, \"#bd3786\"], [0.5555555555555556, \"#d8576b\"], [0.6666666666666666, \"#ed7953\"], [0.7777777777777778, \"#fb9f3a\"], [0.8888888888888888, \"#fdca26\"], [1.0, \"#f0f921\"]], \"type\": \"surface\"}], \"table\": [{\"cells\": {\"fill\": {\"color\": \"#EBF0F8\"}, \"line\": {\"color\": \"white\"}}, \"header\": {\"fill\": {\"color\": \"#C8D4E3\"}, \"line\": {\"color\": \"white\"}}, \"type\": \"table\"}]}, \"layout\": {\"annotationdefaults\": {\"arrowcolor\": \"#2a3f5f\", \"arrowhead\": 0, \"arrowwidth\": 1}, \"autotypenumbers\": \"strict\", \"coloraxis\": {\"colorbar\": {\"outlinewidth\": 0, \"ticks\": \"\"}}, \"colorscale\": {\"diverging\": [[0, \"#8e0152\"], [0.1, \"#c51b7d\"], [0.2, \"#de77ae\"], [0.3, \"#f1b6da\"], [0.4, \"#fde0ef\"], [0.5, \"#f7f7f7\"], [0.6, \"#e6f5d0\"], [0.7, \"#b8e186\"], [0.8, \"#7fbc41\"], [0.9, \"#4d9221\"], [1, \"#276419\"]], \"sequential\": [[0.0, \"#0d0887\"], [0.1111111111111111, \"#46039f\"], [0.2222222222222222, \"#7201a8\"], [0.3333333333333333, \"#9c179e\"], [0.4444444444444444, \"#bd3786\"], [0.5555555555555556, \"#d8576b\"], [0.6666666666666666, \"#ed7953\"], [0.7777777777777778, \"#fb9f3a\"], [0.8888888888888888, \"#fdca26\"], [1.0, \"#f0f921\"]], \"sequentialminus\": [[0.0, \"#0d0887\"], [0.1111111111111111, \"#46039f\"], [0.2222222222222222, \"#7201a8\"], [0.3333333333333333, \"#9c179e\"], [0.4444444444444444, \"#bd3786\"], [0.5555555555555556, \"#d8576b\"], [0.6666666666666666, \"#ed7953\"], [0.7777777777777778, \"#fb9f3a\"], [0.8888888888888888, \"#fdca26\"], [1.0, \"#f0f921\"]]}, \"colorway\": [\"#636efa\", \"#EF553B\", \"#00cc96\", \"#ab63fa\", \"#FFA15A\", \"#19d3f3\", \"#FF6692\", \"#B6E880\", \"#FF97FF\", \"#FECB52\"], \"font\": {\"color\": \"#2a3f5f\"}, \"geo\": {\"bgcolor\": \"white\", \"lakecolor\": \"white\", \"landcolor\": \"#E5ECF6\", \"showlakes\": true, \"showland\": true, \"subunitcolor\": \"white\"}, \"hoverlabel\": {\"align\": \"left\"}, \"hovermode\": \"closest\", \"mapbox\": {\"style\": \"light\"}, \"paper_bgcolor\": \"white\", \"plot_bgcolor\": \"#E5ECF6\", \"polar\": {\"angularaxis\": {\"gridcolor\": \"white\", \"linecolor\": \"white\", \"ticks\": \"\"}, \"bgcolor\": \"#E5ECF6\", \"radialaxis\": {\"gridcolor\": \"white\", \"linecolor\": \"white\", \"ticks\": \"\"}}, \"scene\": {\"xaxis\": {\"backgroundcolor\": \"#E5ECF6\", \"gridcolor\": \"white\", \"gridwidth\": 2, \"linecolor\": \"white\", \"showbackground\": true, \"ticks\": \"\", \"zerolinecolor\": \"white\"}, \"yaxis\": {\"backgroundcolor\": \"#E5ECF6\", \"gridcolor\": \"white\", \"gridwidth\": 2, \"linecolor\": \"white\", \"showbackground\": true, \"ticks\": \"\", \"zerolinecolor\": \"white\"}, \"zaxis\": {\"backgroundcolor\": \"#E5ECF6\", \"gridcolor\": \"white\", \"gridwidth\": 2, \"linecolor\": \"white\", \"showbackground\": true, \"ticks\": \"\", \"zerolinecolor\": \"white\"}}, \"shapedefaults\": {\"line\": {\"color\": \"#2a3f5f\"}}, \"ternary\": {\"aaxis\": {\"gridcolor\": \"white\", \"linecolor\": \"white\", \"ticks\": \"\"}, \"baxis\": {\"gridcolor\": \"white\", \"linecolor\": \"white\", \"ticks\": \"\"}, \"bgcolor\": \"#E5ECF6\", \"caxis\": {\"gridcolor\": \"white\", \"linecolor\": \"white\", \"ticks\": \"\"}}, \"title\": {\"x\": 0.05}, \"xaxis\": {\"automargin\": true, \"gridcolor\": \"white\", \"linecolor\": \"white\", \"ticks\": \"\", \"title\": {\"standoff\": 15}, \"zerolinecolor\": \"white\", \"zerolinewidth\": 2}, \"yaxis\": {\"automargin\": true, \"gridcolor\": \"white\", \"linecolor\": \"white\", \"ticks\": \"\", \"title\": {\"standoff\": 15}, \"zerolinecolor\": \"white\", \"zerolinewidth\": 2}}}, \"width\": 950, \"xaxis\": {\"title\": {\"text\": \"Price\"}}, \"yaxis\": {\"title\": {\"text\": \"Size\"}}},                        {\"responsive\": true}                    ).then(function(){\n",
       "                            \n",
       "var gd = document.getElementById('0b0d092e-84fc-4b23-a542-451fe06178ce');\n",
       "var x = new MutationObserver(function (mutations, observer) {{\n",
       "        var display = window.getComputedStyle(gd).display;\n",
       "        if (!display || display === 'none') {{\n",
       "            console.log([gd, 'removed!']);\n",
       "            Plotly.purge(gd);\n",
       "            observer.disconnect();\n",
       "        }}\n",
       "}});\n",
       "\n",
       "// Listen for the removal of the full notebook cells\n",
       "var notebookContainer = gd.closest('#notebook-container');\n",
       "if (notebookContainer) {{\n",
       "    x.observe(notebookContainer, {childList: true});\n",
       "}}\n",
       "\n",
       "// Listen for the clearing of the current output cell\n",
       "var outputEl = gd.closest('.output');\n",
       "if (outputEl) {{\n",
       "    x.observe(outputEl, {childList: true});\n",
       "}}\n",
       "\n",
       "                        })                };                });            </script>        </div>"
      ]
     },
     "metadata": {},
     "output_type": "display_data"
    }
   ],
   "source": [
    "current_kraken = ''\n",
    "current_bitfinex = ''\n",
    "test = [1,2,3,5,6,4,5]\n",
    "k = 0\n",
    "b = 0\n",
    "for i in range(len(test)):\n",
    "    if df_datetime['exchange'][i] == 'kraken' and k==0:\n",
    "        k=1\n",
    "        current_kraken = df_datetime['dict_key'][i]\n",
    "\n",
    "    if df_datetime['exchange'][i] == 'bitfinex' and b==0 and k==1:\n",
    "        b=1\n",
    "        current_bitfinex = df_datetime['dict_key'][i]\n",
    "\n",
    "\n",
    "    if k==1 and b==1:\n",
    "        print('Al momento')\n",
    "        print(current_kraken, 'kraken')\n",
    "        print(current_bitfinex, 'bitfinex')\n",
    "        k=0\n",
    "        b=0\n",
    "        kraken = dict_to_df('kraken',current_kraken , orderbooks_data)\n",
    "        bitfinex = dict_to_df('bitfinex',current_bitfinex , orderbooks_data)\n",
    "        print(kraken.head(2), 'KRAKEN')\n",
    "        print(bitfinex.head(2),'BITFINEX')\n",
    "        plot_orderbook_2excahnges(kraken, bitfinex)\n",
    "\n",
    "    else:\n",
    "        pass"
   ]
  },
  {
   "cell_type": "code",
   "execution_count": 30,
   "id": "81765157",
   "metadata": {},
   "outputs": [
    {
     "data": {
      "text/html": [
       "<div>\n",
       "<style scoped>\n",
       "    .dataframe tbody tr th:only-of-type {\n",
       "        vertical-align: middle;\n",
       "    }\n",
       "\n",
       "    .dataframe tbody tr th {\n",
       "        vertical-align: top;\n",
       "    }\n",
       "\n",
       "    .dataframe thead th {\n",
       "        text-align: right;\n",
       "    }\n",
       "</style>\n",
       "<table border=\"1\" class=\"dataframe\">\n",
       "  <thead>\n",
       "    <tr style=\"text-align: right;\">\n",
       "      <th></th>\n",
       "      <th>ask_size</th>\n",
       "      <th>ask</th>\n",
       "      <th>bid</th>\n",
       "      <th>bid_size</th>\n",
       "    </tr>\n",
       "  </thead>\n",
       "  <tbody>\n",
       "    <tr>\n",
       "      <th>0</th>\n",
       "      <td>0.309</td>\n",
       "      <td>56308.5</td>\n",
       "      <td>56308.4</td>\n",
       "      <td>0.050</td>\n",
       "    </tr>\n",
       "    <tr>\n",
       "      <th>1</th>\n",
       "      <td>0.177</td>\n",
       "      <td>56309.0</td>\n",
       "      <td>56304.9</td>\n",
       "      <td>0.081</td>\n",
       "    </tr>\n",
       "    <tr>\n",
       "      <th>2</th>\n",
       "      <td>4.442</td>\n",
       "      <td>56312.5</td>\n",
       "      <td>56304.8</td>\n",
       "      <td>0.020</td>\n",
       "    </tr>\n",
       "    <tr>\n",
       "      <th>3</th>\n",
       "      <td>0.500</td>\n",
       "      <td>56317.3</td>\n",
       "      <td>56304.7</td>\n",
       "      <td>0.099</td>\n",
       "    </tr>\n",
       "    <tr>\n",
       "      <th>4</th>\n",
       "      <td>0.200</td>\n",
       "      <td>56318.2</td>\n",
       "      <td>56303.8</td>\n",
       "      <td>0.064</td>\n",
       "    </tr>\n",
       "    <tr>\n",
       "      <th>5</th>\n",
       "      <td>0.711</td>\n",
       "      <td>56318.3</td>\n",
       "      <td>56302.5</td>\n",
       "      <td>0.073</td>\n",
       "    </tr>\n",
       "    <tr>\n",
       "      <th>6</th>\n",
       "      <td>0.064</td>\n",
       "      <td>56318.4</td>\n",
       "      <td>56302.4</td>\n",
       "      <td>0.400</td>\n",
       "    </tr>\n",
       "    <tr>\n",
       "      <th>7</th>\n",
       "      <td>0.270</td>\n",
       "      <td>56318.5</td>\n",
       "      <td>56302.3</td>\n",
       "      <td>0.090</td>\n",
       "    </tr>\n",
       "    <tr>\n",
       "      <th>8</th>\n",
       "      <td>0.444</td>\n",
       "      <td>56318.6</td>\n",
       "      <td>56300.5</td>\n",
       "      <td>0.082</td>\n",
       "    </tr>\n",
       "    <tr>\n",
       "      <th>9</th>\n",
       "      <td>3.554</td>\n",
       "      <td>56318.7</td>\n",
       "      <td>56300.3</td>\n",
       "      <td>0.060</td>\n",
       "    </tr>\n",
       "    <tr>\n",
       "      <th>10</th>\n",
       "      <td>2.785</td>\n",
       "      <td>56319.1</td>\n",
       "      <td>56300.1</td>\n",
       "      <td>0.076</td>\n",
       "    </tr>\n",
       "    <tr>\n",
       "      <th>11</th>\n",
       "      <td>0.027</td>\n",
       "      <td>56320.7</td>\n",
       "      <td>56299.9</td>\n",
       "      <td>0.085</td>\n",
       "    </tr>\n",
       "    <tr>\n",
       "      <th>12</th>\n",
       "      <td>0.598</td>\n",
       "      <td>56324.1</td>\n",
       "      <td>56298.8</td>\n",
       "      <td>0.041</td>\n",
       "    </tr>\n",
       "    <tr>\n",
       "      <th>13</th>\n",
       "      <td>0.064</td>\n",
       "      <td>56324.2</td>\n",
       "      <td>56296.2</td>\n",
       "      <td>0.064</td>\n",
       "    </tr>\n",
       "    <tr>\n",
       "      <th>14</th>\n",
       "      <td>0.081</td>\n",
       "      <td>56328.2</td>\n",
       "      <td>56290.0</td>\n",
       "      <td>0.100</td>\n",
       "    </tr>\n",
       "    <tr>\n",
       "      <th>15</th>\n",
       "      <td>0.028</td>\n",
       "      <td>56330.0</td>\n",
       "      <td>56289.9</td>\n",
       "      <td>0.064</td>\n",
       "    </tr>\n",
       "    <tr>\n",
       "      <th>16</th>\n",
       "      <td>0.064</td>\n",
       "      <td>56333.8</td>\n",
       "      <td>56285.7</td>\n",
       "      <td>0.100</td>\n",
       "    </tr>\n",
       "    <tr>\n",
       "      <th>17</th>\n",
       "      <td>0.140</td>\n",
       "      <td>56334.3</td>\n",
       "      <td>56285.6</td>\n",
       "      <td>0.563</td>\n",
       "    </tr>\n",
       "    <tr>\n",
       "      <th>18</th>\n",
       "      <td>0.586</td>\n",
       "      <td>56335.3</td>\n",
       "      <td>56284.5</td>\n",
       "      <td>0.763</td>\n",
       "    </tr>\n",
       "    <tr>\n",
       "      <th>19</th>\n",
       "      <td>0.027</td>\n",
       "      <td>56335.4</td>\n",
       "      <td>56284.2</td>\n",
       "      <td>0.064</td>\n",
       "    </tr>\n",
       "  </tbody>\n",
       "</table>\n",
       "</div>"
      ],
      "text/plain": [
       "    ask_size      ask      bid  bid_size\n",
       "0      0.309  56308.5  56308.4     0.050\n",
       "1      0.177  56309.0  56304.9     0.081\n",
       "2      4.442  56312.5  56304.8     0.020\n",
       "3      0.500  56317.3  56304.7     0.099\n",
       "4      0.200  56318.2  56303.8     0.064\n",
       "5      0.711  56318.3  56302.5     0.073\n",
       "6      0.064  56318.4  56302.4     0.400\n",
       "7      0.270  56318.5  56302.3     0.090\n",
       "8      0.444  56318.6  56300.5     0.082\n",
       "9      3.554  56318.7  56300.3     0.060\n",
       "10     2.785  56319.1  56300.1     0.076\n",
       "11     0.027  56320.7  56299.9     0.085\n",
       "12     0.598  56324.1  56298.8     0.041\n",
       "13     0.064  56324.2  56296.2     0.064\n",
       "14     0.081  56328.2  56290.0     0.100\n",
       "15     0.028  56330.0  56289.9     0.064\n",
       "16     0.064  56333.8  56285.7     0.100\n",
       "17     0.140  56334.3  56285.6     0.563\n",
       "18     0.586  56335.3  56284.5     0.763\n",
       "19     0.027  56335.4  56284.2     0.064"
      ]
     },
     "execution_count": 30,
     "metadata": {},
     "output_type": "execute_result"
    }
   ],
   "source": [
    "kraken = dict_to_df('kraken','2021-11-24T15:15:52.328Z' , orderbooks_data)\n",
    "kraken.head(20)"
   ]
  },
  {
   "cell_type": "code",
   "execution_count": 20,
   "id": "875ac0cd",
   "metadata": {},
   "outputs": [
    {
     "data": {
      "text/html": [
       "<div>\n",
       "<style scoped>\n",
       "    .dataframe tbody tr th:only-of-type {\n",
       "        vertical-align: middle;\n",
       "    }\n",
       "\n",
       "    .dataframe tbody tr th {\n",
       "        vertical-align: top;\n",
       "    }\n",
       "\n",
       "    .dataframe thead th {\n",
       "        text-align: right;\n",
       "    }\n",
       "</style>\n",
       "<table border=\"1\" class=\"dataframe\">\n",
       "  <thead>\n",
       "    <tr style=\"text-align: right;\">\n",
       "      <th></th>\n",
       "      <th>ask_size</th>\n",
       "      <th>ask</th>\n",
       "      <th>bid</th>\n",
       "      <th>bid_size</th>\n",
       "    </tr>\n",
       "  </thead>\n",
       "  <tbody>\n",
       "    <tr>\n",
       "      <th>0</th>\n",
       "      <td>0.180000</td>\n",
       "      <td>56389.0</td>\n",
       "      <td>56388.0</td>\n",
       "      <td>0.568413</td>\n",
       "    </tr>\n",
       "    <tr>\n",
       "      <th>1</th>\n",
       "      <td>0.139309</td>\n",
       "      <td>56395.0</td>\n",
       "      <td>56387.0</td>\n",
       "      <td>0.229289</td>\n",
       "    </tr>\n",
       "    <tr>\n",
       "      <th>2</th>\n",
       "      <td>0.040000</td>\n",
       "      <td>56399.0</td>\n",
       "      <td>56386.0</td>\n",
       "      <td>0.132997</td>\n",
       "    </tr>\n",
       "    <tr>\n",
       "      <th>3</th>\n",
       "      <td>0.145793</td>\n",
       "      <td>56405.0</td>\n",
       "      <td>56385.0</td>\n",
       "      <td>0.942200</td>\n",
       "    </tr>\n",
       "    <tr>\n",
       "      <th>4</th>\n",
       "      <td>0.000120</td>\n",
       "      <td>56407.0</td>\n",
       "      <td>56384.0</td>\n",
       "      <td>0.088668</td>\n",
       "    </tr>\n",
       "    <tr>\n",
       "      <th>5</th>\n",
       "      <td>0.133056</td>\n",
       "      <td>56408.0</td>\n",
       "      <td>56382.0</td>\n",
       "      <td>0.061922</td>\n",
       "    </tr>\n",
       "    <tr>\n",
       "      <th>6</th>\n",
       "      <td>0.000120</td>\n",
       "      <td>56409.0</td>\n",
       "      <td>56381.0</td>\n",
       "      <td>0.320492</td>\n",
       "    </tr>\n",
       "    <tr>\n",
       "      <th>7</th>\n",
       "      <td>0.069765</td>\n",
       "      <td>56410.0</td>\n",
       "      <td>56380.0</td>\n",
       "      <td>0.132995</td>\n",
       "    </tr>\n",
       "    <tr>\n",
       "      <th>8</th>\n",
       "      <td>0.100020</td>\n",
       "      <td>56411.0</td>\n",
       "      <td>56379.0</td>\n",
       "      <td>0.024857</td>\n",
       "    </tr>\n",
       "    <tr>\n",
       "      <th>9</th>\n",
       "      <td>0.088791</td>\n",
       "      <td>56413.0</td>\n",
       "      <td>56377.0</td>\n",
       "      <td>0.546713</td>\n",
       "    </tr>\n",
       "    <tr>\n",
       "      <th>10</th>\n",
       "      <td>1.208772</td>\n",
       "      <td>56414.0</td>\n",
       "      <td>56375.0</td>\n",
       "      <td>0.132997</td>\n",
       "    </tr>\n",
       "    <tr>\n",
       "      <th>11</th>\n",
       "      <td>0.000120</td>\n",
       "      <td>56415.0</td>\n",
       "      <td>56374.0</td>\n",
       "      <td>0.132992</td>\n",
       "    </tr>\n",
       "    <tr>\n",
       "      <th>12</th>\n",
       "      <td>0.649810</td>\n",
       "      <td>56416.0</td>\n",
       "      <td>56373.0</td>\n",
       "      <td>0.096666</td>\n",
       "    </tr>\n",
       "    <tr>\n",
       "      <th>13</th>\n",
       "      <td>0.000120</td>\n",
       "      <td>56417.0</td>\n",
       "      <td>56372.0</td>\n",
       "      <td>0.239397</td>\n",
       "    </tr>\n",
       "    <tr>\n",
       "      <th>14</th>\n",
       "      <td>0.174954</td>\n",
       "      <td>56418.0</td>\n",
       "      <td>56368.0</td>\n",
       "      <td>0.042849</td>\n",
       "    </tr>\n",
       "    <tr>\n",
       "      <th>15</th>\n",
       "      <td>1.344081</td>\n",
       "      <td>56419.0</td>\n",
       "      <td>56367.0</td>\n",
       "      <td>0.177333</td>\n",
       "    </tr>\n",
       "    <tr>\n",
       "      <th>16</th>\n",
       "      <td>0.000060</td>\n",
       "      <td>56420.0</td>\n",
       "      <td>56366.0</td>\n",
       "      <td>0.349423</td>\n",
       "    </tr>\n",
       "    <tr>\n",
       "      <th>17</th>\n",
       "      <td>0.890826</td>\n",
       "      <td>56421.0</td>\n",
       "      <td>56364.0</td>\n",
       "      <td>0.314876</td>\n",
       "    </tr>\n",
       "    <tr>\n",
       "      <th>18</th>\n",
       "      <td>0.177438</td>\n",
       "      <td>56422.0</td>\n",
       "      <td>56363.0</td>\n",
       "      <td>0.176848</td>\n",
       "    </tr>\n",
       "    <tr>\n",
       "      <th>19</th>\n",
       "      <td>0.000120</td>\n",
       "      <td>56423.0</td>\n",
       "      <td>56362.0</td>\n",
       "      <td>1.546500</td>\n",
       "    </tr>\n",
       "    <tr>\n",
       "      <th>20</th>\n",
       "      <td>0.000060</td>\n",
       "      <td>56424.0</td>\n",
       "      <td>56361.0</td>\n",
       "      <td>0.177328</td>\n",
       "    </tr>\n",
       "    <tr>\n",
       "      <th>21</th>\n",
       "      <td>0.000120</td>\n",
       "      <td>56425.0</td>\n",
       "      <td>56360.0</td>\n",
       "      <td>1.137838</td>\n",
       "    </tr>\n",
       "    <tr>\n",
       "      <th>22</th>\n",
       "      <td>0.233114</td>\n",
       "      <td>56426.0</td>\n",
       "      <td>56359.0</td>\n",
       "      <td>0.132991</td>\n",
       "    </tr>\n",
       "    <tr>\n",
       "      <th>23</th>\n",
       "      <td>0.000180</td>\n",
       "      <td>56427.0</td>\n",
       "      <td>56355.0</td>\n",
       "      <td>0.225452</td>\n",
       "    </tr>\n",
       "    <tr>\n",
       "      <th>24</th>\n",
       "      <td>1.096454</td>\n",
       "      <td>56428.0</td>\n",
       "      <td>56354.0</td>\n",
       "      <td>0.796600</td>\n",
       "    </tr>\n",
       "  </tbody>\n",
       "</table>\n",
       "</div>"
      ],
      "text/plain": [
       "    ask_size      ask      bid  bid_size\n",
       "0   0.180000  56389.0  56388.0  0.568413\n",
       "1   0.139309  56395.0  56387.0  0.229289\n",
       "2   0.040000  56399.0  56386.0  0.132997\n",
       "3   0.145793  56405.0  56385.0  0.942200\n",
       "4   0.000120  56407.0  56384.0  0.088668\n",
       "5   0.133056  56408.0  56382.0  0.061922\n",
       "6   0.000120  56409.0  56381.0  0.320492\n",
       "7   0.069765  56410.0  56380.0  0.132995\n",
       "8   0.100020  56411.0  56379.0  0.024857\n",
       "9   0.088791  56413.0  56377.0  0.546713\n",
       "10  1.208772  56414.0  56375.0  0.132997\n",
       "11  0.000120  56415.0  56374.0  0.132992\n",
       "12  0.649810  56416.0  56373.0  0.096666\n",
       "13  0.000120  56417.0  56372.0  0.239397\n",
       "14  0.174954  56418.0  56368.0  0.042849\n",
       "15  1.344081  56419.0  56367.0  0.177333\n",
       "16  0.000060  56420.0  56366.0  0.349423\n",
       "17  0.890826  56421.0  56364.0  0.314876\n",
       "18  0.177438  56422.0  56363.0  0.176848\n",
       "19  0.000120  56423.0  56362.0  1.546500\n",
       "20  0.000060  56424.0  56361.0  0.177328\n",
       "21  0.000120  56425.0  56360.0  1.137838\n",
       "22  0.233114  56426.0  56359.0  0.132991\n",
       "23  0.000180  56427.0  56355.0  0.225452\n",
       "24  1.096454  56428.0  56354.0  0.796600"
      ]
     },
     "execution_count": 20,
     "metadata": {},
     "output_type": "execute_result"
    }
   ],
   "source": [
    "bitfinex = dict_to_df('bitfinex','2021-11-24T03:24:48.113Z' , orderbooks_data)\n",
    "bitfinex"
   ]
  },
  {
   "cell_type": "code",
   "execution_count": 55,
   "id": "83bda456",
   "metadata": {},
   "outputs": [],
   "source": [
    "def plot_orderbook_2excahnges(ob_data_plot_origin, ob_data_plot_destionation):\n",
    "    ob_data = ob_data_plot_origin\n",
    "    ob_data_bid = ob_data[['bid_size', 'bid']]\n",
    "    ob_data_bid = ob_data_bid.sort_values(ascending = True, by='bid')\n",
    "    ob_data_ask = ob_data[['ask_size', 'ask']]\n",
    "    ob_data_ask = ob_data_ask\n",
    "    fig = go.Figure()\n",
    "    fig.add_trace(\n",
    "        go.Bar(x=ob_data_bid['bid'],\n",
    "                y=ob_data_bid['bid_size'], name = 'Bid-Origin',width=.7, opacity=0.5))\n",
    "\n",
    "    fig.add_trace(\n",
    "        go.Bar(x=ob_data_ask['ask'],\n",
    "                y=ob_data_ask['ask_size'],name = 'Ask-Origin',width=.7, opacity=0.5))\n",
    "\n",
    "\n",
    "    ob_data = ob_data_plot_destionation\n",
    "    ob_data_bid = ob_data[['bid_size', 'bid']]\n",
    "    ob_data_bid = ob_data_bid.sort_values(ascending = True, by='bid')\n",
    "    ob_data_ask = ob_data[['ask_size', 'ask']]\n",
    "    ob_data_ask = ob_data_ask\n",
    "  \n",
    "    fig.add_trace(\n",
    "        go.Bar(x=ob_data_bid['bid'],\n",
    "                y=ob_data_bid['bid_size'], name = 'Bid-Destination',width=.7, opacity=0.5))\n",
    "\n",
    "    fig.add_trace(\n",
    "        go.Bar(x=ob_data_ask['ask'],\n",
    "                y=ob_data_ask['ask_size'],name = 'Ask-Destination',width=.7, opacity=0.5))\n",
    "    #fig.update_xaxes(type='category')\n",
    "    \n",
    "    fig.update_traces(marker_line_color='rgb(8,48,107)',\n",
    "                  marker_line_width=.6)\n",
    "    \n",
    "    \n",
    "    fig.update_layout(\n",
    "    width=950,\n",
    "    height=650)\n",
    "    # Update yaxis properties\n",
    "    fig.update_yaxes(title_text=\"Size\")\n",
    "    fig.update_xaxes(title_text=\"Price\")\n",
    "    fig.show()"
   ]
  },
  {
   "cell_type": "code",
   "execution_count": null,
   "id": "081aa893",
   "metadata": {},
   "outputs": [],
   "source": []
  }
 ],
 "metadata": {
  "kernelspec": {
   "display_name": "Python 3 (ipykernel)",
   "language": "python",
   "name": "python3"
  },
  "language_info": {
   "codemirror_mode": {
    "name": "ipython",
    "version": 3
   },
   "file_extension": ".py",
   "mimetype": "text/x-python",
   "name": "python",
   "nbconvert_exporter": "python",
   "pygments_lexer": "ipython3",
   "version": "3.8.2"
  }
 },
 "nbformat": 4,
 "nbformat_minor": 5
}
