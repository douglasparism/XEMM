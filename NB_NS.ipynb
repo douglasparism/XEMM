{
 "cells": [
  {
   "cell_type": "code",
   "execution_count": 23,
   "id": "189f2e00",
   "metadata": {},
   "outputs": [],
   "source": [
    "import json\n",
    "import pandas as pd\n",
    "import numpy as np\n",
    "import plotly.graph_objects as go\n",
    "import seaborn as sns\n",
    "# Opening JSON file\n",
    "f = open('files/orderbooks_ray.json')\n",
    "#f = open('/Users/noesalinas/Desktop/06jul_test_.json')\n",
    "# Returns JSON object as a dictionary\n",
    "orderbooks_data = json.load(f)"
   ]
  },
  {
   "cell_type": "code",
   "execution_count": 24,
   "id": "738bbae3",
   "metadata": {},
   "outputs": [],
   "source": [
    "def dict_to_df(exchange, timestamp, orderbook):\n",
    "    orderbooks_data = orderbook\n",
    "    ask_size = orderbooks_data[exchange][timestamp]['ask_size'].values()\n",
    "    ask = orderbooks_data[exchange][timestamp]['ask'].values()\n",
    "    bid_size = orderbooks_data[exchange][timestamp]['bid_size'].values()\n",
    "    bid = orderbooks_data[exchange][timestamp]['bid'].values()\n",
    "\n",
    "    df_orderbook = pd.DataFrame(columns=['ask_size', 'ask', 'bid', 'bid_size'])\n",
    "    df_orderbook['ask_size'] = ask_size\n",
    "    df_orderbook['ask'] = ask\n",
    "    df_orderbook['bid'] = bid\n",
    "    df_orderbook['bid_size'] = bid_size\n",
    "    return df_orderbook"
   ]
  },
  {
   "cell_type": "code",
   "execution_count": 25,
   "id": "e4b4c0b5",
   "metadata": {},
   "outputs": [],
   "source": [
    "def f_del_none_dict(dictionary_to_clean):\n",
    "    dict_c = dictionary_to_clean\n",
    "    clean_ob_data = {k: v for k, v in dict_c.items() if v is not None}\n",
    "    display(\n",
    "    'Number of historical orderbooks:',\n",
    "    ('Before dropping Nones: '+ str(len(dict_c))),\n",
    "    ('After dropping Nones: ' + str(len(clean_ob_data))))\n",
    "    return clean_ob_data"
   ]
  },
  {
   "cell_type": "code",
   "execution_count": 26,
   "id": "7ee4b4c2",
   "metadata": {},
   "outputs": [
    {
     "data": {
      "text/plain": [
       "'Number of historical orderbooks:'"
      ]
     },
     "metadata": {},
     "output_type": "display_data"
    },
    {
     "data": {
      "text/plain": [
       "'Before dropping Nones: 116'"
      ]
     },
     "metadata": {},
     "output_type": "display_data"
    },
    {
     "data": {
      "text/plain": [
       "'After dropping Nones: 39'"
      ]
     },
     "metadata": {},
     "output_type": "display_data"
    },
    {
     "data": {
      "text/plain": [
       "'Number of historical orderbooks:'"
      ]
     },
     "metadata": {},
     "output_type": "display_data"
    },
    {
     "data": {
      "text/plain": [
       "'Before dropping Nones: 116'"
      ]
     },
     "metadata": {},
     "output_type": "display_data"
    },
    {
     "data": {
      "text/plain": [
       "'After dropping Nones: 79'"
      ]
     },
     "metadata": {},
     "output_type": "display_data"
    }
   ],
   "source": [
    "clean_order_kraken = f_del_none_dict(orderbooks_data['kraken'])\n",
    "\n",
    "clean_order_bitfinex = f_del_none_dict(orderbooks_data['bitfinex'])"
   ]
  },
  {
   "cell_type": "code",
   "execution_count": 31,
   "id": "d1cfc747",
   "metadata": {},
   "outputs": [
    {
     "data": {
      "text/html": [
       "<div>\n",
       "<style scoped>\n",
       "    .dataframe tbody tr th:only-of-type {\n",
       "        vertical-align: middle;\n",
       "    }\n",
       "\n",
       "    .dataframe tbody tr th {\n",
       "        vertical-align: top;\n",
       "    }\n",
       "\n",
       "    .dataframe thead th {\n",
       "        text-align: right;\n",
       "    }\n",
       "</style>\n",
       "<table border=\"1\" class=\"dataframe\">\n",
       "  <thead>\n",
       "    <tr style=\"text-align: right;\">\n",
       "      <th></th>\n",
       "      <th>dict_key</th>\n",
       "      <th>timestamp</th>\n",
       "      <th>exchange</th>\n",
       "    </tr>\n",
       "  </thead>\n",
       "  <tbody>\n",
       "    <tr>\n",
       "      <th>0</th>\n",
       "      <td>2021-11-24T15:15:49.471Z</td>\n",
       "      <td>2021-11-24 15:15:49.471000+00:00</td>\n",
       "      <td>bitfinex</td>\n",
       "    </tr>\n",
       "    <tr>\n",
       "      <th>1</th>\n",
       "      <td>2021-11-24T15:15:50.775Z</td>\n",
       "      <td>2021-11-24 15:15:50.775000+00:00</td>\n",
       "      <td>bitfinex</td>\n",
       "    </tr>\n",
       "    <tr>\n",
       "      <th>2</th>\n",
       "      <td>2021-11-24T15:15:52.234Z</td>\n",
       "      <td>2021-11-24 15:15:52.234000+00:00</td>\n",
       "      <td>bitfinex</td>\n",
       "    </tr>\n",
       "    <tr>\n",
       "      <th>3</th>\n",
       "      <td>2021-11-24T15:15:52.328Z</td>\n",
       "      <td>2021-11-24 15:15:52.328000+00:00</td>\n",
       "      <td>kraken</td>\n",
       "    </tr>\n",
       "    <tr>\n",
       "      <th>4</th>\n",
       "      <td>2021-11-24T15:15:54.154Z</td>\n",
       "      <td>2021-11-24 15:15:54.154000+00:00</td>\n",
       "      <td>bitfinex</td>\n",
       "    </tr>\n",
       "    <tr>\n",
       "      <th>5</th>\n",
       "      <td>2021-11-24T15:15:55.277Z</td>\n",
       "      <td>2021-11-24 15:15:55.277000+00:00</td>\n",
       "      <td>kraken</td>\n",
       "    </tr>\n",
       "    <tr>\n",
       "      <th>6</th>\n",
       "      <td>2021-11-24T15:15:55.279Z</td>\n",
       "      <td>2021-11-24 15:15:55.279000+00:00</td>\n",
       "      <td>bitfinex</td>\n",
       "    </tr>\n",
       "    <tr>\n",
       "      <th>7</th>\n",
       "      <td>2021-11-24T15:15:56.773Z</td>\n",
       "      <td>2021-11-24 15:15:56.773000+00:00</td>\n",
       "      <td>bitfinex</td>\n",
       "    </tr>\n",
       "    <tr>\n",
       "      <th>8</th>\n",
       "      <td>2021-11-24T15:15:58.376Z</td>\n",
       "      <td>2021-11-24 15:15:58.376000+00:00</td>\n",
       "      <td>kraken</td>\n",
       "    </tr>\n",
       "    <tr>\n",
       "      <th>9</th>\n",
       "      <td>2021-11-24T15:15:58.672Z</td>\n",
       "      <td>2021-11-24 15:15:58.672000+00:00</td>\n",
       "      <td>bitfinex</td>\n",
       "    </tr>\n",
       "  </tbody>\n",
       "</table>\n",
       "</div>"
      ],
      "text/plain": [
       "                   dict_key                        timestamp  exchange\n",
       "0  2021-11-24T15:15:49.471Z 2021-11-24 15:15:49.471000+00:00  bitfinex\n",
       "1  2021-11-24T15:15:50.775Z 2021-11-24 15:15:50.775000+00:00  bitfinex\n",
       "2  2021-11-24T15:15:52.234Z 2021-11-24 15:15:52.234000+00:00  bitfinex\n",
       "3  2021-11-24T15:15:52.328Z 2021-11-24 15:15:52.328000+00:00    kraken\n",
       "4  2021-11-24T15:15:54.154Z 2021-11-24 15:15:54.154000+00:00  bitfinex\n",
       "5  2021-11-24T15:15:55.277Z 2021-11-24 15:15:55.277000+00:00    kraken\n",
       "6  2021-11-24T15:15:55.279Z 2021-11-24 15:15:55.279000+00:00  bitfinex\n",
       "7  2021-11-24T15:15:56.773Z 2021-11-24 15:15:56.773000+00:00  bitfinex\n",
       "8  2021-11-24T15:15:58.376Z 2021-11-24 15:15:58.376000+00:00    kraken\n",
       "9  2021-11-24T15:15:58.672Z 2021-11-24 15:15:58.672000+00:00  bitfinex"
      ]
     },
     "execution_count": 31,
     "metadata": {},
     "output_type": "execute_result"
    }
   ],
   "source": [
    "df_datetime = pd.DataFrame(columns=['dict_key', 'timestamp', 'exchange'])\n",
    "df_datetime['dict_key'] = clean_order_kraken.keys()\n",
    "df_datetime['timestamp'] = clean_order_kraken.keys()\n",
    "df_datetime['exchange'] = 'kraken'\n",
    "\n",
    "df_datetime_aux = pd.DataFrame(columns=['dict_key', 'timestamp', 'exchange'])\n",
    "df_datetime_aux['dict_key'] = clean_order_bitfinex.keys()\n",
    "df_datetime_aux['timestamp'] = clean_order_bitfinex.keys()\n",
    "df_datetime_aux['exchange'] = 'bitfinex'\n",
    "\n",
    "df_datetime = df_datetime.append(df_datetime_aux)\n",
    "df_datetime['timestamp'] = pd.to_datetime(df_datetime['timestamp'])\n",
    "df_datetime = df_datetime.sort_values(by=['timestamp'])\n",
    "df_datetime = df_datetime.reset_index(drop=True)\n",
    "df_datetime.head(10)"
   ]
  },
  {
   "cell_type": "code",
   "execution_count": 56,
   "id": "4f5db3a5",
   "metadata": {},
   "outputs": [
    {
     "name": "stdout",
     "output_type": "stream",
     "text": [
      "Al momento\n",
      "2021-11-24T15:15:52.328Z kraken\n",
      "2021-11-24T15:15:54.154Z bitfinex\n",
      "   ask_size      ask      bid  bid_size\n",
      "0     0.309  56308.5  56308.4     0.050\n",
      "1     0.177  56309.0  56304.9     0.081 KRAKEN\n",
      "   ask_size      ask      bid  bid_size\n",
      "0  0.183176  56290.0  56285.0  0.000219\n",
      "1  0.081652  56293.0  56284.0  0.171491 BITFINEX\n"
     ]
    },
    {
     "data": {
      "application/vnd.plotly.v1+json": {
       "config": {
        "plotlyServerURL": "https://plotly.com"
       },
       "data": [
        {
         "marker": {
          "line": {
           "color": "rgb(8,48,107)",
           "width": 0.6
          }
         },
         "name": "Bid-Origin",
         "opacity": 0.5,
         "type": "bar",
         "width": 0.7,
         "x": [
          56095.4,
          56097.9,
          56100,
          56102.7,
          56102.8,
          56109.7,
          56117.8,
          56120.6,
          56125.5,
          56126.9,
          56135.9,
          56139.2,
          56142.1,
          56143.1,
          56150.6,
          56154.7,
          56158.7,
          56159.7,
          56162.7,
          56169.8,
          56171,
          56173.2,
          56174.7,
          56178.3,
          56178.4,
          56178.5,
          56179.5,
          56180.5,
          56180.6,
          56186,
          56189.5,
          56190.3,
          56195.4,
          56195.7,
          56199.6,
          56204.4,
          56207.3,
          56210.1,
          56211.3,
          56212.6,
          56213.1,
          56213.2,
          56213.5,
          56219.2,
          56221.1,
          56222.1,
          56223.3,
          56225.9,
          56226.8,
          56227.1,
          56227.6,
          56227.9,
          56231.9,
          56232.2,
          56232.5,
          56233.7,
          56235.6,
          56238.2,
          56239,
          56241.6,
          56243.1,
          56243.3,
          56243.9,
          56244.3,
          56245.7,
          56248.2,
          56250.8,
          56254,
          56257,
          56257.8,
          56260.6,
          56264.1,
          56264.5,
          56264.6,
          56267.3,
          56267.4,
          56268.3,
          56269.6,
          56274.9,
          56282.2,
          56284.2,
          56284.5,
          56285.6,
          56285.7,
          56289.9,
          56290,
          56296.2,
          56298.8,
          56299.9,
          56300.1,
          56300.3,
          56300.5,
          56302.3,
          56302.4,
          56302.5,
          56303.8,
          56304.7,
          56304.8,
          56304.9,
          56308.4
         ],
         "y": [
          1.796,
          0.32,
          0.037,
          0.01,
          0.333,
          1.454,
          1.12,
          4.442,
          0.25,
          0.222,
          0.001,
          0.084,
          0.32,
          1.453,
          4.44,
          0.069,
          0.332,
          0.052,
          0.019,
          0.2,
          1.04,
          0.1,
          0.723,
          2.519,
          0.459,
          0.162,
          0.038,
          0.882,
          0.124,
          0.003,
          4.445,
          3.555,
          2.545,
          1.284,
          0.001,
          0.064,
          0.722,
          0.064,
          1.224,
          0.173,
          0.347,
          0.041,
          1.855,
          4.443,
          0.064,
          0.052,
          0.98,
          3.554,
          0.064,
          0.14,
          0.027,
          0.37,
          0.051,
          0.001,
          0.064,
          0.012,
          0.3,
          0.064,
          3.554,
          0.27,
          0.08,
          0.027,
          0.001,
          0.064,
          0.179,
          0.091,
          0.129,
          0.064,
          3.554,
          0.094,
          0.064,
          0.028,
          0.714,
          0.105,
          0.711,
          0.064,
          4.443,
          0.081,
          0.064,
          0.742,
          0.064,
          0.763,
          0.563,
          0.1,
          0.064,
          0.1,
          0.064,
          0.041,
          0.085,
          0.076,
          0.06,
          0.082,
          0.09,
          0.4,
          0.073,
          0.064,
          0.099,
          0.02,
          0.081,
          0.05
         ]
        },
        {
         "marker": {
          "line": {
           "color": "rgb(8,48,107)",
           "width": 0.6
          }
         },
         "name": "Ask-Origin",
         "opacity": 0.5,
         "type": "bar",
         "width": 0.7,
         "x": [
          56308.5,
          56309,
          56312.5,
          56317.3,
          56318.2,
          56318.3,
          56318.4,
          56318.5,
          56318.6,
          56318.7,
          56319.1,
          56320.7,
          56324.1,
          56324.2,
          56328.2,
          56330,
          56333.8,
          56334.3,
          56335.3,
          56335.4,
          56336.5,
          56336.6,
          56336.7,
          56339,
          56339.6,
          56341.5,
          56342.5,
          56347.6,
          56349.8,
          56350.3,
          56350.6,
          56354.2,
          56356.2,
          56356.4,
          56358.7,
          56359.8,
          56362,
          56362.2,
          56363.3,
          56365.1,
          56365.2,
          56367.8,
          56368.7,
          56376.6,
          56376.8,
          56378.9,
          56379.9,
          56380.2,
          56382,
          56384.5,
          56385.3,
          56387.5,
          56392.3,
          56394.8,
          56396.3,
          56398.8,
          56400,
          56402.4,
          56403.8,
          56406.6,
          56408.1,
          56409.9,
          56413.6,
          56413.7,
          56413.8,
          56414.3,
          56414.4,
          56420.5,
          56420.7,
          56423.8,
          56424,
          56429.1,
          56429.2,
          56433.1,
          56436.1,
          56436.5,
          56443.7,
          56444,
          56445,
          56447.5,
          56448.8,
          56455.8,
          56456.1,
          56458.4,
          56459.9,
          56461.8,
          56464.5,
          56465.4,
          56468.9,
          56469,
          56470.8,
          56471,
          56471.9,
          56473.8,
          56480.6,
          56481.3,
          56481.8,
          56484.5,
          56487.4,
          56489.5
         ],
         "y": [
          0.309,
          0.177,
          4.442,
          0.5,
          0.2,
          0.711,
          0.064,
          0.27,
          0.444,
          3.554,
          2.785,
          0.027,
          0.598,
          0.064,
          0.081,
          0.028,
          0.064,
          0.14,
          0.586,
          0.027,
          1.14,
          0.103,
          0.5,
          4.443,
          0.064,
          3.553,
          0.019,
          0.091,
          0.08,
          0.25,
          0.064,
          1.811,
          0.051,
          0.019,
          0.038,
          1.686,
          0.036,
          0.064,
          0.084,
          0.03,
          3.552,
          4.443,
          0.064,
          3.554,
          0.771,
          0.064,
          0.017,
          10,
          0.001,
          0.002,
          0.002,
          0.064,
          0.987,
          0.064,
          0.001,
          0.001,
          0.025,
          0.064,
          0.001,
          0.002,
          0.064,
          0.503,
          1.422,
          1.239,
          0.064,
          4.437,
          2.53,
          0.064,
          2.614,
          0.001,
          0.2,
          0.133,
          0.064,
          0.77,
          0.001,
          0.064,
          4.444,
          0.5,
          0.11,
          0.064,
          0.002,
          0.27,
          0.064,
          1,
          0.179,
          0.064,
          4.442,
          0.002,
          0.001,
          0.064,
          0.003,
          0.01,
          0.007,
          0.003,
          0.001,
          1.443,
          0.219,
          0.22,
          0.566,
          0.069
         ]
        },
        {
         "marker": {
          "line": {
           "color": "rgb(8,48,107)",
           "width": 0.6
          }
         },
         "name": "Bid-Destination",
         "opacity": 0.5,
         "type": "bar",
         "width": 0.7,
         "x": [
          56244,
          56245,
          56247,
          56250,
          56251,
          56253,
          56255,
          56257,
          56258,
          56260,
          56261,
          56262,
          56264,
          56267,
          56269,
          56270,
          56273,
          56277,
          56278,
          56279,
          56281,
          56282,
          56283,
          56284,
          56285
         ],
         "y": [
          0.82383243,
          0.04603487,
          0.2004,
          0.9224,
          0.7611,
          0.07243099,
          0.00032956,
          0.09398456,
          0.0096,
          0.0356,
          0.5457,
          1.9064,
          0.21298192,
          0.56857795,
          0.5142,
          0.54130801,
          0.09909838,
          0.15238133,
          0.04953075,
          0.0096,
          0.00252471,
          0.00990984,
          0.00198123,
          0.17149114,
          0.0002191
         ]
        },
        {
         "marker": {
          "line": {
           "color": "rgb(8,48,107)",
           "width": 0.6
          }
         },
         "name": "Ask-Destination",
         "opacity": 0.5,
         "type": "bar",
         "width": 0.7,
         "x": [
          56290,
          56293,
          56295,
          56298,
          56301,
          56302,
          56306,
          56307,
          56308,
          56309,
          56310,
          56311,
          56316,
          56317,
          56318,
          56319,
          56320,
          56321,
          56322,
          56323,
          56324,
          56325,
          56326,
          56327,
          56328
         ],
         "y": [
          0.18317578,
          0.08165195,
          6.001e-05,
          0.0356,
          0.18703874,
          1.0888009,
          0.07218722,
          0.00247628,
          0.02401773,
          0.5566,
          0.02481214,
          0.94483626,
          0.4451,
          0.27598607,
          1.05076,
          0.02,
          0.92006,
          1.06393795,
          6e-05,
          0.15867283,
          1.36652,
          0.38778006,
          1.82920764,
          0.02722786,
          6e-05
         ]
        }
       ],
       "layout": {
        "height": 650,
        "template": {
         "data": {
          "bar": [
           {
            "error_x": {
             "color": "#2a3f5f"
            },
            "error_y": {
             "color": "#2a3f5f"
            },
            "marker": {
             "line": {
              "color": "#E5ECF6",
              "width": 0.5
             }
            },
            "type": "bar"
           }
          ],
          "barpolar": [
           {
            "marker": {
             "line": {
              "color": "#E5ECF6",
              "width": 0.5
             }
            },
            "type": "barpolar"
           }
          ],
          "carpet": [
           {
            "aaxis": {
             "endlinecolor": "#2a3f5f",
             "gridcolor": "white",
             "linecolor": "white",
             "minorgridcolor": "white",
             "startlinecolor": "#2a3f5f"
            },
            "baxis": {
             "endlinecolor": "#2a3f5f",
             "gridcolor": "white",
             "linecolor": "white",
             "minorgridcolor": "white",
             "startlinecolor": "#2a3f5f"
            },
            "type": "carpet"
           }
          ],
          "choropleth": [
           {
            "colorbar": {
             "outlinewidth": 0,
             "ticks": ""
            },
            "type": "choropleth"
           }
          ],
          "contour": [
           {
            "colorbar": {
             "outlinewidth": 0,
             "ticks": ""
            },
            "colorscale": [
             [
              0,
              "#0d0887"
             ],
             [
              0.1111111111111111,
              "#46039f"
             ],
             [
              0.2222222222222222,
              "#7201a8"
             ],
             [
              0.3333333333333333,
              "#9c179e"
             ],
             [
              0.4444444444444444,
              "#bd3786"
             ],
             [
              0.5555555555555556,
              "#d8576b"
             ],
             [
              0.6666666666666666,
              "#ed7953"
             ],
             [
              0.7777777777777778,
              "#fb9f3a"
             ],
             [
              0.8888888888888888,
              "#fdca26"
             ],
             [
              1,
              "#f0f921"
             ]
            ],
            "type": "contour"
           }
          ],
          "contourcarpet": [
           {
            "colorbar": {
             "outlinewidth": 0,
             "ticks": ""
            },
            "type": "contourcarpet"
           }
          ],
          "heatmap": [
           {
            "colorbar": {
             "outlinewidth": 0,
             "ticks": ""
            },
            "colorscale": [
             [
              0,
              "#0d0887"
             ],
             [
              0.1111111111111111,
              "#46039f"
             ],
             [
              0.2222222222222222,
              "#7201a8"
             ],
             [
              0.3333333333333333,
              "#9c179e"
             ],
             [
              0.4444444444444444,
              "#bd3786"
             ],
             [
              0.5555555555555556,
              "#d8576b"
             ],
             [
              0.6666666666666666,
              "#ed7953"
             ],
             [
              0.7777777777777778,
              "#fb9f3a"
             ],
             [
              0.8888888888888888,
              "#fdca26"
             ],
             [
              1,
              "#f0f921"
             ]
            ],
            "type": "heatmap"
           }
          ],
          "heatmapgl": [
           {
            "colorbar": {
             "outlinewidth": 0,
             "ticks": ""
            },
            "colorscale": [
             [
              0,
              "#0d0887"
             ],
             [
              0.1111111111111111,
              "#46039f"
             ],
             [
              0.2222222222222222,
              "#7201a8"
             ],
             [
              0.3333333333333333,
              "#9c179e"
             ],
             [
              0.4444444444444444,
              "#bd3786"
             ],
             [
              0.5555555555555556,
              "#d8576b"
             ],
             [
              0.6666666666666666,
              "#ed7953"
             ],
             [
              0.7777777777777778,
              "#fb9f3a"
             ],
             [
              0.8888888888888888,
              "#fdca26"
             ],
             [
              1,
              "#f0f921"
             ]
            ],
            "type": "heatmapgl"
           }
          ],
          "histogram": [
           {
            "marker": {
             "colorbar": {
              "outlinewidth": 0,
              "ticks": ""
             }
            },
            "type": "histogram"
           }
          ],
          "histogram2d": [
           {
            "colorbar": {
             "outlinewidth": 0,
             "ticks": ""
            },
            "colorscale": [
             [
              0,
              "#0d0887"
             ],
             [
              0.1111111111111111,
              "#46039f"
             ],
             [
              0.2222222222222222,
              "#7201a8"
             ],
             [
              0.3333333333333333,
              "#9c179e"
             ],
             [
              0.4444444444444444,
              "#bd3786"
             ],
             [
              0.5555555555555556,
              "#d8576b"
             ],
             [
              0.6666666666666666,
              "#ed7953"
             ],
             [
              0.7777777777777778,
              "#fb9f3a"
             ],
             [
              0.8888888888888888,
              "#fdca26"
             ],
             [
              1,
              "#f0f921"
             ]
            ],
            "type": "histogram2d"
           }
          ],
          "histogram2dcontour": [
           {
            "colorbar": {
             "outlinewidth": 0,
             "ticks": ""
            },
            "colorscale": [
             [
              0,
              "#0d0887"
             ],
             [
              0.1111111111111111,
              "#46039f"
             ],
             [
              0.2222222222222222,
              "#7201a8"
             ],
             [
              0.3333333333333333,
              "#9c179e"
             ],
             [
              0.4444444444444444,
              "#bd3786"
             ],
             [
              0.5555555555555556,
              "#d8576b"
             ],
             [
              0.6666666666666666,
              "#ed7953"
             ],
             [
              0.7777777777777778,
              "#fb9f3a"
             ],
             [
              0.8888888888888888,
              "#fdca26"
             ],
             [
              1,
              "#f0f921"
             ]
            ],
            "type": "histogram2dcontour"
           }
          ],
          "mesh3d": [
           {
            "colorbar": {
             "outlinewidth": 0,
             "ticks": ""
            },
            "type": "mesh3d"
           }
          ],
          "parcoords": [
           {
            "line": {
             "colorbar": {
              "outlinewidth": 0,
              "ticks": ""
             }
            },
            "type": "parcoords"
           }
          ],
          "pie": [
           {
            "automargin": true,
            "type": "pie"
           }
          ],
          "scatter": [
           {
            "marker": {
             "colorbar": {
              "outlinewidth": 0,
              "ticks": ""
             }
            },
            "type": "scatter"
           }
          ],
          "scatter3d": [
           {
            "line": {
             "colorbar": {
              "outlinewidth": 0,
              "ticks": ""
             }
            },
            "marker": {
             "colorbar": {
              "outlinewidth": 0,
              "ticks": ""
             }
            },
            "type": "scatter3d"
           }
          ],
          "scattercarpet": [
           {
            "marker": {
             "colorbar": {
              "outlinewidth": 0,
              "ticks": ""
             }
            },
            "type": "scattercarpet"
           }
          ],
          "scattergeo": [
           {
            "marker": {
             "colorbar": {
              "outlinewidth": 0,
              "ticks": ""
             }
            },
            "type": "scattergeo"
           }
          ],
          "scattergl": [
           {
            "marker": {
             "colorbar": {
              "outlinewidth": 0,
              "ticks": ""
             }
            },
            "type": "scattergl"
           }
          ],
          "scattermapbox": [
           {
            "marker": {
             "colorbar": {
              "outlinewidth": 0,
              "ticks": ""
             }
            },
            "type": "scattermapbox"
           }
          ],
          "scatterpolar": [
           {
            "marker": {
             "colorbar": {
              "outlinewidth": 0,
              "ticks": ""
             }
            },
            "type": "scatterpolar"
           }
          ],
          "scatterpolargl": [
           {
            "marker": {
             "colorbar": {
              "outlinewidth": 0,
              "ticks": ""
             }
            },
            "type": "scatterpolargl"
           }
          ],
          "scatterternary": [
           {
            "marker": {
             "colorbar": {
              "outlinewidth": 0,
              "ticks": ""
             }
            },
            "type": "scatterternary"
           }
          ],
          "surface": [
           {
            "colorbar": {
             "outlinewidth": 0,
             "ticks": ""
            },
            "colorscale": [
             [
              0,
              "#0d0887"
             ],
             [
              0.1111111111111111,
              "#46039f"
             ],
             [
              0.2222222222222222,
              "#7201a8"
             ],
             [
              0.3333333333333333,
              "#9c179e"
             ],
             [
              0.4444444444444444,
              "#bd3786"
             ],
             [
              0.5555555555555556,
              "#d8576b"
             ],
             [
              0.6666666666666666,
              "#ed7953"
             ],
             [
              0.7777777777777778,
              "#fb9f3a"
             ],
             [
              0.8888888888888888,
              "#fdca26"
             ],
             [
              1,
              "#f0f921"
             ]
            ],
            "type": "surface"
           }
          ],
          "table": [
           {
            "cells": {
             "fill": {
              "color": "#EBF0F8"
             },
             "line": {
              "color": "white"
             }
            },
            "header": {
             "fill": {
              "color": "#C8D4E3"
             },
             "line": {
              "color": "white"
             }
            },
            "type": "table"
           }
          ]
         },
         "layout": {
          "annotationdefaults": {
           "arrowcolor": "#2a3f5f",
           "arrowhead": 0,
           "arrowwidth": 1
          },
          "autotypenumbers": "strict",
          "coloraxis": {
           "colorbar": {
            "outlinewidth": 0,
            "ticks": ""
           }
          },
          "colorscale": {
           "diverging": [
            [
             0,
             "#8e0152"
            ],
            [
             0.1,
             "#c51b7d"
            ],
            [
             0.2,
             "#de77ae"
            ],
            [
             0.3,
             "#f1b6da"
            ],
            [
             0.4,
             "#fde0ef"
            ],
            [
             0.5,
             "#f7f7f7"
            ],
            [
             0.6,
             "#e6f5d0"
            ],
            [
             0.7,
             "#b8e186"
            ],
            [
             0.8,
             "#7fbc41"
            ],
            [
             0.9,
             "#4d9221"
            ],
            [
             1,
             "#276419"
            ]
           ],
           "sequential": [
            [
             0,
             "#0d0887"
            ],
            [
             0.1111111111111111,
             "#46039f"
            ],
            [
             0.2222222222222222,
             "#7201a8"
            ],
            [
             0.3333333333333333,
             "#9c179e"
            ],
            [
             0.4444444444444444,
             "#bd3786"
            ],
            [
             0.5555555555555556,
             "#d8576b"
            ],
            [
             0.6666666666666666,
             "#ed7953"
            ],
            [
             0.7777777777777778,
             "#fb9f3a"
            ],
            [
             0.8888888888888888,
             "#fdca26"
            ],
            [
             1,
             "#f0f921"
            ]
           ],
           "sequentialminus": [
            [
             0,
             "#0d0887"
            ],
            [
             0.1111111111111111,
             "#46039f"
            ],
            [
             0.2222222222222222,
             "#7201a8"
            ],
            [
             0.3333333333333333,
             "#9c179e"
            ],
            [
             0.4444444444444444,
             "#bd3786"
            ],
            [
             0.5555555555555556,
             "#d8576b"
            ],
            [
             0.6666666666666666,
             "#ed7953"
            ],
            [
             0.7777777777777778,
             "#fb9f3a"
            ],
            [
             0.8888888888888888,
             "#fdca26"
            ],
            [
             1,
             "#f0f921"
            ]
           ]
          },
          "colorway": [
           "#636efa",
           "#EF553B",
           "#00cc96",
           "#ab63fa",
           "#FFA15A",
           "#19d3f3",
           "#FF6692",
           "#B6E880",
           "#FF97FF",
           "#FECB52"
          ],
          "font": {
           "color": "#2a3f5f"
          },
          "geo": {
           "bgcolor": "white",
           "lakecolor": "white",
           "landcolor": "#E5ECF6",
           "showlakes": true,
           "showland": true,
           "subunitcolor": "white"
          },
          "hoverlabel": {
           "align": "left"
          },
          "hovermode": "closest",
          "mapbox": {
           "style": "light"
          },
          "paper_bgcolor": "white",
          "plot_bgcolor": "#E5ECF6",
          "polar": {
           "angularaxis": {
            "gridcolor": "white",
            "linecolor": "white",
            "ticks": ""
           },
           "bgcolor": "#E5ECF6",
           "radialaxis": {
            "gridcolor": "white",
            "linecolor": "white",
            "ticks": ""
           }
          },
          "scene": {
           "xaxis": {
            "backgroundcolor": "#E5ECF6",
            "gridcolor": "white",
            "gridwidth": 2,
            "linecolor": "white",
            "showbackground": true,
            "ticks": "",
            "zerolinecolor": "white"
           },
           "yaxis": {
            "backgroundcolor": "#E5ECF6",
            "gridcolor": "white",
            "gridwidth": 2,
            "linecolor": "white",
            "showbackground": true,
            "ticks": "",
            "zerolinecolor": "white"
           },
           "zaxis": {
            "backgroundcolor": "#E5ECF6",
            "gridcolor": "white",
            "gridwidth": 2,
            "linecolor": "white",
            "showbackground": true,
            "ticks": "",
            "zerolinecolor": "white"
           }
          },
          "shapedefaults": {
           "line": {
            "color": "#2a3f5f"
           }
          },
          "ternary": {
           "aaxis": {
            "gridcolor": "white",
            "linecolor": "white",
            "ticks": ""
           },
           "baxis": {
            "gridcolor": "white",
            "linecolor": "white",
            "ticks": ""
           },
           "bgcolor": "#E5ECF6",
           "caxis": {
            "gridcolor": "white",
            "linecolor": "white",
            "ticks": ""
           }
          },
          "title": {
           "x": 0.05
          },
          "xaxis": {
           "automargin": true,
           "gridcolor": "white",
           "linecolor": "white",
           "ticks": "",
           "title": {
            "standoff": 15
           },
           "zerolinecolor": "white",
           "zerolinewidth": 2
          },
          "yaxis": {
           "automargin": true,
           "gridcolor": "white",
           "linecolor": "white",
           "ticks": "",
           "title": {
            "standoff": 15
           },
           "zerolinecolor": "white",
           "zerolinewidth": 2
          }
         }
        },
        "width": 950,
        "xaxis": {
         "title": {
          "text": "Price"
         }
        },
        "yaxis": {
         "title": {
          "text": "Size"
         }
        }
       }
      },
      "text/html": [
       "<div>                            <div id=\"f57332bd-a177-4715-b14c-03b6d577e62c\" class=\"plotly-graph-div\" style=\"height:650px; width:950px;\"></div>            <script type=\"text/javascript\">                require([\"plotly\"], function(Plotly) {                    window.PLOTLYENV=window.PLOTLYENV || {};                                    if (document.getElementById(\"f57332bd-a177-4715-b14c-03b6d577e62c\")) {                    Plotly.newPlot(                        \"f57332bd-a177-4715-b14c-03b6d577e62c\",                        [{\"marker\": {\"line\": {\"color\": \"rgb(8,48,107)\", \"width\": 0.6}}, \"name\": \"Bid-Origin\", \"opacity\": 0.5, \"type\": \"bar\", \"width\": 0.7, \"x\": [56095.4, 56097.9, 56100.0, 56102.7, 56102.8, 56109.7, 56117.8, 56120.6, 56125.5, 56126.9, 56135.9, 56139.2, 56142.1, 56143.1, 56150.6, 56154.7, 56158.7, 56159.7, 56162.7, 56169.8, 56171.0, 56173.2, 56174.7, 56178.3, 56178.4, 56178.5, 56179.5, 56180.5, 56180.6, 56186.0, 56189.5, 56190.3, 56195.4, 56195.7, 56199.6, 56204.4, 56207.3, 56210.1, 56211.3, 56212.6, 56213.1, 56213.2, 56213.5, 56219.2, 56221.1, 56222.1, 56223.3, 56225.9, 56226.8, 56227.1, 56227.6, 56227.9, 56231.9, 56232.2, 56232.5, 56233.7, 56235.6, 56238.2, 56239.0, 56241.6, 56243.1, 56243.3, 56243.9, 56244.3, 56245.7, 56248.2, 56250.8, 56254.0, 56257.0, 56257.8, 56260.6, 56264.1, 56264.5, 56264.6, 56267.3, 56267.4, 56268.3, 56269.6, 56274.9, 56282.2, 56284.2, 56284.5, 56285.6, 56285.7, 56289.9, 56290.0, 56296.2, 56298.8, 56299.9, 56300.1, 56300.3, 56300.5, 56302.3, 56302.4, 56302.5, 56303.8, 56304.7, 56304.8, 56304.9, 56308.4], \"y\": [1.796, 0.32, 0.037, 0.01, 0.333, 1.454, 1.12, 4.442, 0.25, 0.222, 0.001, 0.084, 0.32, 1.453, 4.44, 0.069, 0.332, 0.052, 0.019, 0.2, 1.04, 0.1, 0.723, 2.519, 0.459, 0.162, 0.038, 0.882, 0.124, 0.003, 4.445, 3.555, 2.545, 1.284, 0.001, 0.064, 0.722, 0.064, 1.224, 0.173, 0.347, 0.041, 1.855, 4.443, 0.064, 0.052, 0.98, 3.554, 0.064, 0.14, 0.027, 0.37, 0.051, 0.001, 0.064, 0.012, 0.3, 0.064, 3.554, 0.27, 0.08, 0.027, 0.001, 0.064, 0.179, 0.091, 0.129, 0.064, 3.554, 0.094, 0.064, 0.028, 0.714, 0.105, 0.711, 0.064, 4.443, 0.081, 0.064, 0.742, 0.064, 0.763, 0.563, 0.1, 0.064, 0.1, 0.064, 0.041, 0.085, 0.076, 0.06, 0.082, 0.09, 0.4, 0.073, 0.064, 0.099, 0.02, 0.081, 0.05]}, {\"marker\": {\"line\": {\"color\": \"rgb(8,48,107)\", \"width\": 0.6}}, \"name\": \"Ask-Origin\", \"opacity\": 0.5, \"type\": \"bar\", \"width\": 0.7, \"x\": [56308.5, 56309.0, 56312.5, 56317.3, 56318.2, 56318.3, 56318.4, 56318.5, 56318.6, 56318.7, 56319.1, 56320.7, 56324.1, 56324.2, 56328.2, 56330.0, 56333.8, 56334.3, 56335.3, 56335.4, 56336.5, 56336.6, 56336.7, 56339.0, 56339.6, 56341.5, 56342.5, 56347.6, 56349.8, 56350.3, 56350.6, 56354.2, 56356.2, 56356.4, 56358.7, 56359.8, 56362.0, 56362.2, 56363.3, 56365.1, 56365.2, 56367.8, 56368.7, 56376.6, 56376.8, 56378.9, 56379.9, 56380.2, 56382.0, 56384.5, 56385.3, 56387.5, 56392.3, 56394.8, 56396.3, 56398.8, 56400.0, 56402.4, 56403.8, 56406.6, 56408.1, 56409.9, 56413.6, 56413.7, 56413.8, 56414.3, 56414.4, 56420.5, 56420.7, 56423.8, 56424.0, 56429.1, 56429.2, 56433.1, 56436.1, 56436.5, 56443.7, 56444.0, 56445.0, 56447.5, 56448.8, 56455.8, 56456.1, 56458.4, 56459.9, 56461.8, 56464.5, 56465.4, 56468.9, 56469.0, 56470.8, 56471.0, 56471.9, 56473.8, 56480.6, 56481.3, 56481.8, 56484.5, 56487.4, 56489.5], \"y\": [0.309, 0.177, 4.442, 0.5, 0.2, 0.711, 0.064, 0.27, 0.444, 3.554, 2.785, 0.027, 0.598, 0.064, 0.081, 0.028, 0.064, 0.14, 0.586, 0.027, 1.14, 0.103, 0.5, 4.443, 0.064, 3.553, 0.019, 0.091, 0.08, 0.25, 0.064, 1.811, 0.051, 0.019, 0.038, 1.686, 0.036, 0.064, 0.084, 0.03, 3.552, 4.443, 0.064, 3.554, 0.771, 0.064, 0.017, 10.0, 0.001, 0.002, 0.002, 0.064, 0.987, 0.064, 0.001, 0.001, 0.025, 0.064, 0.001, 0.002, 0.064, 0.503, 1.422, 1.239, 0.064, 4.437, 2.53, 0.064, 2.614, 0.001, 0.2, 0.133, 0.064, 0.77, 0.001, 0.064, 4.444, 0.5, 0.11, 0.064, 0.002, 0.27, 0.064, 1.0, 0.179, 0.064, 4.442, 0.002, 0.001, 0.064, 0.003, 0.01, 0.007, 0.003, 0.001, 1.443, 0.219, 0.22, 0.566, 0.069]}, {\"marker\": {\"line\": {\"color\": \"rgb(8,48,107)\", \"width\": 0.6}}, \"name\": \"Bid-Destination\", \"opacity\": 0.5, \"type\": \"bar\", \"width\": 0.7, \"x\": [56244.0, 56245.0, 56247.0, 56250.0, 56251.0, 56253.0, 56255.0, 56257.0, 56258.0, 56260.0, 56261.0, 56262.0, 56264.0, 56267.0, 56269.0, 56270.0, 56273.0, 56277.0, 56278.0, 56279.0, 56281.0, 56282.0, 56283.0, 56284.0, 56285.0], \"y\": [0.82383243, 0.04603487, 0.2004, 0.9224, 0.7611, 0.07243099, 0.00032956, 0.09398456, 0.0096, 0.0356, 0.5457, 1.9064, 0.21298192, 0.56857795, 0.5142, 0.54130801, 0.09909838, 0.15238133, 0.04953075, 0.0096, 0.00252471, 0.00990984, 0.00198123, 0.17149114, 0.0002191]}, {\"marker\": {\"line\": {\"color\": \"rgb(8,48,107)\", \"width\": 0.6}}, \"name\": \"Ask-Destination\", \"opacity\": 0.5, \"type\": \"bar\", \"width\": 0.7, \"x\": [56290.0, 56293.0, 56295.0, 56298.0, 56301.0, 56302.0, 56306.0, 56307.0, 56308.0, 56309.0, 56310.0, 56311.0, 56316.0, 56317.0, 56318.0, 56319.0, 56320.0, 56321.0, 56322.0, 56323.0, 56324.0, 56325.0, 56326.0, 56327.0, 56328.0], \"y\": [0.18317578, 0.08165195, 6.001e-05, 0.0356, 0.18703874, 1.0888009, 0.07218722, 0.00247628, 0.02401773, 0.5566, 0.02481214, 0.94483626, 0.4451, 0.27598607, 1.05076, 0.02, 0.92006, 1.06393795, 6e-05, 0.15867283, 1.36652, 0.38778006, 1.82920764, 0.02722786, 6e-05]}],                        {\"height\": 650, \"template\": {\"data\": {\"bar\": [{\"error_x\": {\"color\": \"#2a3f5f\"}, \"error_y\": {\"color\": \"#2a3f5f\"}, \"marker\": {\"line\": {\"color\": \"#E5ECF6\", \"width\": 0.5}}, \"type\": \"bar\"}], \"barpolar\": [{\"marker\": {\"line\": {\"color\": \"#E5ECF6\", \"width\": 0.5}}, \"type\": \"barpolar\"}], \"carpet\": [{\"aaxis\": {\"endlinecolor\": \"#2a3f5f\", \"gridcolor\": \"white\", \"linecolor\": \"white\", \"minorgridcolor\": \"white\", \"startlinecolor\": \"#2a3f5f\"}, \"baxis\": {\"endlinecolor\": \"#2a3f5f\", \"gridcolor\": \"white\", \"linecolor\": \"white\", \"minorgridcolor\": \"white\", \"startlinecolor\": \"#2a3f5f\"}, \"type\": \"carpet\"}], \"choropleth\": [{\"colorbar\": {\"outlinewidth\": 0, \"ticks\": \"\"}, \"type\": \"choropleth\"}], \"contour\": [{\"colorbar\": {\"outlinewidth\": 0, \"ticks\": \"\"}, \"colorscale\": [[0.0, \"#0d0887\"], [0.1111111111111111, \"#46039f\"], [0.2222222222222222, \"#7201a8\"], [0.3333333333333333, \"#9c179e\"], [0.4444444444444444, \"#bd3786\"], [0.5555555555555556, \"#d8576b\"], [0.6666666666666666, \"#ed7953\"], [0.7777777777777778, \"#fb9f3a\"], [0.8888888888888888, \"#fdca26\"], [1.0, \"#f0f921\"]], \"type\": \"contour\"}], \"contourcarpet\": [{\"colorbar\": {\"outlinewidth\": 0, \"ticks\": \"\"}, \"type\": \"contourcarpet\"}], \"heatmap\": [{\"colorbar\": {\"outlinewidth\": 0, \"ticks\": \"\"}, \"colorscale\": [[0.0, \"#0d0887\"], [0.1111111111111111, \"#46039f\"], [0.2222222222222222, \"#7201a8\"], [0.3333333333333333, \"#9c179e\"], [0.4444444444444444, \"#bd3786\"], [0.5555555555555556, \"#d8576b\"], [0.6666666666666666, \"#ed7953\"], [0.7777777777777778, \"#fb9f3a\"], [0.8888888888888888, \"#fdca26\"], [1.0, \"#f0f921\"]], \"type\": \"heatmap\"}], \"heatmapgl\": [{\"colorbar\": {\"outlinewidth\": 0, \"ticks\": \"\"}, \"colorscale\": [[0.0, \"#0d0887\"], [0.1111111111111111, \"#46039f\"], [0.2222222222222222, \"#7201a8\"], [0.3333333333333333, \"#9c179e\"], [0.4444444444444444, \"#bd3786\"], [0.5555555555555556, \"#d8576b\"], [0.6666666666666666, \"#ed7953\"], [0.7777777777777778, \"#fb9f3a\"], [0.8888888888888888, \"#fdca26\"], [1.0, \"#f0f921\"]], \"type\": \"heatmapgl\"}], \"histogram\": [{\"marker\": {\"colorbar\": {\"outlinewidth\": 0, \"ticks\": \"\"}}, \"type\": \"histogram\"}], \"histogram2d\": [{\"colorbar\": {\"outlinewidth\": 0, \"ticks\": \"\"}, \"colorscale\": [[0.0, \"#0d0887\"], [0.1111111111111111, \"#46039f\"], [0.2222222222222222, \"#7201a8\"], [0.3333333333333333, \"#9c179e\"], [0.4444444444444444, \"#bd3786\"], [0.5555555555555556, \"#d8576b\"], [0.6666666666666666, \"#ed7953\"], [0.7777777777777778, \"#fb9f3a\"], [0.8888888888888888, \"#fdca26\"], [1.0, \"#f0f921\"]], \"type\": \"histogram2d\"}], \"histogram2dcontour\": [{\"colorbar\": {\"outlinewidth\": 0, \"ticks\": \"\"}, \"colorscale\": [[0.0, \"#0d0887\"], [0.1111111111111111, \"#46039f\"], [0.2222222222222222, \"#7201a8\"], [0.3333333333333333, \"#9c179e\"], [0.4444444444444444, \"#bd3786\"], [0.5555555555555556, \"#d8576b\"], [0.6666666666666666, \"#ed7953\"], [0.7777777777777778, \"#fb9f3a\"], [0.8888888888888888, \"#fdca26\"], [1.0, \"#f0f921\"]], \"type\": \"histogram2dcontour\"}], \"mesh3d\": [{\"colorbar\": {\"outlinewidth\": 0, \"ticks\": \"\"}, \"type\": \"mesh3d\"}], \"parcoords\": [{\"line\": {\"colorbar\": {\"outlinewidth\": 0, \"ticks\": \"\"}}, \"type\": \"parcoords\"}], \"pie\": [{\"automargin\": true, \"type\": \"pie\"}], \"scatter\": [{\"marker\": {\"colorbar\": {\"outlinewidth\": 0, \"ticks\": \"\"}}, \"type\": \"scatter\"}], \"scatter3d\": [{\"line\": {\"colorbar\": {\"outlinewidth\": 0, \"ticks\": \"\"}}, \"marker\": {\"colorbar\": {\"outlinewidth\": 0, \"ticks\": \"\"}}, \"type\": \"scatter3d\"}], \"scattercarpet\": [{\"marker\": {\"colorbar\": {\"outlinewidth\": 0, \"ticks\": \"\"}}, \"type\": \"scattercarpet\"}], \"scattergeo\": [{\"marker\": {\"colorbar\": {\"outlinewidth\": 0, \"ticks\": \"\"}}, \"type\": \"scattergeo\"}], \"scattergl\": [{\"marker\": {\"colorbar\": {\"outlinewidth\": 0, \"ticks\": \"\"}}, \"type\": \"scattergl\"}], \"scattermapbox\": [{\"marker\": {\"colorbar\": {\"outlinewidth\": 0, \"ticks\": \"\"}}, \"type\": \"scattermapbox\"}], \"scatterpolar\": [{\"marker\": {\"colorbar\": {\"outlinewidth\": 0, \"ticks\": \"\"}}, \"type\": \"scatterpolar\"}], \"scatterpolargl\": [{\"marker\": {\"colorbar\": {\"outlinewidth\": 0, \"ticks\": \"\"}}, \"type\": \"scatterpolargl\"}], \"scatterternary\": [{\"marker\": {\"colorbar\": {\"outlinewidth\": 0, \"ticks\": \"\"}}, \"type\": \"scatterternary\"}], \"surface\": [{\"colorbar\": {\"outlinewidth\": 0, \"ticks\": \"\"}, \"colorscale\": [[0.0, \"#0d0887\"], [0.1111111111111111, \"#46039f\"], [0.2222222222222222, \"#7201a8\"], [0.3333333333333333, \"#9c179e\"], [0.4444444444444444, \"#bd3786\"], [0.5555555555555556, \"#d8576b\"], [0.6666666666666666, \"#ed7953\"], [0.7777777777777778, \"#fb9f3a\"], [0.8888888888888888, \"#fdca26\"], [1.0, \"#f0f921\"]], \"type\": \"surface\"}], \"table\": [{\"cells\": {\"fill\": {\"color\": \"#EBF0F8\"}, \"line\": {\"color\": \"white\"}}, \"header\": {\"fill\": {\"color\": \"#C8D4E3\"}, \"line\": {\"color\": \"white\"}}, \"type\": \"table\"}]}, \"layout\": {\"annotationdefaults\": {\"arrowcolor\": \"#2a3f5f\", \"arrowhead\": 0, \"arrowwidth\": 1}, \"autotypenumbers\": \"strict\", \"coloraxis\": {\"colorbar\": {\"outlinewidth\": 0, \"ticks\": \"\"}}, \"colorscale\": {\"diverging\": [[0, \"#8e0152\"], [0.1, \"#c51b7d\"], [0.2, \"#de77ae\"], [0.3, \"#f1b6da\"], [0.4, \"#fde0ef\"], [0.5, \"#f7f7f7\"], [0.6, \"#e6f5d0\"], [0.7, \"#b8e186\"], [0.8, \"#7fbc41\"], [0.9, \"#4d9221\"], [1, \"#276419\"]], \"sequential\": [[0.0, \"#0d0887\"], [0.1111111111111111, \"#46039f\"], [0.2222222222222222, \"#7201a8\"], [0.3333333333333333, \"#9c179e\"], [0.4444444444444444, \"#bd3786\"], [0.5555555555555556, \"#d8576b\"], [0.6666666666666666, \"#ed7953\"], [0.7777777777777778, \"#fb9f3a\"], [0.8888888888888888, \"#fdca26\"], [1.0, \"#f0f921\"]], \"sequentialminus\": [[0.0, \"#0d0887\"], [0.1111111111111111, \"#46039f\"], [0.2222222222222222, \"#7201a8\"], [0.3333333333333333, \"#9c179e\"], [0.4444444444444444, \"#bd3786\"], [0.5555555555555556, \"#d8576b\"], [0.6666666666666666, \"#ed7953\"], [0.7777777777777778, \"#fb9f3a\"], [0.8888888888888888, \"#fdca26\"], [1.0, \"#f0f921\"]]}, \"colorway\": [\"#636efa\", \"#EF553B\", \"#00cc96\", \"#ab63fa\", \"#FFA15A\", \"#19d3f3\", \"#FF6692\", \"#B6E880\", \"#FF97FF\", \"#FECB52\"], \"font\": {\"color\": \"#2a3f5f\"}, \"geo\": {\"bgcolor\": \"white\", \"lakecolor\": \"white\", \"landcolor\": \"#E5ECF6\", \"showlakes\": true, \"showland\": true, \"subunitcolor\": \"white\"}, \"hoverlabel\": {\"align\": \"left\"}, \"hovermode\": \"closest\", \"mapbox\": {\"style\": \"light\"}, \"paper_bgcolor\": \"white\", \"plot_bgcolor\": \"#E5ECF6\", \"polar\": {\"angularaxis\": {\"gridcolor\": \"white\", \"linecolor\": \"white\", \"ticks\": \"\"}, \"bgcolor\": \"#E5ECF6\", \"radialaxis\": {\"gridcolor\": \"white\", \"linecolor\": \"white\", \"ticks\": \"\"}}, \"scene\": {\"xaxis\": {\"backgroundcolor\": \"#E5ECF6\", \"gridcolor\": \"white\", \"gridwidth\": 2, \"linecolor\": \"white\", \"showbackground\": true, \"ticks\": \"\", \"zerolinecolor\": \"white\"}, \"yaxis\": {\"backgroundcolor\": \"#E5ECF6\", \"gridcolor\": \"white\", \"gridwidth\": 2, \"linecolor\": \"white\", \"showbackground\": true, \"ticks\": \"\", \"zerolinecolor\": \"white\"}, \"zaxis\": {\"backgroundcolor\": \"#E5ECF6\", \"gridcolor\": \"white\", \"gridwidth\": 2, \"linecolor\": \"white\", \"showbackground\": true, \"ticks\": \"\", \"zerolinecolor\": \"white\"}}, \"shapedefaults\": {\"line\": {\"color\": \"#2a3f5f\"}}, \"ternary\": {\"aaxis\": {\"gridcolor\": \"white\", \"linecolor\": \"white\", \"ticks\": \"\"}, \"baxis\": {\"gridcolor\": \"white\", \"linecolor\": \"white\", \"ticks\": \"\"}, \"bgcolor\": \"#E5ECF6\", \"caxis\": {\"gridcolor\": \"white\", \"linecolor\": \"white\", \"ticks\": \"\"}}, \"title\": {\"x\": 0.05}, \"xaxis\": {\"automargin\": true, \"gridcolor\": \"white\", \"linecolor\": \"white\", \"ticks\": \"\", \"title\": {\"standoff\": 15}, \"zerolinecolor\": \"white\", \"zerolinewidth\": 2}, \"yaxis\": {\"automargin\": true, \"gridcolor\": \"white\", \"linecolor\": \"white\", \"ticks\": \"\", \"title\": {\"standoff\": 15}, \"zerolinecolor\": \"white\", \"zerolinewidth\": 2}}}, \"width\": 950, \"xaxis\": {\"title\": {\"text\": \"Price\"}}, \"yaxis\": {\"title\": {\"text\": \"Size\"}}},                        {\"responsive\": true}                    ).then(function(){\n",
       "                            \n",
       "var gd = document.getElementById('f57332bd-a177-4715-b14c-03b6d577e62c');\n",
       "var x = new MutationObserver(function (mutations, observer) {{\n",
       "        var display = window.getComputedStyle(gd).display;\n",
       "        if (!display || display === 'none') {{\n",
       "            console.log([gd, 'removed!']);\n",
       "            Plotly.purge(gd);\n",
       "            observer.disconnect();\n",
       "        }}\n",
       "}});\n",
       "\n",
       "// Listen for the removal of the full notebook cells\n",
       "var notebookContainer = gd.closest('#notebook-container');\n",
       "if (notebookContainer) {{\n",
       "    x.observe(notebookContainer, {childList: true});\n",
       "}}\n",
       "\n",
       "// Listen for the clearing of the current output cell\n",
       "var outputEl = gd.closest('.output');\n",
       "if (outputEl) {{\n",
       "    x.observe(outputEl, {childList: true});\n",
       "}}\n",
       "\n",
       "                        })                };                });            </script>        </div>"
      ]
     },
     "metadata": {},
     "output_type": "display_data"
    },
    {
     "name": "stdout",
     "output_type": "stream",
     "text": [
      "Al momento\n",
      "2021-11-24T15:15:55.277Z kraken\n",
      "2021-11-24T15:15:55.279Z bitfinex\n",
      "   ask_size      ask      bid  bid_size\n",
      "0     0.309  56308.5  56308.4     0.050\n",
      "1     0.177  56309.0  56304.9     0.081 KRAKEN\n",
      "   ask_size      ask      bid  bid_size\n",
      "0  0.183176  56290.0  56285.0  0.000219\n",
      "1  0.081652  56293.0  56284.0  0.171491 BITFINEX\n"
     ]
    },
    {
     "data": {
      "application/vnd.plotly.v1+json": {
       "config": {
        "plotlyServerURL": "https://plotly.com"
       },
       "data": [
        {
         "marker": {
          "line": {
           "color": "rgb(8,48,107)",
           "width": 0.6
          }
         },
         "name": "Bid-Origin",
         "opacity": 0.5,
         "type": "bar",
         "width": 0.7,
         "x": [
          56095.4,
          56097.9,
          56100,
          56102.7,
          56102.8,
          56109.7,
          56117.8,
          56120.6,
          56125.5,
          56126.9,
          56135.9,
          56139.2,
          56142.1,
          56143.1,
          56150.6,
          56154.7,
          56158.7,
          56159.7,
          56162.7,
          56169.8,
          56171,
          56173.2,
          56174.7,
          56178.3,
          56178.4,
          56178.5,
          56179.5,
          56180.5,
          56180.6,
          56186,
          56189.5,
          56190.3,
          56195.4,
          56195.7,
          56199.6,
          56204.4,
          56207.3,
          56210.1,
          56211.3,
          56212.6,
          56213.1,
          56213.2,
          56213.5,
          56219.2,
          56221.1,
          56222.1,
          56223.3,
          56225.9,
          56226.8,
          56227.1,
          56227.6,
          56227.9,
          56231.9,
          56232.2,
          56232.5,
          56233.7,
          56235.6,
          56238.2,
          56239,
          56241.6,
          56243.1,
          56243.3,
          56243.9,
          56244.3,
          56245.7,
          56248.2,
          56250.8,
          56254,
          56257,
          56257.8,
          56260.6,
          56264.1,
          56264.5,
          56264.6,
          56267.3,
          56267.4,
          56268.3,
          56269.6,
          56274.9,
          56282.2,
          56284.2,
          56284.5,
          56285.6,
          56285.7,
          56289.9,
          56290,
          56296.2,
          56298.8,
          56299.9,
          56300.1,
          56300.3,
          56300.5,
          56302.3,
          56302.4,
          56302.5,
          56303.8,
          56304.7,
          56304.8,
          56304.9,
          56308.4
         ],
         "y": [
          1.796,
          0.32,
          0.037,
          0.01,
          0.333,
          1.454,
          1.12,
          4.442,
          0.25,
          0.222,
          0.001,
          0.084,
          0.32,
          1.453,
          4.44,
          0.069,
          0.332,
          0.052,
          0.019,
          0.2,
          1.04,
          0.1,
          0.723,
          2.519,
          0.459,
          0.162,
          0.038,
          0.882,
          0.124,
          0.003,
          4.445,
          3.555,
          2.545,
          1.284,
          0.001,
          0.064,
          0.722,
          0.064,
          1.224,
          0.173,
          0.347,
          0.041,
          1.855,
          4.443,
          0.064,
          0.052,
          0.98,
          3.554,
          0.064,
          0.14,
          0.027,
          0.37,
          0.051,
          0.001,
          0.064,
          0.012,
          0.3,
          0.064,
          3.554,
          0.27,
          0.08,
          0.027,
          0.001,
          0.064,
          0.179,
          0.091,
          0.129,
          0.064,
          3.554,
          0.094,
          0.064,
          0.028,
          0.714,
          0.105,
          0.711,
          0.064,
          4.443,
          0.081,
          0.064,
          0.742,
          0.064,
          0.763,
          0.563,
          0.1,
          0.064,
          0.1,
          0.064,
          0.041,
          0.085,
          0.076,
          0.06,
          0.082,
          0.09,
          0.4,
          0.073,
          0.064,
          0.099,
          0.02,
          0.081,
          0.05
         ]
        },
        {
         "marker": {
          "line": {
           "color": "rgb(8,48,107)",
           "width": 0.6
          }
         },
         "name": "Ask-Origin",
         "opacity": 0.5,
         "type": "bar",
         "width": 0.7,
         "x": [
          56308.5,
          56309,
          56312.5,
          56317.3,
          56318.2,
          56318.3,
          56318.4,
          56318.5,
          56318.6,
          56318.7,
          56319.1,
          56320.7,
          56324.1,
          56324.2,
          56328.2,
          56330,
          56333.8,
          56334.3,
          56335.3,
          56335.4,
          56336.5,
          56336.6,
          56336.7,
          56339,
          56339.6,
          56341.5,
          56342.5,
          56347.6,
          56349.8,
          56350.3,
          56350.6,
          56354.2,
          56356.2,
          56356.4,
          56358.7,
          56359.8,
          56362,
          56362.2,
          56363.3,
          56365.1,
          56365.2,
          56367.8,
          56368.7,
          56376.6,
          56376.8,
          56378.9,
          56379.9,
          56380.2,
          56382,
          56384.5,
          56385.3,
          56387.5,
          56392.3,
          56394.8,
          56396.3,
          56398.8,
          56400,
          56402.4,
          56403.8,
          56406.6,
          56408.1,
          56409.9,
          56413.6,
          56413.7,
          56413.8,
          56414.3,
          56414.4,
          56420.5,
          56420.7,
          56423.8,
          56424,
          56429.1,
          56429.2,
          56433.1,
          56436.1,
          56436.5,
          56443.7,
          56444,
          56445,
          56447.5,
          56448.8,
          56455.8,
          56456.1,
          56458.4,
          56459.9,
          56461.8,
          56464.5,
          56465.4,
          56468.9,
          56469,
          56470.8,
          56471,
          56471.9,
          56473.8,
          56480.6,
          56481.3,
          56481.8,
          56484.5,
          56487.4,
          56489.5
         ],
         "y": [
          0.309,
          0.177,
          4.442,
          0.5,
          0.2,
          0.711,
          0.064,
          0.27,
          0.444,
          3.554,
          2.785,
          0.027,
          0.598,
          0.064,
          0.081,
          0.028,
          0.064,
          0.14,
          0.586,
          0.027,
          1.14,
          0.103,
          0.5,
          4.443,
          0.064,
          3.553,
          0.019,
          0.091,
          0.08,
          0.25,
          0.064,
          1.811,
          0.051,
          0.019,
          0.038,
          1.686,
          0.036,
          0.064,
          0.084,
          0.03,
          3.552,
          4.443,
          0.064,
          3.554,
          0.771,
          0.064,
          0.017,
          10,
          0.001,
          0.002,
          0.002,
          0.064,
          0.987,
          0.064,
          0.001,
          0.001,
          0.025,
          0.064,
          0.001,
          0.002,
          0.064,
          0.503,
          1.422,
          1.239,
          0.064,
          4.437,
          2.53,
          0.064,
          2.614,
          0.001,
          0.2,
          0.133,
          0.064,
          0.77,
          0.001,
          0.064,
          4.444,
          0.5,
          0.11,
          0.064,
          0.002,
          0.27,
          0.064,
          1,
          0.179,
          0.064,
          4.442,
          0.002,
          0.001,
          0.064,
          0.003,
          0.01,
          0.007,
          0.003,
          0.001,
          1.443,
          0.219,
          0.22,
          0.566,
          0.069
         ]
        },
        {
         "marker": {
          "line": {
           "color": "rgb(8,48,107)",
           "width": 0.6
          }
         },
         "name": "Bid-Destination",
         "opacity": 0.5,
         "type": "bar",
         "width": 0.7,
         "x": [
          56244,
          56245,
          56247,
          56250,
          56251,
          56253,
          56255,
          56257,
          56258,
          56260,
          56261,
          56262,
          56264,
          56267,
          56269,
          56270,
          56273,
          56277,
          56278,
          56279,
          56281,
          56282,
          56283,
          56284,
          56285
         ],
         "y": [
          0.82383243,
          0.04603487,
          0.2004,
          0.9224,
          0.7611,
          0.07243099,
          0.00032956,
          0.09398456,
          0.0096,
          0.0356,
          0.5457,
          1.9064,
          0.21298192,
          0.56857795,
          0.5142,
          0.54130801,
          0.09909838,
          0.15238133,
          0.04953075,
          0.0096,
          0.00252471,
          0.00990984,
          0.00198123,
          0.17149114,
          0.0002191
         ]
        },
        {
         "marker": {
          "line": {
           "color": "rgb(8,48,107)",
           "width": 0.6
          }
         },
         "name": "Ask-Destination",
         "opacity": 0.5,
         "type": "bar",
         "width": 0.7,
         "x": [
          56290,
          56293,
          56295,
          56298,
          56301,
          56302,
          56306,
          56307,
          56308,
          56309,
          56310,
          56311,
          56316,
          56317,
          56318,
          56319,
          56320,
          56321,
          56322,
          56323,
          56324,
          56325,
          56326,
          56327,
          56328
         ],
         "y": [
          0.18317578,
          0.08165195,
          6.001e-05,
          0.0356,
          0.18703874,
          1.0888009,
          0.07218722,
          0.00247628,
          0.02401773,
          0.5566,
          0.02481214,
          0.94483626,
          0.4451,
          0.27598607,
          1.05076,
          0.02,
          0.92006,
          1.06393795,
          6e-05,
          0.15867283,
          1.36652,
          0.38778006,
          1.82920764,
          0.02722786,
          6e-05
         ]
        }
       ],
       "layout": {
        "height": 650,
        "template": {
         "data": {
          "bar": [
           {
            "error_x": {
             "color": "#2a3f5f"
            },
            "error_y": {
             "color": "#2a3f5f"
            },
            "marker": {
             "line": {
              "color": "#E5ECF6",
              "width": 0.5
             }
            },
            "type": "bar"
           }
          ],
          "barpolar": [
           {
            "marker": {
             "line": {
              "color": "#E5ECF6",
              "width": 0.5
             }
            },
            "type": "barpolar"
           }
          ],
          "carpet": [
           {
            "aaxis": {
             "endlinecolor": "#2a3f5f",
             "gridcolor": "white",
             "linecolor": "white",
             "minorgridcolor": "white",
             "startlinecolor": "#2a3f5f"
            },
            "baxis": {
             "endlinecolor": "#2a3f5f",
             "gridcolor": "white",
             "linecolor": "white",
             "minorgridcolor": "white",
             "startlinecolor": "#2a3f5f"
            },
            "type": "carpet"
           }
          ],
          "choropleth": [
           {
            "colorbar": {
             "outlinewidth": 0,
             "ticks": ""
            },
            "type": "choropleth"
           }
          ],
          "contour": [
           {
            "colorbar": {
             "outlinewidth": 0,
             "ticks": ""
            },
            "colorscale": [
             [
              0,
              "#0d0887"
             ],
             [
              0.1111111111111111,
              "#46039f"
             ],
             [
              0.2222222222222222,
              "#7201a8"
             ],
             [
              0.3333333333333333,
              "#9c179e"
             ],
             [
              0.4444444444444444,
              "#bd3786"
             ],
             [
              0.5555555555555556,
              "#d8576b"
             ],
             [
              0.6666666666666666,
              "#ed7953"
             ],
             [
              0.7777777777777778,
              "#fb9f3a"
             ],
             [
              0.8888888888888888,
              "#fdca26"
             ],
             [
              1,
              "#f0f921"
             ]
            ],
            "type": "contour"
           }
          ],
          "contourcarpet": [
           {
            "colorbar": {
             "outlinewidth": 0,
             "ticks": ""
            },
            "type": "contourcarpet"
           }
          ],
          "heatmap": [
           {
            "colorbar": {
             "outlinewidth": 0,
             "ticks": ""
            },
            "colorscale": [
             [
              0,
              "#0d0887"
             ],
             [
              0.1111111111111111,
              "#46039f"
             ],
             [
              0.2222222222222222,
              "#7201a8"
             ],
             [
              0.3333333333333333,
              "#9c179e"
             ],
             [
              0.4444444444444444,
              "#bd3786"
             ],
             [
              0.5555555555555556,
              "#d8576b"
             ],
             [
              0.6666666666666666,
              "#ed7953"
             ],
             [
              0.7777777777777778,
              "#fb9f3a"
             ],
             [
              0.8888888888888888,
              "#fdca26"
             ],
             [
              1,
              "#f0f921"
             ]
            ],
            "type": "heatmap"
           }
          ],
          "heatmapgl": [
           {
            "colorbar": {
             "outlinewidth": 0,
             "ticks": ""
            },
            "colorscale": [
             [
              0,
              "#0d0887"
             ],
             [
              0.1111111111111111,
              "#46039f"
             ],
             [
              0.2222222222222222,
              "#7201a8"
             ],
             [
              0.3333333333333333,
              "#9c179e"
             ],
             [
              0.4444444444444444,
              "#bd3786"
             ],
             [
              0.5555555555555556,
              "#d8576b"
             ],
             [
              0.6666666666666666,
              "#ed7953"
             ],
             [
              0.7777777777777778,
              "#fb9f3a"
             ],
             [
              0.8888888888888888,
              "#fdca26"
             ],
             [
              1,
              "#f0f921"
             ]
            ],
            "type": "heatmapgl"
           }
          ],
          "histogram": [
           {
            "marker": {
             "colorbar": {
              "outlinewidth": 0,
              "ticks": ""
             }
            },
            "type": "histogram"
           }
          ],
          "histogram2d": [
           {
            "colorbar": {
             "outlinewidth": 0,
             "ticks": ""
            },
            "colorscale": [
             [
              0,
              "#0d0887"
             ],
             [
              0.1111111111111111,
              "#46039f"
             ],
             [
              0.2222222222222222,
              "#7201a8"
             ],
             [
              0.3333333333333333,
              "#9c179e"
             ],
             [
              0.4444444444444444,
              "#bd3786"
             ],
             [
              0.5555555555555556,
              "#d8576b"
             ],
             [
              0.6666666666666666,
              "#ed7953"
             ],
             [
              0.7777777777777778,
              "#fb9f3a"
             ],
             [
              0.8888888888888888,
              "#fdca26"
             ],
             [
              1,
              "#f0f921"
             ]
            ],
            "type": "histogram2d"
           }
          ],
          "histogram2dcontour": [
           {
            "colorbar": {
             "outlinewidth": 0,
             "ticks": ""
            },
            "colorscale": [
             [
              0,
              "#0d0887"
             ],
             [
              0.1111111111111111,
              "#46039f"
             ],
             [
              0.2222222222222222,
              "#7201a8"
             ],
             [
              0.3333333333333333,
              "#9c179e"
             ],
             [
              0.4444444444444444,
              "#bd3786"
             ],
             [
              0.5555555555555556,
              "#d8576b"
             ],
             [
              0.6666666666666666,
              "#ed7953"
             ],
             [
              0.7777777777777778,
              "#fb9f3a"
             ],
             [
              0.8888888888888888,
              "#fdca26"
             ],
             [
              1,
              "#f0f921"
             ]
            ],
            "type": "histogram2dcontour"
           }
          ],
          "mesh3d": [
           {
            "colorbar": {
             "outlinewidth": 0,
             "ticks": ""
            },
            "type": "mesh3d"
           }
          ],
          "parcoords": [
           {
            "line": {
             "colorbar": {
              "outlinewidth": 0,
              "ticks": ""
             }
            },
            "type": "parcoords"
           }
          ],
          "pie": [
           {
            "automargin": true,
            "type": "pie"
           }
          ],
          "scatter": [
           {
            "marker": {
             "colorbar": {
              "outlinewidth": 0,
              "ticks": ""
             }
            },
            "type": "scatter"
           }
          ],
          "scatter3d": [
           {
            "line": {
             "colorbar": {
              "outlinewidth": 0,
              "ticks": ""
             }
            },
            "marker": {
             "colorbar": {
              "outlinewidth": 0,
              "ticks": ""
             }
            },
            "type": "scatter3d"
           }
          ],
          "scattercarpet": [
           {
            "marker": {
             "colorbar": {
              "outlinewidth": 0,
              "ticks": ""
             }
            },
            "type": "scattercarpet"
           }
          ],
          "scattergeo": [
           {
            "marker": {
             "colorbar": {
              "outlinewidth": 0,
              "ticks": ""
             }
            },
            "type": "scattergeo"
           }
          ],
          "scattergl": [
           {
            "marker": {
             "colorbar": {
              "outlinewidth": 0,
              "ticks": ""
             }
            },
            "type": "scattergl"
           }
          ],
          "scattermapbox": [
           {
            "marker": {
             "colorbar": {
              "outlinewidth": 0,
              "ticks": ""
             }
            },
            "type": "scattermapbox"
           }
          ],
          "scatterpolar": [
           {
            "marker": {
             "colorbar": {
              "outlinewidth": 0,
              "ticks": ""
             }
            },
            "type": "scatterpolar"
           }
          ],
          "scatterpolargl": [
           {
            "marker": {
             "colorbar": {
              "outlinewidth": 0,
              "ticks": ""
             }
            },
            "type": "scatterpolargl"
           }
          ],
          "scatterternary": [
           {
            "marker": {
             "colorbar": {
              "outlinewidth": 0,
              "ticks": ""
             }
            },
            "type": "scatterternary"
           }
          ],
          "surface": [
           {
            "colorbar": {
             "outlinewidth": 0,
             "ticks": ""
            },
            "colorscale": [
             [
              0,
              "#0d0887"
             ],
             [
              0.1111111111111111,
              "#46039f"
             ],
             [
              0.2222222222222222,
              "#7201a8"
             ],
             [
              0.3333333333333333,
              "#9c179e"
             ],
             [
              0.4444444444444444,
              "#bd3786"
             ],
             [
              0.5555555555555556,
              "#d8576b"
             ],
             [
              0.6666666666666666,
              "#ed7953"
             ],
             [
              0.7777777777777778,
              "#fb9f3a"
             ],
             [
              0.8888888888888888,
              "#fdca26"
             ],
             [
              1,
              "#f0f921"
             ]
            ],
            "type": "surface"
           }
          ],
          "table": [
           {
            "cells": {
             "fill": {
              "color": "#EBF0F8"
             },
             "line": {
              "color": "white"
             }
            },
            "header": {
             "fill": {
              "color": "#C8D4E3"
             },
             "line": {
              "color": "white"
             }
            },
            "type": "table"
           }
          ]
         },
         "layout": {
          "annotationdefaults": {
           "arrowcolor": "#2a3f5f",
           "arrowhead": 0,
           "arrowwidth": 1
          },
          "autotypenumbers": "strict",
          "coloraxis": {
           "colorbar": {
            "outlinewidth": 0,
            "ticks": ""
           }
          },
          "colorscale": {
           "diverging": [
            [
             0,
             "#8e0152"
            ],
            [
             0.1,
             "#c51b7d"
            ],
            [
             0.2,
             "#de77ae"
            ],
            [
             0.3,
             "#f1b6da"
            ],
            [
             0.4,
             "#fde0ef"
            ],
            [
             0.5,
             "#f7f7f7"
            ],
            [
             0.6,
             "#e6f5d0"
            ],
            [
             0.7,
             "#b8e186"
            ],
            [
             0.8,
             "#7fbc41"
            ],
            [
             0.9,
             "#4d9221"
            ],
            [
             1,
             "#276419"
            ]
           ],
           "sequential": [
            [
             0,
             "#0d0887"
            ],
            [
             0.1111111111111111,
             "#46039f"
            ],
            [
             0.2222222222222222,
             "#7201a8"
            ],
            [
             0.3333333333333333,
             "#9c179e"
            ],
            [
             0.4444444444444444,
             "#bd3786"
            ],
            [
             0.5555555555555556,
             "#d8576b"
            ],
            [
             0.6666666666666666,
             "#ed7953"
            ],
            [
             0.7777777777777778,
             "#fb9f3a"
            ],
            [
             0.8888888888888888,
             "#fdca26"
            ],
            [
             1,
             "#f0f921"
            ]
           ],
           "sequentialminus": [
            [
             0,
             "#0d0887"
            ],
            [
             0.1111111111111111,
             "#46039f"
            ],
            [
             0.2222222222222222,
             "#7201a8"
            ],
            [
             0.3333333333333333,
             "#9c179e"
            ],
            [
             0.4444444444444444,
             "#bd3786"
            ],
            [
             0.5555555555555556,
             "#d8576b"
            ],
            [
             0.6666666666666666,
             "#ed7953"
            ],
            [
             0.7777777777777778,
             "#fb9f3a"
            ],
            [
             0.8888888888888888,
             "#fdca26"
            ],
            [
             1,
             "#f0f921"
            ]
           ]
          },
          "colorway": [
           "#636efa",
           "#EF553B",
           "#00cc96",
           "#ab63fa",
           "#FFA15A",
           "#19d3f3",
           "#FF6692",
           "#B6E880",
           "#FF97FF",
           "#FECB52"
          ],
          "font": {
           "color": "#2a3f5f"
          },
          "geo": {
           "bgcolor": "white",
           "lakecolor": "white",
           "landcolor": "#E5ECF6",
           "showlakes": true,
           "showland": true,
           "subunitcolor": "white"
          },
          "hoverlabel": {
           "align": "left"
          },
          "hovermode": "closest",
          "mapbox": {
           "style": "light"
          },
          "paper_bgcolor": "white",
          "plot_bgcolor": "#E5ECF6",
          "polar": {
           "angularaxis": {
            "gridcolor": "white",
            "linecolor": "white",
            "ticks": ""
           },
           "bgcolor": "#E5ECF6",
           "radialaxis": {
            "gridcolor": "white",
            "linecolor": "white",
            "ticks": ""
           }
          },
          "scene": {
           "xaxis": {
            "backgroundcolor": "#E5ECF6",
            "gridcolor": "white",
            "gridwidth": 2,
            "linecolor": "white",
            "showbackground": true,
            "ticks": "",
            "zerolinecolor": "white"
           },
           "yaxis": {
            "backgroundcolor": "#E5ECF6",
            "gridcolor": "white",
            "gridwidth": 2,
            "linecolor": "white",
            "showbackground": true,
            "ticks": "",
            "zerolinecolor": "white"
           },
           "zaxis": {
            "backgroundcolor": "#E5ECF6",
            "gridcolor": "white",
            "gridwidth": 2,
            "linecolor": "white",
            "showbackground": true,
            "ticks": "",
            "zerolinecolor": "white"
           }
          },
          "shapedefaults": {
           "line": {
            "color": "#2a3f5f"
           }
          },
          "ternary": {
           "aaxis": {
            "gridcolor": "white",
            "linecolor": "white",
            "ticks": ""
           },
           "baxis": {
            "gridcolor": "white",
            "linecolor": "white",
            "ticks": ""
           },
           "bgcolor": "#E5ECF6",
           "caxis": {
            "gridcolor": "white",
            "linecolor": "white",
            "ticks": ""
           }
          },
          "title": {
           "x": 0.05
          },
          "xaxis": {
           "automargin": true,
           "gridcolor": "white",
           "linecolor": "white",
           "ticks": "",
           "title": {
            "standoff": 15
           },
           "zerolinecolor": "white",
           "zerolinewidth": 2
          },
          "yaxis": {
           "automargin": true,
           "gridcolor": "white",
           "linecolor": "white",
           "ticks": "",
           "title": {
            "standoff": 15
           },
           "zerolinecolor": "white",
           "zerolinewidth": 2
          }
         }
        },
        "width": 950,
        "xaxis": {
         "title": {
          "text": "Price"
         }
        },
        "yaxis": {
         "title": {
          "text": "Size"
         }
        }
       }
      },
      "text/html": [
       "<div>                            <div id=\"0b0d092e-84fc-4b23-a542-451fe06178ce\" class=\"plotly-graph-div\" style=\"height:650px; width:950px;\"></div>            <script type=\"text/javascript\">                require([\"plotly\"], function(Plotly) {                    window.PLOTLYENV=window.PLOTLYENV || {};                                    if (document.getElementById(\"0b0d092e-84fc-4b23-a542-451fe06178ce\")) {                    Plotly.newPlot(                        \"0b0d092e-84fc-4b23-a542-451fe06178ce\",                        [{\"marker\": {\"line\": {\"color\": \"rgb(8,48,107)\", \"width\": 0.6}}, \"name\": \"Bid-Origin\", \"opacity\": 0.5, \"type\": \"bar\", \"width\": 0.7, \"x\": [56095.4, 56097.9, 56100.0, 56102.7, 56102.8, 56109.7, 56117.8, 56120.6, 56125.5, 56126.9, 56135.9, 56139.2, 56142.1, 56143.1, 56150.6, 56154.7, 56158.7, 56159.7, 56162.7, 56169.8, 56171.0, 56173.2, 56174.7, 56178.3, 56178.4, 56178.5, 56179.5, 56180.5, 56180.6, 56186.0, 56189.5, 56190.3, 56195.4, 56195.7, 56199.6, 56204.4, 56207.3, 56210.1, 56211.3, 56212.6, 56213.1, 56213.2, 56213.5, 56219.2, 56221.1, 56222.1, 56223.3, 56225.9, 56226.8, 56227.1, 56227.6, 56227.9, 56231.9, 56232.2, 56232.5, 56233.7, 56235.6, 56238.2, 56239.0, 56241.6, 56243.1, 56243.3, 56243.9, 56244.3, 56245.7, 56248.2, 56250.8, 56254.0, 56257.0, 56257.8, 56260.6, 56264.1, 56264.5, 56264.6, 56267.3, 56267.4, 56268.3, 56269.6, 56274.9, 56282.2, 56284.2, 56284.5, 56285.6, 56285.7, 56289.9, 56290.0, 56296.2, 56298.8, 56299.9, 56300.1, 56300.3, 56300.5, 56302.3, 56302.4, 56302.5, 56303.8, 56304.7, 56304.8, 56304.9, 56308.4], \"y\": [1.796, 0.32, 0.037, 0.01, 0.333, 1.454, 1.12, 4.442, 0.25, 0.222, 0.001, 0.084, 0.32, 1.453, 4.44, 0.069, 0.332, 0.052, 0.019, 0.2, 1.04, 0.1, 0.723, 2.519, 0.459, 0.162, 0.038, 0.882, 0.124, 0.003, 4.445, 3.555, 2.545, 1.284, 0.001, 0.064, 0.722, 0.064, 1.224, 0.173, 0.347, 0.041, 1.855, 4.443, 0.064, 0.052, 0.98, 3.554, 0.064, 0.14, 0.027, 0.37, 0.051, 0.001, 0.064, 0.012, 0.3, 0.064, 3.554, 0.27, 0.08, 0.027, 0.001, 0.064, 0.179, 0.091, 0.129, 0.064, 3.554, 0.094, 0.064, 0.028, 0.714, 0.105, 0.711, 0.064, 4.443, 0.081, 0.064, 0.742, 0.064, 0.763, 0.563, 0.1, 0.064, 0.1, 0.064, 0.041, 0.085, 0.076, 0.06, 0.082, 0.09, 0.4, 0.073, 0.064, 0.099, 0.02, 0.081, 0.05]}, {\"marker\": {\"line\": {\"color\": \"rgb(8,48,107)\", \"width\": 0.6}}, \"name\": \"Ask-Origin\", \"opacity\": 0.5, \"type\": \"bar\", \"width\": 0.7, \"x\": [56308.5, 56309.0, 56312.5, 56317.3, 56318.2, 56318.3, 56318.4, 56318.5, 56318.6, 56318.7, 56319.1, 56320.7, 56324.1, 56324.2, 56328.2, 56330.0, 56333.8, 56334.3, 56335.3, 56335.4, 56336.5, 56336.6, 56336.7, 56339.0, 56339.6, 56341.5, 56342.5, 56347.6, 56349.8, 56350.3, 56350.6, 56354.2, 56356.2, 56356.4, 56358.7, 56359.8, 56362.0, 56362.2, 56363.3, 56365.1, 56365.2, 56367.8, 56368.7, 56376.6, 56376.8, 56378.9, 56379.9, 56380.2, 56382.0, 56384.5, 56385.3, 56387.5, 56392.3, 56394.8, 56396.3, 56398.8, 56400.0, 56402.4, 56403.8, 56406.6, 56408.1, 56409.9, 56413.6, 56413.7, 56413.8, 56414.3, 56414.4, 56420.5, 56420.7, 56423.8, 56424.0, 56429.1, 56429.2, 56433.1, 56436.1, 56436.5, 56443.7, 56444.0, 56445.0, 56447.5, 56448.8, 56455.8, 56456.1, 56458.4, 56459.9, 56461.8, 56464.5, 56465.4, 56468.9, 56469.0, 56470.8, 56471.0, 56471.9, 56473.8, 56480.6, 56481.3, 56481.8, 56484.5, 56487.4, 56489.5], \"y\": [0.309, 0.177, 4.442, 0.5, 0.2, 0.711, 0.064, 0.27, 0.444, 3.554, 2.785, 0.027, 0.598, 0.064, 0.081, 0.028, 0.064, 0.14, 0.586, 0.027, 1.14, 0.103, 0.5, 4.443, 0.064, 3.553, 0.019, 0.091, 0.08, 0.25, 0.064, 1.811, 0.051, 0.019, 0.038, 1.686, 0.036, 0.064, 0.084, 0.03, 3.552, 4.443, 0.064, 3.554, 0.771, 0.064, 0.017, 10.0, 0.001, 0.002, 0.002, 0.064, 0.987, 0.064, 0.001, 0.001, 0.025, 0.064, 0.001, 0.002, 0.064, 0.503, 1.422, 1.239, 0.064, 4.437, 2.53, 0.064, 2.614, 0.001, 0.2, 0.133, 0.064, 0.77, 0.001, 0.064, 4.444, 0.5, 0.11, 0.064, 0.002, 0.27, 0.064, 1.0, 0.179, 0.064, 4.442, 0.002, 0.001, 0.064, 0.003, 0.01, 0.007, 0.003, 0.001, 1.443, 0.219, 0.22, 0.566, 0.069]}, {\"marker\": {\"line\": {\"color\": \"rgb(8,48,107)\", \"width\": 0.6}}, \"name\": \"Bid-Destination\", \"opacity\": 0.5, \"type\": \"bar\", \"width\": 0.7, \"x\": [56244.0, 56245.0, 56247.0, 56250.0, 56251.0, 56253.0, 56255.0, 56257.0, 56258.0, 56260.0, 56261.0, 56262.0, 56264.0, 56267.0, 56269.0, 56270.0, 56273.0, 56277.0, 56278.0, 56279.0, 56281.0, 56282.0, 56283.0, 56284.0, 56285.0], \"y\": [0.82383243, 0.04603487, 0.2004, 0.9224, 0.7611, 0.07243099, 0.00032956, 0.09398456, 0.0096, 0.0356, 0.5457, 1.9064, 0.21298192, 0.56857795, 0.5142, 0.54130801, 0.09909838, 0.15238133, 0.04953075, 0.0096, 0.00252471, 0.00990984, 0.00198123, 0.17149114, 0.0002191]}, {\"marker\": {\"line\": {\"color\": \"rgb(8,48,107)\", \"width\": 0.6}}, \"name\": \"Ask-Destination\", \"opacity\": 0.5, \"type\": \"bar\", \"width\": 0.7, \"x\": [56290.0, 56293.0, 56295.0, 56298.0, 56301.0, 56302.0, 56306.0, 56307.0, 56308.0, 56309.0, 56310.0, 56311.0, 56316.0, 56317.0, 56318.0, 56319.0, 56320.0, 56321.0, 56322.0, 56323.0, 56324.0, 56325.0, 56326.0, 56327.0, 56328.0], \"y\": [0.18317578, 0.08165195, 6.001e-05, 0.0356, 0.18703874, 1.0888009, 0.07218722, 0.00247628, 0.02401773, 0.5566, 0.02481214, 0.94483626, 0.4451, 0.27598607, 1.05076, 0.02, 0.92006, 1.06393795, 6e-05, 0.15867283, 1.36652, 0.38778006, 1.82920764, 0.02722786, 6e-05]}],                        {\"height\": 650, \"template\": {\"data\": {\"bar\": [{\"error_x\": {\"color\": \"#2a3f5f\"}, \"error_y\": {\"color\": \"#2a3f5f\"}, \"marker\": {\"line\": {\"color\": \"#E5ECF6\", \"width\": 0.5}}, \"type\": \"bar\"}], \"barpolar\": [{\"marker\": {\"line\": {\"color\": \"#E5ECF6\", \"width\": 0.5}}, \"type\": \"barpolar\"}], \"carpet\": [{\"aaxis\": {\"endlinecolor\": \"#2a3f5f\", \"gridcolor\": \"white\", \"linecolor\": \"white\", \"minorgridcolor\": \"white\", \"startlinecolor\": \"#2a3f5f\"}, \"baxis\": {\"endlinecolor\": \"#2a3f5f\", \"gridcolor\": \"white\", \"linecolor\": \"white\", \"minorgridcolor\": \"white\", \"startlinecolor\": \"#2a3f5f\"}, \"type\": \"carpet\"}], \"choropleth\": [{\"colorbar\": {\"outlinewidth\": 0, \"ticks\": \"\"}, \"type\": \"choropleth\"}], \"contour\": [{\"colorbar\": {\"outlinewidth\": 0, \"ticks\": \"\"}, \"colorscale\": [[0.0, \"#0d0887\"], [0.1111111111111111, \"#46039f\"], [0.2222222222222222, \"#7201a8\"], [0.3333333333333333, \"#9c179e\"], [0.4444444444444444, \"#bd3786\"], [0.5555555555555556, \"#d8576b\"], [0.6666666666666666, \"#ed7953\"], [0.7777777777777778, \"#fb9f3a\"], [0.8888888888888888, \"#fdca26\"], [1.0, \"#f0f921\"]], \"type\": \"contour\"}], \"contourcarpet\": [{\"colorbar\": {\"outlinewidth\": 0, \"ticks\": \"\"}, \"type\": \"contourcarpet\"}], \"heatmap\": [{\"colorbar\": {\"outlinewidth\": 0, \"ticks\": \"\"}, \"colorscale\": [[0.0, \"#0d0887\"], [0.1111111111111111, \"#46039f\"], [0.2222222222222222, \"#7201a8\"], [0.3333333333333333, \"#9c179e\"], [0.4444444444444444, \"#bd3786\"], [0.5555555555555556, \"#d8576b\"], [0.6666666666666666, \"#ed7953\"], [0.7777777777777778, \"#fb9f3a\"], [0.8888888888888888, \"#fdca26\"], [1.0, \"#f0f921\"]], \"type\": \"heatmap\"}], \"heatmapgl\": [{\"colorbar\": {\"outlinewidth\": 0, \"ticks\": \"\"}, \"colorscale\": [[0.0, \"#0d0887\"], [0.1111111111111111, \"#46039f\"], [0.2222222222222222, \"#7201a8\"], [0.3333333333333333, \"#9c179e\"], [0.4444444444444444, \"#bd3786\"], [0.5555555555555556, \"#d8576b\"], [0.6666666666666666, \"#ed7953\"], [0.7777777777777778, \"#fb9f3a\"], [0.8888888888888888, \"#fdca26\"], [1.0, \"#f0f921\"]], \"type\": \"heatmapgl\"}], \"histogram\": [{\"marker\": {\"colorbar\": {\"outlinewidth\": 0, \"ticks\": \"\"}}, \"type\": \"histogram\"}], \"histogram2d\": [{\"colorbar\": {\"outlinewidth\": 0, \"ticks\": \"\"}, \"colorscale\": [[0.0, \"#0d0887\"], [0.1111111111111111, \"#46039f\"], [0.2222222222222222, \"#7201a8\"], [0.3333333333333333, \"#9c179e\"], [0.4444444444444444, \"#bd3786\"], [0.5555555555555556, \"#d8576b\"], [0.6666666666666666, \"#ed7953\"], [0.7777777777777778, \"#fb9f3a\"], [0.8888888888888888, \"#fdca26\"], [1.0, \"#f0f921\"]], \"type\": \"histogram2d\"}], \"histogram2dcontour\": [{\"colorbar\": {\"outlinewidth\": 0, \"ticks\": \"\"}, \"colorscale\": [[0.0, \"#0d0887\"], [0.1111111111111111, \"#46039f\"], [0.2222222222222222, \"#7201a8\"], [0.3333333333333333, \"#9c179e\"], [0.4444444444444444, \"#bd3786\"], [0.5555555555555556, \"#d8576b\"], [0.6666666666666666, \"#ed7953\"], [0.7777777777777778, \"#fb9f3a\"], [0.8888888888888888, \"#fdca26\"], [1.0, \"#f0f921\"]], \"type\": \"histogram2dcontour\"}], \"mesh3d\": [{\"colorbar\": {\"outlinewidth\": 0, \"ticks\": \"\"}, \"type\": \"mesh3d\"}], \"parcoords\": [{\"line\": {\"colorbar\": {\"outlinewidth\": 0, \"ticks\": \"\"}}, \"type\": \"parcoords\"}], \"pie\": [{\"automargin\": true, \"type\": \"pie\"}], \"scatter\": [{\"marker\": {\"colorbar\": {\"outlinewidth\": 0, \"ticks\": \"\"}}, \"type\": \"scatter\"}], \"scatter3d\": [{\"line\": {\"colorbar\": {\"outlinewidth\": 0, \"ticks\": \"\"}}, \"marker\": {\"colorbar\": {\"outlinewidth\": 0, \"ticks\": \"\"}}, \"type\": \"scatter3d\"}], \"scattercarpet\": [{\"marker\": {\"colorbar\": {\"outlinewidth\": 0, \"ticks\": \"\"}}, \"type\": \"scattercarpet\"}], \"scattergeo\": [{\"marker\": {\"colorbar\": {\"outlinewidth\": 0, \"ticks\": \"\"}}, \"type\": \"scattergeo\"}], \"scattergl\": [{\"marker\": {\"colorbar\": {\"outlinewidth\": 0, \"ticks\": \"\"}}, \"type\": \"scattergl\"}], \"scattermapbox\": [{\"marker\": {\"colorbar\": {\"outlinewidth\": 0, \"ticks\": \"\"}}, \"type\": \"scattermapbox\"}], \"scatterpolar\": [{\"marker\": {\"colorbar\": {\"outlinewidth\": 0, \"ticks\": \"\"}}, \"type\": \"scatterpolar\"}], \"scatterpolargl\": [{\"marker\": {\"colorbar\": {\"outlinewidth\": 0, \"ticks\": \"\"}}, \"type\": \"scatterpolargl\"}], \"scatterternary\": [{\"marker\": {\"colorbar\": {\"outlinewidth\": 0, \"ticks\": \"\"}}, \"type\": \"scatterternary\"}], \"surface\": [{\"colorbar\": {\"outlinewidth\": 0, \"ticks\": \"\"}, \"colorscale\": [[0.0, \"#0d0887\"], [0.1111111111111111, \"#46039f\"], [0.2222222222222222, \"#7201a8\"], [0.3333333333333333, \"#9c179e\"], [0.4444444444444444, \"#bd3786\"], [0.5555555555555556, \"#d8576b\"], [0.6666666666666666, \"#ed7953\"], [0.7777777777777778, \"#fb9f3a\"], [0.8888888888888888, \"#fdca26\"], [1.0, \"#f0f921\"]], \"type\": \"surface\"}], \"table\": [{\"cells\": {\"fill\": {\"color\": \"#EBF0F8\"}, \"line\": {\"color\": \"white\"}}, \"header\": {\"fill\": {\"color\": \"#C8D4E3\"}, \"line\": {\"color\": \"white\"}}, \"type\": \"table\"}]}, \"layout\": {\"annotationdefaults\": {\"arrowcolor\": \"#2a3f5f\", \"arrowhead\": 0, \"arrowwidth\": 1}, \"autotypenumbers\": \"strict\", \"coloraxis\": {\"colorbar\": {\"outlinewidth\": 0, \"ticks\": \"\"}}, \"colorscale\": {\"diverging\": [[0, \"#8e0152\"], [0.1, \"#c51b7d\"], [0.2, \"#de77ae\"], [0.3, \"#f1b6da\"], [0.4, \"#fde0ef\"], [0.5, \"#f7f7f7\"], [0.6, \"#e6f5d0\"], [0.7, \"#b8e186\"], [0.8, \"#7fbc41\"], [0.9, \"#4d9221\"], [1, \"#276419\"]], \"sequential\": [[0.0, \"#0d0887\"], [0.1111111111111111, \"#46039f\"], [0.2222222222222222, \"#7201a8\"], [0.3333333333333333, \"#9c179e\"], [0.4444444444444444, \"#bd3786\"], [0.5555555555555556, \"#d8576b\"], [0.6666666666666666, \"#ed7953\"], [0.7777777777777778, \"#fb9f3a\"], [0.8888888888888888, \"#fdca26\"], [1.0, \"#f0f921\"]], \"sequentialminus\": [[0.0, \"#0d0887\"], [0.1111111111111111, \"#46039f\"], [0.2222222222222222, \"#7201a8\"], [0.3333333333333333, \"#9c179e\"], [0.4444444444444444, \"#bd3786\"], [0.5555555555555556, \"#d8576b\"], [0.6666666666666666, \"#ed7953\"], [0.7777777777777778, \"#fb9f3a\"], [0.8888888888888888, \"#fdca26\"], [1.0, \"#f0f921\"]]}, \"colorway\": [\"#636efa\", \"#EF553B\", \"#00cc96\", \"#ab63fa\", \"#FFA15A\", \"#19d3f3\", \"#FF6692\", \"#B6E880\", \"#FF97FF\", \"#FECB52\"], \"font\": {\"color\": \"#2a3f5f\"}, \"geo\": {\"bgcolor\": \"white\", \"lakecolor\": \"white\", \"landcolor\": \"#E5ECF6\", \"showlakes\": true, \"showland\": true, \"subunitcolor\": \"white\"}, \"hoverlabel\": {\"align\": \"left\"}, \"hovermode\": \"closest\", \"mapbox\": {\"style\": \"light\"}, \"paper_bgcolor\": \"white\", \"plot_bgcolor\": \"#E5ECF6\", \"polar\": {\"angularaxis\": {\"gridcolor\": \"white\", \"linecolor\": \"white\", \"ticks\": \"\"}, \"bgcolor\": \"#E5ECF6\", \"radialaxis\": {\"gridcolor\": \"white\", \"linecolor\": \"white\", \"ticks\": \"\"}}, \"scene\": {\"xaxis\": {\"backgroundcolor\": \"#E5ECF6\", \"gridcolor\": \"white\", \"gridwidth\": 2, \"linecolor\": \"white\", \"showbackground\": true, \"ticks\": \"\", \"zerolinecolor\": \"white\"}, \"yaxis\": {\"backgroundcolor\": \"#E5ECF6\", \"gridcolor\": \"white\", \"gridwidth\": 2, \"linecolor\": \"white\", \"showbackground\": true, \"ticks\": \"\", \"zerolinecolor\": \"white\"}, \"zaxis\": {\"backgroundcolor\": \"#E5ECF6\", \"gridcolor\": \"white\", \"gridwidth\": 2, \"linecolor\": \"white\", \"showbackground\": true, \"ticks\": \"\", \"zerolinecolor\": \"white\"}}, \"shapedefaults\": {\"line\": {\"color\": \"#2a3f5f\"}}, \"ternary\": {\"aaxis\": {\"gridcolor\": \"white\", \"linecolor\": \"white\", \"ticks\": \"\"}, \"baxis\": {\"gridcolor\": \"white\", \"linecolor\": \"white\", \"ticks\": \"\"}, \"bgcolor\": \"#E5ECF6\", \"caxis\": {\"gridcolor\": \"white\", \"linecolor\": \"white\", \"ticks\": \"\"}}, \"title\": {\"x\": 0.05}, \"xaxis\": {\"automargin\": true, \"gridcolor\": \"white\", \"linecolor\": \"white\", \"ticks\": \"\", \"title\": {\"standoff\": 15}, \"zerolinecolor\": \"white\", \"zerolinewidth\": 2}, \"yaxis\": {\"automargin\": true, \"gridcolor\": \"white\", \"linecolor\": \"white\", \"ticks\": \"\", \"title\": {\"standoff\": 15}, \"zerolinecolor\": \"white\", \"zerolinewidth\": 2}}}, \"width\": 950, \"xaxis\": {\"title\": {\"text\": \"Price\"}}, \"yaxis\": {\"title\": {\"text\": \"Size\"}}},                        {\"responsive\": true}                    ).then(function(){\n",
       "                            \n",
       "var gd = document.getElementById('0b0d092e-84fc-4b23-a542-451fe06178ce');\n",
       "var x = new MutationObserver(function (mutations, observer) {{\n",
       "        var display = window.getComputedStyle(gd).display;\n",
       "        if (!display || display === 'none') {{\n",
       "            console.log([gd, 'removed!']);\n",
       "            Plotly.purge(gd);\n",
       "            observer.disconnect();\n",
       "        }}\n",
       "}});\n",
       "\n",
       "// Listen for the removal of the full notebook cells\n",
       "var notebookContainer = gd.closest('#notebook-container');\n",
       "if (notebookContainer) {{\n",
       "    x.observe(notebookContainer, {childList: true});\n",
       "}}\n",
       "\n",
       "// Listen for the clearing of the current output cell\n",
       "var outputEl = gd.closest('.output');\n",
       "if (outputEl) {{\n",
       "    x.observe(outputEl, {childList: true});\n",
       "}}\n",
       "\n",
       "                        })                };                });            </script>        </div>"
      ]
     },
     "metadata": {},
     "output_type": "display_data"
    }
   ],
   "source": [
    "current_kraken = ''\n",
    "current_bitfinex = ''\n",
    "test = [1,2,3,5,6,4,5]\n",
    "k = 0\n",
    "b = 0\n",
    "for i in range(len(test)):\n",
    "    if df_datetime['exchange'][i] == 'kraken' and k==0:\n",
    "        k=1\n",
    "        current_kraken = df_datetime['dict_key'][i]\n",
    "\n",
    "    if df_datetime['exchange'][i] == 'bitfinex' and b==0 and k==1:\n",
    "        b=1\n",
    "        current_bitfinex = df_datetime['dict_key'][i]\n",
    "\n",
    "\n",
    "    if k==1 and b==1:\n",
    "        print('Al momento')\n",
    "        print(current_kraken, 'kraken')\n",
    "        print(current_bitfinex, 'bitfinex')\n",
    "        k=0\n",
    "        b=0\n",
    "        kraken = dict_to_df('kraken',current_kraken , orderbooks_data)\n",
    "        bitfinex = dict_to_df('bitfinex',current_bitfinex , orderbooks_data)\n",
    "        print(kraken.head(2), 'KRAKEN')\n",
    "        print(bitfinex.head(2),'BITFINEX')\n",
    "        plot_orderbook_2excahnges(kraken, bitfinex)\n",
    "\n",
    "    else:\n",
    "        pass"
   ]
  },
  {
   "cell_type": "code",
   "execution_count": 58,
   "id": "32205002",
   "metadata": {},
   "outputs": [
    {
     "data": {
      "text/html": [
       "<div>\n",
       "<style scoped>\n",
       "    .dataframe tbody tr th:only-of-type {\n",
       "        vertical-align: middle;\n",
       "    }\n",
       "\n",
       "    .dataframe tbody tr th {\n",
       "        vertical-align: top;\n",
       "    }\n",
       "\n",
       "    .dataframe thead th {\n",
       "        text-align: right;\n",
       "    }\n",
       "</style>\n",
       "<table border=\"1\" class=\"dataframe\">\n",
       "  <thead>\n",
       "    <tr style=\"text-align: right;\">\n",
       "      <th></th>\n",
       "      <th>ask_size</th>\n",
       "      <th>ask</th>\n",
       "      <th>bid</th>\n",
       "      <th>bid_size</th>\n",
       "    </tr>\n",
       "  </thead>\n",
       "  <tbody>\n",
       "    <tr>\n",
       "      <th>0</th>\n",
       "      <td>3.279</td>\n",
       "      <td>56276.1</td>\n",
       "      <td>56276.0</td>\n",
       "      <td>5.420</td>\n",
       "    </tr>\n",
       "    <tr>\n",
       "      <th>1</th>\n",
       "      <td>4.444</td>\n",
       "      <td>56277.2</td>\n",
       "      <td>56271.9</td>\n",
       "      <td>0.052</td>\n",
       "    </tr>\n",
       "    <tr>\n",
       "      <th>2</th>\n",
       "      <td>0.004</td>\n",
       "      <td>56283.6</td>\n",
       "      <td>56271.7</td>\n",
       "      <td>0.041</td>\n",
       "    </tr>\n",
       "    <tr>\n",
       "      <th>3</th>\n",
       "      <td>0.443</td>\n",
       "      <td>56283.7</td>\n",
       "      <td>56271.5</td>\n",
       "      <td>0.086</td>\n",
       "    </tr>\n",
       "    <tr>\n",
       "      <th>4</th>\n",
       "      <td>0.311</td>\n",
       "      <td>56285.6</td>\n",
       "      <td>56270.3</td>\n",
       "      <td>0.064</td>\n",
       "    </tr>\n",
       "    <tr>\n",
       "      <th>5</th>\n",
       "      <td>0.064</td>\n",
       "      <td>56289.4</td>\n",
       "      <td>56270.1</td>\n",
       "      <td>0.148</td>\n",
       "    </tr>\n",
       "    <tr>\n",
       "      <th>6</th>\n",
       "      <td>4.444</td>\n",
       "      <td>56290.0</td>\n",
       "      <td>56269.7</td>\n",
       "      <td>0.003</td>\n",
       "    </tr>\n",
       "    <tr>\n",
       "      <th>7</th>\n",
       "      <td>0.445</td>\n",
       "      <td>56297.2</td>\n",
       "      <td>56267.6</td>\n",
       "      <td>1.265</td>\n",
       "    </tr>\n",
       "    <tr>\n",
       "      <th>8</th>\n",
       "      <td>1.247</td>\n",
       "      <td>56298.2</td>\n",
       "      <td>56266.0</td>\n",
       "      <td>2.667</td>\n",
       "    </tr>\n",
       "    <tr>\n",
       "      <th>9</th>\n",
       "      <td>3.555</td>\n",
       "      <td>56298.6</td>\n",
       "      <td>56265.1</td>\n",
       "      <td>0.756</td>\n",
       "    </tr>\n",
       "    <tr>\n",
       "      <th>10</th>\n",
       "      <td>0.085</td>\n",
       "      <td>56299.0</td>\n",
       "      <td>56261.4</td>\n",
       "      <td>0.152</td>\n",
       "    </tr>\n",
       "    <tr>\n",
       "      <th>11</th>\n",
       "      <td>0.064</td>\n",
       "      <td>56300.1</td>\n",
       "      <td>56260.6</td>\n",
       "      <td>0.064</td>\n",
       "    </tr>\n",
       "    <tr>\n",
       "      <th>12</th>\n",
       "      <td>0.711</td>\n",
       "      <td>56303.1</td>\n",
       "      <td>56260.3</td>\n",
       "      <td>0.250</td>\n",
       "    </tr>\n",
       "    <tr>\n",
       "      <th>13</th>\n",
       "      <td>0.064</td>\n",
       "      <td>56305.8</td>\n",
       "      <td>56257.1</td>\n",
       "      <td>4.444</td>\n",
       "    </tr>\n",
       "    <tr>\n",
       "      <th>14</th>\n",
       "      <td>0.027</td>\n",
       "      <td>56307.1</td>\n",
       "      <td>56256.7</td>\n",
       "      <td>0.711</td>\n",
       "    </tr>\n",
       "    <tr>\n",
       "      <th>15</th>\n",
       "      <td>0.128</td>\n",
       "      <td>56310.8</td>\n",
       "      <td>56254.5</td>\n",
       "      <td>0.525</td>\n",
       "    </tr>\n",
       "    <tr>\n",
       "      <th>16</th>\n",
       "      <td>0.561</td>\n",
       "      <td>56310.9</td>\n",
       "      <td>56254.0</td>\n",
       "      <td>0.064</td>\n",
       "    </tr>\n",
       "    <tr>\n",
       "      <th>17</th>\n",
       "      <td>0.714</td>\n",
       "      <td>56311.0</td>\n",
       "      <td>56248.1</td>\n",
       "      <td>0.400</td>\n",
       "    </tr>\n",
       "    <tr>\n",
       "      <th>18</th>\n",
       "      <td>0.064</td>\n",
       "      <td>56311.5</td>\n",
       "      <td>56248.0</td>\n",
       "      <td>0.714</td>\n",
       "    </tr>\n",
       "    <tr>\n",
       "      <th>19</th>\n",
       "      <td>2.570</td>\n",
       "      <td>56311.6</td>\n",
       "      <td>56247.6</td>\n",
       "      <td>4.444</td>\n",
       "    </tr>\n",
       "  </tbody>\n",
       "</table>\n",
       "</div>"
      ],
      "text/plain": [
       "    ask_size      ask      bid  bid_size\n",
       "0      3.279  56276.1  56276.0     5.420\n",
       "1      4.444  56277.2  56271.9     0.052\n",
       "2      0.004  56283.6  56271.7     0.041\n",
       "3      0.443  56283.7  56271.5     0.086\n",
       "4      0.311  56285.6  56270.3     0.064\n",
       "5      0.064  56289.4  56270.1     0.148\n",
       "6      4.444  56290.0  56269.7     0.003\n",
       "7      0.445  56297.2  56267.6     1.265\n",
       "8      1.247  56298.2  56266.0     2.667\n",
       "9      3.555  56298.6  56265.1     0.756\n",
       "10     0.085  56299.0  56261.4     0.152\n",
       "11     0.064  56300.1  56260.6     0.064\n",
       "12     0.711  56303.1  56260.3     0.250\n",
       "13     0.064  56305.8  56257.1     4.444\n",
       "14     0.027  56307.1  56256.7     0.711\n",
       "15     0.128  56310.8  56254.5     0.525\n",
       "16     0.561  56310.9  56254.0     0.064\n",
       "17     0.714  56311.0  56248.1     0.400\n",
       "18     0.064  56311.5  56248.0     0.714\n",
       "19     2.570  56311.6  56247.6     4.444"
      ]
     },
     "execution_count": 58,
     "metadata": {},
     "output_type": "execute_result"
    }
   ],
   "source": [
    "kraken = dict_to_df('kraken','2021-11-24T15:16:31.432Z' , orderbooks_data)\n",
    "kraken.head(20)"
   ]
  },
  {
   "cell_type": "code",
   "execution_count": 57,
   "id": "4aa97261",
   "metadata": {},
   "outputs": [
    {
     "data": {
      "text/html": [
       "<div>\n",
       "<style scoped>\n",
       "    .dataframe tbody tr th:only-of-type {\n",
       "        vertical-align: middle;\n",
       "    }\n",
       "\n",
       "    .dataframe tbody tr th {\n",
       "        vertical-align: top;\n",
       "    }\n",
       "\n",
       "    .dataframe thead th {\n",
       "        text-align: right;\n",
       "    }\n",
       "</style>\n",
       "<table border=\"1\" class=\"dataframe\">\n",
       "  <thead>\n",
       "    <tr style=\"text-align: right;\">\n",
       "      <th></th>\n",
       "      <th>ask_size</th>\n",
       "      <th>ask</th>\n",
       "      <th>bid</th>\n",
       "      <th>bid_size</th>\n",
       "    </tr>\n",
       "  </thead>\n",
       "  <tbody>\n",
       "    <tr>\n",
       "      <th>0</th>\n",
       "      <td>0.035600</td>\n",
       "      <td>56273.0</td>\n",
       "      <td>56268.0</td>\n",
       "      <td>0.000070</td>\n",
       "    </tr>\n",
       "    <tr>\n",
       "      <th>1</th>\n",
       "      <td>0.187329</td>\n",
       "      <td>56275.0</td>\n",
       "      <td>56267.0</td>\n",
       "      <td>0.420000</td>\n",
       "    </tr>\n",
       "    <tr>\n",
       "      <th>2</th>\n",
       "      <td>0.182073</td>\n",
       "      <td>56281.0</td>\n",
       "      <td>56264.0</td>\n",
       "      <td>0.001985</td>\n",
       "    </tr>\n",
       "    <tr>\n",
       "      <th>3</th>\n",
       "      <td>0.074227</td>\n",
       "      <td>56282.0</td>\n",
       "      <td>56263.0</td>\n",
       "      <td>0.002481</td>\n",
       "    </tr>\n",
       "    <tr>\n",
       "      <th>4</th>\n",
       "      <td>0.059343</td>\n",
       "      <td>56286.0</td>\n",
       "      <td>56262.0</td>\n",
       "      <td>0.009923</td>\n",
       "    </tr>\n",
       "    <tr>\n",
       "      <th>5</th>\n",
       "      <td>0.190300</td>\n",
       "      <td>56287.0</td>\n",
       "      <td>56261.0</td>\n",
       "      <td>0.168181</td>\n",
       "    </tr>\n",
       "    <tr>\n",
       "      <th>6</th>\n",
       "      <td>0.010000</td>\n",
       "      <td>56289.0</td>\n",
       "      <td>56259.0</td>\n",
       "      <td>0.049619</td>\n",
       "    </tr>\n",
       "    <tr>\n",
       "      <th>7</th>\n",
       "      <td>0.948159</td>\n",
       "      <td>56290.0</td>\n",
       "      <td>56257.0</td>\n",
       "      <td>0.595527</td>\n",
       "    </tr>\n",
       "    <tr>\n",
       "      <th>8</th>\n",
       "      <td>0.100000</td>\n",
       "      <td>56291.0</td>\n",
       "      <td>56256.0</td>\n",
       "      <td>0.009100</td>\n",
       "    </tr>\n",
       "    <tr>\n",
       "      <th>9</th>\n",
       "      <td>0.009792</td>\n",
       "      <td>56292.0</td>\n",
       "      <td>56255.0</td>\n",
       "      <td>0.000330</td>\n",
       "    </tr>\n",
       "    <tr>\n",
       "      <th>10</th>\n",
       "      <td>0.024483</td>\n",
       "      <td>56293.0</td>\n",
       "      <td>56253.0</td>\n",
       "      <td>0.099227</td>\n",
       "    </tr>\n",
       "    <tr>\n",
       "      <th>11</th>\n",
       "      <td>0.048966</td>\n",
       "      <td>56295.0</td>\n",
       "      <td>56251.0</td>\n",
       "      <td>2.450927</td>\n",
       "    </tr>\n",
       "    <tr>\n",
       "      <th>12</th>\n",
       "      <td>0.100000</td>\n",
       "      <td>56297.0</td>\n",
       "      <td>56250.0</td>\n",
       "      <td>0.414200</td>\n",
       "    </tr>\n",
       "    <tr>\n",
       "      <th>13</th>\n",
       "      <td>0.996000</td>\n",
       "      <td>56298.0</td>\n",
       "      <td>56248.0</td>\n",
       "      <td>1.131158</td>\n",
       "    </tr>\n",
       "    <tr>\n",
       "      <th>14</th>\n",
       "      <td>1.194300</td>\n",
       "      <td>56300.0</td>\n",
       "      <td>56244.0</td>\n",
       "      <td>0.592336</td>\n",
       "    </tr>\n",
       "    <tr>\n",
       "      <th>15</th>\n",
       "      <td>0.297822</td>\n",
       "      <td>56301.0</td>\n",
       "      <td>56243.0</td>\n",
       "      <td>0.365400</td>\n",
       "    </tr>\n",
       "    <tr>\n",
       "      <th>16</th>\n",
       "      <td>0.379479</td>\n",
       "      <td>56302.0</td>\n",
       "      <td>56241.0</td>\n",
       "      <td>0.035600</td>\n",
       "    </tr>\n",
       "    <tr>\n",
       "      <th>17</th>\n",
       "      <td>0.552000</td>\n",
       "      <td>56304.0</td>\n",
       "      <td>56239.0</td>\n",
       "      <td>0.964500</td>\n",
       "    </tr>\n",
       "    <tr>\n",
       "      <th>18</th>\n",
       "      <td>1.408300</td>\n",
       "      <td>56305.0</td>\n",
       "      <td>56238.0</td>\n",
       "      <td>1.158200</td>\n",
       "    </tr>\n",
       "    <tr>\n",
       "      <th>19</th>\n",
       "      <td>0.146897</td>\n",
       "      <td>56306.0</td>\n",
       "      <td>56236.0</td>\n",
       "      <td>0.069273</td>\n",
       "    </tr>\n",
       "    <tr>\n",
       "      <th>20</th>\n",
       "      <td>0.009300</td>\n",
       "      <td>56307.0</td>\n",
       "      <td>56235.0</td>\n",
       "      <td>0.221700</td>\n",
       "    </tr>\n",
       "    <tr>\n",
       "      <th>21</th>\n",
       "      <td>0.014093</td>\n",
       "      <td>56308.0</td>\n",
       "      <td>56234.0</td>\n",
       "      <td>0.200220</td>\n",
       "    </tr>\n",
       "    <tr>\n",
       "      <th>22</th>\n",
       "      <td>0.028000</td>\n",
       "      <td>56309.0</td>\n",
       "      <td>56233.0</td>\n",
       "      <td>0.072867</td>\n",
       "    </tr>\n",
       "    <tr>\n",
       "      <th>23</th>\n",
       "      <td>0.973900</td>\n",
       "      <td>56310.0</td>\n",
       "      <td>56231.0</td>\n",
       "      <td>0.020000</td>\n",
       "    </tr>\n",
       "    <tr>\n",
       "      <th>24</th>\n",
       "      <td>0.754300</td>\n",
       "      <td>56311.0</td>\n",
       "      <td>56229.0</td>\n",
       "      <td>0.666600</td>\n",
       "    </tr>\n",
       "  </tbody>\n",
       "</table>\n",
       "</div>"
      ],
      "text/plain": [
       "    ask_size      ask      bid  bid_size\n",
       "0   0.035600  56273.0  56268.0  0.000070\n",
       "1   0.187329  56275.0  56267.0  0.420000\n",
       "2   0.182073  56281.0  56264.0  0.001985\n",
       "3   0.074227  56282.0  56263.0  0.002481\n",
       "4   0.059343  56286.0  56262.0  0.009923\n",
       "5   0.190300  56287.0  56261.0  0.168181\n",
       "6   0.010000  56289.0  56259.0  0.049619\n",
       "7   0.948159  56290.0  56257.0  0.595527\n",
       "8   0.100000  56291.0  56256.0  0.009100\n",
       "9   0.009792  56292.0  56255.0  0.000330\n",
       "10  0.024483  56293.0  56253.0  0.099227\n",
       "11  0.048966  56295.0  56251.0  2.450927\n",
       "12  0.100000  56297.0  56250.0  0.414200\n",
       "13  0.996000  56298.0  56248.0  1.131158\n",
       "14  1.194300  56300.0  56244.0  0.592336\n",
       "15  0.297822  56301.0  56243.0  0.365400\n",
       "16  0.379479  56302.0  56241.0  0.035600\n",
       "17  0.552000  56304.0  56239.0  0.964500\n",
       "18  1.408300  56305.0  56238.0  1.158200\n",
       "19  0.146897  56306.0  56236.0  0.069273\n",
       "20  0.009300  56307.0  56235.0  0.221700\n",
       "21  0.014093  56308.0  56234.0  0.200220\n",
       "22  0.028000  56309.0  56233.0  0.072867\n",
       "23  0.973900  56310.0  56231.0  0.020000\n",
       "24  0.754300  56311.0  56229.0  0.666600"
      ]
     },
     "execution_count": 57,
     "metadata": {},
     "output_type": "execute_result"
    }
   ],
   "source": [
    "bitfinex = dict_to_df('bitfinex','2021-11-24T15:16:31.432Z' , orderbooks_data)\n",
    "bitfinex"
   ]
  },
  {
   "cell_type": "code",
   "execution_count": 59,
   "id": "184f1fab",
   "metadata": {},
   "outputs": [
    {
     "name": "stdout",
     "output_type": "stream",
     "text": [
      "   ask_size      ask      bid  bid_size\n",
      "0     3.279  56276.1  56276.0     5.420\n",
      "1     4.444  56277.2  56271.9     0.052 KRAKEN\n",
      "   ask_size      ask      bid  bid_size\n",
      "0  0.035600  56273.0  56268.0   0.00007\n",
      "1  0.187329  56275.0  56267.0   0.42000 BITFINEX\n"
     ]
    },
    {
     "data": {
      "application/vnd.plotly.v1+json": {
       "config": {
        "plotlyServerURL": "https://plotly.com"
       },
       "data": [
        {
         "marker": {
          "line": {
           "color": "rgb(8,48,107)",
           "width": 0.6
          }
         },
         "name": "Bid-Origin",
         "opacity": 0.5,
         "type": "bar",
         "width": 0.7,
         "x": [
          56091.6,
          56095.4,
          56097.9,
          56100,
          56102.8,
          56109.7,
          56117.8,
          56120.6,
          56125.5,
          56126.9,
          56129.4,
          56135.9,
          56139.2,
          56142.1,
          56143.1,
          56150.6,
          56150.7,
          56153,
          56154.7,
          56156.3,
          56157.2,
          56157.9,
          56159.7,
          56165.2,
          56167.1,
          56171,
          56171.1,
          56174,
          56174.7,
          56178.3,
          56178.4,
          56178.6,
          56179.5,
          56179.9,
          56180.5,
          56180.6,
          56182.8,
          56185.3,
          56186,
          56186.7,
          56189.4,
          56189.5,
          56190.5,
          56191.3,
          56195.4,
          56195.5,
          56195.8,
          56198.1,
          56199.6,
          56200,
          56204.4,
          56207.3,
          56210.1,
          56211.4,
          56212.6,
          56213.1,
          56214.6,
          56214.7,
          56215.4,
          56218.4,
          56219.8,
          56221.1,
          56223.3,
          56224.2,
          56226.8,
          56227.3,
          56227.6,
          56227.9,
          56229.7,
          56232.2,
          56232.5,
          56233.7,
          56235.7,
          56235.8,
          56238.2,
          56241.6,
          56243.9,
          56244.3,
          56245.7,
          56246.3,
          56247.6,
          56248,
          56248.1,
          56254,
          56254.5,
          56256.7,
          56257.1,
          56260.3,
          56260.6,
          56261.4,
          56265.1,
          56266,
          56267.6,
          56269.7,
          56270.1,
          56270.3,
          56271.5,
          56271.7,
          56271.9,
          56276
         ],
         "y": [
          4.444,
          1.796,
          0.32,
          0.037,
          0.333,
          1.454,
          1.12,
          4.442,
          0.25,
          0.222,
          0.048,
          0.001,
          0.084,
          0.32,
          1.453,
          4.44,
          0.004,
          0.2,
          0.069,
          0.1,
          0.3,
          0.001,
          0.052,
          0.01,
          0.164,
          1.04,
          1.284,
          0.047,
          0.723,
          2.519,
          0.459,
          1.473,
          0.038,
          0.019,
          0.882,
          0.124,
          10,
          0.05,
          0.064,
          0.019,
          3.555,
          4.445,
          1.855,
          3.555,
          2.545,
          0.003,
          0.064,
          0.052,
          0.001,
          0.356,
          0.064,
          0.722,
          0.064,
          0.016,
          0.173,
          0.347,
          3.556,
          0.041,
          1.33,
          0.051,
          0.129,
          0.064,
          0.98,
          0.14,
          0.064,
          3.554,
          0.027,
          0.37,
          0.08,
          0.001,
          0.064,
          0.012,
          0.103,
          0.098,
          0.064,
          0.27,
          0.001,
          0.064,
          0.179,
          0.083,
          4.444,
          0.714,
          0.4,
          0.064,
          0.525,
          0.711,
          4.444,
          0.25,
          0.064,
          0.152,
          0.756,
          2.667,
          1.265,
          0.003,
          0.148,
          0.064,
          0.086,
          0.041,
          0.052,
          5.42
         ]
        },
        {
         "marker": {
          "line": {
           "color": "rgb(8,48,107)",
           "width": 0.6
          }
         },
         "name": "Ask-Origin",
         "opacity": 0.5,
         "type": "bar",
         "width": 0.7,
         "x": [
          56276.1,
          56277.2,
          56283.6,
          56283.7,
          56285.6,
          56289.4,
          56290,
          56297.2,
          56298.2,
          56298.6,
          56299,
          56300.1,
          56303.1,
          56305.8,
          56307.1,
          56310.8,
          56310.9,
          56311,
          56311.5,
          56311.6,
          56312.8,
          56314.4,
          56314.5,
          56314.7,
          56315.6,
          56317.6,
          56318.4,
          56318.5,
          56319.4,
          56319.9,
          56321.8,
          56322.2,
          56323,
          56324.2,
          56328.1,
          56328.2,
          56330.9,
          56331.3,
          56333.8,
          56334.2,
          56336.7,
          56339,
          56339.6,
          56342.5,
          56347.1,
          56350.6,
          56354.2,
          56355.1,
          56356.4,
          56358.7,
          56362,
          56362.2,
          56362.4,
          56363.3,
          56367.6,
          56367.8,
          56368.3,
          56368.7,
          56378.9,
          56379.9,
          56384.5,
          56385.3,
          56387.5,
          56391.2,
          56392.2,
          56392.3,
          56393.7,
          56394.2,
          56394.8,
          56396.3,
          56398.8,
          56400,
          56400.1,
          56402.4,
          56403.8,
          56406.6,
          56408.1,
          56413.8,
          56414.2,
          56414.3,
          56414.4,
          56420.5,
          56420.7,
          56421.8,
          56423.8,
          56425.9,
          56429.1,
          56429.2,
          56433.1,
          56436.1,
          56443.7,
          56444,
          56445,
          56448.8,
          56454.7,
          56457.7,
          56464.5,
          56468.9,
          56470.8,
          56471
         ],
         "y": [
          3.279,
          4.444,
          0.004,
          0.443,
          0.311,
          0.064,
          4.444,
          0.445,
          1.247,
          3.555,
          0.085,
          0.064,
          0.711,
          0.064,
          0.027,
          0.128,
          0.561,
          0.714,
          0.064,
          2.57,
          0.017,
          1.135,
          0.15,
          1.637,
          0.089,
          3.555,
          0.064,
          0.003,
          0.25,
          0.019,
          1.811,
          0.028,
          0.08,
          0.064,
          0.03,
          0.081,
          3.555,
          0.14,
          0.064,
          0.051,
          0.5,
          4.443,
          0.064,
          0.055,
          0.034,
          0.064,
          3.555,
          10,
          0.019,
          0.038,
          0.036,
          0.064,
          0.051,
          0.084,
          0.476,
          4.443,
          0.72,
          0.064,
          0.064,
          0.017,
          0.002,
          0.002,
          0.064,
          0.1,
          0.004,
          0.987,
          0.2,
          0.001,
          0.064,
          0.001,
          0.001,
          0.025,
          0.051,
          0.064,
          0.001,
          0.002,
          0.064,
          0.064,
          2.589,
          4.437,
          2.53,
          0.064,
          2.614,
          0.27,
          0.001,
          0.179,
          0.133,
          0.064,
          0.77,
          0.001,
          4.444,
          0.5,
          0.11,
          0.002,
          0.94,
          0.002,
          4.442,
          0.001,
          0.003,
          0.01
         ]
        },
        {
         "marker": {
          "line": {
           "color": "rgb(8,48,107)",
           "width": 0.6
          }
         },
         "name": "Bid-Destination",
         "opacity": 0.5,
         "type": "bar",
         "width": 0.7,
         "x": [
          56229,
          56231,
          56233,
          56234,
          56235,
          56236,
          56238,
          56239,
          56241,
          56243,
          56244,
          56248,
          56250,
          56251,
          56253,
          56255,
          56256,
          56257,
          56259,
          56261,
          56262,
          56263,
          56264,
          56267,
          56268
         ],
         "y": [
          0.6666,
          0.02,
          0.07286652,
          0.20022,
          0.2217,
          0.0692731,
          1.1582,
          0.9645,
          0.0356,
          0.3654,
          0.59233637,
          1.13115789,
          0.4142,
          2.45092657,
          0.09922653,
          0.00032956,
          0.0091,
          0.59552654,
          0.0496193,
          0.16818051,
          0.00992265,
          0.00248123,
          0.00198453,
          0.42,
          7.017e-05
         ]
        },
        {
         "marker": {
          "line": {
           "color": "rgb(8,48,107)",
           "width": 0.6
          }
         },
         "name": "Ask-Destination",
         "opacity": 0.5,
         "type": "bar",
         "width": 0.7,
         "x": [
          56273,
          56275,
          56281,
          56282,
          56286,
          56287,
          56289,
          56290,
          56291,
          56292,
          56293,
          56295,
          56297,
          56298,
          56300,
          56301,
          56302,
          56304,
          56305,
          56306,
          56307,
          56308,
          56309,
          56310,
          56311
         ],
         "y": [
          0.0356,
          0.18732926,
          0.18207302,
          0.07422701,
          0.05934291,
          0.19030025,
          0.01,
          0.94815863,
          0.1,
          0.00979217,
          0.02448291,
          0.04896582,
          0.1,
          0.996,
          1.1943,
          0.29782169,
          0.3794794,
          0.552,
          1.4083,
          0.14689745,
          0.0093,
          0.01409287,
          0.028,
          0.9739,
          0.7543
         ]
        }
       ],
       "layout": {
        "height": 650,
        "template": {
         "data": {
          "bar": [
           {
            "error_x": {
             "color": "#2a3f5f"
            },
            "error_y": {
             "color": "#2a3f5f"
            },
            "marker": {
             "line": {
              "color": "#E5ECF6",
              "width": 0.5
             }
            },
            "type": "bar"
           }
          ],
          "barpolar": [
           {
            "marker": {
             "line": {
              "color": "#E5ECF6",
              "width": 0.5
             }
            },
            "type": "barpolar"
           }
          ],
          "carpet": [
           {
            "aaxis": {
             "endlinecolor": "#2a3f5f",
             "gridcolor": "white",
             "linecolor": "white",
             "minorgridcolor": "white",
             "startlinecolor": "#2a3f5f"
            },
            "baxis": {
             "endlinecolor": "#2a3f5f",
             "gridcolor": "white",
             "linecolor": "white",
             "minorgridcolor": "white",
             "startlinecolor": "#2a3f5f"
            },
            "type": "carpet"
           }
          ],
          "choropleth": [
           {
            "colorbar": {
             "outlinewidth": 0,
             "ticks": ""
            },
            "type": "choropleth"
           }
          ],
          "contour": [
           {
            "colorbar": {
             "outlinewidth": 0,
             "ticks": ""
            },
            "colorscale": [
             [
              0,
              "#0d0887"
             ],
             [
              0.1111111111111111,
              "#46039f"
             ],
             [
              0.2222222222222222,
              "#7201a8"
             ],
             [
              0.3333333333333333,
              "#9c179e"
             ],
             [
              0.4444444444444444,
              "#bd3786"
             ],
             [
              0.5555555555555556,
              "#d8576b"
             ],
             [
              0.6666666666666666,
              "#ed7953"
             ],
             [
              0.7777777777777778,
              "#fb9f3a"
             ],
             [
              0.8888888888888888,
              "#fdca26"
             ],
             [
              1,
              "#f0f921"
             ]
            ],
            "type": "contour"
           }
          ],
          "contourcarpet": [
           {
            "colorbar": {
             "outlinewidth": 0,
             "ticks": ""
            },
            "type": "contourcarpet"
           }
          ],
          "heatmap": [
           {
            "colorbar": {
             "outlinewidth": 0,
             "ticks": ""
            },
            "colorscale": [
             [
              0,
              "#0d0887"
             ],
             [
              0.1111111111111111,
              "#46039f"
             ],
             [
              0.2222222222222222,
              "#7201a8"
             ],
             [
              0.3333333333333333,
              "#9c179e"
             ],
             [
              0.4444444444444444,
              "#bd3786"
             ],
             [
              0.5555555555555556,
              "#d8576b"
             ],
             [
              0.6666666666666666,
              "#ed7953"
             ],
             [
              0.7777777777777778,
              "#fb9f3a"
             ],
             [
              0.8888888888888888,
              "#fdca26"
             ],
             [
              1,
              "#f0f921"
             ]
            ],
            "type": "heatmap"
           }
          ],
          "heatmapgl": [
           {
            "colorbar": {
             "outlinewidth": 0,
             "ticks": ""
            },
            "colorscale": [
             [
              0,
              "#0d0887"
             ],
             [
              0.1111111111111111,
              "#46039f"
             ],
             [
              0.2222222222222222,
              "#7201a8"
             ],
             [
              0.3333333333333333,
              "#9c179e"
             ],
             [
              0.4444444444444444,
              "#bd3786"
             ],
             [
              0.5555555555555556,
              "#d8576b"
             ],
             [
              0.6666666666666666,
              "#ed7953"
             ],
             [
              0.7777777777777778,
              "#fb9f3a"
             ],
             [
              0.8888888888888888,
              "#fdca26"
             ],
             [
              1,
              "#f0f921"
             ]
            ],
            "type": "heatmapgl"
           }
          ],
          "histogram": [
           {
            "marker": {
             "colorbar": {
              "outlinewidth": 0,
              "ticks": ""
             }
            },
            "type": "histogram"
           }
          ],
          "histogram2d": [
           {
            "colorbar": {
             "outlinewidth": 0,
             "ticks": ""
            },
            "colorscale": [
             [
              0,
              "#0d0887"
             ],
             [
              0.1111111111111111,
              "#46039f"
             ],
             [
              0.2222222222222222,
              "#7201a8"
             ],
             [
              0.3333333333333333,
              "#9c179e"
             ],
             [
              0.4444444444444444,
              "#bd3786"
             ],
             [
              0.5555555555555556,
              "#d8576b"
             ],
             [
              0.6666666666666666,
              "#ed7953"
             ],
             [
              0.7777777777777778,
              "#fb9f3a"
             ],
             [
              0.8888888888888888,
              "#fdca26"
             ],
             [
              1,
              "#f0f921"
             ]
            ],
            "type": "histogram2d"
           }
          ],
          "histogram2dcontour": [
           {
            "colorbar": {
             "outlinewidth": 0,
             "ticks": ""
            },
            "colorscale": [
             [
              0,
              "#0d0887"
             ],
             [
              0.1111111111111111,
              "#46039f"
             ],
             [
              0.2222222222222222,
              "#7201a8"
             ],
             [
              0.3333333333333333,
              "#9c179e"
             ],
             [
              0.4444444444444444,
              "#bd3786"
             ],
             [
              0.5555555555555556,
              "#d8576b"
             ],
             [
              0.6666666666666666,
              "#ed7953"
             ],
             [
              0.7777777777777778,
              "#fb9f3a"
             ],
             [
              0.8888888888888888,
              "#fdca26"
             ],
             [
              1,
              "#f0f921"
             ]
            ],
            "type": "histogram2dcontour"
           }
          ],
          "mesh3d": [
           {
            "colorbar": {
             "outlinewidth": 0,
             "ticks": ""
            },
            "type": "mesh3d"
           }
          ],
          "parcoords": [
           {
            "line": {
             "colorbar": {
              "outlinewidth": 0,
              "ticks": ""
             }
            },
            "type": "parcoords"
           }
          ],
          "pie": [
           {
            "automargin": true,
            "type": "pie"
           }
          ],
          "scatter": [
           {
            "marker": {
             "colorbar": {
              "outlinewidth": 0,
              "ticks": ""
             }
            },
            "type": "scatter"
           }
          ],
          "scatter3d": [
           {
            "line": {
             "colorbar": {
              "outlinewidth": 0,
              "ticks": ""
             }
            },
            "marker": {
             "colorbar": {
              "outlinewidth": 0,
              "ticks": ""
             }
            },
            "type": "scatter3d"
           }
          ],
          "scattercarpet": [
           {
            "marker": {
             "colorbar": {
              "outlinewidth": 0,
              "ticks": ""
             }
            },
            "type": "scattercarpet"
           }
          ],
          "scattergeo": [
           {
            "marker": {
             "colorbar": {
              "outlinewidth": 0,
              "ticks": ""
             }
            },
            "type": "scattergeo"
           }
          ],
          "scattergl": [
           {
            "marker": {
             "colorbar": {
              "outlinewidth": 0,
              "ticks": ""
             }
            },
            "type": "scattergl"
           }
          ],
          "scattermapbox": [
           {
            "marker": {
             "colorbar": {
              "outlinewidth": 0,
              "ticks": ""
             }
            },
            "type": "scattermapbox"
           }
          ],
          "scatterpolar": [
           {
            "marker": {
             "colorbar": {
              "outlinewidth": 0,
              "ticks": ""
             }
            },
            "type": "scatterpolar"
           }
          ],
          "scatterpolargl": [
           {
            "marker": {
             "colorbar": {
              "outlinewidth": 0,
              "ticks": ""
             }
            },
            "type": "scatterpolargl"
           }
          ],
          "scatterternary": [
           {
            "marker": {
             "colorbar": {
              "outlinewidth": 0,
              "ticks": ""
             }
            },
            "type": "scatterternary"
           }
          ],
          "surface": [
           {
            "colorbar": {
             "outlinewidth": 0,
             "ticks": ""
            },
            "colorscale": [
             [
              0,
              "#0d0887"
             ],
             [
              0.1111111111111111,
              "#46039f"
             ],
             [
              0.2222222222222222,
              "#7201a8"
             ],
             [
              0.3333333333333333,
              "#9c179e"
             ],
             [
              0.4444444444444444,
              "#bd3786"
             ],
             [
              0.5555555555555556,
              "#d8576b"
             ],
             [
              0.6666666666666666,
              "#ed7953"
             ],
             [
              0.7777777777777778,
              "#fb9f3a"
             ],
             [
              0.8888888888888888,
              "#fdca26"
             ],
             [
              1,
              "#f0f921"
             ]
            ],
            "type": "surface"
           }
          ],
          "table": [
           {
            "cells": {
             "fill": {
              "color": "#EBF0F8"
             },
             "line": {
              "color": "white"
             }
            },
            "header": {
             "fill": {
              "color": "#C8D4E3"
             },
             "line": {
              "color": "white"
             }
            },
            "type": "table"
           }
          ]
         },
         "layout": {
          "annotationdefaults": {
           "arrowcolor": "#2a3f5f",
           "arrowhead": 0,
           "arrowwidth": 1
          },
          "autotypenumbers": "strict",
          "coloraxis": {
           "colorbar": {
            "outlinewidth": 0,
            "ticks": ""
           }
          },
          "colorscale": {
           "diverging": [
            [
             0,
             "#8e0152"
            ],
            [
             0.1,
             "#c51b7d"
            ],
            [
             0.2,
             "#de77ae"
            ],
            [
             0.3,
             "#f1b6da"
            ],
            [
             0.4,
             "#fde0ef"
            ],
            [
             0.5,
             "#f7f7f7"
            ],
            [
             0.6,
             "#e6f5d0"
            ],
            [
             0.7,
             "#b8e186"
            ],
            [
             0.8,
             "#7fbc41"
            ],
            [
             0.9,
             "#4d9221"
            ],
            [
             1,
             "#276419"
            ]
           ],
           "sequential": [
            [
             0,
             "#0d0887"
            ],
            [
             0.1111111111111111,
             "#46039f"
            ],
            [
             0.2222222222222222,
             "#7201a8"
            ],
            [
             0.3333333333333333,
             "#9c179e"
            ],
            [
             0.4444444444444444,
             "#bd3786"
            ],
            [
             0.5555555555555556,
             "#d8576b"
            ],
            [
             0.6666666666666666,
             "#ed7953"
            ],
            [
             0.7777777777777778,
             "#fb9f3a"
            ],
            [
             0.8888888888888888,
             "#fdca26"
            ],
            [
             1,
             "#f0f921"
            ]
           ],
           "sequentialminus": [
            [
             0,
             "#0d0887"
            ],
            [
             0.1111111111111111,
             "#46039f"
            ],
            [
             0.2222222222222222,
             "#7201a8"
            ],
            [
             0.3333333333333333,
             "#9c179e"
            ],
            [
             0.4444444444444444,
             "#bd3786"
            ],
            [
             0.5555555555555556,
             "#d8576b"
            ],
            [
             0.6666666666666666,
             "#ed7953"
            ],
            [
             0.7777777777777778,
             "#fb9f3a"
            ],
            [
             0.8888888888888888,
             "#fdca26"
            ],
            [
             1,
             "#f0f921"
            ]
           ]
          },
          "colorway": [
           "#636efa",
           "#EF553B",
           "#00cc96",
           "#ab63fa",
           "#FFA15A",
           "#19d3f3",
           "#FF6692",
           "#B6E880",
           "#FF97FF",
           "#FECB52"
          ],
          "font": {
           "color": "#2a3f5f"
          },
          "geo": {
           "bgcolor": "white",
           "lakecolor": "white",
           "landcolor": "#E5ECF6",
           "showlakes": true,
           "showland": true,
           "subunitcolor": "white"
          },
          "hoverlabel": {
           "align": "left"
          },
          "hovermode": "closest",
          "mapbox": {
           "style": "light"
          },
          "paper_bgcolor": "white",
          "plot_bgcolor": "#E5ECF6",
          "polar": {
           "angularaxis": {
            "gridcolor": "white",
            "linecolor": "white",
            "ticks": ""
           },
           "bgcolor": "#E5ECF6",
           "radialaxis": {
            "gridcolor": "white",
            "linecolor": "white",
            "ticks": ""
           }
          },
          "scene": {
           "xaxis": {
            "backgroundcolor": "#E5ECF6",
            "gridcolor": "white",
            "gridwidth": 2,
            "linecolor": "white",
            "showbackground": true,
            "ticks": "",
            "zerolinecolor": "white"
           },
           "yaxis": {
            "backgroundcolor": "#E5ECF6",
            "gridcolor": "white",
            "gridwidth": 2,
            "linecolor": "white",
            "showbackground": true,
            "ticks": "",
            "zerolinecolor": "white"
           },
           "zaxis": {
            "backgroundcolor": "#E5ECF6",
            "gridcolor": "white",
            "gridwidth": 2,
            "linecolor": "white",
            "showbackground": true,
            "ticks": "",
            "zerolinecolor": "white"
           }
          },
          "shapedefaults": {
           "line": {
            "color": "#2a3f5f"
           }
          },
          "ternary": {
           "aaxis": {
            "gridcolor": "white",
            "linecolor": "white",
            "ticks": ""
           },
           "baxis": {
            "gridcolor": "white",
            "linecolor": "white",
            "ticks": ""
           },
           "bgcolor": "#E5ECF6",
           "caxis": {
            "gridcolor": "white",
            "linecolor": "white",
            "ticks": ""
           }
          },
          "title": {
           "x": 0.05
          },
          "xaxis": {
           "automargin": true,
           "gridcolor": "white",
           "linecolor": "white",
           "ticks": "",
           "title": {
            "standoff": 15
           },
           "zerolinecolor": "white",
           "zerolinewidth": 2
          },
          "yaxis": {
           "automargin": true,
           "gridcolor": "white",
           "linecolor": "white",
           "ticks": "",
           "title": {
            "standoff": 15
           },
           "zerolinecolor": "white",
           "zerolinewidth": 2
          }
         }
        },
        "width": 950,
        "xaxis": {
         "title": {
          "text": "Price"
         }
        },
        "yaxis": {
         "title": {
          "text": "Size"
         }
        }
       }
      },
      "text/html": [
       "<div>                            <div id=\"df19fab2-cb6c-4642-89f8-524f6213e7a3\" class=\"plotly-graph-div\" style=\"height:650px; width:950px;\"></div>            <script type=\"text/javascript\">                require([\"plotly\"], function(Plotly) {                    window.PLOTLYENV=window.PLOTLYENV || {};                                    if (document.getElementById(\"df19fab2-cb6c-4642-89f8-524f6213e7a3\")) {                    Plotly.newPlot(                        \"df19fab2-cb6c-4642-89f8-524f6213e7a3\",                        [{\"marker\": {\"line\": {\"color\": \"rgb(8,48,107)\", \"width\": 0.6}}, \"name\": \"Bid-Origin\", \"opacity\": 0.5, \"type\": \"bar\", \"width\": 0.7, \"x\": [56091.6, 56095.4, 56097.9, 56100.0, 56102.8, 56109.7, 56117.8, 56120.6, 56125.5, 56126.9, 56129.4, 56135.9, 56139.2, 56142.1, 56143.1, 56150.6, 56150.7, 56153.0, 56154.7, 56156.3, 56157.2, 56157.9, 56159.7, 56165.2, 56167.1, 56171.0, 56171.1, 56174.0, 56174.7, 56178.3, 56178.4, 56178.6, 56179.5, 56179.9, 56180.5, 56180.6, 56182.8, 56185.3, 56186.0, 56186.7, 56189.4, 56189.5, 56190.5, 56191.3, 56195.4, 56195.5, 56195.8, 56198.1, 56199.6, 56200.0, 56204.4, 56207.3, 56210.1, 56211.4, 56212.6, 56213.1, 56214.6, 56214.7, 56215.4, 56218.4, 56219.8, 56221.1, 56223.3, 56224.2, 56226.8, 56227.3, 56227.6, 56227.9, 56229.7, 56232.2, 56232.5, 56233.7, 56235.7, 56235.8, 56238.2, 56241.6, 56243.9, 56244.3, 56245.7, 56246.3, 56247.6, 56248.0, 56248.1, 56254.0, 56254.5, 56256.7, 56257.1, 56260.3, 56260.6, 56261.4, 56265.1, 56266.0, 56267.6, 56269.7, 56270.1, 56270.3, 56271.5, 56271.7, 56271.9, 56276.0], \"y\": [4.444, 1.796, 0.32, 0.037, 0.333, 1.454, 1.12, 4.442, 0.25, 0.222, 0.048, 0.001, 0.084, 0.32, 1.453, 4.44, 0.004, 0.2, 0.069, 0.1, 0.3, 0.001, 0.052, 0.01, 0.164, 1.04, 1.284, 0.047, 0.723, 2.519, 0.459, 1.473, 0.038, 0.019, 0.882, 0.124, 10.0, 0.05, 0.064, 0.019, 3.555, 4.445, 1.855, 3.555, 2.545, 0.003, 0.064, 0.052, 0.001, 0.356, 0.064, 0.722, 0.064, 0.016, 0.173, 0.347, 3.556, 0.041, 1.33, 0.051, 0.129, 0.064, 0.98, 0.14, 0.064, 3.554, 0.027, 0.37, 0.08, 0.001, 0.064, 0.012, 0.103, 0.098, 0.064, 0.27, 0.001, 0.064, 0.179, 0.083, 4.444, 0.714, 0.4, 0.064, 0.525, 0.711, 4.444, 0.25, 0.064, 0.152, 0.756, 2.667, 1.265, 0.003, 0.148, 0.064, 0.086, 0.041, 0.052, 5.42]}, {\"marker\": {\"line\": {\"color\": \"rgb(8,48,107)\", \"width\": 0.6}}, \"name\": \"Ask-Origin\", \"opacity\": 0.5, \"type\": \"bar\", \"width\": 0.7, \"x\": [56276.1, 56277.2, 56283.6, 56283.7, 56285.6, 56289.4, 56290.0, 56297.2, 56298.2, 56298.6, 56299.0, 56300.1, 56303.1, 56305.8, 56307.1, 56310.8, 56310.9, 56311.0, 56311.5, 56311.6, 56312.8, 56314.4, 56314.5, 56314.7, 56315.6, 56317.6, 56318.4, 56318.5, 56319.4, 56319.9, 56321.8, 56322.2, 56323.0, 56324.2, 56328.1, 56328.2, 56330.9, 56331.3, 56333.8, 56334.2, 56336.7, 56339.0, 56339.6, 56342.5, 56347.1, 56350.6, 56354.2, 56355.1, 56356.4, 56358.7, 56362.0, 56362.2, 56362.4, 56363.3, 56367.6, 56367.8, 56368.3, 56368.7, 56378.9, 56379.9, 56384.5, 56385.3, 56387.5, 56391.2, 56392.2, 56392.3, 56393.7, 56394.2, 56394.8, 56396.3, 56398.8, 56400.0, 56400.1, 56402.4, 56403.8, 56406.6, 56408.1, 56413.8, 56414.2, 56414.3, 56414.4, 56420.5, 56420.7, 56421.8, 56423.8, 56425.9, 56429.1, 56429.2, 56433.1, 56436.1, 56443.7, 56444.0, 56445.0, 56448.8, 56454.7, 56457.7, 56464.5, 56468.9, 56470.8, 56471.0], \"y\": [3.279, 4.444, 0.004, 0.443, 0.311, 0.064, 4.444, 0.445, 1.247, 3.555, 0.085, 0.064, 0.711, 0.064, 0.027, 0.128, 0.561, 0.714, 0.064, 2.57, 0.017, 1.135, 0.15, 1.637, 0.089, 3.555, 0.064, 0.003, 0.25, 0.019, 1.811, 0.028, 0.08, 0.064, 0.03, 0.081, 3.555, 0.14, 0.064, 0.051, 0.5, 4.443, 0.064, 0.055, 0.034, 0.064, 3.555, 10.0, 0.019, 0.038, 0.036, 0.064, 0.051, 0.084, 0.476, 4.443, 0.72, 0.064, 0.064, 0.017, 0.002, 0.002, 0.064, 0.1, 0.004, 0.987, 0.2, 0.001, 0.064, 0.001, 0.001, 0.025, 0.051, 0.064, 0.001, 0.002, 0.064, 0.064, 2.589, 4.437, 2.53, 0.064, 2.614, 0.27, 0.001, 0.179, 0.133, 0.064, 0.77, 0.001, 4.444, 0.5, 0.11, 0.002, 0.94, 0.002, 4.442, 0.001, 0.003, 0.01]}, {\"marker\": {\"line\": {\"color\": \"rgb(8,48,107)\", \"width\": 0.6}}, \"name\": \"Bid-Destination\", \"opacity\": 0.5, \"type\": \"bar\", \"width\": 0.7, \"x\": [56229.0, 56231.0, 56233.0, 56234.0, 56235.0, 56236.0, 56238.0, 56239.0, 56241.0, 56243.0, 56244.0, 56248.0, 56250.0, 56251.0, 56253.0, 56255.0, 56256.0, 56257.0, 56259.0, 56261.0, 56262.0, 56263.0, 56264.0, 56267.0, 56268.0], \"y\": [0.6666, 0.02, 0.07286652, 0.20022, 0.2217, 0.0692731, 1.1582, 0.9645, 0.0356, 0.3654, 0.59233637, 1.13115789, 0.4142, 2.45092657, 0.09922653, 0.00032956, 0.0091, 0.59552654, 0.0496193, 0.16818051, 0.00992265, 0.00248123, 0.00198453, 0.42, 7.017e-05]}, {\"marker\": {\"line\": {\"color\": \"rgb(8,48,107)\", \"width\": 0.6}}, \"name\": \"Ask-Destination\", \"opacity\": 0.5, \"type\": \"bar\", \"width\": 0.7, \"x\": [56273.0, 56275.0, 56281.0, 56282.0, 56286.0, 56287.0, 56289.0, 56290.0, 56291.0, 56292.0, 56293.0, 56295.0, 56297.0, 56298.0, 56300.0, 56301.0, 56302.0, 56304.0, 56305.0, 56306.0, 56307.0, 56308.0, 56309.0, 56310.0, 56311.0], \"y\": [0.0356, 0.18732926, 0.18207302, 0.07422701, 0.05934291, 0.19030025, 0.01, 0.94815863, 0.1, 0.00979217, 0.02448291, 0.04896582, 0.1, 0.996, 1.1943, 0.29782169, 0.3794794, 0.552, 1.4083, 0.14689745, 0.0093, 0.01409287, 0.028, 0.9739, 0.7543]}],                        {\"height\": 650, \"template\": {\"data\": {\"bar\": [{\"error_x\": {\"color\": \"#2a3f5f\"}, \"error_y\": {\"color\": \"#2a3f5f\"}, \"marker\": {\"line\": {\"color\": \"#E5ECF6\", \"width\": 0.5}}, \"type\": \"bar\"}], \"barpolar\": [{\"marker\": {\"line\": {\"color\": \"#E5ECF6\", \"width\": 0.5}}, \"type\": \"barpolar\"}], \"carpet\": [{\"aaxis\": {\"endlinecolor\": \"#2a3f5f\", \"gridcolor\": \"white\", \"linecolor\": \"white\", \"minorgridcolor\": \"white\", \"startlinecolor\": \"#2a3f5f\"}, \"baxis\": {\"endlinecolor\": \"#2a3f5f\", \"gridcolor\": \"white\", \"linecolor\": \"white\", \"minorgridcolor\": \"white\", \"startlinecolor\": \"#2a3f5f\"}, \"type\": \"carpet\"}], \"choropleth\": [{\"colorbar\": {\"outlinewidth\": 0, \"ticks\": \"\"}, \"type\": \"choropleth\"}], \"contour\": [{\"colorbar\": {\"outlinewidth\": 0, \"ticks\": \"\"}, \"colorscale\": [[0.0, \"#0d0887\"], [0.1111111111111111, \"#46039f\"], [0.2222222222222222, \"#7201a8\"], [0.3333333333333333, \"#9c179e\"], [0.4444444444444444, \"#bd3786\"], [0.5555555555555556, \"#d8576b\"], [0.6666666666666666, \"#ed7953\"], [0.7777777777777778, \"#fb9f3a\"], [0.8888888888888888, \"#fdca26\"], [1.0, \"#f0f921\"]], \"type\": \"contour\"}], \"contourcarpet\": [{\"colorbar\": {\"outlinewidth\": 0, \"ticks\": \"\"}, \"type\": \"contourcarpet\"}], \"heatmap\": [{\"colorbar\": {\"outlinewidth\": 0, \"ticks\": \"\"}, \"colorscale\": [[0.0, \"#0d0887\"], [0.1111111111111111, \"#46039f\"], [0.2222222222222222, \"#7201a8\"], [0.3333333333333333, \"#9c179e\"], [0.4444444444444444, \"#bd3786\"], [0.5555555555555556, \"#d8576b\"], [0.6666666666666666, \"#ed7953\"], [0.7777777777777778, \"#fb9f3a\"], [0.8888888888888888, \"#fdca26\"], [1.0, \"#f0f921\"]], \"type\": \"heatmap\"}], \"heatmapgl\": [{\"colorbar\": {\"outlinewidth\": 0, \"ticks\": \"\"}, \"colorscale\": [[0.0, \"#0d0887\"], [0.1111111111111111, \"#46039f\"], [0.2222222222222222, \"#7201a8\"], [0.3333333333333333, \"#9c179e\"], [0.4444444444444444, \"#bd3786\"], [0.5555555555555556, \"#d8576b\"], [0.6666666666666666, \"#ed7953\"], [0.7777777777777778, \"#fb9f3a\"], [0.8888888888888888, \"#fdca26\"], [1.0, \"#f0f921\"]], \"type\": \"heatmapgl\"}], \"histogram\": [{\"marker\": {\"colorbar\": {\"outlinewidth\": 0, \"ticks\": \"\"}}, \"type\": \"histogram\"}], \"histogram2d\": [{\"colorbar\": {\"outlinewidth\": 0, \"ticks\": \"\"}, \"colorscale\": [[0.0, \"#0d0887\"], [0.1111111111111111, \"#46039f\"], [0.2222222222222222, \"#7201a8\"], [0.3333333333333333, \"#9c179e\"], [0.4444444444444444, \"#bd3786\"], [0.5555555555555556, \"#d8576b\"], [0.6666666666666666, \"#ed7953\"], [0.7777777777777778, \"#fb9f3a\"], [0.8888888888888888, \"#fdca26\"], [1.0, \"#f0f921\"]], \"type\": \"histogram2d\"}], \"histogram2dcontour\": [{\"colorbar\": {\"outlinewidth\": 0, \"ticks\": \"\"}, \"colorscale\": [[0.0, \"#0d0887\"], [0.1111111111111111, \"#46039f\"], [0.2222222222222222, \"#7201a8\"], [0.3333333333333333, \"#9c179e\"], [0.4444444444444444, \"#bd3786\"], [0.5555555555555556, \"#d8576b\"], [0.6666666666666666, \"#ed7953\"], [0.7777777777777778, \"#fb9f3a\"], [0.8888888888888888, \"#fdca26\"], [1.0, \"#f0f921\"]], \"type\": \"histogram2dcontour\"}], \"mesh3d\": [{\"colorbar\": {\"outlinewidth\": 0, \"ticks\": \"\"}, \"type\": \"mesh3d\"}], \"parcoords\": [{\"line\": {\"colorbar\": {\"outlinewidth\": 0, \"ticks\": \"\"}}, \"type\": \"parcoords\"}], \"pie\": [{\"automargin\": true, \"type\": \"pie\"}], \"scatter\": [{\"marker\": {\"colorbar\": {\"outlinewidth\": 0, \"ticks\": \"\"}}, \"type\": \"scatter\"}], \"scatter3d\": [{\"line\": {\"colorbar\": {\"outlinewidth\": 0, \"ticks\": \"\"}}, \"marker\": {\"colorbar\": {\"outlinewidth\": 0, \"ticks\": \"\"}}, \"type\": \"scatter3d\"}], \"scattercarpet\": [{\"marker\": {\"colorbar\": {\"outlinewidth\": 0, \"ticks\": \"\"}}, \"type\": \"scattercarpet\"}], \"scattergeo\": [{\"marker\": {\"colorbar\": {\"outlinewidth\": 0, \"ticks\": \"\"}}, \"type\": \"scattergeo\"}], \"scattergl\": [{\"marker\": {\"colorbar\": {\"outlinewidth\": 0, \"ticks\": \"\"}}, \"type\": \"scattergl\"}], \"scattermapbox\": [{\"marker\": {\"colorbar\": {\"outlinewidth\": 0, \"ticks\": \"\"}}, \"type\": \"scattermapbox\"}], \"scatterpolar\": [{\"marker\": {\"colorbar\": {\"outlinewidth\": 0, \"ticks\": \"\"}}, \"type\": \"scatterpolar\"}], \"scatterpolargl\": [{\"marker\": {\"colorbar\": {\"outlinewidth\": 0, \"ticks\": \"\"}}, \"type\": \"scatterpolargl\"}], \"scatterternary\": [{\"marker\": {\"colorbar\": {\"outlinewidth\": 0, \"ticks\": \"\"}}, \"type\": \"scatterternary\"}], \"surface\": [{\"colorbar\": {\"outlinewidth\": 0, \"ticks\": \"\"}, \"colorscale\": [[0.0, \"#0d0887\"], [0.1111111111111111, \"#46039f\"], [0.2222222222222222, \"#7201a8\"], [0.3333333333333333, \"#9c179e\"], [0.4444444444444444, \"#bd3786\"], [0.5555555555555556, \"#d8576b\"], [0.6666666666666666, \"#ed7953\"], [0.7777777777777778, \"#fb9f3a\"], [0.8888888888888888, \"#fdca26\"], [1.0, \"#f0f921\"]], \"type\": \"surface\"}], \"table\": [{\"cells\": {\"fill\": {\"color\": \"#EBF0F8\"}, \"line\": {\"color\": \"white\"}}, \"header\": {\"fill\": {\"color\": \"#C8D4E3\"}, \"line\": {\"color\": \"white\"}}, \"type\": \"table\"}]}, \"layout\": {\"annotationdefaults\": {\"arrowcolor\": \"#2a3f5f\", \"arrowhead\": 0, \"arrowwidth\": 1}, \"autotypenumbers\": \"strict\", \"coloraxis\": {\"colorbar\": {\"outlinewidth\": 0, \"ticks\": \"\"}}, \"colorscale\": {\"diverging\": [[0, \"#8e0152\"], [0.1, \"#c51b7d\"], [0.2, \"#de77ae\"], [0.3, \"#f1b6da\"], [0.4, \"#fde0ef\"], [0.5, \"#f7f7f7\"], [0.6, \"#e6f5d0\"], [0.7, \"#b8e186\"], [0.8, \"#7fbc41\"], [0.9, \"#4d9221\"], [1, \"#276419\"]], \"sequential\": [[0.0, \"#0d0887\"], [0.1111111111111111, \"#46039f\"], [0.2222222222222222, \"#7201a8\"], [0.3333333333333333, \"#9c179e\"], [0.4444444444444444, \"#bd3786\"], [0.5555555555555556, \"#d8576b\"], [0.6666666666666666, \"#ed7953\"], [0.7777777777777778, \"#fb9f3a\"], [0.8888888888888888, \"#fdca26\"], [1.0, \"#f0f921\"]], \"sequentialminus\": [[0.0, \"#0d0887\"], [0.1111111111111111, \"#46039f\"], [0.2222222222222222, \"#7201a8\"], [0.3333333333333333, \"#9c179e\"], [0.4444444444444444, \"#bd3786\"], [0.5555555555555556, \"#d8576b\"], [0.6666666666666666, \"#ed7953\"], [0.7777777777777778, \"#fb9f3a\"], [0.8888888888888888, \"#fdca26\"], [1.0, \"#f0f921\"]]}, \"colorway\": [\"#636efa\", \"#EF553B\", \"#00cc96\", \"#ab63fa\", \"#FFA15A\", \"#19d3f3\", \"#FF6692\", \"#B6E880\", \"#FF97FF\", \"#FECB52\"], \"font\": {\"color\": \"#2a3f5f\"}, \"geo\": {\"bgcolor\": \"white\", \"lakecolor\": \"white\", \"landcolor\": \"#E5ECF6\", \"showlakes\": true, \"showland\": true, \"subunitcolor\": \"white\"}, \"hoverlabel\": {\"align\": \"left\"}, \"hovermode\": \"closest\", \"mapbox\": {\"style\": \"light\"}, \"paper_bgcolor\": \"white\", \"plot_bgcolor\": \"#E5ECF6\", \"polar\": {\"angularaxis\": {\"gridcolor\": \"white\", \"linecolor\": \"white\", \"ticks\": \"\"}, \"bgcolor\": \"#E5ECF6\", \"radialaxis\": {\"gridcolor\": \"white\", \"linecolor\": \"white\", \"ticks\": \"\"}}, \"scene\": {\"xaxis\": {\"backgroundcolor\": \"#E5ECF6\", \"gridcolor\": \"white\", \"gridwidth\": 2, \"linecolor\": \"white\", \"showbackground\": true, \"ticks\": \"\", \"zerolinecolor\": \"white\"}, \"yaxis\": {\"backgroundcolor\": \"#E5ECF6\", \"gridcolor\": \"white\", \"gridwidth\": 2, \"linecolor\": \"white\", \"showbackground\": true, \"ticks\": \"\", \"zerolinecolor\": \"white\"}, \"zaxis\": {\"backgroundcolor\": \"#E5ECF6\", \"gridcolor\": \"white\", \"gridwidth\": 2, \"linecolor\": \"white\", \"showbackground\": true, \"ticks\": \"\", \"zerolinecolor\": \"white\"}}, \"shapedefaults\": {\"line\": {\"color\": \"#2a3f5f\"}}, \"ternary\": {\"aaxis\": {\"gridcolor\": \"white\", \"linecolor\": \"white\", \"ticks\": \"\"}, \"baxis\": {\"gridcolor\": \"white\", \"linecolor\": \"white\", \"ticks\": \"\"}, \"bgcolor\": \"#E5ECF6\", \"caxis\": {\"gridcolor\": \"white\", \"linecolor\": \"white\", \"ticks\": \"\"}}, \"title\": {\"x\": 0.05}, \"xaxis\": {\"automargin\": true, \"gridcolor\": \"white\", \"linecolor\": \"white\", \"ticks\": \"\", \"title\": {\"standoff\": 15}, \"zerolinecolor\": \"white\", \"zerolinewidth\": 2}, \"yaxis\": {\"automargin\": true, \"gridcolor\": \"white\", \"linecolor\": \"white\", \"ticks\": \"\", \"title\": {\"standoff\": 15}, \"zerolinecolor\": \"white\", \"zerolinewidth\": 2}}}, \"width\": 950, \"xaxis\": {\"title\": {\"text\": \"Price\"}}, \"yaxis\": {\"title\": {\"text\": \"Size\"}}},                        {\"responsive\": true}                    ).then(function(){\n",
       "                            \n",
       "var gd = document.getElementById('df19fab2-cb6c-4642-89f8-524f6213e7a3');\n",
       "var x = new MutationObserver(function (mutations, observer) {{\n",
       "        var display = window.getComputedStyle(gd).display;\n",
       "        if (!display || display === 'none') {{\n",
       "            console.log([gd, 'removed!']);\n",
       "            Plotly.purge(gd);\n",
       "            observer.disconnect();\n",
       "        }}\n",
       "}});\n",
       "\n",
       "// Listen for the removal of the full notebook cells\n",
       "var notebookContainer = gd.closest('#notebook-container');\n",
       "if (notebookContainer) {{\n",
       "    x.observe(notebookContainer, {childList: true});\n",
       "}}\n",
       "\n",
       "// Listen for the clearing of the current output cell\n",
       "var outputEl = gd.closest('.output');\n",
       "if (outputEl) {{\n",
       "    x.observe(outputEl, {childList: true});\n",
       "}}\n",
       "\n",
       "                        })                };                });            </script>        </div>"
      ]
     },
     "metadata": {},
     "output_type": "display_data"
    }
   ],
   "source": [
    "kraken = dict_to_df('kraken','2021-11-24T15:16:31.432Z' , orderbooks_data)\n",
    "bitfinex = dict_to_df('bitfinex','2021-11-24T15:16:31.432Z' , orderbooks_data)\n",
    "print(kraken.head(2), 'KRAKEN')\n",
    "print(bitfinex.head(2),'BITFINEX')\n",
    "plot_orderbook_2excahnges(kraken, bitfinex)"
   ]
  },
  {
   "cell_type": "code",
   "execution_count": 55,
   "id": "95778741",
   "metadata": {},
   "outputs": [],
   "source": [
    "def plot_orderbook_2excahnges(ob_data_plot_origin, ob_data_plot_destionation):\n",
    "    ob_data = ob_data_plot_origin\n",
    "    ob_data_bid = ob_data[['bid_size', 'bid']]\n",
    "    ob_data_bid = ob_data_bid.sort_values(ascending = True, by='bid')\n",
    "    ob_data_ask = ob_data[['ask_size', 'ask']]\n",
    "    ob_data_ask = ob_data_ask\n",
    "    fig = go.Figure()\n",
    "    fig.add_trace(\n",
    "        go.Bar(x=ob_data_bid['bid'],\n",
    "                y=ob_data_bid['bid_size'], name = 'Bid-Origin',width=.7, opacity=0.5))\n",
    "\n",
    "    fig.add_trace(\n",
    "        go.Bar(x=ob_data_ask['ask'],\n",
    "                y=ob_data_ask['ask_size'],name = 'Ask-Origin',width=.7, opacity=0.5))\n",
    "\n",
    "\n",
    "    ob_data = ob_data_plot_destionation\n",
    "    ob_data_bid = ob_data[['bid_size', 'bid']]\n",
    "    ob_data_bid = ob_data_bid.sort_values(ascending = True, by='bid')\n",
    "    ob_data_ask = ob_data[['ask_size', 'ask']]\n",
    "    ob_data_ask = ob_data_ask\n",
    "  \n",
    "    fig.add_trace(\n",
    "        go.Bar(x=ob_data_bid['bid'],\n",
    "                y=ob_data_bid['bid_size'], name = 'Bid-Destination',width=.7, opacity=0.5))\n",
    "\n",
    "    fig.add_trace(\n",
    "        go.Bar(x=ob_data_ask['ask'],\n",
    "                y=ob_data_ask['ask_size'],name = 'Ask-Destination',width=.7, opacity=0.5))\n",
    "    #fig.update_xaxes(type='category')\n",
    "    \n",
    "    fig.update_traces(marker_line_color='rgb(8,48,107)',\n",
    "                  marker_line_width=.6)\n",
    "    \n",
    "    \n",
    "    fig.update_layout(\n",
    "    width=950,\n",
    "    height=650)\n",
    "    # Update yaxis properties\n",
    "    fig.update_yaxes(title_text=\"Size\")\n",
    "    fig.update_xaxes(title_text=\"Price\")\n",
    "    fig.show()"
   ]
  },
  {
   "cell_type": "code",
   "execution_count": null,
   "id": "a0ec5a43",
   "metadata": {},
   "outputs": [],
   "source": []
  }
 ],
 "metadata": {
  "kernelspec": {
   "display_name": "Python 3 (ipykernel)",
   "language": "python",
   "name": "python3"
  },
  "language_info": {
   "codemirror_mode": {
    "name": "ipython",
    "version": 3
   },
   "file_extension": ".py",
   "mimetype": "text/x-python",
   "name": "python",
   "nbconvert_exporter": "python",
   "pygments_lexer": "ipython3",
   "version": "3.8.2"
  }
 },
 "nbformat": 4,
 "nbformat_minor": 5
}
