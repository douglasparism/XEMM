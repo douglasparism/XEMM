{
 "cells": [
  {
   "cell_type": "code",
   "execution_count": 22,
   "id": "ef9d029d",
   "metadata": {},
   "outputs": [],
   "source": [
    "import json\n",
    "import pandas as pd\n",
    "import numpy as np\n",
    "import plotly.graph_objects as go\n",
    "import seaborn as sns\n",
    "# Opening JSON file\n",
    "f = open('files/orderbooks_ray.json')\n",
    "#f = open('/Users/noesalinas/Desktop/06jul_test_.json')\n",
    "# Returns JSON object as a dictionary\n",
    "orderbooks_data = json.load(f)"
   ]
  },
  {
   "cell_type": "code",
   "execution_count": 3,
   "id": "e651407a",
   "metadata": {},
   "outputs": [],
   "source": [
    "def dict_to_df(exchange, timestamp, orderbook):\n",
    "    orderbooks_data = orderbook\n",
    "    ask_size = orderbooks_data[exchange][timestamp]['ask_size'].values()\n",
    "    ask = orderbooks_data[exchange][timestamp]['ask'].values()\n",
    "    bid_size = orderbooks_data[exchange][timestamp]['bid_size'].values()\n",
    "    bid = orderbooks_data[exchange][timestamp]['bid'].values()\n",
    "\n",
    "    df_orderbook = pd.DataFrame(columns=['ask_size', 'ask', 'bid', 'bid_size'])\n",
    "    df_orderbook['ask_size'] = ask_size\n",
    "    df_orderbook['ask'] = ask\n",
    "    df_orderbook['bid'] = bid\n",
    "    df_orderbook['bid_size'] = bid_size\n",
    "    return df_orderbook"
   ]
  },
  {
   "cell_type": "code",
   "execution_count": 4,
   "id": "8329ec70",
   "metadata": {},
   "outputs": [],
   "source": [
    "def f_del_none_dict(dictionary_to_clean):\n",
    "    dict_c = dictionary_to_clean\n",
    "    clean_ob_data = {k: v for k, v in dict_c.items() if v is not None}\n",
    "    display(\n",
    "    'Number of historical orderbooks:',\n",
    "    ('Before dropping Nones: '+ str(len(dict_c))),\n",
    "    ('After dropping Nones: ' + str(len(clean_ob_data))))\n",
    "    return clean_ob_data"
   ]
  },
  {
   "cell_type": "code",
   "execution_count": 5,
   "id": "969e8073",
   "metadata": {},
   "outputs": [
    {
     "data": {
      "text/plain": [
       "'Number of historical orderbooks:'"
      ]
     },
     "metadata": {},
     "output_type": "display_data"
    },
    {
     "data": {
      "text/plain": [
       "'Before dropping Nones: 117'"
      ]
     },
     "metadata": {},
     "output_type": "display_data"
    },
    {
     "data": {
      "text/plain": [
       "'After dropping Nones: 39'"
      ]
     },
     "metadata": {},
     "output_type": "display_data"
    },
    {
     "data": {
      "text/plain": [
       "'Number of historical orderbooks:'"
      ]
     },
     "metadata": {},
     "output_type": "display_data"
    },
    {
     "data": {
      "text/plain": [
       "'Before dropping Nones: 117'"
      ]
     },
     "metadata": {},
     "output_type": "display_data"
    },
    {
     "data": {
      "text/plain": [
       "'After dropping Nones: 78'"
      ]
     },
     "metadata": {},
     "output_type": "display_data"
    }
   ],
   "source": [
    "clean_order_kraken = f_del_none_dict(orderbooks_data['kraken'])\n",
    "\n",
    "clean_order_bitfinex = f_del_none_dict(orderbooks_data['bitfinex'])"
   ]
  },
  {
   "cell_type": "code",
   "execution_count": 6,
   "id": "27076f73",
   "metadata": {},
   "outputs": [
    {
     "data": {
      "text/html": [
       "<div>\n",
       "<style scoped>\n",
       "    .dataframe tbody tr th:only-of-type {\n",
       "        vertical-align: middle;\n",
       "    }\n",
       "\n",
       "    .dataframe tbody tr th {\n",
       "        vertical-align: top;\n",
       "    }\n",
       "\n",
       "    .dataframe thead th {\n",
       "        text-align: right;\n",
       "    }\n",
       "</style>\n",
       "<table border=\"1\" class=\"dataframe\">\n",
       "  <thead>\n",
       "    <tr style=\"text-align: right;\">\n",
       "      <th></th>\n",
       "      <th>dict_key</th>\n",
       "      <th>timestamp</th>\n",
       "      <th>exchange</th>\n",
       "    </tr>\n",
       "  </thead>\n",
       "  <tbody>\n",
       "    <tr>\n",
       "      <th>0</th>\n",
       "      <td>2021-11-24T03:24:45.603Z</td>\n",
       "      <td>2021-11-24 03:24:45.603000+00:00</td>\n",
       "      <td>bitfinex</td>\n",
       "    </tr>\n",
       "    <tr>\n",
       "      <th>1</th>\n",
       "      <td>2021-11-24T03:24:46.593Z</td>\n",
       "      <td>2021-11-24 03:24:46.593000+00:00</td>\n",
       "      <td>bitfinex</td>\n",
       "    </tr>\n",
       "    <tr>\n",
       "      <th>2</th>\n",
       "      <td>2021-11-24T03:24:46.962Z</td>\n",
       "      <td>2021-11-24 03:24:46.962000+00:00</td>\n",
       "      <td>kraken</td>\n",
       "    </tr>\n",
       "    <tr>\n",
       "      <th>3</th>\n",
       "      <td>2021-11-24T03:24:48.113Z</td>\n",
       "      <td>2021-11-24 03:24:48.113000+00:00</td>\n",
       "      <td>bitfinex</td>\n",
       "    </tr>\n",
       "    <tr>\n",
       "      <th>4</th>\n",
       "      <td>2021-11-24T03:24:49.763Z</td>\n",
       "      <td>2021-11-24 03:24:49.763000+00:00</td>\n",
       "      <td>bitfinex</td>\n",
       "    </tr>\n",
       "    <tr>\n",
       "      <th>...</th>\n",
       "      <td>...</td>\n",
       "      <td>...</td>\n",
       "      <td>...</td>\n",
       "    </tr>\n",
       "    <tr>\n",
       "      <th>112</th>\n",
       "      <td>2021-11-24T03:26:38.236Z</td>\n",
       "      <td>2021-11-24 03:26:38.236000+00:00</td>\n",
       "      <td>kraken</td>\n",
       "    </tr>\n",
       "    <tr>\n",
       "      <th>113</th>\n",
       "      <td>2021-11-24T03:26:38.265Z</td>\n",
       "      <td>2021-11-24 03:26:38.265000+00:00</td>\n",
       "      <td>bitfinex</td>\n",
       "    </tr>\n",
       "    <tr>\n",
       "      <th>114</th>\n",
       "      <td>2021-11-24T03:26:39.600Z</td>\n",
       "      <td>2021-11-24 03:26:39.600000+00:00</td>\n",
       "      <td>bitfinex</td>\n",
       "    </tr>\n",
       "    <tr>\n",
       "      <th>115</th>\n",
       "      <td>2021-11-24T03:26:41.187Z</td>\n",
       "      <td>2021-11-24 03:26:41.187000+00:00</td>\n",
       "      <td>bitfinex</td>\n",
       "    </tr>\n",
       "    <tr>\n",
       "      <th>116</th>\n",
       "      <td>2021-11-24T03:26:41.227Z</td>\n",
       "      <td>2021-11-24 03:26:41.227000+00:00</td>\n",
       "      <td>kraken</td>\n",
       "    </tr>\n",
       "  </tbody>\n",
       "</table>\n",
       "<p>117 rows × 3 columns</p>\n",
       "</div>"
      ],
      "text/plain": [
       "                     dict_key                        timestamp  exchange\n",
       "0    2021-11-24T03:24:45.603Z 2021-11-24 03:24:45.603000+00:00  bitfinex\n",
       "1    2021-11-24T03:24:46.593Z 2021-11-24 03:24:46.593000+00:00  bitfinex\n",
       "2    2021-11-24T03:24:46.962Z 2021-11-24 03:24:46.962000+00:00    kraken\n",
       "3    2021-11-24T03:24:48.113Z 2021-11-24 03:24:48.113000+00:00  bitfinex\n",
       "4    2021-11-24T03:24:49.763Z 2021-11-24 03:24:49.763000+00:00  bitfinex\n",
       "..                        ...                              ...       ...\n",
       "112  2021-11-24T03:26:38.236Z 2021-11-24 03:26:38.236000+00:00    kraken\n",
       "113  2021-11-24T03:26:38.265Z 2021-11-24 03:26:38.265000+00:00  bitfinex\n",
       "114  2021-11-24T03:26:39.600Z 2021-11-24 03:26:39.600000+00:00  bitfinex\n",
       "115  2021-11-24T03:26:41.187Z 2021-11-24 03:26:41.187000+00:00  bitfinex\n",
       "116  2021-11-24T03:26:41.227Z 2021-11-24 03:26:41.227000+00:00    kraken\n",
       "\n",
       "[117 rows x 3 columns]"
      ]
     },
     "execution_count": 6,
     "metadata": {},
     "output_type": "execute_result"
    }
   ],
   "source": [
    "df_datetime = pd.DataFrame(columns=['dict_key', 'timestamp', 'exchange'])\n",
    "df_datetime['dict_key'] = clean_order_kraken.keys()\n",
    "df_datetime['timestamp'] = clean_order_kraken.keys()\n",
    "df_datetime['exchange'] = 'kraken'\n",
    "\n",
    "df_datetime_aux = pd.DataFrame(columns=['dict_key', 'timestamp', 'exchange'])\n",
    "df_datetime_aux['dict_key'] = clean_order_bitfinex.keys()\n",
    "df_datetime_aux['timestamp'] = clean_order_bitfinex.keys()\n",
    "df_datetime_aux['exchange'] = 'bitfinex'\n",
    "\n",
    "df_datetime = df_datetime.append(df_datetime_aux)\n",
    "df_datetime['timestamp'] = pd.to_datetime(df_datetime['timestamp'])\n",
    "df_datetime = df_datetime.sort_values(by=['timestamp'])\n",
    "df_datetime = df_datetime.reset_index(drop=True)\n",
    "df_datetime"
   ]
  },
  {
   "cell_type": "code",
   "execution_count": 17,
   "id": "cc0ab26c",
   "metadata": {},
   "outputs": [
    {
     "name": "stdout",
     "output_type": "stream",
     "text": [
      "Al momento\n",
      "2021-11-24T03:24:46.962Z kraken\n",
      "2021-11-24T03:24:48.113Z bitfinex\n",
      "   ask_size      ask      bid  bid_size\n",
      "0     0.004  56401.4  56398.8     0.100\n",
      "1     0.002  56404.8  56398.7     0.002 KRAKEN\n",
      "   ask_size      ask      bid  bid_size\n",
      "0  0.180000  56389.0  56388.0  0.568413\n",
      "1  0.139309  56395.0  56387.0  0.229289 BITFINEX\n"
     ]
    },
    {
     "data": {
      "application/vnd.plotly.v1+json": {
       "config": {
        "plotlyServerURL": "https://plotly.com"
       },
       "data": [
        {
         "name": "Bid-Origin",
         "opacity": 0.5,
         "type": "bar",
         "width": 0.7,
         "x": [
          56224.3,
          56228.5,
          56234.4,
          56240.2,
          56242.4,
          56245.3,
          56250,
          56252.8,
          56256.7,
          56259.5,
          56261.8,
          56261.9,
          56265.5,
          56268.7,
          56269.2,
          56269.6,
          56271,
          56271.2,
          56272,
          56280.8,
          56282.1,
          56283.9,
          56284,
          56285.2,
          56285.3,
          56285.4,
          56288.6,
          56289.7,
          56290.4,
          56291.8,
          56296.1,
          56302,
          56305.5,
          56307.7,
          56308.1,
          56308.7,
          56312,
          56312.1,
          56313,
          56313.6,
          56313.7,
          56314.5,
          56317.1,
          56320,
          56320.2,
          56320.3,
          56326,
          56330,
          56330.7,
          56331.7,
          56333.3,
          56340.2,
          56342.1,
          56342.2,
          56343.9,
          56345.5,
          56347.2,
          56347.5,
          56348.8,
          56349,
          56350.1,
          56350.2,
          56351.2,
          56351.5,
          56352.2,
          56352.6,
          56352.7,
          56358.4,
          56362.1,
          56363.7,
          56364.6,
          56370.2,
          56372,
          56372.1,
          56376.7,
          56378.1,
          56378.4,
          56378.6,
          56379,
          56379.2,
          56379.3,
          56379.4,
          56379.5,
          56379.6,
          56380.2,
          56381.1,
          56386.9,
          56387.5,
          56388.8,
          56388.9,
          56389.4,
          56390.2,
          56391.2,
          56391.3,
          56391.8,
          56394.9,
          56395.8,
          56396.2,
          56398.7,
          56398.8
         ],
         "y": [
          4.434,
          2.028,
          0.001,
          0.047,
          0.018,
          0.216,
          0.037,
          4.431,
          2.479,
          0.643,
          0.347,
          0.001,
          0.064,
          0.689,
          0.001,
          0.07,
          2.472,
          0.002,
          0.064,
          0.064,
          0.1,
          0.083,
          4.429,
          2.057,
          0.487,
          1.514,
          0.27,
          0.179,
          0.083,
          0.037,
          0.064,
          0.064,
          3.55,
          0.064,
          0.009,
          1.037,
          0.129,
          0.047,
          4.436,
          0.642,
          1.84,
          0.064,
          1.658,
          0.01,
          0.064,
          0.082,
          0.064,
          0.2,
          0.71,
          0.247,
          0.064,
          0.046,
          4.434,
          0.044,
          0.027,
          0.064,
          3.548,
          0.2,
          0.084,
          0.056,
          0.186,
          0.09,
          0.02,
          0.073,
          3.547,
          0.064,
          0.106,
          0.064,
          0.092,
          0.027,
          0.064,
          3.547,
          0.064,
          0.028,
          4.434,
          0.751,
          0.073,
          0.08,
          0.143,
          0.05,
          0.064,
          0.045,
          0.4,
          0.057,
          0.195,
          1.181,
          0.551,
          0.177,
          0.25,
          0.774,
          0.32,
          0.543,
          4.433,
          0.195,
          0.683,
          0.442,
          0.3,
          0.151,
          0.002,
          0.1
         ]
        },
        {
         "name": "Ask-Origin",
         "opacity": 0.5,
         "type": "bar",
         "width": 0.7,
         "x": [
          56401.4,
          56404.8,
          56406.7,
          56407.4,
          56408.6,
          56408.7,
          56409.1,
          56410.9,
          56411,
          56414.5,
          56415.3,
          56416.8,
          56416.9,
          56417.8,
          56419.6,
          56419.7,
          56420.3,
          56420.4,
          56421.7,
          56425,
          56426.2,
          56426.5,
          56428.1,
          56432.7,
          56433.4,
          56435.9,
          56437.4,
          56439.6,
          56442,
          56442.7,
          56442.9,
          56443,
          56444.5,
          56446.7,
          56448.9,
          56449.2,
          56450.8,
          56451.2,
          56453.3,
          56457.8,
          56458.7,
          56464.3,
          56464.4,
          56467.1,
          56468.4,
          56470.1,
          56472.9,
          56473.1,
          56475.8,
          56476.6,
          56476.7,
          56477.1,
          56477.9,
          56480.4,
          56481.5,
          56481.9,
          56482.2,
          56482.3,
          56483,
          56483.5,
          56485.6,
          56486.7,
          56487.2,
          56488.2,
          56492.9,
          56496.7,
          56498.6,
          56498.8,
          56500.5,
          56501.4,
          56504.3,
          56506.1,
          56509.6,
          56510,
          56513.9,
          56515.7,
          56517.3,
          56518.5,
          56519.9,
          56523.5,
          56523.8,
          56524.5,
          56524.6,
          56525.7,
          56529.5,
          56529.8,
          56532.9,
          56533.3,
          56547.3,
          56548.8,
          56550,
          56567.3,
          56567.5,
          56571.3,
          56572.3,
          56573.8,
          56579.9,
          56586,
          56590.5,
          56598.8
         ],
         "y": [
          0.004,
          0.002,
          0.1,
          0.064,
          0.025,
          0.027,
          0.3,
          0.569,
          1.445,
          0.443,
          4.434,
          0.01,
          0.177,
          2.769,
          0.693,
          1.184,
          0.001,
          0.001,
          0.027,
          1.857,
          0.565,
          0.083,
          3.551,
          0.71,
          0.044,
          0.028,
          0.49,
          0.002,
          0.073,
          0.152,
          0.46,
          0.314,
          0.184,
          3.549,
          0.064,
          0.71,
          0.019,
          0.25,
          0.046,
          0.2,
          0.193,
          0.163,
          0.064,
          0.687,
          4.433,
          0.064,
          0.001,
          3.548,
          0.064,
          1.526,
          2.046,
          0.011,
          0.993,
          0.019,
          0.064,
          0.27,
          1.623,
          2.469,
          0.179,
          3.547,
          0.471,
          0.037,
          0.064,
          0.083,
          0.064,
          2.574,
          0.065,
          0.006,
          4.43,
          0.347,
          0.064,
          0.001,
          0.882,
          0.064,
          0.1,
          0.064,
          0.2,
          0.001,
          0.689,
          0.64,
          0.006,
          0.003,
          0.002,
          0.002,
          0.047,
          1.01,
          0.982,
          4.428,
          0.02,
          0.006,
          0.037,
          4.434,
          4.434,
          0.331,
          0.319,
          0.006,
          0.331,
          3.709,
          0.062,
          0.006
         ]
        },
        {
         "name": "Bid-Destination",
         "opacity": 0.5,
         "type": "bar",
         "width": 0.7,
         "x": [
          56354,
          56355,
          56359,
          56360,
          56361,
          56362,
          56363,
          56364,
          56366,
          56367,
          56368,
          56372,
          56373,
          56374,
          56375,
          56377,
          56379,
          56380,
          56381,
          56382,
          56384,
          56385,
          56386,
          56387,
          56388
         ],
         "y": [
          0.7966,
          0.22545245,
          0.13299065,
          1.137838,
          0.177328,
          1.5465,
          0.17684772,
          0.31487609,
          0.34942275,
          0.177333,
          0.04284865,
          0.23939682,
          0.09666606,
          0.132992,
          0.132997,
          0.54671278,
          0.0248571,
          0.132995,
          0.32049156,
          0.06192208,
          0.088668,
          0.9422,
          0.132997,
          0.2292891,
          0.56841296
         ]
        },
        {
         "name": "Ask-Destination",
         "opacity": 0.5,
         "type": "bar",
         "width": 0.7,
         "x": [
          56389,
          56395,
          56399,
          56405,
          56407,
          56408,
          56409,
          56410,
          56411,
          56413,
          56414,
          56415,
          56416,
          56417,
          56418,
          56419,
          56420,
          56421,
          56422,
          56423,
          56424,
          56425,
          56426,
          56427,
          56428
         ],
         "y": [
          0.18,
          0.13930883,
          0.04,
          0.14579259,
          0.00012,
          0.13305586,
          0.00012,
          0.06976503,
          0.10002,
          0.088791,
          1.20877183,
          0.00012,
          0.64980959,
          0.00012,
          0.17495418,
          1.34408137,
          6e-05,
          0.890826,
          0.17743762,
          0.00012,
          6e-05,
          0.00012,
          0.233114,
          0.00018,
          1.096454
         ]
        }
       ],
       "layout": {
        "height": 450,
        "template": {
         "data": {
          "bar": [
           {
            "error_x": {
             "color": "#2a3f5f"
            },
            "error_y": {
             "color": "#2a3f5f"
            },
            "marker": {
             "line": {
              "color": "#E5ECF6",
              "width": 0.5
             }
            },
            "type": "bar"
           }
          ],
          "barpolar": [
           {
            "marker": {
             "line": {
              "color": "#E5ECF6",
              "width": 0.5
             }
            },
            "type": "barpolar"
           }
          ],
          "carpet": [
           {
            "aaxis": {
             "endlinecolor": "#2a3f5f",
             "gridcolor": "white",
             "linecolor": "white",
             "minorgridcolor": "white",
             "startlinecolor": "#2a3f5f"
            },
            "baxis": {
             "endlinecolor": "#2a3f5f",
             "gridcolor": "white",
             "linecolor": "white",
             "minorgridcolor": "white",
             "startlinecolor": "#2a3f5f"
            },
            "type": "carpet"
           }
          ],
          "choropleth": [
           {
            "colorbar": {
             "outlinewidth": 0,
             "ticks": ""
            },
            "type": "choropleth"
           }
          ],
          "contour": [
           {
            "colorbar": {
             "outlinewidth": 0,
             "ticks": ""
            },
            "colorscale": [
             [
              0,
              "#0d0887"
             ],
             [
              0.1111111111111111,
              "#46039f"
             ],
             [
              0.2222222222222222,
              "#7201a8"
             ],
             [
              0.3333333333333333,
              "#9c179e"
             ],
             [
              0.4444444444444444,
              "#bd3786"
             ],
             [
              0.5555555555555556,
              "#d8576b"
             ],
             [
              0.6666666666666666,
              "#ed7953"
             ],
             [
              0.7777777777777778,
              "#fb9f3a"
             ],
             [
              0.8888888888888888,
              "#fdca26"
             ],
             [
              1,
              "#f0f921"
             ]
            ],
            "type": "contour"
           }
          ],
          "contourcarpet": [
           {
            "colorbar": {
             "outlinewidth": 0,
             "ticks": ""
            },
            "type": "contourcarpet"
           }
          ],
          "heatmap": [
           {
            "colorbar": {
             "outlinewidth": 0,
             "ticks": ""
            },
            "colorscale": [
             [
              0,
              "#0d0887"
             ],
             [
              0.1111111111111111,
              "#46039f"
             ],
             [
              0.2222222222222222,
              "#7201a8"
             ],
             [
              0.3333333333333333,
              "#9c179e"
             ],
             [
              0.4444444444444444,
              "#bd3786"
             ],
             [
              0.5555555555555556,
              "#d8576b"
             ],
             [
              0.6666666666666666,
              "#ed7953"
             ],
             [
              0.7777777777777778,
              "#fb9f3a"
             ],
             [
              0.8888888888888888,
              "#fdca26"
             ],
             [
              1,
              "#f0f921"
             ]
            ],
            "type": "heatmap"
           }
          ],
          "heatmapgl": [
           {
            "colorbar": {
             "outlinewidth": 0,
             "ticks": ""
            },
            "colorscale": [
             [
              0,
              "#0d0887"
             ],
             [
              0.1111111111111111,
              "#46039f"
             ],
             [
              0.2222222222222222,
              "#7201a8"
             ],
             [
              0.3333333333333333,
              "#9c179e"
             ],
             [
              0.4444444444444444,
              "#bd3786"
             ],
             [
              0.5555555555555556,
              "#d8576b"
             ],
             [
              0.6666666666666666,
              "#ed7953"
             ],
             [
              0.7777777777777778,
              "#fb9f3a"
             ],
             [
              0.8888888888888888,
              "#fdca26"
             ],
             [
              1,
              "#f0f921"
             ]
            ],
            "type": "heatmapgl"
           }
          ],
          "histogram": [
           {
            "marker": {
             "colorbar": {
              "outlinewidth": 0,
              "ticks": ""
             }
            },
            "type": "histogram"
           }
          ],
          "histogram2d": [
           {
            "colorbar": {
             "outlinewidth": 0,
             "ticks": ""
            },
            "colorscale": [
             [
              0,
              "#0d0887"
             ],
             [
              0.1111111111111111,
              "#46039f"
             ],
             [
              0.2222222222222222,
              "#7201a8"
             ],
             [
              0.3333333333333333,
              "#9c179e"
             ],
             [
              0.4444444444444444,
              "#bd3786"
             ],
             [
              0.5555555555555556,
              "#d8576b"
             ],
             [
              0.6666666666666666,
              "#ed7953"
             ],
             [
              0.7777777777777778,
              "#fb9f3a"
             ],
             [
              0.8888888888888888,
              "#fdca26"
             ],
             [
              1,
              "#f0f921"
             ]
            ],
            "type": "histogram2d"
           }
          ],
          "histogram2dcontour": [
           {
            "colorbar": {
             "outlinewidth": 0,
             "ticks": ""
            },
            "colorscale": [
             [
              0,
              "#0d0887"
             ],
             [
              0.1111111111111111,
              "#46039f"
             ],
             [
              0.2222222222222222,
              "#7201a8"
             ],
             [
              0.3333333333333333,
              "#9c179e"
             ],
             [
              0.4444444444444444,
              "#bd3786"
             ],
             [
              0.5555555555555556,
              "#d8576b"
             ],
             [
              0.6666666666666666,
              "#ed7953"
             ],
             [
              0.7777777777777778,
              "#fb9f3a"
             ],
             [
              0.8888888888888888,
              "#fdca26"
             ],
             [
              1,
              "#f0f921"
             ]
            ],
            "type": "histogram2dcontour"
           }
          ],
          "mesh3d": [
           {
            "colorbar": {
             "outlinewidth": 0,
             "ticks": ""
            },
            "type": "mesh3d"
           }
          ],
          "parcoords": [
           {
            "line": {
             "colorbar": {
              "outlinewidth": 0,
              "ticks": ""
             }
            },
            "type": "parcoords"
           }
          ],
          "pie": [
           {
            "automargin": true,
            "type": "pie"
           }
          ],
          "scatter": [
           {
            "marker": {
             "colorbar": {
              "outlinewidth": 0,
              "ticks": ""
             }
            },
            "type": "scatter"
           }
          ],
          "scatter3d": [
           {
            "line": {
             "colorbar": {
              "outlinewidth": 0,
              "ticks": ""
             }
            },
            "marker": {
             "colorbar": {
              "outlinewidth": 0,
              "ticks": ""
             }
            },
            "type": "scatter3d"
           }
          ],
          "scattercarpet": [
           {
            "marker": {
             "colorbar": {
              "outlinewidth": 0,
              "ticks": ""
             }
            },
            "type": "scattercarpet"
           }
          ],
          "scattergeo": [
           {
            "marker": {
             "colorbar": {
              "outlinewidth": 0,
              "ticks": ""
             }
            },
            "type": "scattergeo"
           }
          ],
          "scattergl": [
           {
            "marker": {
             "colorbar": {
              "outlinewidth": 0,
              "ticks": ""
             }
            },
            "type": "scattergl"
           }
          ],
          "scattermapbox": [
           {
            "marker": {
             "colorbar": {
              "outlinewidth": 0,
              "ticks": ""
             }
            },
            "type": "scattermapbox"
           }
          ],
          "scatterpolar": [
           {
            "marker": {
             "colorbar": {
              "outlinewidth": 0,
              "ticks": ""
             }
            },
            "type": "scatterpolar"
           }
          ],
          "scatterpolargl": [
           {
            "marker": {
             "colorbar": {
              "outlinewidth": 0,
              "ticks": ""
             }
            },
            "type": "scatterpolargl"
           }
          ],
          "scatterternary": [
           {
            "marker": {
             "colorbar": {
              "outlinewidth": 0,
              "ticks": ""
             }
            },
            "type": "scatterternary"
           }
          ],
          "surface": [
           {
            "colorbar": {
             "outlinewidth": 0,
             "ticks": ""
            },
            "colorscale": [
             [
              0,
              "#0d0887"
             ],
             [
              0.1111111111111111,
              "#46039f"
             ],
             [
              0.2222222222222222,
              "#7201a8"
             ],
             [
              0.3333333333333333,
              "#9c179e"
             ],
             [
              0.4444444444444444,
              "#bd3786"
             ],
             [
              0.5555555555555556,
              "#d8576b"
             ],
             [
              0.6666666666666666,
              "#ed7953"
             ],
             [
              0.7777777777777778,
              "#fb9f3a"
             ],
             [
              0.8888888888888888,
              "#fdca26"
             ],
             [
              1,
              "#f0f921"
             ]
            ],
            "type": "surface"
           }
          ],
          "table": [
           {
            "cells": {
             "fill": {
              "color": "#EBF0F8"
             },
             "line": {
              "color": "white"
             }
            },
            "header": {
             "fill": {
              "color": "#C8D4E3"
             },
             "line": {
              "color": "white"
             }
            },
            "type": "table"
           }
          ]
         },
         "layout": {
          "annotationdefaults": {
           "arrowcolor": "#2a3f5f",
           "arrowhead": 0,
           "arrowwidth": 1
          },
          "autotypenumbers": "strict",
          "coloraxis": {
           "colorbar": {
            "outlinewidth": 0,
            "ticks": ""
           }
          },
          "colorscale": {
           "diverging": [
            [
             0,
             "#8e0152"
            ],
            [
             0.1,
             "#c51b7d"
            ],
            [
             0.2,
             "#de77ae"
            ],
            [
             0.3,
             "#f1b6da"
            ],
            [
             0.4,
             "#fde0ef"
            ],
            [
             0.5,
             "#f7f7f7"
            ],
            [
             0.6,
             "#e6f5d0"
            ],
            [
             0.7,
             "#b8e186"
            ],
            [
             0.8,
             "#7fbc41"
            ],
            [
             0.9,
             "#4d9221"
            ],
            [
             1,
             "#276419"
            ]
           ],
           "sequential": [
            [
             0,
             "#0d0887"
            ],
            [
             0.1111111111111111,
             "#46039f"
            ],
            [
             0.2222222222222222,
             "#7201a8"
            ],
            [
             0.3333333333333333,
             "#9c179e"
            ],
            [
             0.4444444444444444,
             "#bd3786"
            ],
            [
             0.5555555555555556,
             "#d8576b"
            ],
            [
             0.6666666666666666,
             "#ed7953"
            ],
            [
             0.7777777777777778,
             "#fb9f3a"
            ],
            [
             0.8888888888888888,
             "#fdca26"
            ],
            [
             1,
             "#f0f921"
            ]
           ],
           "sequentialminus": [
            [
             0,
             "#0d0887"
            ],
            [
             0.1111111111111111,
             "#46039f"
            ],
            [
             0.2222222222222222,
             "#7201a8"
            ],
            [
             0.3333333333333333,
             "#9c179e"
            ],
            [
             0.4444444444444444,
             "#bd3786"
            ],
            [
             0.5555555555555556,
             "#d8576b"
            ],
            [
             0.6666666666666666,
             "#ed7953"
            ],
            [
             0.7777777777777778,
             "#fb9f3a"
            ],
            [
             0.8888888888888888,
             "#fdca26"
            ],
            [
             1,
             "#f0f921"
            ]
           ]
          },
          "colorway": [
           "#636efa",
           "#EF553B",
           "#00cc96",
           "#ab63fa",
           "#FFA15A",
           "#19d3f3",
           "#FF6692",
           "#B6E880",
           "#FF97FF",
           "#FECB52"
          ],
          "font": {
           "color": "#2a3f5f"
          },
          "geo": {
           "bgcolor": "white",
           "lakecolor": "white",
           "landcolor": "#E5ECF6",
           "showlakes": true,
           "showland": true,
           "subunitcolor": "white"
          },
          "hoverlabel": {
           "align": "left"
          },
          "hovermode": "closest",
          "mapbox": {
           "style": "light"
          },
          "paper_bgcolor": "white",
          "plot_bgcolor": "#E5ECF6",
          "polar": {
           "angularaxis": {
            "gridcolor": "white",
            "linecolor": "white",
            "ticks": ""
           },
           "bgcolor": "#E5ECF6",
           "radialaxis": {
            "gridcolor": "white",
            "linecolor": "white",
            "ticks": ""
           }
          },
          "scene": {
           "xaxis": {
            "backgroundcolor": "#E5ECF6",
            "gridcolor": "white",
            "gridwidth": 2,
            "linecolor": "white",
            "showbackground": true,
            "ticks": "",
            "zerolinecolor": "white"
           },
           "yaxis": {
            "backgroundcolor": "#E5ECF6",
            "gridcolor": "white",
            "gridwidth": 2,
            "linecolor": "white",
            "showbackground": true,
            "ticks": "",
            "zerolinecolor": "white"
           },
           "zaxis": {
            "backgroundcolor": "#E5ECF6",
            "gridcolor": "white",
            "gridwidth": 2,
            "linecolor": "white",
            "showbackground": true,
            "ticks": "",
            "zerolinecolor": "white"
           }
          },
          "shapedefaults": {
           "line": {
            "color": "#2a3f5f"
           }
          },
          "ternary": {
           "aaxis": {
            "gridcolor": "white",
            "linecolor": "white",
            "ticks": ""
           },
           "baxis": {
            "gridcolor": "white",
            "linecolor": "white",
            "ticks": ""
           },
           "bgcolor": "#E5ECF6",
           "caxis": {
            "gridcolor": "white",
            "linecolor": "white",
            "ticks": ""
           }
          },
          "title": {
           "x": 0.05
          },
          "xaxis": {
           "automargin": true,
           "gridcolor": "white",
           "linecolor": "white",
           "ticks": "",
           "title": {
            "standoff": 15
           },
           "zerolinecolor": "white",
           "zerolinewidth": 2
          },
          "yaxis": {
           "automargin": true,
           "gridcolor": "white",
           "linecolor": "white",
           "ticks": "",
           "title": {
            "standoff": 15
           },
           "zerolinecolor": "white",
           "zerolinewidth": 2
          }
         }
        },
        "width": 750,
        "xaxis": {
         "title": {
          "text": "Price"
         }
        },
        "yaxis": {
         "title": {
          "text": "Size"
         }
        }
       }
      },
      "text/html": [
       "<div>                            <div id=\"80eaaf6a-04bb-4e5a-b272-8eb8b617686f\" class=\"plotly-graph-div\" style=\"height:450px; width:750px;\"></div>            <script type=\"text/javascript\">                require([\"plotly\"], function(Plotly) {                    window.PLOTLYENV=window.PLOTLYENV || {};                                    if (document.getElementById(\"80eaaf6a-04bb-4e5a-b272-8eb8b617686f\")) {                    Plotly.newPlot(                        \"80eaaf6a-04bb-4e5a-b272-8eb8b617686f\",                        [{\"name\": \"Bid-Origin\", \"opacity\": 0.5, \"type\": \"bar\", \"width\": 0.7, \"x\": [56224.3, 56228.5, 56234.4, 56240.2, 56242.4, 56245.3, 56250.0, 56252.8, 56256.7, 56259.5, 56261.8, 56261.9, 56265.5, 56268.7, 56269.2, 56269.6, 56271.0, 56271.2, 56272.0, 56280.8, 56282.1, 56283.9, 56284.0, 56285.2, 56285.3, 56285.4, 56288.6, 56289.7, 56290.4, 56291.8, 56296.1, 56302.0, 56305.5, 56307.7, 56308.1, 56308.7, 56312.0, 56312.1, 56313.0, 56313.6, 56313.7, 56314.5, 56317.1, 56320.0, 56320.2, 56320.3, 56326.0, 56330.0, 56330.7, 56331.7, 56333.3, 56340.2, 56342.1, 56342.2, 56343.9, 56345.5, 56347.2, 56347.5, 56348.8, 56349.0, 56350.1, 56350.2, 56351.2, 56351.5, 56352.2, 56352.6, 56352.7, 56358.4, 56362.1, 56363.7, 56364.6, 56370.2, 56372.0, 56372.1, 56376.7, 56378.1, 56378.4, 56378.6, 56379.0, 56379.2, 56379.3, 56379.4, 56379.5, 56379.6, 56380.2, 56381.1, 56386.9, 56387.5, 56388.8, 56388.9, 56389.4, 56390.2, 56391.2, 56391.3, 56391.8, 56394.9, 56395.8, 56396.2, 56398.7, 56398.8], \"y\": [4.434, 2.028, 0.001, 0.047, 0.018, 0.216, 0.037, 4.431, 2.479, 0.643, 0.347, 0.001, 0.064, 0.689, 0.001, 0.07, 2.472, 0.002, 0.064, 0.064, 0.1, 0.083, 4.429, 2.057, 0.487, 1.514, 0.27, 0.179, 0.083, 0.037, 0.064, 0.064, 3.55, 0.064, 0.009, 1.037, 0.129, 0.047, 4.436, 0.642, 1.84, 0.064, 1.658, 0.01, 0.064, 0.082, 0.064, 0.2, 0.71, 0.247, 0.064, 0.046, 4.434, 0.044, 0.027, 0.064, 3.548, 0.2, 0.084, 0.056, 0.186, 0.09, 0.02, 0.073, 3.547, 0.064, 0.106, 0.064, 0.092, 0.027, 0.064, 3.547, 0.064, 0.028, 4.434, 0.751, 0.073, 0.08, 0.143, 0.05, 0.064, 0.045, 0.4, 0.057, 0.195, 1.181, 0.551, 0.177, 0.25, 0.774, 0.32, 0.543, 4.433, 0.195, 0.683, 0.442, 0.3, 0.151, 0.002, 0.1]}, {\"name\": \"Ask-Origin\", \"opacity\": 0.5, \"type\": \"bar\", \"width\": 0.7, \"x\": [56401.4, 56404.8, 56406.7, 56407.4, 56408.6, 56408.7, 56409.1, 56410.9, 56411.0, 56414.5, 56415.3, 56416.8, 56416.9, 56417.8, 56419.6, 56419.7, 56420.3, 56420.4, 56421.7, 56425.0, 56426.2, 56426.5, 56428.1, 56432.7, 56433.4, 56435.9, 56437.4, 56439.6, 56442.0, 56442.7, 56442.9, 56443.0, 56444.5, 56446.7, 56448.9, 56449.2, 56450.8, 56451.2, 56453.3, 56457.8, 56458.7, 56464.3, 56464.4, 56467.1, 56468.4, 56470.1, 56472.9, 56473.1, 56475.8, 56476.6, 56476.7, 56477.1, 56477.9, 56480.4, 56481.5, 56481.9, 56482.2, 56482.3, 56483.0, 56483.5, 56485.6, 56486.7, 56487.2, 56488.2, 56492.9, 56496.7, 56498.6, 56498.8, 56500.5, 56501.4, 56504.3, 56506.1, 56509.6, 56510.0, 56513.9, 56515.7, 56517.3, 56518.5, 56519.9, 56523.5, 56523.8, 56524.5, 56524.6, 56525.7, 56529.5, 56529.8, 56532.9, 56533.3, 56547.3, 56548.8, 56550.0, 56567.3, 56567.5, 56571.3, 56572.3, 56573.8, 56579.9, 56586.0, 56590.5, 56598.8], \"y\": [0.004, 0.002, 0.1, 0.064, 0.025, 0.027, 0.3, 0.569, 1.445, 0.443, 4.434, 0.01, 0.177, 2.769, 0.693, 1.184, 0.001, 0.001, 0.027, 1.857, 0.565, 0.083, 3.551, 0.71, 0.044, 0.028, 0.49, 0.002, 0.073, 0.152, 0.46, 0.314, 0.184, 3.549, 0.064, 0.71, 0.019, 0.25, 0.046, 0.2, 0.193, 0.163, 0.064, 0.687, 4.433, 0.064, 0.001, 3.548, 0.064, 1.526, 2.046, 0.011, 0.993, 0.019, 0.064, 0.27, 1.623, 2.469, 0.179, 3.547, 0.471, 0.037, 0.064, 0.083, 0.064, 2.574, 0.065, 0.006, 4.43, 0.347, 0.064, 0.001, 0.882, 0.064, 0.1, 0.064, 0.2, 0.001, 0.689, 0.64, 0.006, 0.003, 0.002, 0.002, 0.047, 1.01, 0.982, 4.428, 0.02, 0.006, 0.037, 4.434, 4.434, 0.331, 0.319, 0.006, 0.331, 3.709, 0.062, 0.006]}, {\"name\": \"Bid-Destination\", \"opacity\": 0.5, \"type\": \"bar\", \"width\": 0.7, \"x\": [56354.0, 56355.0, 56359.0, 56360.0, 56361.0, 56362.0, 56363.0, 56364.0, 56366.0, 56367.0, 56368.0, 56372.0, 56373.0, 56374.0, 56375.0, 56377.0, 56379.0, 56380.0, 56381.0, 56382.0, 56384.0, 56385.0, 56386.0, 56387.0, 56388.0], \"y\": [0.7966, 0.22545245, 0.13299065, 1.137838, 0.177328, 1.5465, 0.17684772, 0.31487609, 0.34942275, 0.177333, 0.04284865, 0.23939682, 0.09666606, 0.132992, 0.132997, 0.54671278, 0.0248571, 0.132995, 0.32049156, 0.06192208, 0.088668, 0.9422, 0.132997, 0.2292891, 0.56841296]}, {\"name\": \"Ask-Destination\", \"opacity\": 0.5, \"type\": \"bar\", \"width\": 0.7, \"x\": [56389.0, 56395.0, 56399.0, 56405.0, 56407.0, 56408.0, 56409.0, 56410.0, 56411.0, 56413.0, 56414.0, 56415.0, 56416.0, 56417.0, 56418.0, 56419.0, 56420.0, 56421.0, 56422.0, 56423.0, 56424.0, 56425.0, 56426.0, 56427.0, 56428.0], \"y\": [0.18, 0.13930883, 0.04, 0.14579259, 0.00012, 0.13305586, 0.00012, 0.06976503, 0.10002, 0.088791, 1.20877183, 0.00012, 0.64980959, 0.00012, 0.17495418, 1.34408137, 6e-05, 0.890826, 0.17743762, 0.00012, 6e-05, 0.00012, 0.233114, 0.00018, 1.096454]}],                        {\"height\": 450, \"template\": {\"data\": {\"bar\": [{\"error_x\": {\"color\": \"#2a3f5f\"}, \"error_y\": {\"color\": \"#2a3f5f\"}, \"marker\": {\"line\": {\"color\": \"#E5ECF6\", \"width\": 0.5}}, \"type\": \"bar\"}], \"barpolar\": [{\"marker\": {\"line\": {\"color\": \"#E5ECF6\", \"width\": 0.5}}, \"type\": \"barpolar\"}], \"carpet\": [{\"aaxis\": {\"endlinecolor\": \"#2a3f5f\", \"gridcolor\": \"white\", \"linecolor\": \"white\", \"minorgridcolor\": \"white\", \"startlinecolor\": \"#2a3f5f\"}, \"baxis\": {\"endlinecolor\": \"#2a3f5f\", \"gridcolor\": \"white\", \"linecolor\": \"white\", \"minorgridcolor\": \"white\", \"startlinecolor\": \"#2a3f5f\"}, \"type\": \"carpet\"}], \"choropleth\": [{\"colorbar\": {\"outlinewidth\": 0, \"ticks\": \"\"}, \"type\": \"choropleth\"}], \"contour\": [{\"colorbar\": {\"outlinewidth\": 0, \"ticks\": \"\"}, \"colorscale\": [[0.0, \"#0d0887\"], [0.1111111111111111, \"#46039f\"], [0.2222222222222222, \"#7201a8\"], [0.3333333333333333, \"#9c179e\"], [0.4444444444444444, \"#bd3786\"], [0.5555555555555556, \"#d8576b\"], [0.6666666666666666, \"#ed7953\"], [0.7777777777777778, \"#fb9f3a\"], [0.8888888888888888, \"#fdca26\"], [1.0, \"#f0f921\"]], \"type\": \"contour\"}], \"contourcarpet\": [{\"colorbar\": {\"outlinewidth\": 0, \"ticks\": \"\"}, \"type\": \"contourcarpet\"}], \"heatmap\": [{\"colorbar\": {\"outlinewidth\": 0, \"ticks\": \"\"}, \"colorscale\": [[0.0, \"#0d0887\"], [0.1111111111111111, \"#46039f\"], [0.2222222222222222, \"#7201a8\"], [0.3333333333333333, \"#9c179e\"], [0.4444444444444444, \"#bd3786\"], [0.5555555555555556, \"#d8576b\"], [0.6666666666666666, \"#ed7953\"], [0.7777777777777778, \"#fb9f3a\"], [0.8888888888888888, \"#fdca26\"], [1.0, \"#f0f921\"]], \"type\": \"heatmap\"}], \"heatmapgl\": [{\"colorbar\": {\"outlinewidth\": 0, \"ticks\": \"\"}, \"colorscale\": [[0.0, \"#0d0887\"], [0.1111111111111111, \"#46039f\"], [0.2222222222222222, \"#7201a8\"], [0.3333333333333333, \"#9c179e\"], [0.4444444444444444, \"#bd3786\"], [0.5555555555555556, \"#d8576b\"], [0.6666666666666666, \"#ed7953\"], [0.7777777777777778, \"#fb9f3a\"], [0.8888888888888888, \"#fdca26\"], [1.0, \"#f0f921\"]], \"type\": \"heatmapgl\"}], \"histogram\": [{\"marker\": {\"colorbar\": {\"outlinewidth\": 0, \"ticks\": \"\"}}, \"type\": \"histogram\"}], \"histogram2d\": [{\"colorbar\": {\"outlinewidth\": 0, \"ticks\": \"\"}, \"colorscale\": [[0.0, \"#0d0887\"], [0.1111111111111111, \"#46039f\"], [0.2222222222222222, \"#7201a8\"], [0.3333333333333333, \"#9c179e\"], [0.4444444444444444, \"#bd3786\"], [0.5555555555555556, \"#d8576b\"], [0.6666666666666666, \"#ed7953\"], [0.7777777777777778, \"#fb9f3a\"], [0.8888888888888888, \"#fdca26\"], [1.0, \"#f0f921\"]], \"type\": \"histogram2d\"}], \"histogram2dcontour\": [{\"colorbar\": {\"outlinewidth\": 0, \"ticks\": \"\"}, \"colorscale\": [[0.0, \"#0d0887\"], [0.1111111111111111, \"#46039f\"], [0.2222222222222222, \"#7201a8\"], [0.3333333333333333, \"#9c179e\"], [0.4444444444444444, \"#bd3786\"], [0.5555555555555556, \"#d8576b\"], [0.6666666666666666, \"#ed7953\"], [0.7777777777777778, \"#fb9f3a\"], [0.8888888888888888, \"#fdca26\"], [1.0, \"#f0f921\"]], \"type\": \"histogram2dcontour\"}], \"mesh3d\": [{\"colorbar\": {\"outlinewidth\": 0, \"ticks\": \"\"}, \"type\": \"mesh3d\"}], \"parcoords\": [{\"line\": {\"colorbar\": {\"outlinewidth\": 0, \"ticks\": \"\"}}, \"type\": \"parcoords\"}], \"pie\": [{\"automargin\": true, \"type\": \"pie\"}], \"scatter\": [{\"marker\": {\"colorbar\": {\"outlinewidth\": 0, \"ticks\": \"\"}}, \"type\": \"scatter\"}], \"scatter3d\": [{\"line\": {\"colorbar\": {\"outlinewidth\": 0, \"ticks\": \"\"}}, \"marker\": {\"colorbar\": {\"outlinewidth\": 0, \"ticks\": \"\"}}, \"type\": \"scatter3d\"}], \"scattercarpet\": [{\"marker\": {\"colorbar\": {\"outlinewidth\": 0, \"ticks\": \"\"}}, \"type\": \"scattercarpet\"}], \"scattergeo\": [{\"marker\": {\"colorbar\": {\"outlinewidth\": 0, \"ticks\": \"\"}}, \"type\": \"scattergeo\"}], \"scattergl\": [{\"marker\": {\"colorbar\": {\"outlinewidth\": 0, \"ticks\": \"\"}}, \"type\": \"scattergl\"}], \"scattermapbox\": [{\"marker\": {\"colorbar\": {\"outlinewidth\": 0, \"ticks\": \"\"}}, \"type\": \"scattermapbox\"}], \"scatterpolar\": [{\"marker\": {\"colorbar\": {\"outlinewidth\": 0, \"ticks\": \"\"}}, \"type\": \"scatterpolar\"}], \"scatterpolargl\": [{\"marker\": {\"colorbar\": {\"outlinewidth\": 0, \"ticks\": \"\"}}, \"type\": \"scatterpolargl\"}], \"scatterternary\": [{\"marker\": {\"colorbar\": {\"outlinewidth\": 0, \"ticks\": \"\"}}, \"type\": \"scatterternary\"}], \"surface\": [{\"colorbar\": {\"outlinewidth\": 0, \"ticks\": \"\"}, \"colorscale\": [[0.0, \"#0d0887\"], [0.1111111111111111, \"#46039f\"], [0.2222222222222222, \"#7201a8\"], [0.3333333333333333, \"#9c179e\"], [0.4444444444444444, \"#bd3786\"], [0.5555555555555556, \"#d8576b\"], [0.6666666666666666, \"#ed7953\"], [0.7777777777777778, \"#fb9f3a\"], [0.8888888888888888, \"#fdca26\"], [1.0, \"#f0f921\"]], \"type\": \"surface\"}], \"table\": [{\"cells\": {\"fill\": {\"color\": \"#EBF0F8\"}, \"line\": {\"color\": \"white\"}}, \"header\": {\"fill\": {\"color\": \"#C8D4E3\"}, \"line\": {\"color\": \"white\"}}, \"type\": \"table\"}]}, \"layout\": {\"annotationdefaults\": {\"arrowcolor\": \"#2a3f5f\", \"arrowhead\": 0, \"arrowwidth\": 1}, \"autotypenumbers\": \"strict\", \"coloraxis\": {\"colorbar\": {\"outlinewidth\": 0, \"ticks\": \"\"}}, \"colorscale\": {\"diverging\": [[0, \"#8e0152\"], [0.1, \"#c51b7d\"], [0.2, \"#de77ae\"], [0.3, \"#f1b6da\"], [0.4, \"#fde0ef\"], [0.5, \"#f7f7f7\"], [0.6, \"#e6f5d0\"], [0.7, \"#b8e186\"], [0.8, \"#7fbc41\"], [0.9, \"#4d9221\"], [1, \"#276419\"]], \"sequential\": [[0.0, \"#0d0887\"], [0.1111111111111111, \"#46039f\"], [0.2222222222222222, \"#7201a8\"], [0.3333333333333333, \"#9c179e\"], [0.4444444444444444, \"#bd3786\"], [0.5555555555555556, \"#d8576b\"], [0.6666666666666666, \"#ed7953\"], [0.7777777777777778, \"#fb9f3a\"], [0.8888888888888888, \"#fdca26\"], [1.0, \"#f0f921\"]], \"sequentialminus\": [[0.0, \"#0d0887\"], [0.1111111111111111, \"#46039f\"], [0.2222222222222222, \"#7201a8\"], [0.3333333333333333, \"#9c179e\"], [0.4444444444444444, \"#bd3786\"], [0.5555555555555556, \"#d8576b\"], [0.6666666666666666, \"#ed7953\"], [0.7777777777777778, \"#fb9f3a\"], [0.8888888888888888, \"#fdca26\"], [1.0, \"#f0f921\"]]}, \"colorway\": [\"#636efa\", \"#EF553B\", \"#00cc96\", \"#ab63fa\", \"#FFA15A\", \"#19d3f3\", \"#FF6692\", \"#B6E880\", \"#FF97FF\", \"#FECB52\"], \"font\": {\"color\": \"#2a3f5f\"}, \"geo\": {\"bgcolor\": \"white\", \"lakecolor\": \"white\", \"landcolor\": \"#E5ECF6\", \"showlakes\": true, \"showland\": true, \"subunitcolor\": \"white\"}, \"hoverlabel\": {\"align\": \"left\"}, \"hovermode\": \"closest\", \"mapbox\": {\"style\": \"light\"}, \"paper_bgcolor\": \"white\", \"plot_bgcolor\": \"#E5ECF6\", \"polar\": {\"angularaxis\": {\"gridcolor\": \"white\", \"linecolor\": \"white\", \"ticks\": \"\"}, \"bgcolor\": \"#E5ECF6\", \"radialaxis\": {\"gridcolor\": \"white\", \"linecolor\": \"white\", \"ticks\": \"\"}}, \"scene\": {\"xaxis\": {\"backgroundcolor\": \"#E5ECF6\", \"gridcolor\": \"white\", \"gridwidth\": 2, \"linecolor\": \"white\", \"showbackground\": true, \"ticks\": \"\", \"zerolinecolor\": \"white\"}, \"yaxis\": {\"backgroundcolor\": \"#E5ECF6\", \"gridcolor\": \"white\", \"gridwidth\": 2, \"linecolor\": \"white\", \"showbackground\": true, \"ticks\": \"\", \"zerolinecolor\": \"white\"}, \"zaxis\": {\"backgroundcolor\": \"#E5ECF6\", \"gridcolor\": \"white\", \"gridwidth\": 2, \"linecolor\": \"white\", \"showbackground\": true, \"ticks\": \"\", \"zerolinecolor\": \"white\"}}, \"shapedefaults\": {\"line\": {\"color\": \"#2a3f5f\"}}, \"ternary\": {\"aaxis\": {\"gridcolor\": \"white\", \"linecolor\": \"white\", \"ticks\": \"\"}, \"baxis\": {\"gridcolor\": \"white\", \"linecolor\": \"white\", \"ticks\": \"\"}, \"bgcolor\": \"#E5ECF6\", \"caxis\": {\"gridcolor\": \"white\", \"linecolor\": \"white\", \"ticks\": \"\"}}, \"title\": {\"x\": 0.05}, \"xaxis\": {\"automargin\": true, \"gridcolor\": \"white\", \"linecolor\": \"white\", \"ticks\": \"\", \"title\": {\"standoff\": 15}, \"zerolinecolor\": \"white\", \"zerolinewidth\": 2}, \"yaxis\": {\"automargin\": true, \"gridcolor\": \"white\", \"linecolor\": \"white\", \"ticks\": \"\", \"title\": {\"standoff\": 15}, \"zerolinecolor\": \"white\", \"zerolinewidth\": 2}}}, \"width\": 750, \"xaxis\": {\"title\": {\"text\": \"Price\"}}, \"yaxis\": {\"title\": {\"text\": \"Size\"}}},                        {\"responsive\": true}                    ).then(function(){\n",
       "                            \n",
       "var gd = document.getElementById('80eaaf6a-04bb-4e5a-b272-8eb8b617686f');\n",
       "var x = new MutationObserver(function (mutations, observer) {{\n",
       "        var display = window.getComputedStyle(gd).display;\n",
       "        if (!display || display === 'none') {{\n",
       "            console.log([gd, 'removed!']);\n",
       "            Plotly.purge(gd);\n",
       "            observer.disconnect();\n",
       "        }}\n",
       "}});\n",
       "\n",
       "// Listen for the removal of the full notebook cells\n",
       "var notebookContainer = gd.closest('#notebook-container');\n",
       "if (notebookContainer) {{\n",
       "    x.observe(notebookContainer, {childList: true});\n",
       "}}\n",
       "\n",
       "// Listen for the clearing of the current output cell\n",
       "var outputEl = gd.closest('.output');\n",
       "if (outputEl) {{\n",
       "    x.observe(outputEl, {childList: true});\n",
       "}}\n",
       "\n",
       "                        })                };                });            </script>        </div>"
      ]
     },
     "metadata": {},
     "output_type": "display_data"
    }
   ],
   "source": [
    "current_kraken = ''\n",
    "current_bitfinex = ''\n",
    "test = [1,2,3,5,6]\n",
    "k = 0\n",
    "b = 0\n",
    "for i in range(len(test)):\n",
    "    if df_datetime['exchange'][i] == 'kraken' and k==0:\n",
    "        k=1\n",
    "        current_kraken = df_datetime['dict_key'][i]\n",
    "\n",
    "    if df_datetime['exchange'][i] == 'bitfinex' and b==0 and k==1:\n",
    "        b=1\n",
    "        current_bitfinex = df_datetime['dict_key'][i]\n",
    "\n",
    "\n",
    "    if k==1 and b==1:\n",
    "        print('Al momento')\n",
    "        print(current_kraken, 'kraken')\n",
    "        print(current_bitfinex, 'bitfinex')\n",
    "        k=0\n",
    "        b=0\n",
    "        kraken = dict_to_df('kraken',current_kraken , orderbooks_data)\n",
    "        bitfinex = dict_to_df('bitfinex',current_bitfinex , orderbooks_data)\n",
    "        print(kraken.head(2), 'KRAKEN')\n",
    "        print(bitfinex.head(2),'BITFINEX')\n",
    "        plot_orderbook_2excahnges(kraken, bitfinex)\n",
    "\n",
    "    else:\n",
    "        pass"
   ]
  },
  {
   "cell_type": "code",
   "execution_count": 21,
   "id": "b39d6a4f",
   "metadata": {},
   "outputs": [
    {
     "data": {
      "text/html": [
       "<div>\n",
       "<style scoped>\n",
       "    .dataframe tbody tr th:only-of-type {\n",
       "        vertical-align: middle;\n",
       "    }\n",
       "\n",
       "    .dataframe tbody tr th {\n",
       "        vertical-align: top;\n",
       "    }\n",
       "\n",
       "    .dataframe thead th {\n",
       "        text-align: right;\n",
       "    }\n",
       "</style>\n",
       "<table border=\"1\" class=\"dataframe\">\n",
       "  <thead>\n",
       "    <tr style=\"text-align: right;\">\n",
       "      <th></th>\n",
       "      <th>ask_size</th>\n",
       "      <th>ask</th>\n",
       "      <th>bid</th>\n",
       "      <th>bid_size</th>\n",
       "    </tr>\n",
       "  </thead>\n",
       "  <tbody>\n",
       "    <tr>\n",
       "      <th>0</th>\n",
       "      <td>0.004</td>\n",
       "      <td>56401.4</td>\n",
       "      <td>56398.8</td>\n",
       "      <td>0.100</td>\n",
       "    </tr>\n",
       "    <tr>\n",
       "      <th>1</th>\n",
       "      <td>0.002</td>\n",
       "      <td>56404.8</td>\n",
       "      <td>56398.7</td>\n",
       "      <td>0.002</td>\n",
       "    </tr>\n",
       "    <tr>\n",
       "      <th>2</th>\n",
       "      <td>0.100</td>\n",
       "      <td>56406.7</td>\n",
       "      <td>56396.2</td>\n",
       "      <td>0.151</td>\n",
       "    </tr>\n",
       "    <tr>\n",
       "      <th>3</th>\n",
       "      <td>0.064</td>\n",
       "      <td>56407.4</td>\n",
       "      <td>56395.8</td>\n",
       "      <td>0.300</td>\n",
       "    </tr>\n",
       "    <tr>\n",
       "      <th>4</th>\n",
       "      <td>0.025</td>\n",
       "      <td>56408.6</td>\n",
       "      <td>56394.9</td>\n",
       "      <td>0.442</td>\n",
       "    </tr>\n",
       "    <tr>\n",
       "      <th>5</th>\n",
       "      <td>0.027</td>\n",
       "      <td>56408.7</td>\n",
       "      <td>56391.8</td>\n",
       "      <td>0.683</td>\n",
       "    </tr>\n",
       "    <tr>\n",
       "      <th>6</th>\n",
       "      <td>0.300</td>\n",
       "      <td>56409.1</td>\n",
       "      <td>56391.3</td>\n",
       "      <td>0.195</td>\n",
       "    </tr>\n",
       "    <tr>\n",
       "      <th>7</th>\n",
       "      <td>0.569</td>\n",
       "      <td>56410.9</td>\n",
       "      <td>56391.2</td>\n",
       "      <td>4.433</td>\n",
       "    </tr>\n",
       "    <tr>\n",
       "      <th>8</th>\n",
       "      <td>1.445</td>\n",
       "      <td>56411.0</td>\n",
       "      <td>56390.2</td>\n",
       "      <td>0.543</td>\n",
       "    </tr>\n",
       "    <tr>\n",
       "      <th>9</th>\n",
       "      <td>0.443</td>\n",
       "      <td>56414.5</td>\n",
       "      <td>56389.4</td>\n",
       "      <td>0.320</td>\n",
       "    </tr>\n",
       "    <tr>\n",
       "      <th>10</th>\n",
       "      <td>4.434</td>\n",
       "      <td>56415.3</td>\n",
       "      <td>56388.9</td>\n",
       "      <td>0.774</td>\n",
       "    </tr>\n",
       "    <tr>\n",
       "      <th>11</th>\n",
       "      <td>0.010</td>\n",
       "      <td>56416.8</td>\n",
       "      <td>56388.8</td>\n",
       "      <td>0.250</td>\n",
       "    </tr>\n",
       "    <tr>\n",
       "      <th>12</th>\n",
       "      <td>0.177</td>\n",
       "      <td>56416.9</td>\n",
       "      <td>56387.5</td>\n",
       "      <td>0.177</td>\n",
       "    </tr>\n",
       "    <tr>\n",
       "      <th>13</th>\n",
       "      <td>2.769</td>\n",
       "      <td>56417.8</td>\n",
       "      <td>56386.9</td>\n",
       "      <td>0.551</td>\n",
       "    </tr>\n",
       "    <tr>\n",
       "      <th>14</th>\n",
       "      <td>0.693</td>\n",
       "      <td>56419.6</td>\n",
       "      <td>56381.1</td>\n",
       "      <td>1.181</td>\n",
       "    </tr>\n",
       "    <tr>\n",
       "      <th>15</th>\n",
       "      <td>1.184</td>\n",
       "      <td>56419.7</td>\n",
       "      <td>56380.2</td>\n",
       "      <td>0.195</td>\n",
       "    </tr>\n",
       "    <tr>\n",
       "      <th>16</th>\n",
       "      <td>0.001</td>\n",
       "      <td>56420.3</td>\n",
       "      <td>56379.6</td>\n",
       "      <td>0.057</td>\n",
       "    </tr>\n",
       "    <tr>\n",
       "      <th>17</th>\n",
       "      <td>0.001</td>\n",
       "      <td>56420.4</td>\n",
       "      <td>56379.5</td>\n",
       "      <td>0.400</td>\n",
       "    </tr>\n",
       "    <tr>\n",
       "      <th>18</th>\n",
       "      <td>0.027</td>\n",
       "      <td>56421.7</td>\n",
       "      <td>56379.4</td>\n",
       "      <td>0.045</td>\n",
       "    </tr>\n",
       "    <tr>\n",
       "      <th>19</th>\n",
       "      <td>1.857</td>\n",
       "      <td>56425.0</td>\n",
       "      <td>56379.3</td>\n",
       "      <td>0.064</td>\n",
       "    </tr>\n",
       "  </tbody>\n",
       "</table>\n",
       "</div>"
      ],
      "text/plain": [
       "    ask_size      ask      bid  bid_size\n",
       "0      0.004  56401.4  56398.8     0.100\n",
       "1      0.002  56404.8  56398.7     0.002\n",
       "2      0.100  56406.7  56396.2     0.151\n",
       "3      0.064  56407.4  56395.8     0.300\n",
       "4      0.025  56408.6  56394.9     0.442\n",
       "5      0.027  56408.7  56391.8     0.683\n",
       "6      0.300  56409.1  56391.3     0.195\n",
       "7      0.569  56410.9  56391.2     4.433\n",
       "8      1.445  56411.0  56390.2     0.543\n",
       "9      0.443  56414.5  56389.4     0.320\n",
       "10     4.434  56415.3  56388.9     0.774\n",
       "11     0.010  56416.8  56388.8     0.250\n",
       "12     0.177  56416.9  56387.5     0.177\n",
       "13     2.769  56417.8  56386.9     0.551\n",
       "14     0.693  56419.6  56381.1     1.181\n",
       "15     1.184  56419.7  56380.2     0.195\n",
       "16     0.001  56420.3  56379.6     0.057\n",
       "17     0.001  56420.4  56379.5     0.400\n",
       "18     0.027  56421.7  56379.4     0.045\n",
       "19     1.857  56425.0  56379.3     0.064"
      ]
     },
     "execution_count": 21,
     "metadata": {},
     "output_type": "execute_result"
    }
   ],
   "source": [
    "kraken = dict_to_df('kraken','2021-11-24T03:24:46.962Z' , orderbooks_data)\n",
    "kraken.head(20)"
   ]
  },
  {
   "cell_type": "code",
   "execution_count": 20,
   "id": "baaf0406",
   "metadata": {},
   "outputs": [
    {
     "data": {
      "text/html": [
       "<div>\n",
       "<style scoped>\n",
       "    .dataframe tbody tr th:only-of-type {\n",
       "        vertical-align: middle;\n",
       "    }\n",
       "\n",
       "    .dataframe tbody tr th {\n",
       "        vertical-align: top;\n",
       "    }\n",
       "\n",
       "    .dataframe thead th {\n",
       "        text-align: right;\n",
       "    }\n",
       "</style>\n",
       "<table border=\"1\" class=\"dataframe\">\n",
       "  <thead>\n",
       "    <tr style=\"text-align: right;\">\n",
       "      <th></th>\n",
       "      <th>ask_size</th>\n",
       "      <th>ask</th>\n",
       "      <th>bid</th>\n",
       "      <th>bid_size</th>\n",
       "    </tr>\n",
       "  </thead>\n",
       "  <tbody>\n",
       "    <tr>\n",
       "      <th>0</th>\n",
       "      <td>0.180000</td>\n",
       "      <td>56389.0</td>\n",
       "      <td>56388.0</td>\n",
       "      <td>0.568413</td>\n",
       "    </tr>\n",
       "    <tr>\n",
       "      <th>1</th>\n",
       "      <td>0.139309</td>\n",
       "      <td>56395.0</td>\n",
       "      <td>56387.0</td>\n",
       "      <td>0.229289</td>\n",
       "    </tr>\n",
       "    <tr>\n",
       "      <th>2</th>\n",
       "      <td>0.040000</td>\n",
       "      <td>56399.0</td>\n",
       "      <td>56386.0</td>\n",
       "      <td>0.132997</td>\n",
       "    </tr>\n",
       "    <tr>\n",
       "      <th>3</th>\n",
       "      <td>0.145793</td>\n",
       "      <td>56405.0</td>\n",
       "      <td>56385.0</td>\n",
       "      <td>0.942200</td>\n",
       "    </tr>\n",
       "    <tr>\n",
       "      <th>4</th>\n",
       "      <td>0.000120</td>\n",
       "      <td>56407.0</td>\n",
       "      <td>56384.0</td>\n",
       "      <td>0.088668</td>\n",
       "    </tr>\n",
       "    <tr>\n",
       "      <th>5</th>\n",
       "      <td>0.133056</td>\n",
       "      <td>56408.0</td>\n",
       "      <td>56382.0</td>\n",
       "      <td>0.061922</td>\n",
       "    </tr>\n",
       "    <tr>\n",
       "      <th>6</th>\n",
       "      <td>0.000120</td>\n",
       "      <td>56409.0</td>\n",
       "      <td>56381.0</td>\n",
       "      <td>0.320492</td>\n",
       "    </tr>\n",
       "    <tr>\n",
       "      <th>7</th>\n",
       "      <td>0.069765</td>\n",
       "      <td>56410.0</td>\n",
       "      <td>56380.0</td>\n",
       "      <td>0.132995</td>\n",
       "    </tr>\n",
       "    <tr>\n",
       "      <th>8</th>\n",
       "      <td>0.100020</td>\n",
       "      <td>56411.0</td>\n",
       "      <td>56379.0</td>\n",
       "      <td>0.024857</td>\n",
       "    </tr>\n",
       "    <tr>\n",
       "      <th>9</th>\n",
       "      <td>0.088791</td>\n",
       "      <td>56413.0</td>\n",
       "      <td>56377.0</td>\n",
       "      <td>0.546713</td>\n",
       "    </tr>\n",
       "    <tr>\n",
       "      <th>10</th>\n",
       "      <td>1.208772</td>\n",
       "      <td>56414.0</td>\n",
       "      <td>56375.0</td>\n",
       "      <td>0.132997</td>\n",
       "    </tr>\n",
       "    <tr>\n",
       "      <th>11</th>\n",
       "      <td>0.000120</td>\n",
       "      <td>56415.0</td>\n",
       "      <td>56374.0</td>\n",
       "      <td>0.132992</td>\n",
       "    </tr>\n",
       "    <tr>\n",
       "      <th>12</th>\n",
       "      <td>0.649810</td>\n",
       "      <td>56416.0</td>\n",
       "      <td>56373.0</td>\n",
       "      <td>0.096666</td>\n",
       "    </tr>\n",
       "    <tr>\n",
       "      <th>13</th>\n",
       "      <td>0.000120</td>\n",
       "      <td>56417.0</td>\n",
       "      <td>56372.0</td>\n",
       "      <td>0.239397</td>\n",
       "    </tr>\n",
       "    <tr>\n",
       "      <th>14</th>\n",
       "      <td>0.174954</td>\n",
       "      <td>56418.0</td>\n",
       "      <td>56368.0</td>\n",
       "      <td>0.042849</td>\n",
       "    </tr>\n",
       "    <tr>\n",
       "      <th>15</th>\n",
       "      <td>1.344081</td>\n",
       "      <td>56419.0</td>\n",
       "      <td>56367.0</td>\n",
       "      <td>0.177333</td>\n",
       "    </tr>\n",
       "    <tr>\n",
       "      <th>16</th>\n",
       "      <td>0.000060</td>\n",
       "      <td>56420.0</td>\n",
       "      <td>56366.0</td>\n",
       "      <td>0.349423</td>\n",
       "    </tr>\n",
       "    <tr>\n",
       "      <th>17</th>\n",
       "      <td>0.890826</td>\n",
       "      <td>56421.0</td>\n",
       "      <td>56364.0</td>\n",
       "      <td>0.314876</td>\n",
       "    </tr>\n",
       "    <tr>\n",
       "      <th>18</th>\n",
       "      <td>0.177438</td>\n",
       "      <td>56422.0</td>\n",
       "      <td>56363.0</td>\n",
       "      <td>0.176848</td>\n",
       "    </tr>\n",
       "    <tr>\n",
       "      <th>19</th>\n",
       "      <td>0.000120</td>\n",
       "      <td>56423.0</td>\n",
       "      <td>56362.0</td>\n",
       "      <td>1.546500</td>\n",
       "    </tr>\n",
       "    <tr>\n",
       "      <th>20</th>\n",
       "      <td>0.000060</td>\n",
       "      <td>56424.0</td>\n",
       "      <td>56361.0</td>\n",
       "      <td>0.177328</td>\n",
       "    </tr>\n",
       "    <tr>\n",
       "      <th>21</th>\n",
       "      <td>0.000120</td>\n",
       "      <td>56425.0</td>\n",
       "      <td>56360.0</td>\n",
       "      <td>1.137838</td>\n",
       "    </tr>\n",
       "    <tr>\n",
       "      <th>22</th>\n",
       "      <td>0.233114</td>\n",
       "      <td>56426.0</td>\n",
       "      <td>56359.0</td>\n",
       "      <td>0.132991</td>\n",
       "    </tr>\n",
       "    <tr>\n",
       "      <th>23</th>\n",
       "      <td>0.000180</td>\n",
       "      <td>56427.0</td>\n",
       "      <td>56355.0</td>\n",
       "      <td>0.225452</td>\n",
       "    </tr>\n",
       "    <tr>\n",
       "      <th>24</th>\n",
       "      <td>1.096454</td>\n",
       "      <td>56428.0</td>\n",
       "      <td>56354.0</td>\n",
       "      <td>0.796600</td>\n",
       "    </tr>\n",
       "  </tbody>\n",
       "</table>\n",
       "</div>"
      ],
      "text/plain": [
       "    ask_size      ask      bid  bid_size\n",
       "0   0.180000  56389.0  56388.0  0.568413\n",
       "1   0.139309  56395.0  56387.0  0.229289\n",
       "2   0.040000  56399.0  56386.0  0.132997\n",
       "3   0.145793  56405.0  56385.0  0.942200\n",
       "4   0.000120  56407.0  56384.0  0.088668\n",
       "5   0.133056  56408.0  56382.0  0.061922\n",
       "6   0.000120  56409.0  56381.0  0.320492\n",
       "7   0.069765  56410.0  56380.0  0.132995\n",
       "8   0.100020  56411.0  56379.0  0.024857\n",
       "9   0.088791  56413.0  56377.0  0.546713\n",
       "10  1.208772  56414.0  56375.0  0.132997\n",
       "11  0.000120  56415.0  56374.0  0.132992\n",
       "12  0.649810  56416.0  56373.0  0.096666\n",
       "13  0.000120  56417.0  56372.0  0.239397\n",
       "14  0.174954  56418.0  56368.0  0.042849\n",
       "15  1.344081  56419.0  56367.0  0.177333\n",
       "16  0.000060  56420.0  56366.0  0.349423\n",
       "17  0.890826  56421.0  56364.0  0.314876\n",
       "18  0.177438  56422.0  56363.0  0.176848\n",
       "19  0.000120  56423.0  56362.0  1.546500\n",
       "20  0.000060  56424.0  56361.0  0.177328\n",
       "21  0.000120  56425.0  56360.0  1.137838\n",
       "22  0.233114  56426.0  56359.0  0.132991\n",
       "23  0.000180  56427.0  56355.0  0.225452\n",
       "24  1.096454  56428.0  56354.0  0.796600"
      ]
     },
     "execution_count": 20,
     "metadata": {},
     "output_type": "execute_result"
    }
   ],
   "source": [
    "bitfinex = dict_to_df('bitfinex','2021-11-24T03:24:48.113Z' , orderbooks_data)\n",
    "bitfinex"
   ]
  },
  {
   "cell_type": "code",
   "execution_count": 12,
   "id": "bd4a1a40",
   "metadata": {},
   "outputs": [],
   "source": [
    "def plot_orderbook_2excahnges(ob_data_plot_origin, ob_data_plot_destionation):\n",
    "    ob_data = ob_data_plot_origin\n",
    "    ob_data_bid = ob_data[['bid_size', 'bid']]\n",
    "    ob_data_bid = ob_data_bid.sort_values(ascending = True, by='bid')\n",
    "    ob_data_ask = ob_data[['ask_size', 'ask']]\n",
    "    ob_data_ask = ob_data_ask\n",
    "    fig = go.Figure()\n",
    "    fig.add_trace(\n",
    "        go.Bar(x=ob_data_bid['bid'],\n",
    "                y=ob_data_bid['bid_size'], name = 'Bid-Origin',width=.7, opacity=0.5))\n",
    "\n",
    "    fig.add_trace(\n",
    "        go.Bar(x=ob_data_ask['ask'],\n",
    "                y=ob_data_ask['ask_size'],name = 'Ask-Origin',width=.7, opacity=0.5))\n",
    "\n",
    "\n",
    "    ob_data = ob_data_plot_destionation\n",
    "    ob_data_bid = ob_data[['bid_size', 'bid']]\n",
    "    ob_data_bid = ob_data_bid.sort_values(ascending = True, by='bid')\n",
    "    ob_data_ask = ob_data[['ask_size', 'ask']]\n",
    "    ob_data_ask = ob_data_ask\n",
    "  \n",
    "    fig.add_trace(\n",
    "        go.Bar(x=ob_data_bid['bid'],\n",
    "                y=ob_data_bid['bid_size'], name = 'Bid-Destination',width=.7, opacity=0.5))\n",
    "\n",
    "    fig.add_trace(\n",
    "        go.Bar(x=ob_data_ask['ask'],\n",
    "                y=ob_data_ask['ask_size'],name = 'Ask-Destination',width=.7, opacity=0.5))\n",
    "    #fig.update_xaxes(type='category')\n",
    "    fig.update_layout(\n",
    "    width=750,\n",
    "    height=450)\n",
    "    # Update yaxis properties\n",
    "    fig.update_yaxes(title_text=\"Size\")\n",
    "    fig.update_xaxes(title_text=\"Price\")\n",
    "    fig.show()"
   ]
  },
  {
   "cell_type": "code",
   "execution_count": null,
   "id": "e7866aeb",
   "metadata": {},
   "outputs": [],
   "source": []
  }
 ],
 "metadata": {
  "kernelspec": {
   "display_name": "Python 3 (ipykernel)",
   "language": "python",
   "name": "python3"
  },
  "language_info": {
   "codemirror_mode": {
    "name": "ipython",
    "version": 3
   },
   "file_extension": ".py",
   "mimetype": "text/x-python",
   "name": "python",
   "nbconvert_exporter": "python",
   "pygments_lexer": "ipython3",
   "version": "3.8.2"
  }
 },
 "nbformat": 4,
 "nbformat_minor": 5
}
