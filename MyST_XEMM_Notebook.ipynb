{
 "cells": [
  {
   "cell_type": "markdown",
   "metadata": {},
   "source": [
    "<center> <img src=\"http://oci02.img.iteso.mx/identidad_de_instancia_2018/ITESO/Logos%20ITESO/Logo-ITESO-Principal.jpg\" align=\"center\" width=\"960\" height=\"480\"/> </center>"
   ]
  },
  {
   "cell_type": "markdown",
   "metadata": {},
   "source": [
    "<center><font color=#555555><font size=6> MAF1731 - Microstructure and Trading Systems </font> <br> <br>\n",
    "    \n",
    "<center><font color=#555555><font size=5> B.Eng Financial Engineering </font> <br> <br> <br>\n",
    "    \n",
    "<center><font size = 4> Integrantes: <br> <br>\n",
    "    \n",
    "<center><font size = 3> IF. Edgar Machuca Buenrostro </font>\n",
    "\n",
    "<center><font size = 3> IF. Douglas Fabian Paris Merin\n",
    "    \n",
    "<center><font size = 3> IF. Noé Alejandro Salinas <br> <br>\n",
    "   \n",
    "<center> <font color= #555555> <font size = 4> Dec 2021 </a> | <font color= #555555> <font size = 4> Repository: <a href='https://github.com/douglasparism/XEMM'>Link</a></font>"
   ]
  },
  {
   "cell_type": "markdown",
   "metadata": {},
   "source": [
    "<hr style=\"border:0.02in solid gray\"> </hr>"
   ]
  },
  {
   "cell_type": "markdown",
   "metadata": {},
   "source": [
    "<center> <font color= #555555> <font size = 6> Module 5 </font> <br> <br> <font color= #555555> <font size = 5> Trading Systems </font> <br> <br> <font color= #555555> <font size = 4> Cross Exchange Market Making (XEMM) </font>"
   ]
  },
  {
   "cell_type": "markdown",
   "metadata": {},
   "source": [
    "<hr style=\"border:0.02in solid gray\"> </hr>"
   ]
  },
  {
   "cell_type": "markdown",
   "metadata": {},
   "source": [
    "<br>"
   ]
  },
  {
   "cell_type": "markdown",
   "metadata": {},
   "source": [
    "<font color= #555555> <font size = 4> Abstract </font>"
   ]
  },
  {
   "cell_type": "markdown",
   "metadata": {},
   "source": [
    "<font color= #6B6B6B> <font size = 3> The next notebook guides us through the Microstructure and Trading Systems Module 5 project which replicates the **Cross Exchange Market Making (XEMM)** strategy.\n",
    "    \n",
    "By actively seeking for price differences in exchange markets we will be able to profit both as Makers (bid) and as Takers (ask).</font>"
   ]
  },
  {
   "cell_type": "markdown",
   "metadata": {},
   "source": [
    "# <font color= #6B6B6B> <font size = 6> 1. Introduction </font>\n",
    "<hr style=\"border:0.02in solid gray\"> </hr>"
   ]
  },
  {
   "cell_type": "markdown",
   "metadata": {},
   "source": [
    "<font color= #6B6B6B> <font size = 3> The cross exchange market making strategy performs market making trades between two markets: it emits limit orders to a less liquid, larger spread market; and emits market orders on a more liquid, smaller spread market whenever the limit orders were hit. This, in effect, sends the liquidity from the more liquid market to the less liquid market.\n",
    "\n",
    "In cross-exchange market making, a trader acts as a normal market maker on one exchange (the \"maker exchange\"), creating buy and sell orders. However, the trader eliminates the inventory risk usually associated with market making by using another exchange (the \"taker exchange\") to simultaneously offset (or \"hedge\") any trades filled on the maker exchange.\n"
   ]
  },
  {
   "cell_type": "markdown",
   "metadata": {},
   "source": [
    "<br>"
   ]
  },
  {
   "cell_type": "markdown",
   "metadata": {},
   "source": [
    "# <font color= #6B6B6B> 2. Install/Load Packages and Depedencies </font>\n",
    "<hr style=\"border:0.02in solid gray\"> </hr>"
   ]
  },
  {
   "cell_type": "markdown",
   "metadata": {},
   "source": [
    "<br>"
   ]
  },
  {
   "cell_type": "markdown",
   "metadata": {},
   "source": [
    "## <font color= #6B6B6B> 2.2 Python Packages </font> <font color= #555555>"
   ]
  },
  {
   "cell_type": "markdown",
   "metadata": {},
   "source": [
    "In order to run this notebook, it is necessary to have installed and/or have the _requirements.txt_ file with the following: "
   ]
  },
  {
   "cell_type": "markdown",
   "metadata": {},
   "source": [
    "- pandas==1.3.3 \n",
    "- numpy==1.21.2\n",
    "- jupyter==1.0.0\n",
    "- ccxt==1.59.95\n",
    "- seaborn==0.11.2"
   ]
  },
  {
   "cell_type": "markdown",
   "metadata": {},
   "source": [
    "## <font color= #6B6B6B> 2.3 Files Dependencies </font> <font color= #555555>"
   ]
  },
  {
   "cell_type": "markdown",
   "metadata": {},
   "source": [
    "The following are the file dependencies that are needed to run this notebook:"
   ]
  },
  {
   "cell_type": "markdown",
   "metadata": {},
   "source": [
    "- Files/orderbooks*.json : JSON files with Historical Orderbooks Gathered from BitFinex and Kraken for BTC/USDT"
   ]
  },
  {
   "cell_type": "markdown",
   "metadata": {},
   "source": [
    "## <font color= #6E6E6E> 2.3 Install Packages</font>"
   ]
  },
  {
   "cell_type": "code",
   "execution_count": 1,
   "metadata": {
    "pycharm": {
     "is_executing": true
    }
   },
   "outputs": [],
   "source": [
    "%%capture\n",
    "\n",
    "# Install all the pip packages in the requirements.txt\n",
    "import sys\n",
    "!{sys.executable} -m pip install -r requirements.txt"
   ]
  },
  {
   "cell_type": "markdown",
   "metadata": {},
   "source": [
    "## <font color= #6E6E6E> 2.4 Load Packages</font>"
   ]
  },
  {
   "cell_type": "code",
   "execution_count": 2,
   "metadata": {},
   "outputs": [],
   "source": [
    "# -- Generic\n",
    "import pandas as pd\n",
    "import numpy as np\n",
    "import json\n",
    "\n",
    "# -- Visualization\n",
    "import plotly.graph_objects as go\n",
    "import plotly.express as px"
   ]
  },
  {
   "cell_type": "markdown",
   "metadata": {},
   "source": [
    "## <font color= #6E6E6E> 2.5 Load Other Scripts </font>"
   ]
  },
  {
   "cell_type": "code",
   "execution_count": 3,
   "metadata": {},
   "outputs": [],
   "source": [
    "# -- Project scripts\n",
    "import visualizations as vs\n",
    "import functions as fn\n",
    "from data import fees_schedule, order_book\n",
    "from timeit import default_timer as timer\n",
    "import time"
   ]
  },
  {
   "cell_type": "markdown",
   "metadata": {},
   "source": [
    "# <font color= #6B6B6B> 3. Read and Visualize Data </font>\n",
    "<hr style=\"border:0.02in solid gray\"> </hr>"
   ]
  },
  {
   "cell_type": "markdown",
   "metadata": {},
   "source": [
    "Historical Orderbook data is stored in a **JSON** formated file, which stands for **J**ava **S**cript **O**bject **N**otation, in practical terms, it is very similar to a python dictionary since it has a list-like structure of storing the data, with one or several keys and each of which can have more keys and or data points.\n",
    "\n",
    "Remember also that a Pandas DataFrame is also in its core form a dictionary where each colum is a key and the column contents are each key contents. So, in a way, a **JSON** file is one option to represent a multidimensional DataFrame. "
   ]
  },
  {
   "cell_type": "markdown",
   "metadata": {},
   "source": [
    "## <font color= #6B6B6B> 3.1 Load and display the data </font>"
   ]
  },
  {
   "cell_type": "markdown",
   "metadata": {},
   "source": [
    "To read the contents of the file is very simple, by using the library *json*, it is a pre-installed one and you do need to import it but its already installed in the python base installation."
   ]
  },
  {
   "cell_type": "code",
   "execution_count": 4,
   "metadata": {},
   "outputs": [],
   "source": [
    "ob_data = pd.read_json('files/orderbooks_ray.json', orient='values', typ='series')\n",
    "exchanges = [\"kraken\", \"bitfinex\"]\n",
    "symbol = 'BTC/EUR'\n",
    "expected_volume = 0"
   ]
  },
  {
   "cell_type": "markdown",
   "metadata": {},
   "source": [
    "The data is made up by a dictionary containing one key for **bitfinex** and another one for **kraken** which represent our Exchanges."
   ]
  },
  {
   "cell_type": "code",
   "execution_count": 5,
   "metadata": {},
   "outputs": [
    {
     "data": {
      "text/plain": [
       "bitfinex    {'2021-11-24T15:15:49.471Z': {'ask_size': {'0'...\n",
       "kraken      {'2021-11-24T15:15:49.471Z': None, '2021-11-24...\n",
       "dtype: object"
      ]
     },
     "execution_count": 5,
     "metadata": {},
     "output_type": "execute_result"
    }
   ],
   "source": [
    "ob_data"
   ]
  },
  {
   "cell_type": "markdown",
   "metadata": {},
   "source": [
    "In order to being able to be market makers, we narrowed the data down to avoid \"Nones\", these are the results:"
   ]
  },
  {
   "cell_type": "code",
   "execution_count": 6,
   "metadata": {
    "scrolled": false
   },
   "outputs": [
    {
     "data": {
      "text/plain": [
       "'Number of historical orderbooks:'"
      ]
     },
     "metadata": {},
     "output_type": "display_data"
    },
    {
     "data": {
      "text/plain": [
       "'Before dropping Nones: 116'"
      ]
     },
     "metadata": {},
     "output_type": "display_data"
    },
    {
     "data": {
      "text/plain": [
       "'After dropping Nones: 39'"
      ]
     },
     "metadata": {},
     "output_type": "display_data"
    },
    {
     "data": {
      "text/plain": [
       "'Number of historical orderbooks:'"
      ]
     },
     "metadata": {},
     "output_type": "display_data"
    },
    {
     "data": {
      "text/plain": [
       "'Before dropping Nones: 116'"
      ]
     },
     "metadata": {},
     "output_type": "display_data"
    },
    {
     "data": {
      "text/plain": [
       "'After dropping Nones: 79'"
      ]
     },
     "metadata": {},
     "output_type": "display_data"
    }
   ],
   "source": [
    "clean_order_kraken = fn.f_del_none_dict(ob_data['kraken'])\n",
    "\n",
    "clean_order_bitfinex = fn.f_del_none_dict(ob_data['bitfinex'])"
   ]
  },
  {
   "cell_type": "code",
   "execution_count": 7,
   "metadata": {},
   "outputs": [
    {
     "name": "stdout",
     "output_type": "stream",
     "text": [
      "OrderBooks by timestamp and exchange\n"
     ]
    },
    {
     "data": {
      "text/html": [
       "<div>\n",
       "<style scoped>\n",
       "    .dataframe tbody tr th:only-of-type {\n",
       "        vertical-align: middle;\n",
       "    }\n",
       "\n",
       "    .dataframe tbody tr th {\n",
       "        vertical-align: top;\n",
       "    }\n",
       "\n",
       "    .dataframe thead th {\n",
       "        text-align: right;\n",
       "    }\n",
       "</style>\n",
       "<table border=\"1\" class=\"dataframe\">\n",
       "  <thead>\n",
       "    <tr style=\"text-align: right;\">\n",
       "      <th></th>\n",
       "      <th>dict_key</th>\n",
       "      <th>timestamp</th>\n",
       "      <th>exchange</th>\n",
       "    </tr>\n",
       "  </thead>\n",
       "  <tbody>\n",
       "    <tr>\n",
       "      <th>0</th>\n",
       "      <td>2021-11-24T15:15:49.471Z</td>\n",
       "      <td>2021-11-24 15:15:49.471000+00:00</td>\n",
       "      <td>bitfinex</td>\n",
       "    </tr>\n",
       "    <tr>\n",
       "      <th>1</th>\n",
       "      <td>2021-11-24T15:15:50.775Z</td>\n",
       "      <td>2021-11-24 15:15:50.775000+00:00</td>\n",
       "      <td>bitfinex</td>\n",
       "    </tr>\n",
       "    <tr>\n",
       "      <th>2</th>\n",
       "      <td>2021-11-24T15:15:52.234Z</td>\n",
       "      <td>2021-11-24 15:15:52.234000+00:00</td>\n",
       "      <td>bitfinex</td>\n",
       "    </tr>\n",
       "    <tr>\n",
       "      <th>3</th>\n",
       "      <td>2021-11-24T15:15:52.328Z</td>\n",
       "      <td>2021-11-24 15:15:52.328000+00:00</td>\n",
       "      <td>kraken</td>\n",
       "    </tr>\n",
       "    <tr>\n",
       "      <th>4</th>\n",
       "      <td>2021-11-24T15:15:54.154Z</td>\n",
       "      <td>2021-11-24 15:15:54.154000+00:00</td>\n",
       "      <td>bitfinex</td>\n",
       "    </tr>\n",
       "    <tr>\n",
       "      <th>5</th>\n",
       "      <td>2021-11-24T15:15:55.277Z</td>\n",
       "      <td>2021-11-24 15:15:55.277000+00:00</td>\n",
       "      <td>kraken</td>\n",
       "    </tr>\n",
       "    <tr>\n",
       "      <th>6</th>\n",
       "      <td>2021-11-24T15:15:55.279Z</td>\n",
       "      <td>2021-11-24 15:15:55.279000+00:00</td>\n",
       "      <td>bitfinex</td>\n",
       "    </tr>\n",
       "    <tr>\n",
       "      <th>7</th>\n",
       "      <td>2021-11-24T15:15:56.773Z</td>\n",
       "      <td>2021-11-24 15:15:56.773000+00:00</td>\n",
       "      <td>bitfinex</td>\n",
       "    </tr>\n",
       "    <tr>\n",
       "      <th>8</th>\n",
       "      <td>2021-11-24T15:15:58.376Z</td>\n",
       "      <td>2021-11-24 15:15:58.376000+00:00</td>\n",
       "      <td>kraken</td>\n",
       "    </tr>\n",
       "    <tr>\n",
       "      <th>9</th>\n",
       "      <td>2021-11-24T15:15:58.672Z</td>\n",
       "      <td>2021-11-24 15:15:58.672000+00:00</td>\n",
       "      <td>bitfinex</td>\n",
       "    </tr>\n",
       "  </tbody>\n",
       "</table>\n",
       "</div>"
      ],
      "text/plain": [
       "                   dict_key                        timestamp  exchange\n",
       "0  2021-11-24T15:15:49.471Z 2021-11-24 15:15:49.471000+00:00  bitfinex\n",
       "1  2021-11-24T15:15:50.775Z 2021-11-24 15:15:50.775000+00:00  bitfinex\n",
       "2  2021-11-24T15:15:52.234Z 2021-11-24 15:15:52.234000+00:00  bitfinex\n",
       "3  2021-11-24T15:15:52.328Z 2021-11-24 15:15:52.328000+00:00    kraken\n",
       "4  2021-11-24T15:15:54.154Z 2021-11-24 15:15:54.154000+00:00  bitfinex\n",
       "5  2021-11-24T15:15:55.277Z 2021-11-24 15:15:55.277000+00:00    kraken\n",
       "6  2021-11-24T15:15:55.279Z 2021-11-24 15:15:55.279000+00:00  bitfinex\n",
       "7  2021-11-24T15:15:56.773Z 2021-11-24 15:15:56.773000+00:00  bitfinex\n",
       "8  2021-11-24T15:15:58.376Z 2021-11-24 15:15:58.376000+00:00    kraken\n",
       "9  2021-11-24T15:15:58.672Z 2021-11-24 15:15:58.672000+00:00  bitfinex"
      ]
     },
     "execution_count": 7,
     "metadata": {},
     "output_type": "execute_result"
    }
   ],
   "source": [
    "df_datetime = pd.DataFrame(columns=['dict_key', 'timestamp', 'exchange'])\n",
    "df_datetime['dict_key'] = clean_order_kraken.keys()\n",
    "df_datetime['timestamp'] = clean_order_kraken.keys()\n",
    "df_datetime['exchange'] = 'kraken'\n",
    "\n",
    "df_datetime_aux = pd.DataFrame(columns=['dict_key', 'timestamp', 'exchange'])\n",
    "df_datetime_aux['dict_key'] = clean_order_bitfinex.keys()\n",
    "df_datetime_aux['timestamp'] = clean_order_bitfinex.keys()\n",
    "df_datetime_aux['exchange'] = 'bitfinex'\n",
    "\n",
    "df_datetime = df_datetime.append(df_datetime_aux)\n",
    "df_datetime['timestamp'] = pd.to_datetime(df_datetime['timestamp'])\n",
    "df_datetime = df_datetime.sort_values(by=['timestamp'])\n",
    "df_datetime = df_datetime.reset_index(drop=True)\n",
    "print('OrderBooks by timestamp and exchange')\n",
    "df_datetime.head(10)"
   ]
  },
  {
   "cell_type": "markdown",
   "metadata": {},
   "source": [
    "# <font color= #6B6B6B> 4. Maker and Taker strategies </font>\n",
    "<hr style=\"border:0.02in solid gray\"> </hr>"
   ]
  },
  {
   "cell_type": "markdown",
   "metadata": {},
   "source": [
    "## <font color= #6B6B6B> 4.1 Single example </font>"
   ]
  },
  {
   "attachments": {
    "1_Q1q42_pv2DikkdNV39d82Q.png": {
     "image/png": "[encoded data removed]"
    }
   },
   "cell_type": "markdown",
   "metadata": {},
   "source": [
    "![1_Q1q42_pv2DikkdNV39d82Q.png](attachment:1_Q1q42_pv2DikkdNV39d82Q.png)"
   ]
  },
  {
   "cell_type": "markdown",
   "metadata": {},
   "source": [
    "First, we stablish certain parameters for our strategy, such as the origin and destination exhange, fee schedule and inventory."
   ]
  },
  {
   "cell_type": "markdown",
   "metadata": {},
   "source": [
    "**Origin**:\n",
    "- Exchange : Kraken\n",
    "- Inventory : 100 BTC - 1M EUR\n",
    "\n",
    "**Destination**:\n",
    "- Exchange : Bitfinex\n",
    "- Inventory : 100 BTC - 1M EUR\n",
    "\n",
    "**Strategy Parameters**: \n",
    "- Replicate first 100 bps\n",
    "- FIFO system at the exchange\n",
    "- Take into account fees\n",
    "- Take into account execution latency\n",
    "- Process Queue\n",
    "- Read Order Book"
   ]
  },
  {
   "cell_type": "markdown",
   "metadata": {},
   "source": [
    "We also need to know certain bullet points such as the fees (maker and taker),the profit we'd like to make per trade.\n",
    "\n",
    "Using the formula below we can know both the taker and the maker bid. Let's remember we only need to add the fees and the expected profit for us to know the \"place order\" price."
   ]
  },
  {
   "cell_type": "markdown",
   "metadata": {},
   "source": [
    "$ taker_{bid} * (1 + taker_{fee}) = maker_{ask} * (1 - maker_{fee})$\n",
    "\n",
    "$NewPrice = GetPrice + fee + ExpProfit$"
   ]
  },
  {
   "cell_type": "markdown",
   "metadata": {},
   "source": [
    "### The process for all the market making will be shown via the next example:"
   ]
  },
  {
   "cell_type": "code",
   "execution_count": 8,
   "metadata": {},
   "outputs": [],
   "source": [
    "ex_O = pd.DataFrame(ob_data[exchanges[0]]['2021-11-24T15:16:31.432Z'])\n",
    "ex_D = pd.DataFrame(ob_data[exchanges[1]]['2021-11-24T15:16:31.432Z'])"
   ]
  },
  {
   "cell_type": "code",
   "execution_count": 9,
   "metadata": {},
   "outputs": [
    {
     "data": {
      "text/plain": [
       "'Highest Bid Prices'"
      ]
     },
     "metadata": {},
     "output_type": "display_data"
    },
    {
     "data": {
      "text/plain": [
       "'Destination: bitfinex 56268.0'"
      ]
     },
     "metadata": {},
     "output_type": "display_data"
    },
    {
     "data": {
      "text/plain": [
       "'Origin: kraken 56276.0'"
      ]
     },
     "metadata": {},
     "output_type": "display_data"
    }
   ],
   "source": [
    "display('Highest Bid Prices')\n",
    "display('Destination: '+ exchanges[1]+ ' ' + str(max(ex_D.bid)))\n",
    "display('Origin: ' + exchanges[0]+ ' ' + str(max(ex_O.bid)))"
   ]
  },
  {
   "cell_type": "code",
   "execution_count": 10,
   "metadata": {},
   "outputs": [
    {
     "data": {
      "text/plain": [
       "'Lowest Ask Prices'"
      ]
     },
     "metadata": {},
     "output_type": "display_data"
    },
    {
     "data": {
      "text/plain": [
       "'Destination: bitfinex 56273.0'"
      ]
     },
     "metadata": {},
     "output_type": "display_data"
    },
    {
     "data": {
      "text/plain": [
       "'Origin: kraken 56276.1'"
      ]
     },
     "metadata": {},
     "output_type": "display_data"
    }
   ],
   "source": [
    "display('Lowest Ask Prices')\n",
    "display('Destination: ' + exchanges[1]+ ' ' + str(min(ex_D.ask)))\n",
    "display('Origin: ' + exchanges[0]+ ' ' +str(min(ex_O.ask)))"
   ]
  },
  {
   "cell_type": "markdown",
   "metadata": {},
   "source": [
    "This means we can sell origin $\\$56,276$ and buy in destination for $\\$56,273$ to profit 3 EUR."
   ]
  },
  {
   "cell_type": "code",
   "execution_count": 11,
   "metadata": {},
   "outputs": [],
   "source": [
    "fees = [fees_schedule(exchange=i, symbol=symbol, expected_volume=expected_volume) for i in exchanges]"
   ]
  },
  {
   "cell_type": "code",
   "execution_count": 12,
   "metadata": {
    "scrolled": true
   },
   "outputs": [
    {
     "name": "stdout",
     "output_type": "stream",
     "text": [
      "Kraken fees: {'taker': 0.0026, 'maker': 0.0016}. \n",
      "Bitfinex fees: {'taker': 0.002, 'maker': 0.001}.\n"
     ]
    }
   ],
   "source": [
    "print('Kraken fees: {}. \\nBitfinex fees: {}.'.format(fees[0], fees[1]))"
   ]
  },
  {
   "cell_type": "markdown",
   "metadata": {},
   "source": [
    "This example is the maker bid when the liquidity transfer goes from origin to destination."
   ]
  },
  {
   "cell_type": "code",
   "execution_count": 13,
   "metadata": {},
   "outputs": [],
   "source": [
    "origin_bid = 56276.0\n",
    "taker_fee = 0.0026\n",
    "maker_fee = 0.001"
   ]
  },
  {
   "cell_type": "code",
   "execution_count": 14,
   "metadata": {},
   "outputs": [
    {
     "data": {
      "text/plain": [
       "56073.6087912088"
      ]
     },
     "execution_count": 14,
     "metadata": {},
     "output_type": "execute_result"
    }
   ],
   "source": [
    "maker_bid = origin_bid*(1-taker_fee)/(1+maker_fee)\n",
    "maker_bid"
   ]
  },
  {
   "cell_type": "code",
   "execution_count": 15,
   "metadata": {},
   "outputs": [],
   "source": [
    "spread = 25\n",
    "Mid_price_origin = round((min(ex_O.ask)+max(ex_O.bid))/2,6)\n",
    "PLimit_Repl_max = Mid_price_origin * (1+spread/10000)\n",
    "PLimit_Repl_min = Mid_price_origin * (1-spread/10000)"
   ]
  },
  {
   "cell_type": "code",
   "execution_count": 16,
   "metadata": {},
   "outputs": [],
   "source": [
    "ex_D_ask = ex_D.loc[:,'ask_size':'ask'].copy()\n",
    "ex_D_ask.columns = ['size', 'price']\n",
    "ex_D_ask['Type'] = 'ask'\n",
    "ex_D_bid = ex_D[['bid_size','bid']].copy()\n",
    "ex_D_bid.columns = ['size', 'price']\n",
    "ex_D_bid['Type'] = 'bid'\n",
    "ex_D_final = pd.concat([ex_D_ask,ex_D_bid]).sort_values('price')\n",
    "ex_D_final.reset_index(inplace=True, drop=True)\n",
    "\n",
    "ex_O_ask = ex_O[ex_O.ask<=PLimit_Repl_max].loc[:,'ask_size':'ask'].copy() #limitamos por los bps a replicar\n",
    "ex_O_ask.columns = ['size', 'price']\n",
    "ex_O_ask = ex_O_ask[~ex_O_ask.price.isin([ex_D_ask.price])] #no copiaremos los precios donde ya hay volumen\n",
    "ex_O_ask['Type'] = 'ask'\n",
    "ex_O_bid = ex_O[ex_O.bid>=PLimit_Repl_min][['bid_size','bid']].copy()#limitamos por los bps a replicar\n",
    "ex_O_bid.columns = ['size', 'price']\n",
    "ex_O_bid = ex_O_bid[~ex_O_bid.price.isin([ex_D_bid.price])] #no copiaremos los precios donde ya hay volumen\n",
    "ex_O_bid['Type'] = 'bid'\n",
    "ex_O_final = pd.concat([ex_O_ask,ex_O_bid]).sort_values('price')\n",
    "ex_O_final.reset_index(inplace=True, drop=True)"
   ]
  },
  {
   "cell_type": "markdown",
   "metadata": {},
   "source": [
    "The following bid and ask are the closest to the mid price, therefore, these will be used as anchors to reach liquidity."
   ]
  },
  {
   "cell_type": "code",
   "execution_count": 17,
   "metadata": {},
   "outputs": [
    {
     "data": {
      "text/html": [
       "<div>\n",
       "<style scoped>\n",
       "    .dataframe tbody tr th:only-of-type {\n",
       "        vertical-align: middle;\n",
       "    }\n",
       "\n",
       "    .dataframe tbody tr th {\n",
       "        vertical-align: top;\n",
       "    }\n",
       "\n",
       "    .dataframe thead th {\n",
       "        text-align: right;\n",
       "    }\n",
       "</style>\n",
       "<table border=\"1\" class=\"dataframe\">\n",
       "  <thead>\n",
       "    <tr style=\"text-align: right;\">\n",
       "      <th></th>\n",
       "      <th>size</th>\n",
       "      <th>price</th>\n",
       "      <th>Type</th>\n",
       "    </tr>\n",
       "  </thead>\n",
       "  <tbody>\n",
       "    <tr>\n",
       "      <th>88</th>\n",
       "      <td>5.42</td>\n",
       "      <td>56276.0</td>\n",
       "      <td>bid</td>\n",
       "    </tr>\n",
       "  </tbody>\n",
       "</table>\n",
       "</div>"
      ],
      "text/plain": [
       "    size    price Type\n",
       "88  5.42  56276.0  bid"
      ]
     },
     "metadata": {},
     "output_type": "display_data"
    },
    {
     "data": {
      "text/html": [
       "<div>\n",
       "<style scoped>\n",
       "    .dataframe tbody tr th:only-of-type {\n",
       "        vertical-align: middle;\n",
       "    }\n",
       "\n",
       "    .dataframe tbody tr th {\n",
       "        vertical-align: top;\n",
       "    }\n",
       "\n",
       "    .dataframe thead th {\n",
       "        text-align: right;\n",
       "    }\n",
       "</style>\n",
       "<table border=\"1\" class=\"dataframe\">\n",
       "  <thead>\n",
       "    <tr style=\"text-align: right;\">\n",
       "      <th></th>\n",
       "      <th>size</th>\n",
       "      <th>price</th>\n",
       "      <th>Type</th>\n",
       "    </tr>\n",
       "  </thead>\n",
       "  <tbody>\n",
       "    <tr>\n",
       "      <th>89</th>\n",
       "      <td>3.279</td>\n",
       "      <td>56276.1</td>\n",
       "      <td>ask</td>\n",
       "    </tr>\n",
       "  </tbody>\n",
       "</table>\n",
       "</div>"
      ],
      "text/plain": [
       "     size    price Type\n",
       "89  3.279  56276.1  ask"
      ]
     },
     "metadata": {},
     "output_type": "display_data"
    }
   ],
   "source": [
    "bid_example = ex_O_final[ex_O_final['Type'] =='bid']\n",
    "bid_example = bid_example[bid_example['price'] == bid_example['price'].max()]\n",
    "\n",
    "ask_example = ex_O_final[ex_O_final['Type'] =='ask']\n",
    "ask_example = ask_example[ask_example['price'] == ask_example['price'].min()]\n",
    "\n",
    "display(bid_example)\n",
    "display(ask_example)"
   ]
  },
  {
   "cell_type": "markdown",
   "metadata": {},
   "source": [
    "We stablish fees and inventory:"
   ]
  },
  {
   "cell_type": "code",
   "execution_count": 18,
   "metadata": {},
   "outputs": [],
   "source": [
    "taker_fee = fees[0]['taker']*0.0001 #bps to decimal\n",
    "maker_fee = fees[1]['maker']*0.0001 #bps to decimal\n",
    "token = 100 #BTC\n",
    "fiat = 1000000 #EUR\n",
    "inventory = {'asset':100, 'fiat':1000000}\n",
    "tokens = {'asset':0, 'fiat':0}\n",
    "profit = 0.01 #1 centavo de profit por trade\n",
    "decimals = 10"
   ]
  },
  {
   "cell_type": "markdown",
   "metadata": {},
   "source": [
    "Now, we add the fees to the origin prices and post accordingly."
   ]
  },
  {
   "cell_type": "code",
   "execution_count": 19,
   "metadata": {
    "scrolled": true
   },
   "outputs": [
    {
     "name": "stdout",
     "output_type": "stream",
     "text": [
      "Order posted\n",
      "size      5.42\n",
      "price    56276\n",
      "Type       bid\n",
      "Name: -1, dtype: object\n",
      "Order posted\n",
      "size       3.279\n",
      "price    56276.1\n",
      "Type         ask\n",
      "Name: -1, dtype: object\n"
     ]
    },
    {
     "data": {
      "text/html": [
       "<div>\n",
       "<style scoped>\n",
       "    .dataframe tbody tr th:only-of-type {\n",
       "        vertical-align: middle;\n",
       "    }\n",
       "\n",
       "    .dataframe tbody tr th {\n",
       "        vertical-align: top;\n",
       "    }\n",
       "\n",
       "    .dataframe thead th {\n",
       "        text-align: right;\n",
       "    }\n",
       "</style>\n",
       "<table border=\"1\" class=\"dataframe\">\n",
       "  <thead>\n",
       "    <tr style=\"text-align: right;\">\n",
       "      <th></th>\n",
       "      <th>size</th>\n",
       "      <th>price</th>\n",
       "      <th>Type</th>\n",
       "    </tr>\n",
       "  </thead>\n",
       "  <tbody>\n",
       "    <tr>\n",
       "      <th>20</th>\n",
       "      <td>0.009923</td>\n",
       "      <td>56262.000000</td>\n",
       "      <td>bid</td>\n",
       "    </tr>\n",
       "    <tr>\n",
       "      <th>21</th>\n",
       "      <td>0.002481</td>\n",
       "      <td>56263.000000</td>\n",
       "      <td>bid</td>\n",
       "    </tr>\n",
       "    <tr>\n",
       "      <th>22</th>\n",
       "      <td>0.001985</td>\n",
       "      <td>56264.000000</td>\n",
       "      <td>bid</td>\n",
       "    </tr>\n",
       "    <tr>\n",
       "      <th>23</th>\n",
       "      <td>0.420000</td>\n",
       "      <td>56267.000000</td>\n",
       "      <td>bid</td>\n",
       "    </tr>\n",
       "    <tr>\n",
       "      <th>24</th>\n",
       "      <td>0.000070</td>\n",
       "      <td>56268.000000</td>\n",
       "      <td>bid</td>\n",
       "    </tr>\n",
       "    <tr>\n",
       "      <th>25</th>\n",
       "      <td>0.035600</td>\n",
       "      <td>56273.000000</td>\n",
       "      <td>ask</td>\n",
       "    </tr>\n",
       "    <tr>\n",
       "      <th>26</th>\n",
       "      <td>0.187329</td>\n",
       "      <td>56275.000000</td>\n",
       "      <td>ask</td>\n",
       "    </tr>\n",
       "    <tr>\n",
       "      <th>27</th>\n",
       "      <td>5.420000</td>\n",
       "      <td>56275.969741</td>\n",
       "      <td>bid</td>\n",
       "    </tr>\n",
       "    <tr>\n",
       "      <th>28</th>\n",
       "      <td>3.279000</td>\n",
       "      <td>56276.130259</td>\n",
       "      <td>ask</td>\n",
       "    </tr>\n",
       "    <tr>\n",
       "      <th>29</th>\n",
       "      <td>0.182073</td>\n",
       "      <td>56281.000000</td>\n",
       "      <td>ask</td>\n",
       "    </tr>\n",
       "    <tr>\n",
       "      <th>30</th>\n",
       "      <td>0.074227</td>\n",
       "      <td>56282.000000</td>\n",
       "      <td>ask</td>\n",
       "    </tr>\n",
       "  </tbody>\n",
       "</table>\n",
       "</div>"
      ],
      "text/plain": [
       "        size         price Type\n",
       "20  0.009923  56262.000000  bid\n",
       "21  0.002481  56263.000000  bid\n",
       "22  0.001985  56264.000000  bid\n",
       "23  0.420000  56267.000000  bid\n",
       "24  0.000070  56268.000000  bid\n",
       "25  0.035600  56273.000000  ask\n",
       "26  0.187329  56275.000000  ask\n",
       "27  5.420000  56275.969741  bid\n",
       "28  3.279000  56276.130259  ask\n",
       "29  0.182073  56281.000000  ask\n",
       "30  0.074227  56282.000000  ask"
      ]
     },
     "execution_count": 19,
     "metadata": {},
     "output_type": "execute_result"
    }
   ],
   "source": [
    "ex_D_final, inventory, tokens = fn.post_maker_bid(bid_example['price'], bid_example['size'], taker_fee, maker_fee,\n",
    "                                               inventory, tokens,ex_D_final, decimals, profit, lat = 0.01)\n",
    "\n",
    "ex_D_final, inventory, tokens = fn.post_maker_ask(ask_example['price'], ask_example['size'], taker_fee, maker_fee,\n",
    "                                               inventory, tokens,ex_D_final, decimals, profit, lat = 0.01)\n",
    "\n",
    "ex_D_final.loc[20:30]"
   ]
  },
  {
   "cell_type": "markdown",
   "metadata": {},
   "source": [
    "Two new limit orders have emerged (index 27 and 28), therefore our inventory has been reduced."
   ]
  },
  {
   "cell_type": "markdown",
   "metadata": {},
   "source": [
    "The inventory and tokens were updated for the case in which the order is executed (XEMM)."
   ]
  },
  {
   "cell_type": "code",
   "execution_count": 20,
   "metadata": {},
   "outputs": [
    {
     "name": "stdout",
     "output_type": "stream",
     "text": [
      "New inventory and tokens\n"
     ]
    },
    {
     "data": {
      "text/plain": [
       "({'asset': 94.58, 'fiat': 815470.5688794339},\n",
       " {'asset': 5.42, 'fiat': 184529.43112056603})"
      ]
     },
     "execution_count": 20,
     "metadata": {},
     "output_type": "execute_result"
    }
   ],
   "source": [
    "print(\"New inventory and tokens\")\n",
    "inventory, tokens"
   ]
  },
  {
   "cell_type": "markdown",
   "metadata": {},
   "source": [
    "The following example corresponds to a bid operation. As expected liquidity will be transfered from origin to destination with zero risk."
   ]
  },
  {
   "cell_type": "code",
   "execution_count": 21,
   "metadata": {},
   "outputs": [],
   "source": [
    "ex_D_final_2 = ex_D_final.copy()\n",
    "ex_O_final_2 = ex_O_final.copy()\n",
    "destination_bid = fn.calc_D_bid(56276, taker_fee, maker_fee, decimals, profit) #calculamos los precios posteados\n",
    "destination_ask = fn.calc_D_ask(56276.1, taker_fee, maker_fee, decimals, profit) #calculamos los precios posteados"
   ]
  },
  {
   "cell_type": "code",
   "execution_count": 22,
   "metadata": {},
   "outputs": [],
   "source": [
    "inventory, tokens, ex_D_final_2, ex_O_final_2 = fn.execute_bids(56276.0, destination_bid, taker_fee, maker_fee, \n",
    "                                                             5.42, inventory, tokens,ex_D_final_2,ex_O_final_2, lat=0)"
   ]
  },
  {
   "cell_type": "markdown",
   "metadata": {},
   "source": [
    "The transaction was made succesfuly. Now, after executing in both markets, the inventory and the tokens came back to it's original value plus the expected profit of ¢1."
   ]
  },
  {
   "cell_type": "code",
   "execution_count": 23,
   "metadata": {},
   "outputs": [
    {
     "data": {
      "text/plain": [
       "({'asset': 100.0, 'fiat': 815470.5688794339},\n",
       " {'asset': 0.0, 'fiat': 184529.48532057158})"
      ]
     },
     "execution_count": 23,
     "metadata": {},
     "output_type": "execute_result"
    }
   ],
   "source": [
    "inventory, tokens"
   ]
  },
  {
   "cell_type": "markdown",
   "metadata": {},
   "source": [
    "Now, ask transaction:"
   ]
  },
  {
   "cell_type": "code",
   "execution_count": 24,
   "metadata": {},
   "outputs": [],
   "source": [
    "inventory, tokens, ex_D_final_2, ex_O_final_2 = fn.execute_asks(56276.1, destination_ask, taker_fee, maker_fee, \n",
    "                                                             3.279, inventory, tokens,ex_D_final_2,ex_O_final_2, lat=0)"
   ]
  },
  {
   "cell_type": "markdown",
   "metadata": {},
   "source": [
    "Since the position is opposite, the profit is now represented in tokens."
   ]
  },
  {
   "cell_type": "code",
   "execution_count": 25,
   "metadata": {},
   "outputs": [
    {
     "data": {
      "text/plain": [
       "({'asset': 100.0, 'fiat': 999999.9815470568},\n",
       " {'asset': 0.0, 'fiat': 0.10544294529245235})"
      ]
     },
     "execution_count": 25,
     "metadata": {},
     "output_type": "execute_result"
    }
   ],
   "source": [
    "inventory, tokens"
   ]
  },
  {
   "cell_type": "markdown",
   "metadata": {},
   "source": [
    "**Profit test:**"
   ]
  },
  {
   "cell_type": "code",
   "execution_count": 26,
   "metadata": {},
   "outputs": [
    {
     "data": {
      "text/plain": [
       "1000000.1"
      ]
     },
     "execution_count": 26,
     "metadata": {},
     "output_type": "execute_result"
    }
   ],
   "source": [
    "round(inventory['fiat']+tokens['fiat'], 1)"
   ]
  },
  {
   "cell_type": "markdown",
   "metadata": {},
   "source": [
    "Tambien observamos que el volumen de estos precios se ah reducido debido a la ejucicón de ordenes."
   ]
  },
  {
   "cell_type": "markdown",
   "metadata": {},
   "source": [
    "The volume of these prices has been reduced because of the order execution."
   ]
  },
  {
   "cell_type": "code",
   "execution_count": 27,
   "metadata": {},
   "outputs": [
    {
     "data": {
      "text/html": [
       "<div>\n",
       "<style scoped>\n",
       "    .dataframe tbody tr th:only-of-type {\n",
       "        vertical-align: middle;\n",
       "    }\n",
       "\n",
       "    .dataframe tbody tr th {\n",
       "        vertical-align: top;\n",
       "    }\n",
       "\n",
       "    .dataframe thead th {\n",
       "        text-align: right;\n",
       "    }\n",
       "</style>\n",
       "<table border=\"1\" class=\"dataframe\">\n",
       "  <thead>\n",
       "    <tr style=\"text-align: right;\">\n",
       "      <th></th>\n",
       "      <th>size</th>\n",
       "      <th>price</th>\n",
       "      <th>Type</th>\n",
       "    </tr>\n",
       "  </thead>\n",
       "  <tbody>\n",
       "    <tr>\n",
       "      <th>88</th>\n",
       "      <td>5.42</td>\n",
       "      <td>56276.0</td>\n",
       "      <td>bid</td>\n",
       "    </tr>\n",
       "  </tbody>\n",
       "</table>\n",
       "</div>"
      ],
      "text/plain": [
       "    size    price Type\n",
       "88  5.42  56276.0  bid"
      ]
     },
     "metadata": {},
     "output_type": "display_data"
    },
    {
     "data": {
      "text/html": [
       "<div>\n",
       "<style scoped>\n",
       "    .dataframe tbody tr th:only-of-type {\n",
       "        vertical-align: middle;\n",
       "    }\n",
       "\n",
       "    .dataframe tbody tr th {\n",
       "        vertical-align: top;\n",
       "    }\n",
       "\n",
       "    .dataframe thead th {\n",
       "        text-align: right;\n",
       "    }\n",
       "</style>\n",
       "<table border=\"1\" class=\"dataframe\">\n",
       "  <thead>\n",
       "    <tr style=\"text-align: right;\">\n",
       "      <th></th>\n",
       "      <th>size</th>\n",
       "      <th>price</th>\n",
       "      <th>Type</th>\n",
       "    </tr>\n",
       "  </thead>\n",
       "  <tbody>\n",
       "    <tr>\n",
       "      <th>88</th>\n",
       "      <td>0.0</td>\n",
       "      <td>56276.0</td>\n",
       "      <td>bid</td>\n",
       "    </tr>\n",
       "  </tbody>\n",
       "</table>\n",
       "</div>"
      ],
      "text/plain": [
       "    size    price Type\n",
       "88   0.0  56276.0  bid"
      ]
     },
     "metadata": {},
     "output_type": "display_data"
    }
   ],
   "source": [
    "display(ex_O_final[ex_O_final['price'] == 56276.0])\n",
    "display(ex_O_final_2[ex_O_final_2['price'] == 56276.0])"
   ]
  },
  {
   "cell_type": "code",
   "execution_count": 28,
   "metadata": {},
   "outputs": [
    {
     "data": {
      "text/html": [
       "<div>\n",
       "<style scoped>\n",
       "    .dataframe tbody tr th:only-of-type {\n",
       "        vertical-align: middle;\n",
       "    }\n",
       "\n",
       "    .dataframe tbody tr th {\n",
       "        vertical-align: top;\n",
       "    }\n",
       "\n",
       "    .dataframe thead th {\n",
       "        text-align: right;\n",
       "    }\n",
       "</style>\n",
       "<table border=\"1\" class=\"dataframe\">\n",
       "  <thead>\n",
       "    <tr style=\"text-align: right;\">\n",
       "      <th></th>\n",
       "      <th>size</th>\n",
       "      <th>price</th>\n",
       "      <th>Type</th>\n",
       "    </tr>\n",
       "  </thead>\n",
       "  <tbody>\n",
       "    <tr>\n",
       "      <th>27</th>\n",
       "      <td>5.42</td>\n",
       "      <td>56275.969741</td>\n",
       "      <td>bid</td>\n",
       "    </tr>\n",
       "  </tbody>\n",
       "</table>\n",
       "</div>"
      ],
      "text/plain": [
       "    size         price Type\n",
       "27  5.42  56275.969741  bid"
      ]
     },
     "metadata": {},
     "output_type": "display_data"
    },
    {
     "data": {
      "text/html": [
       "<div>\n",
       "<style scoped>\n",
       "    .dataframe tbody tr th:only-of-type {\n",
       "        vertical-align: middle;\n",
       "    }\n",
       "\n",
       "    .dataframe tbody tr th {\n",
       "        vertical-align: top;\n",
       "    }\n",
       "\n",
       "    .dataframe thead th {\n",
       "        text-align: right;\n",
       "    }\n",
       "</style>\n",
       "<table border=\"1\" class=\"dataframe\">\n",
       "  <thead>\n",
       "    <tr style=\"text-align: right;\">\n",
       "      <th></th>\n",
       "      <th>size</th>\n",
       "      <th>price</th>\n",
       "      <th>Type</th>\n",
       "    </tr>\n",
       "  </thead>\n",
       "  <tbody>\n",
       "    <tr>\n",
       "      <th>27</th>\n",
       "      <td>0.0</td>\n",
       "      <td>56275.969741</td>\n",
       "      <td>bid</td>\n",
       "    </tr>\n",
       "  </tbody>\n",
       "</table>\n",
       "</div>"
      ],
      "text/plain": [
       "    size         price Type\n",
       "27   0.0  56275.969741  bid"
      ]
     },
     "metadata": {},
     "output_type": "display_data"
    }
   ],
   "source": [
    "display(ex_D_final[ex_D_final['price'] == destination_bid])\n",
    "display(ex_D_final_2[ex_D_final_2['price'] == destination_bid])"
   ]
  },
  {
   "cell_type": "markdown",
   "metadata": {},
   "source": [
    "## <font color= #6B6B6B> 4.2 XEMM backtesting </font>"
   ]
  },
  {
   "cell_type": "markdown",
   "metadata": {},
   "source": [
    "The preceding method is \"massively\" repeated by obtaining a whole timestamp and beginning to build liquidity in the target market. These calculations took into consideration the bid, ask, profit, latency, token and FIAT inventories, as well as the criteria specified at the start of the project."
   ]
  },
  {
   "cell_type": "code",
   "execution_count": 29,
   "metadata": {},
   "outputs": [
    {
     "data": {
      "text/plain": [
       "'Number of historical orderbooks:'"
      ]
     },
     "metadata": {},
     "output_type": "display_data"
    },
    {
     "data": {
      "text/plain": [
       "'Before dropping Nones: 116'"
      ]
     },
     "metadata": {},
     "output_type": "display_data"
    },
    {
     "data": {
      "text/plain": [
       "'After dropping Nones: 39'"
      ]
     },
     "metadata": {},
     "output_type": "display_data"
    },
    {
     "data": {
      "text/plain": [
       "'Number of historical orderbooks:'"
      ]
     },
     "metadata": {},
     "output_type": "display_data"
    },
    {
     "data": {
      "text/plain": [
       "'Before dropping Nones: 116'"
      ]
     },
     "metadata": {},
     "output_type": "display_data"
    },
    {
     "data": {
      "text/plain": [
       "'After dropping Nones: 79'"
      ]
     },
     "metadata": {},
     "output_type": "display_data"
    },
    {
     "name": "stdout",
     "output_type": "stream",
     "text": [
      "Al momento\n",
      "2021-11-24T15:15:52.234Z bitfinex\n",
      "2021-11-24T15:15:52.328Z kraken\n",
      "TIEMPO MAS CERCANO FUTURO BITFINEX 2021-11-24 15:15:54.154000+00:00\n"
     ]
    },
    {
     "data": {
      "text/plain": [
       "'Highest Bid Prices'"
      ]
     },
     "metadata": {},
     "output_type": "display_data"
    },
    {
     "data": {
      "text/plain": [
       "'Destination: bitfinex 56296.0'"
      ]
     },
     "metadata": {},
     "output_type": "display_data"
    },
    {
     "data": {
      "text/plain": [
       "'Origin: kraken 56308.4'"
      ]
     },
     "metadata": {},
     "output_type": "display_data"
    },
    {
     "data": {
      "text/plain": [
       "'Lowest Ask Prices'"
      ]
     },
     "metadata": {},
     "output_type": "display_data"
    },
    {
     "data": {
      "text/plain": [
       "'Destination: bitfinex 56297.0'"
      ]
     },
     "metadata": {},
     "output_type": "display_data"
    },
    {
     "data": {
      "text/plain": [
       "'Origin: kraken 56308.5'"
      ]
     },
     "metadata": {},
     "output_type": "display_data"
    },
    {
     "data": {
      "text/html": [
       "<div>\n",
       "<style scoped>\n",
       "    .dataframe tbody tr th:only-of-type {\n",
       "        vertical-align: middle;\n",
       "    }\n",
       "\n",
       "    .dataframe tbody tr th {\n",
       "        vertical-align: top;\n",
       "    }\n",
       "\n",
       "    .dataframe thead th {\n",
       "        text-align: right;\n",
       "    }\n",
       "</style>\n",
       "<table border=\"1\" class=\"dataframe\">\n",
       "  <thead>\n",
       "    <tr style=\"text-align: right;\">\n",
       "      <th></th>\n",
       "      <th>size</th>\n",
       "      <th>price</th>\n",
       "      <th>Type</th>\n",
       "    </tr>\n",
       "  </thead>\n",
       "  <tbody>\n",
       "    <tr>\n",
       "      <th>80</th>\n",
       "      <td>0.05</td>\n",
       "      <td>56308.4</td>\n",
       "      <td>bid</td>\n",
       "    </tr>\n",
       "  </tbody>\n",
       "</table>\n",
       "</div>"
      ],
      "text/plain": [
       "    size    price Type\n",
       "80  0.05  56308.4  bid"
      ]
     },
     "metadata": {},
     "output_type": "display_data"
    },
    {
     "data": {
      "text/html": [
       "<div>\n",
       "<style scoped>\n",
       "    .dataframe tbody tr th:only-of-type {\n",
       "        vertical-align: middle;\n",
       "    }\n",
       "\n",
       "    .dataframe tbody tr th {\n",
       "        vertical-align: top;\n",
       "    }\n",
       "\n",
       "    .dataframe thead th {\n",
       "        text-align: right;\n",
       "    }\n",
       "</style>\n",
       "<table border=\"1\" class=\"dataframe\">\n",
       "  <thead>\n",
       "    <tr style=\"text-align: right;\">\n",
       "      <th></th>\n",
       "      <th>size</th>\n",
       "      <th>price</th>\n",
       "      <th>Type</th>\n",
       "    </tr>\n",
       "  </thead>\n",
       "  <tbody>\n",
       "    <tr>\n",
       "      <th>81</th>\n",
       "      <td>0.309</td>\n",
       "      <td>56308.5</td>\n",
       "      <td>ask</td>\n",
       "    </tr>\n",
       "  </tbody>\n",
       "</table>\n",
       "</div>"
      ],
      "text/plain": [
       "     size    price Type\n",
       "81  0.309  56308.5  ask"
      ]
     },
     "metadata": {},
     "output_type": "display_data"
    },
    {
     "name": "stdout",
     "output_type": "stream",
     "text": [
      "1.92\n"
     ]
    },
    {
     "data": {
      "text/html": [
       "<div>\n",
       "<style scoped>\n",
       "    .dataframe tbody tr th:only-of-type {\n",
       "        vertical-align: middle;\n",
       "    }\n",
       "\n",
       "    .dataframe tbody tr th {\n",
       "        vertical-align: top;\n",
       "    }\n",
       "\n",
       "    .dataframe thead th {\n",
       "        text-align: right;\n",
       "    }\n",
       "</style>\n",
       "<table border=\"1\" class=\"dataframe\">\n",
       "  <thead>\n",
       "    <tr style=\"text-align: right;\">\n",
       "      <th></th>\n",
       "      <th>index</th>\n",
       "      <th>size</th>\n",
       "      <th>price</th>\n",
       "      <th>type</th>\n",
       "      <th>source</th>\n",
       "      <th>status</th>\n",
       "      <th>time_delta</th>\n",
       "    </tr>\n",
       "  </thead>\n",
       "  <tbody>\n",
       "  </tbody>\n",
       "</table>\n",
       "</div>"
      ],
      "text/plain": [
       "Empty DataFrame\n",
       "Columns: [index, size, price, type, source, status, time_delta]\n",
       "Index: []"
      ]
     },
     "metadata": {},
     "output_type": "display_data"
    },
    {
     "name": "stdout",
     "output_type": "stream",
     "text": [
      "bid id 79\n",
      "Order posted\n",
      "size        0.05\n",
      "price    56308.4\n",
      "Type         bid\n",
      "Name: -1, dtype: object\n",
      "Order posted\n",
      "size       0.309\n",
      "price    56308.5\n",
      "Type         ask\n",
      "Name: -1, dtype: object\n",
      "{'asset': 99.95, 'fiat': 982600.6641462418} {'asset': 0.05, 'fiat': 17399.33585375816}\n",
      "Destination BID 56308.369728978\n",
      "Destination ASK 56308.530271062\n",
      "Se ejecuta BID\n"
     ]
    },
    {
     "data": {
      "text/html": [
       "<div>\n",
       "<style scoped>\n",
       "    .dataframe tbody tr th:only-of-type {\n",
       "        vertical-align: middle;\n",
       "    }\n",
       "\n",
       "    .dataframe tbody tr th {\n",
       "        vertical-align: top;\n",
       "    }\n",
       "\n",
       "    .dataframe thead th {\n",
       "        text-align: right;\n",
       "    }\n",
       "</style>\n",
       "<table border=\"1\" class=\"dataframe\">\n",
       "  <thead>\n",
       "    <tr style=\"text-align: right;\">\n",
       "      <th></th>\n",
       "      <th>index</th>\n",
       "      <th>size</th>\n",
       "      <th>price</th>\n",
       "      <th>type</th>\n",
       "      <th>source</th>\n",
       "      <th>status</th>\n",
       "      <th>time_delta</th>\n",
       "    </tr>\n",
       "  </thead>\n",
       "  <tbody>\n",
       "  </tbody>\n",
       "</table>\n",
       "</div>"
      ],
      "text/plain": [
       "Empty DataFrame\n",
       "Columns: [index, size, price, type, source, status, time_delta]\n",
       "Index: []"
      ]
     },
     "metadata": {},
     "output_type": "display_data"
    },
    {
     "name": "stdout",
     "output_type": "stream",
     "text": [
      "bid id 78\n",
      "Order posted\n",
      "size       0.081\n",
      "price    56304.9\n",
      "Type         bid\n",
      "Name: -1, dtype: object\n",
      "Order posted\n",
      "size     0.177\n",
      "price    56309\n",
      "Type       ask\n",
      "Name: -1, dtype: object\n",
      "{'asset': 99.919, 'fiat': 972633.965788232} {'asset': 0.081, 'fiat': 27366.034711768043}\n",
      "Destination BID 56304.869730238\n",
      "Destination ASK 56309.030271242\n",
      "Se ejecuta BID\n"
     ]
    },
    {
     "data": {
      "text/html": [
       "<div>\n",
       "<style scoped>\n",
       "    .dataframe tbody tr th:only-of-type {\n",
       "        vertical-align: middle;\n",
       "    }\n",
       "\n",
       "    .dataframe tbody tr th {\n",
       "        vertical-align: top;\n",
       "    }\n",
       "\n",
       "    .dataframe thead th {\n",
       "        text-align: right;\n",
       "    }\n",
       "</style>\n",
       "<table border=\"1\" class=\"dataframe\">\n",
       "  <thead>\n",
       "    <tr style=\"text-align: right;\">\n",
       "      <th></th>\n",
       "      <th>index</th>\n",
       "      <th>size</th>\n",
       "      <th>price</th>\n",
       "      <th>type</th>\n",
       "      <th>source</th>\n",
       "      <th>status</th>\n",
       "      <th>time_delta</th>\n",
       "    </tr>\n",
       "  </thead>\n",
       "  <tbody>\n",
       "    <tr>\n",
       "      <th>0</th>\n",
       "      <td>1</td>\n",
       "      <td>0.309</td>\n",
       "      <td>56308.530271</td>\n",
       "      <td>ask</td>\n",
       "      <td>destination</td>\n",
       "      <td>posted</td>\n",
       "      <td>0.463818</td>\n",
       "    </tr>\n",
       "  </tbody>\n",
       "</table>\n",
       "</div>"
      ],
      "text/plain": [
       "   index   size         price type       source  status  time_delta\n",
       "0      1  0.309  56308.530271  ask  destination  posted    0.463818"
      ]
     },
     "metadata": {},
     "output_type": "display_data"
    },
    {
     "name": "stdout",
     "output_type": "stream",
     "text": [
      "bid id 77\n",
      "Order posted\n",
      "size        0.02\n",
      "price    56304.8\n",
      "Type         bid\n",
      "Name: -1, dtype: object\n",
      "Order posted\n",
      "size       4.442\n",
      "price    56312.5\n",
      "Type         ask\n",
      "Name: -1, dtype: object\n",
      "{'asset': 99.98, 'fiat': 739893.0404316026} {'asset': 0.02, 'fiat': 260106.96396839712}\n",
      "Destination BID 56304.769730274\n",
      "Destination ASK 56312.530272502\n",
      "Se ejecuta BID\n"
     ]
    },
    {
     "data": {
      "text/html": [
       "<div>\n",
       "<style scoped>\n",
       "    .dataframe tbody tr th:only-of-type {\n",
       "        vertical-align: middle;\n",
       "    }\n",
       "\n",
       "    .dataframe tbody tr th {\n",
       "        vertical-align: top;\n",
       "    }\n",
       "\n",
       "    .dataframe thead th {\n",
       "        text-align: right;\n",
       "    }\n",
       "</style>\n",
       "<table border=\"1\" class=\"dataframe\">\n",
       "  <thead>\n",
       "    <tr style=\"text-align: right;\">\n",
       "      <th></th>\n",
       "      <th>index</th>\n",
       "      <th>size</th>\n",
       "      <th>price</th>\n",
       "      <th>type</th>\n",
       "      <th>source</th>\n",
       "      <th>status</th>\n",
       "      <th>time_delta</th>\n",
       "    </tr>\n",
       "  </thead>\n",
       "  <tbody>\n",
       "    <tr>\n",
       "      <th>0</th>\n",
       "      <td>5</td>\n",
       "      <td>0.177</td>\n",
       "      <td>56309.030271</td>\n",
       "      <td>ask</td>\n",
       "      <td>destination</td>\n",
       "      <td>posted</td>\n",
       "      <td>1.027379</td>\n",
       "    </tr>\n",
       "  </tbody>\n",
       "</table>\n",
       "</div>"
      ],
      "text/plain": [
       "   index   size         price type       source  status  time_delta\n",
       "0      5  0.177  56309.030271  ask  destination  posted    1.027379"
      ]
     },
     "metadata": {},
     "output_type": "display_data"
    },
    {
     "name": "stdout",
     "output_type": "stream",
     "text": [
      "bid id 76\n",
      "Order posted\n",
      "size       0.099\n",
      "price    56304.7\n",
      "Type         bid\n",
      "Name: -1, dtype: object\n",
      "Order posted\n",
      "size         0.5\n",
      "price    56317.3\n",
      "Type         ask\n",
      "Name: -1, dtype: object\n",
      "{'asset': 99.901, 'fiat': 721701.0726558276} {'asset': 0.099, 'fiat': 278298.933714172}\n",
      "Destination BID 56304.66973031\n",
      "Destination ASK 56317.33027423\n",
      "Se ejecuta BID\n"
     ]
    },
    {
     "data": {
      "text/html": [
       "<div>\n",
       "<style scoped>\n",
       "    .dataframe tbody tr th:only-of-type {\n",
       "        vertical-align: middle;\n",
       "    }\n",
       "\n",
       "    .dataframe tbody tr th {\n",
       "        vertical-align: top;\n",
       "    }\n",
       "\n",
       "    .dataframe thead th {\n",
       "        text-align: right;\n",
       "    }\n",
       "</style>\n",
       "<table border=\"1\" class=\"dataframe\">\n",
       "  <thead>\n",
       "    <tr style=\"text-align: right;\">\n",
       "      <th></th>\n",
       "      <th>index</th>\n",
       "      <th>size</th>\n",
       "      <th>price</th>\n",
       "      <th>type</th>\n",
       "      <th>source</th>\n",
       "      <th>status</th>\n",
       "      <th>time_delta</th>\n",
       "    </tr>\n",
       "  </thead>\n",
       "  <tbody>\n",
       "    <tr>\n",
       "      <th>0</th>\n",
       "      <td>11</td>\n",
       "      <td>4.442</td>\n",
       "      <td>56312.530273</td>\n",
       "      <td>ask</td>\n",
       "      <td>destination</td>\n",
       "      <td>posted</td>\n",
       "      <td>1.561015</td>\n",
       "    </tr>\n",
       "  </tbody>\n",
       "</table>\n",
       "</div>"
      ],
      "text/plain": [
       "   index   size         price type       source  status  time_delta\n",
       "0     11  4.442  56312.530273  ask  destination  posted    1.561015"
      ]
     },
     "metadata": {},
     "output_type": "display_data"
    },
    {
     "name": "stdout",
     "output_type": "stream",
     "text": [
      "bid id 75\n",
      "Order posted\n",
      "size       0.064\n",
      "price    56303.8\n",
      "Type         bid\n",
      "Name: -1, dtype: object\n",
      "Order posted\n",
      "size         0.2\n",
      "price    56318.2\n",
      "Type         ask\n",
      "Name: -1, dtype: object\n",
      "{'asset': 99.936, 'fiat': 960577.6610573448} {'asset': 0.064, 'fiat': 39422.39072265038}\n",
      "Destination BID 56303.769730634\n",
      "Destination ASK 56318.230274554\n",
      "Se ejecuta BID\n"
     ]
    },
    {
     "data": {
      "text/html": [
       "<div>\n",
       "<style scoped>\n",
       "    .dataframe tbody tr th:only-of-type {\n",
       "        vertical-align: middle;\n",
       "    }\n",
       "\n",
       "    .dataframe tbody tr th {\n",
       "        vertical-align: top;\n",
       "    }\n",
       "\n",
       "    .dataframe thead th {\n",
       "        text-align: right;\n",
       "    }\n",
       "</style>\n",
       "<table border=\"1\" class=\"dataframe\">\n",
       "  <thead>\n",
       "    <tr style=\"text-align: right;\">\n",
       "      <th></th>\n",
       "      <th>index</th>\n",
       "      <th>size</th>\n",
       "      <th>price</th>\n",
       "      <th>type</th>\n",
       "      <th>source</th>\n",
       "      <th>status</th>\n",
       "      <th>time_delta</th>\n",
       "    </tr>\n",
       "  </thead>\n",
       "  <tbody>\n",
       "    <tr>\n",
       "      <th>0</th>\n",
       "      <td>17</td>\n",
       "      <td>0.5</td>\n",
       "      <td>56317.330274</td>\n",
       "      <td>ask</td>\n",
       "      <td>destination</td>\n",
       "      <td>posted</td>\n",
       "      <td>1.899463</td>\n",
       "    </tr>\n",
       "    <tr>\n",
       "      <th>1</th>\n",
       "      <td>23</td>\n",
       "      <td>0.2</td>\n",
       "      <td>56318.230275</td>\n",
       "      <td>ask</td>\n",
       "      <td>destination</td>\n",
       "      <td>posted</td>\n",
       "      <td>1.916232</td>\n",
       "    </tr>\n",
       "  </tbody>\n",
       "</table>\n",
       "</div>"
      ],
      "text/plain": [
       "   index  size         price type       source  status  time_delta\n",
       "0     17   0.5  56317.330274  ask  destination  posted    1.899463\n",
       "1     23   0.2  56318.230275  ask  destination  posted    1.916232"
      ]
     },
     "metadata": {},
     "output_type": "display_data"
    },
    {
     "data": {
      "text/html": [
       "<div>\n",
       "<style scoped>\n",
       "    .dataframe tbody tr th:only-of-type {\n",
       "        vertical-align: middle;\n",
       "    }\n",
       "\n",
       "    .dataframe tbody tr th {\n",
       "        vertical-align: top;\n",
       "    }\n",
       "\n",
       "    .dataframe thead th {\n",
       "        text-align: right;\n",
       "    }\n",
       "</style>\n",
       "<table border=\"1\" class=\"dataframe\">\n",
       "  <thead>\n",
       "    <tr style=\"text-align: right;\">\n",
       "      <th></th>\n",
       "      <th>size</th>\n",
       "      <th>price</th>\n",
       "      <th>type</th>\n",
       "      <th>source</th>\n",
       "      <th>status</th>\n",
       "      <th>time_delta</th>\n",
       "    </tr>\n",
       "  </thead>\n",
       "  <tbody>\n",
       "    <tr>\n",
       "      <th>0</th>\n",
       "      <td>0.050</td>\n",
       "      <td>56308.369729</td>\n",
       "      <td>bid</td>\n",
       "      <td>destination</td>\n",
       "      <td>posted</td>\n",
       "      <td>0.0</td>\n",
       "    </tr>\n",
       "    <tr>\n",
       "      <th>1</th>\n",
       "      <td>0.309</td>\n",
       "      <td>56308.530271</td>\n",
       "      <td>ask</td>\n",
       "      <td>destination</td>\n",
       "      <td>posted</td>\n",
       "      <td>0.0</td>\n",
       "    </tr>\n",
       "    <tr>\n",
       "      <th>2</th>\n",
       "      <td>0.050</td>\n",
       "      <td>56308.369729</td>\n",
       "      <td>bid</td>\n",
       "      <td>destination</td>\n",
       "      <td>executed</td>\n",
       "      <td>0.0</td>\n",
       "    </tr>\n",
       "    <tr>\n",
       "      <th>3</th>\n",
       "      <td>0.050</td>\n",
       "      <td>56308.400000</td>\n",
       "      <td>bid</td>\n",
       "      <td>origin</td>\n",
       "      <td>executed</td>\n",
       "      <td>0.0</td>\n",
       "    </tr>\n",
       "    <tr>\n",
       "      <th>4</th>\n",
       "      <td>0.081</td>\n",
       "      <td>56304.869730</td>\n",
       "      <td>bid</td>\n",
       "      <td>destination</td>\n",
       "      <td>posted</td>\n",
       "      <td>0.0</td>\n",
       "    </tr>\n",
       "    <tr>\n",
       "      <th>5</th>\n",
       "      <td>0.177</td>\n",
       "      <td>56309.030271</td>\n",
       "      <td>ask</td>\n",
       "      <td>destination</td>\n",
       "      <td>posted</td>\n",
       "      <td>0.0</td>\n",
       "    </tr>\n",
       "    <tr>\n",
       "      <th>6</th>\n",
       "      <td>0.081</td>\n",
       "      <td>56304.869730</td>\n",
       "      <td>bid</td>\n",
       "      <td>destination</td>\n",
       "      <td>executed</td>\n",
       "      <td>0.0</td>\n",
       "    </tr>\n",
       "    <tr>\n",
       "      <th>7</th>\n",
       "      <td>0.081</td>\n",
       "      <td>56304.900000</td>\n",
       "      <td>bid</td>\n",
       "      <td>origin</td>\n",
       "      <td>executed</td>\n",
       "      <td>0.0</td>\n",
       "    </tr>\n",
       "    <tr>\n",
       "      <th>8</th>\n",
       "      <td>0.309</td>\n",
       "      <td>56308.530271</td>\n",
       "      <td>ask</td>\n",
       "      <td>destination</td>\n",
       "      <td>executed</td>\n",
       "      <td>0.0</td>\n",
       "    </tr>\n",
       "    <tr>\n",
       "      <th>9</th>\n",
       "      <td>0.309</td>\n",
       "      <td>56308.500000</td>\n",
       "      <td>ask</td>\n",
       "      <td>origin</td>\n",
       "      <td>executed</td>\n",
       "      <td>0.0</td>\n",
       "    </tr>\n",
       "    <tr>\n",
       "      <th>10</th>\n",
       "      <td>0.020</td>\n",
       "      <td>56304.769730</td>\n",
       "      <td>bid</td>\n",
       "      <td>destination</td>\n",
       "      <td>posted</td>\n",
       "      <td>0.0</td>\n",
       "    </tr>\n",
       "    <tr>\n",
       "      <th>11</th>\n",
       "      <td>4.442</td>\n",
       "      <td>56312.530273</td>\n",
       "      <td>ask</td>\n",
       "      <td>destination</td>\n",
       "      <td>posted</td>\n",
       "      <td>0.0</td>\n",
       "    </tr>\n",
       "    <tr>\n",
       "      <th>12</th>\n",
       "      <td>0.020</td>\n",
       "      <td>56304.769730</td>\n",
       "      <td>bid</td>\n",
       "      <td>destination</td>\n",
       "      <td>executed</td>\n",
       "      <td>0.0</td>\n",
       "    </tr>\n",
       "    <tr>\n",
       "      <th>13</th>\n",
       "      <td>0.020</td>\n",
       "      <td>56304.800000</td>\n",
       "      <td>bid</td>\n",
       "      <td>origin</td>\n",
       "      <td>executed</td>\n",
       "      <td>0.0</td>\n",
       "    </tr>\n",
       "    <tr>\n",
       "      <th>14</th>\n",
       "      <td>0.177</td>\n",
       "      <td>56309.030271</td>\n",
       "      <td>ask</td>\n",
       "      <td>destination</td>\n",
       "      <td>executed</td>\n",
       "      <td>0.0</td>\n",
       "    </tr>\n",
       "    <tr>\n",
       "      <th>15</th>\n",
       "      <td>0.177</td>\n",
       "      <td>56309.000000</td>\n",
       "      <td>ask</td>\n",
       "      <td>origin</td>\n",
       "      <td>executed</td>\n",
       "      <td>0.0</td>\n",
       "    </tr>\n",
       "    <tr>\n",
       "      <th>16</th>\n",
       "      <td>0.099</td>\n",
       "      <td>56304.669730</td>\n",
       "      <td>bid</td>\n",
       "      <td>destination</td>\n",
       "      <td>posted</td>\n",
       "      <td>0.0</td>\n",
       "    </tr>\n",
       "    <tr>\n",
       "      <th>17</th>\n",
       "      <td>0.500</td>\n",
       "      <td>56317.330274</td>\n",
       "      <td>ask</td>\n",
       "      <td>destination</td>\n",
       "      <td>posted</td>\n",
       "      <td>0.0</td>\n",
       "    </tr>\n",
       "    <tr>\n",
       "      <th>18</th>\n",
       "      <td>0.099</td>\n",
       "      <td>56304.669730</td>\n",
       "      <td>bid</td>\n",
       "      <td>destination</td>\n",
       "      <td>executed</td>\n",
       "      <td>0.0</td>\n",
       "    </tr>\n",
       "    <tr>\n",
       "      <th>19</th>\n",
       "      <td>0.099</td>\n",
       "      <td>56304.700000</td>\n",
       "      <td>bid</td>\n",
       "      <td>origin</td>\n",
       "      <td>executed</td>\n",
       "      <td>0.0</td>\n",
       "    </tr>\n",
       "    <tr>\n",
       "      <th>20</th>\n",
       "      <td>4.442</td>\n",
       "      <td>56312.530273</td>\n",
       "      <td>ask</td>\n",
       "      <td>destination</td>\n",
       "      <td>executed</td>\n",
       "      <td>0.0</td>\n",
       "    </tr>\n",
       "    <tr>\n",
       "      <th>21</th>\n",
       "      <td>4.442</td>\n",
       "      <td>56312.500000</td>\n",
       "      <td>ask</td>\n",
       "      <td>origin</td>\n",
       "      <td>executed</td>\n",
       "      <td>0.0</td>\n",
       "    </tr>\n",
       "    <tr>\n",
       "      <th>22</th>\n",
       "      <td>0.064</td>\n",
       "      <td>56303.769731</td>\n",
       "      <td>bid</td>\n",
       "      <td>destination</td>\n",
       "      <td>posted</td>\n",
       "      <td>0.0</td>\n",
       "    </tr>\n",
       "    <tr>\n",
       "      <th>23</th>\n",
       "      <td>0.200</td>\n",
       "      <td>56318.230275</td>\n",
       "      <td>ask</td>\n",
       "      <td>destination</td>\n",
       "      <td>posted</td>\n",
       "      <td>0.0</td>\n",
       "    </tr>\n",
       "    <tr>\n",
       "      <th>24</th>\n",
       "      <td>0.064</td>\n",
       "      <td>56303.769731</td>\n",
       "      <td>bid</td>\n",
       "      <td>destination</td>\n",
       "      <td>executed</td>\n",
       "      <td>0.0</td>\n",
       "    </tr>\n",
       "    <tr>\n",
       "      <th>25</th>\n",
       "      <td>0.064</td>\n",
       "      <td>56303.800000</td>\n",
       "      <td>bid</td>\n",
       "      <td>origin</td>\n",
       "      <td>executed</td>\n",
       "      <td>0.0</td>\n",
       "    </tr>\n",
       "    <tr>\n",
       "      <th>26</th>\n",
       "      <td>0.500</td>\n",
       "      <td>56317.330274</td>\n",
       "      <td>ask</td>\n",
       "      <td>destination</td>\n",
       "      <td>executed</td>\n",
       "      <td>0.0</td>\n",
       "    </tr>\n",
       "    <tr>\n",
       "      <th>27</th>\n",
       "      <td>0.500</td>\n",
       "      <td>56317.300000</td>\n",
       "      <td>ask</td>\n",
       "      <td>origin</td>\n",
       "      <td>executed</td>\n",
       "      <td>0.0</td>\n",
       "    </tr>\n",
       "    <tr>\n",
       "      <th>28</th>\n",
       "      <td>0.200</td>\n",
       "      <td>56318.230275</td>\n",
       "      <td>ask</td>\n",
       "      <td>destination</td>\n",
       "      <td>executed</td>\n",
       "      <td>0.0</td>\n",
       "    </tr>\n",
       "    <tr>\n",
       "      <th>29</th>\n",
       "      <td>0.200</td>\n",
       "      <td>56318.200000</td>\n",
       "      <td>ask</td>\n",
       "      <td>origin</td>\n",
       "      <td>executed</td>\n",
       "      <td>0.0</td>\n",
       "    </tr>\n",
       "  </tbody>\n",
       "</table>\n",
       "</div>"
      ],
      "text/plain": [
       "     size         price type       source    status  time_delta\n",
       "0   0.050  56308.369729  bid  destination    posted         0.0\n",
       "1   0.309  56308.530271  ask  destination    posted         0.0\n",
       "2   0.050  56308.369729  bid  destination  executed         0.0\n",
       "3   0.050  56308.400000  bid       origin  executed         0.0\n",
       "4   0.081  56304.869730  bid  destination    posted         0.0\n",
       "5   0.177  56309.030271  ask  destination    posted         0.0\n",
       "6   0.081  56304.869730  bid  destination  executed         0.0\n",
       "7   0.081  56304.900000  bid       origin  executed         0.0\n",
       "8   0.309  56308.530271  ask  destination  executed         0.0\n",
       "9   0.309  56308.500000  ask       origin  executed         0.0\n",
       "10  0.020  56304.769730  bid  destination    posted         0.0\n",
       "11  4.442  56312.530273  ask  destination    posted         0.0\n",
       "12  0.020  56304.769730  bid  destination  executed         0.0\n",
       "13  0.020  56304.800000  bid       origin  executed         0.0\n",
       "14  0.177  56309.030271  ask  destination  executed         0.0\n",
       "15  0.177  56309.000000  ask       origin  executed         0.0\n",
       "16  0.099  56304.669730  bid  destination    posted         0.0\n",
       "17  0.500  56317.330274  ask  destination    posted         0.0\n",
       "18  0.099  56304.669730  bid  destination  executed         0.0\n",
       "19  0.099  56304.700000  bid       origin  executed         0.0\n",
       "20  4.442  56312.530273  ask  destination  executed         0.0\n",
       "21  4.442  56312.500000  ask       origin  executed         0.0\n",
       "22  0.064  56303.769731  bid  destination    posted         0.0\n",
       "23  0.200  56318.230275  ask  destination    posted         0.0\n",
       "24  0.064  56303.769731  bid  destination  executed         0.0\n",
       "25  0.064  56303.800000  bid       origin  executed         0.0\n",
       "26  0.500  56317.330274  ask  destination  executed         0.0\n",
       "27  0.500  56317.300000  ask       origin  executed         0.0\n",
       "28  0.200  56318.230275  ask  destination  executed         0.0\n",
       "29  0.200  56318.200000  ask       origin  executed         0.0"
      ]
     },
     "metadata": {},
     "output_type": "display_data"
    },
    {
     "name": "stdout",
     "output_type": "stream",
     "text": [
      "{'asset': 100.0, 'fiat': 999999.9683071394} {'asset': 0.0, 'fiat': 0.0911128550524154}\n",
      "TIMEDELTA 1.92\n"
     ]
    }
   ],
   "source": [
    "fn.test_XEMM()"
   ]
  },
  {
   "cell_type": "code",
   "execution_count": 32,
   "metadata": {},
   "outputs": [
    {
     "data": {
      "text/plain": [
       "1000000.0594199944"
      ]
     },
     "execution_count": 32,
     "metadata": {},
     "output_type": "execute_result"
    }
   ],
   "source": [
    "999999.9683071394 + 0.0911128550524154"
   ]
  },
  {
   "cell_type": "markdown",
   "metadata": {},
   "source": [
    "## <font color= #6B6B6B> 4.3 Acquired knowledge </font> "
   ]
  },
  {
   "cell_type": "markdown",
   "metadata": {},
   "source": [
    "In the exercise, we discovered how many variables can influence the XEMM, such as latency, which limits the number of orders we can place in a given time. It is also important to consider token and FIAT inventories, because it is not ruled out that we do not receive all of the volume in the origin exchange. \n",
    "\n",
    "Since we are using limit orders on one side of the arbitrage, the overall costs are lower than if we were using market orders, and utilizing limit orders on one side ensures that the exchange matching algorithm will complete our order as fast as possible. This element strengthens this strategy over having two taker orders on each sides. In this scenario, the sequence begins with the exchange filling one side, so it only needs to execute the taker order on the other side.\n",
    "\n",
    "This reduces the risk of slippage compared to executing two taker orders on each sides as in the arbitrage. This strategy is considered far more advanced than arbitrage. Furthermore, active quotation does not preclude us from pursuing arbitrage possibilities in their entirety. "
   ]
  },
  {
   "cell_type": "markdown",
   "metadata": {},
   "source": [
    "## <font color= #6B6B6B> 4.4 Future developments </font> "
   ]
  },
  {
   "cell_type": "markdown",
   "metadata": {},
   "source": [
    "One approach is to use multiple exchanges to find better buying and selling opportunity, resulting in a bigger profit from the strategy.\n",
    "\n",
    "In the preceding case, XEMM was done with the identical instrument on a different exchange. Why don't we hedge on the same instrument, but this time with margin? Why don't we utilize options, futures, or perpetuals to hedge? Where are the fees cheaper and we may use leverage to reduce our capital engagement? Actually, nothing can stop us. This is exactly where the plot is heading."
   ]
  },
  {
   "cell_type": "markdown",
   "metadata": {},
   "source": [
    "# <font color= #6B6B6B> <font size = 6> References </font>\n",
    "<hr style=\"border:0.02in solid gray\"> </hr>"
   ]
  },
  {
   "cell_type": "markdown",
   "metadata": {},
   "source": [
    "[1] Munnoz, 2020. Python project template. https://github.com/iffranciscome/python-project. (2021).\n",
    "\n",
    "[2] (2021). https://hummingbot.io/en/blog/2020-09-what-is-cross-exchange-market-making/\n",
    "\n",
    "\n",
    "[3] GitHub - IFFranciscoME/XEMM: A light weighted library to define and backtest a Cross Exchange Market Maker (XEMM) system, based on CCXT. Use only for academic purposes. (2021). https://github.com/IFFranciscoME/XEMM\n",
    "\n",
    "[4] Market making with cross-exchange hedging versus arbitrage | MultiTrader - Smart Cryptocurrency Arbitrage Trading Platform. (2021). https://www.multitrader.io/market-making-with-cross-exchange-hedging/\n"
   ]
  },
  {
   "cell_type": "markdown",
   "metadata": {},
   "source": [
    "<br>"
   ]
  }
 ],
 "metadata": {
  "celltoolbar": "Hide code",
  "interpreter": {
   "hash": "4bfe9301ca7ca911079c557209b57aa917b88723c5a1a7d5539e053db0f64b5f"
  },
  "kernelspec": {
   "display_name": "Python 3 (ipykernel)",
   "language": "python",
   "name": "python3"
  },
  "language_info": {
   "codemirror_mode": {
    "name": "ipython",
    "version": 3
   },
   "file_extension": ".py",
   "mimetype": "text/x-python",
   "name": "python",
   "nbconvert_exporter": "python",
   "pygments_lexer": "ipython3",
   "version": "3.8.2"
  }
 },
 "nbformat": 4,
 "nbformat_minor": 4
}
